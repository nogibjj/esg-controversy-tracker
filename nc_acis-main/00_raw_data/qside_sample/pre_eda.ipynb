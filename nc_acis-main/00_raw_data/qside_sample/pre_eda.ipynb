{
 "cells": [
  {
   "cell_type": "code",
   "execution_count": 1,
   "metadata": {},
   "outputs": [
    {
     "name": "stderr",
     "output_type": "stream",
     "text": [
      "/Users/clarissaache/opt/miniconda3/lib/python3.9/site-packages/IPython/core/interactiveshell.py:3444: DtypeWarning: Columns (27,36,60,77) have mixed types.Specify dtype option on import or set low_memory=False.\n",
      "  exec(code_obj, self.user_global_ns, self.user_ns)\n"
     ]
    },
    {
     "data": {
      "text/html": [
       "<div>\n",
       "<style scoped>\n",
       "    .dataframe tbody tr th:only-of-type {\n",
       "        vertical-align: middle;\n",
       "    }\n",
       "\n",
       "    .dataframe tbody tr th {\n",
       "        vertical-align: top;\n",
       "    }\n",
       "\n",
       "    .dataframe thead th {\n",
       "        text-align: right;\n",
       "    }\n",
       "</style>\n",
       "<table border=\"1\" class=\"dataframe\">\n",
       "  <thead>\n",
       "    <tr style=\"text-align: right;\">\n",
       "      <th></th>\n",
       "      <th>CRRKEY</th>\n",
       "      <th>case_id</th>\n",
       "      <th>CRRKCY</th>\n",
       "      <th>CRRKCC</th>\n",
       "      <th>CRRKYY</th>\n",
       "      <th>CRRKSQ</th>\n",
       "      <th>CRRTYP</th>\n",
       "      <th>CRRNAM</th>\n",
       "      <th>CRRADD</th>\n",
       "      <th>CRRCTY</th>\n",
       "      <th>...</th>\n",
       "      <th>CRRPROCI</th>\n",
       "      <th>CRRDOMVL</th>\n",
       "      <th>CRRWCATD</th>\n",
       "      <th>CRRWCATS</th>\n",
       "      <th>CRRLOC</th>\n",
       "      <th>CRRCSE</th>\n",
       "      <th>CRRINT</th>\n",
       "      <th>CRRINTU</th>\n",
       "      <th>CRRINTFF</th>\n",
       "      <th>line</th>\n",
       "    </tr>\n",
       "  </thead>\n",
       "  <tbody>\n",
       "    <tr>\n",
       "      <th>16379</th>\n",
       "      <td>250202170563800100001000</td>\n",
       "      <td>2502021705638</td>\n",
       "      <td>250</td>\n",
       "      <td>20</td>\n",
       "      <td>21</td>\n",
       "      <td>705638</td>\n",
       "      <td>CR</td>\n",
       "      <td>NaN</td>\n",
       "      <td>NaN</td>\n",
       "      <td>NaN</td>\n",
       "      <td>...</td>\n",
       "      <td>NaN</td>\n",
       "      <td>NaN</td>\n",
       "      <td>NaN</td>\n",
       "      <td>NaN</td>\n",
       "      <td>NaN</td>\n",
       "      <td>NaN</td>\n",
       "      <td>NaN</td>\n",
       "      <td>NaN</td>\n",
       "      <td>NaN</td>\n",
       "      <td>NaN</td>\n",
       "    </tr>\n",
       "    <tr>\n",
       "      <th>16380</th>\n",
       "      <td>180202070360700100001000</td>\n",
       "      <td>1802020703607</td>\n",
       "      <td>180</td>\n",
       "      <td>20</td>\n",
       "      <td>20</td>\n",
       "      <td>703607</td>\n",
       "      <td>CR</td>\n",
       "      <td>NaN</td>\n",
       "      <td>NaN</td>\n",
       "      <td>NaN</td>\n",
       "      <td>...</td>\n",
       "      <td>NaN</td>\n",
       "      <td>NaN</td>\n",
       "      <td>NaN</td>\n",
       "      <td>NaN</td>\n",
       "      <td>NaN</td>\n",
       "      <td>NaN</td>\n",
       "      <td>NaN</td>\n",
       "      <td>NaN</td>\n",
       "      <td>NaN</td>\n",
       "      <td>NaN</td>\n",
       "    </tr>\n",
       "    <tr>\n",
       "      <th>16381</th>\n",
       "      <td>770201900022100100001000</td>\n",
       "      <td>7702019000221</td>\n",
       "      <td>770</td>\n",
       "      <td>20</td>\n",
       "      <td>19</td>\n",
       "      <td>221</td>\n",
       "      <td>CR</td>\n",
       "      <td>NaN</td>\n",
       "      <td>NaN</td>\n",
       "      <td>NaN</td>\n",
       "      <td>...</td>\n",
       "      <td>NaN</td>\n",
       "      <td>NaN</td>\n",
       "      <td>Y</td>\n",
       "      <td>NaN</td>\n",
       "      <td>NaN</td>\n",
       "      <td>NaN</td>\n",
       "      <td>NaN</td>\n",
       "      <td>NaN</td>\n",
       "      <td>NaN</td>\n",
       "      <td>NaN</td>\n",
       "    </tr>\n",
       "    <tr>\n",
       "      <th>16382</th>\n",
       "      <td>660201870151000100001000</td>\n",
       "      <td>6602018701510</td>\n",
       "      <td>660</td>\n",
       "      <td>20</td>\n",
       "      <td>18</td>\n",
       "      <td>701510</td>\n",
       "      <td>CR</td>\n",
       "      <td>NaN</td>\n",
       "      <td>NaN</td>\n",
       "      <td>NaN</td>\n",
       "      <td>...</td>\n",
       "      <td>NaN</td>\n",
       "      <td>NaN</td>\n",
       "      <td>NaN</td>\n",
       "      <td>NaN</td>\n",
       "      <td>NaN</td>\n",
       "      <td>NaN</td>\n",
       "      <td>NaN</td>\n",
       "      <td>NaN</td>\n",
       "      <td>NaN</td>\n",
       "      <td>NaN</td>\n",
       "    </tr>\n",
       "    <tr>\n",
       "      <th>16383</th>\n",
       "      <td>170202170528600100001000</td>\n",
       "      <td>1702021705286</td>\n",
       "      <td>170</td>\n",
       "      <td>20</td>\n",
       "      <td>21</td>\n",
       "      <td>705286</td>\n",
       "      <td>CR</td>\n",
       "      <td>NaN</td>\n",
       "      <td>NaN</td>\n",
       "      <td>NaN</td>\n",
       "      <td>...</td>\n",
       "      <td>NaN</td>\n",
       "      <td>NaN</td>\n",
       "      <td>NaN</td>\n",
       "      <td>NaN</td>\n",
       "      <td>NaN</td>\n",
       "      <td>NaN</td>\n",
       "      <td>NaN</td>\n",
       "      <td>NaN</td>\n",
       "      <td>NaN</td>\n",
       "      <td>NaN</td>\n",
       "    </tr>\n",
       "  </tbody>\n",
       "</table>\n",
       "<p>5 rows × 112 columns</p>\n",
       "</div>"
      ],
      "text/plain": [
       "                         CRRKEY        case_id  CRRKCY  CRRKCC  CRRKYY  \\\n",
       "16379  250202170563800100001000  2502021705638     250      20      21   \n",
       "16380  180202070360700100001000  1802020703607     180      20      20   \n",
       "16381  770201900022100100001000  7702019000221     770      20      19   \n",
       "16382  660201870151000100001000  6602018701510     660      20      18   \n",
       "16383  170202170528600100001000  1702021705286     170      20      21   \n",
       "\n",
       "       CRRKSQ CRRTYP  CRRNAM  CRRADD  CRRCTY  ...  CRRPROCI  CRRDOMVL  \\\n",
       "16379  705638     CR     NaN     NaN     NaN  ...       NaN       NaN   \n",
       "16380  703607     CR     NaN     NaN     NaN  ...       NaN       NaN   \n",
       "16381     221     CR     NaN     NaN     NaN  ...       NaN       NaN   \n",
       "16382  701510     CR     NaN     NaN     NaN  ...       NaN       NaN   \n",
       "16383  705286     CR     NaN     NaN     NaN  ...       NaN       NaN   \n",
       "\n",
       "       CRRWCATD  CRRWCATS CRRLOC CRRCSE  CRRINT  CRRINTU  CRRINTFF  line  \n",
       "16379       NaN       NaN    NaN    NaN     NaN      NaN       NaN   NaN  \n",
       "16380       NaN       NaN    NaN    NaN     NaN      NaN       NaN   NaN  \n",
       "16381         Y       NaN    NaN    NaN     NaN      NaN       NaN   NaN  \n",
       "16382       NaN       NaN    NaN    NaN     NaN      NaN       NaN   NaN  \n",
       "16383       NaN       NaN    NaN    NaN     NaN      NaN       NaN   NaN  \n",
       "\n",
       "[5 rows x 112 columns]"
      ]
     },
     "execution_count": 1,
     "metadata": {},
     "output_type": "execute_result"
    }
   ],
   "source": [
    "import pandas as pd\n",
    "\n",
    "df = pd.read_csv(\"/Users/clarissaache/Desktop/sample_acis_16k/sample16k_cr_cases.csv\")\n",
    "df.tail()"
   ]
  },
  {
   "cell_type": "code",
   "execution_count": 13,
   "metadata": {},
   "outputs": [
    {
     "data": {
      "text/plain": [
       "C    11088\n",
       "W     2231\n",
       "M     1938\n",
       "S      736\n",
       "O      219\n",
       "I      132\n",
       "X       27\n",
       "B       13\n",
       "Name: CRRPRC, dtype: int64"
      ]
     },
     "execution_count": 13,
     "metadata": {},
     "output_type": "execute_result"
    }
   ],
   "source": [
    "df.CRRPRC.value_counts()\n",
    "# mosly citations, "
   ]
  },
  {
   "cell_type": "code",
   "execution_count": 12,
   "metadata": {},
   "outputs": [
    {
     "data": {
      "text/plain": [
       "M    11116\n",
       "F     5055\n",
       "U       94\n",
       "Name: CRRSEX, dtype: int64"
      ]
     },
     "execution_count": 12,
     "metadata": {},
     "output_type": "execute_result"
    }
   ],
   "source": [
    "df.CRRSEX.value_counts()"
   ]
  },
  {
   "cell_type": "code",
   "execution_count": 7,
   "metadata": {},
   "outputs": [
    {
     "data": {
      "text/plain": [
       "420201570654000100001000    1\n",
       "130201605289100100001000    1\n",
       "910201576588200100001000    1\n",
       "730202070298100100001000    1\n",
       "720201405182300100001000    1\n",
       "                           ..\n",
       "190201670020500100001000    1\n",
       "670201971066500100001000    1\n",
       "980201905110600100001000    1\n",
       "780201800046900100001000    1\n",
       "170202170528600100001000    1\n",
       "Name: CRRKEY, Length: 16384, dtype: int64"
      ]
     },
     "execution_count": 7,
     "metadata": {},
     "output_type": "execute_result"
    }
   ],
   "source": [
    "df['CRRKEY'].value_counts()"
   ]
  },
  {
   "cell_type": "code",
   "execution_count": 2,
   "metadata": {},
   "outputs": [
    {
     "data": {
      "text/html": [
       "<div>\n",
       "<style scoped>\n",
       "    .dataframe tbody tr th:only-of-type {\n",
       "        vertical-align: middle;\n",
       "    }\n",
       "\n",
       "    .dataframe tbody tr th {\n",
       "        vertical-align: top;\n",
       "    }\n",
       "\n",
       "    .dataframe thead th {\n",
       "        text-align: right;\n",
       "    }\n",
       "</style>\n",
       "<table border=\"1\" class=\"dataframe\">\n",
       "  <thead>\n",
       "    <tr style=\"text-align: right;\">\n",
       "      <th></th>\n",
       "      <th>CRRTDT</th>\n",
       "      <th>CRRLUP</th>\n",
       "      <th>CRRDDT</th>\n",
       "      <th>CRRARDT</th>\n",
       "    </tr>\n",
       "  </thead>\n",
       "  <tbody>\n",
       "    <tr>\n",
       "      <th>0</th>\n",
       "      <td>2017-02-15</td>\n",
       "      <td>2017-02-16</td>\n",
       "      <td>2017-02-16</td>\n",
       "      <td>NaN</td>\n",
       "    </tr>\n",
       "    <tr>\n",
       "      <th>1</th>\n",
       "      <td>2017-07-10</td>\n",
       "      <td>2017-07-13</td>\n",
       "      <td>2017-07-13</td>\n",
       "      <td>NaN</td>\n",
       "    </tr>\n",
       "    <tr>\n",
       "      <th>2</th>\n",
       "      <td>2006-04-03</td>\n",
       "      <td>2021-02-16</td>\n",
       "      <td>2006-04-06</td>\n",
       "      <td>NaN</td>\n",
       "    </tr>\n",
       "    <tr>\n",
       "      <th>3</th>\n",
       "      <td>2017-11-17</td>\n",
       "      <td>2017-10-25</td>\n",
       "      <td>2017-10-25</td>\n",
       "      <td>NaN</td>\n",
       "    </tr>\n",
       "    <tr>\n",
       "      <th>4</th>\n",
       "      <td>2017-07-24</td>\n",
       "      <td>2017-07-24</td>\n",
       "      <td>2017-07-24</td>\n",
       "      <td>NaN</td>\n",
       "    </tr>\n",
       "    <tr>\n",
       "      <th>...</th>\n",
       "      <td>...</td>\n",
       "      <td>...</td>\n",
       "      <td>...</td>\n",
       "      <td>...</td>\n",
       "    </tr>\n",
       "    <tr>\n",
       "      <th>16379</th>\n",
       "      <td>2021-08-20</td>\n",
       "      <td>2021-06-18</td>\n",
       "      <td>NaN</td>\n",
       "      <td>NaN</td>\n",
       "    </tr>\n",
       "    <tr>\n",
       "      <th>16380</th>\n",
       "      <td>2020-09-23</td>\n",
       "      <td>2020-09-23</td>\n",
       "      <td>2020-09-23</td>\n",
       "      <td>NaN</td>\n",
       "    </tr>\n",
       "    <tr>\n",
       "      <th>16381</th>\n",
       "      <td>2019-02-25</td>\n",
       "      <td>2019-07-18</td>\n",
       "      <td>2019-02-26</td>\n",
       "      <td>NaN</td>\n",
       "    </tr>\n",
       "    <tr>\n",
       "      <th>16382</th>\n",
       "      <td>2018-08-06</td>\n",
       "      <td>2018-08-07</td>\n",
       "      <td>2018-08-06</td>\n",
       "      <td>NaN</td>\n",
       "    </tr>\n",
       "    <tr>\n",
       "      <th>16383</th>\n",
       "      <td>2021-08-20</td>\n",
       "      <td>2021-06-20</td>\n",
       "      <td>NaN</td>\n",
       "      <td>NaN</td>\n",
       "    </tr>\n",
       "  </tbody>\n",
       "</table>\n",
       "<p>16384 rows × 4 columns</p>\n",
       "</div>"
      ],
      "text/plain": [
       "           CRRTDT      CRRLUP      CRRDDT CRRARDT\n",
       "0      2017-02-15  2017-02-16  2017-02-16     NaN\n",
       "1      2017-07-10  2017-07-13  2017-07-13     NaN\n",
       "2      2006-04-03  2021-02-16  2006-04-06     NaN\n",
       "3      2017-11-17  2017-10-25  2017-10-25     NaN\n",
       "4      2017-07-24  2017-07-24  2017-07-24     NaN\n",
       "...           ...         ...         ...     ...\n",
       "16379  2021-08-20  2021-06-18         NaN     NaN\n",
       "16380  2020-09-23  2020-09-23  2020-09-23     NaN\n",
       "16381  2019-02-25  2019-07-18  2019-02-26     NaN\n",
       "16382  2018-08-06  2018-08-07  2018-08-06     NaN\n",
       "16383  2021-08-20  2021-06-20         NaN     NaN\n",
       "\n",
       "[16384 rows x 4 columns]"
      ]
     },
     "execution_count": 2,
     "metadata": {},
     "output_type": "execute_result"
    }
   ],
   "source": [
    "casedates = df[['CRRTDT', 'CRRLUP', 'CRRDDT', 'CRRARDT']]\n",
    "casedates"
   ]
  },
  {
   "cell_type": "code",
   "execution_count": 14,
   "metadata": {},
   "outputs": [
    {
     "name": "stdout",
     "output_type": "stream",
     "text": [
      "2022-11-24\n"
     ]
    },
    {
     "data": {
      "text/plain": [
       "0       2017-02-15\n",
       "1       2017-07-10\n",
       "2       2006-04-03\n",
       "3       2017-11-17\n",
       "4       2017-07-24\n",
       "           ...    \n",
       "16379   2021-08-20\n",
       "16380   2020-09-23\n",
       "16381   2019-02-25\n",
       "16382   2018-08-06\n",
       "16383   2021-08-20\n",
       "Name: CRRTDT, Length: 16384, dtype: datetime64[ns]"
      ]
     },
     "execution_count": 14,
     "metadata": {},
     "output_type": "execute_result"
    }
   ],
   "source": [
    "## ------ CODING ASSESSMENT ----------##\n",
    "\n",
    "from datetime import datetime, date\n",
    "\n",
    "today = date.today()\n",
    "print(today)\n",
    "\n",
    "# make string into date\n",
    "\n",
    "\n",
    "pd.to_datetime(casedates.CRRTDT, format='%Y-%m-%d', errors='coerce')"
   ]
  },
  {
   "cell_type": "code",
   "execution_count": null,
   "metadata": {},
   "outputs": [],
   "source": []
  },
  {
   "cell_type": "code",
   "execution_count": 43,
   "metadata": {},
   "outputs": [],
   "source": [
    "df['CRRTDT_date'] = pd.to_datetime(df.CRRTDT, format='%Y-%m-%d', errors='coerce')\n",
    "df['CRRLUP_date'] = pd.to_datetime(df.CRRLUP, format='%Y-%m-%d', errors='coerce')\n",
    "df['CRRDDT_date'] = pd.to_datetime(df.CRRDDT, format='%Y-%m-%d', errors='coerce')\n",
    "df['CRRARDT_date'] = pd.to_datetime(df.CRRARDT, format='%Y-%m-%d', errors='coerce')"
   ]
  },
  {
   "cell_type": "code",
   "execution_count": 39,
   "metadata": {},
   "outputs": [
    {
     "name": "stderr",
     "output_type": "stream",
     "text": [
      "/var/folders/wj/g21k_l5x5l95gccmpm_gvn0c0000gn/T/ipykernel_59967/1544521441.py:1: FutureWarning: Treating datetime data as categorical rather than numeric in `.describe` is deprecated and will be removed in a future version of pandas. Specify `datetime_is_numeric=True` to silence this warning and adopt the future behavior now.\n",
      "  df[['CRRTDT_date','CRRLUP_date','CRRDDT_date', 'CRRARDT_date']].describe()\n"
     ]
    },
    {
     "data": {
      "text/html": [
       "<div>\n",
       "<style scoped>\n",
       "    .dataframe tbody tr th:only-of-type {\n",
       "        vertical-align: middle;\n",
       "    }\n",
       "\n",
       "    .dataframe tbody tr th {\n",
       "        vertical-align: top;\n",
       "    }\n",
       "\n",
       "    .dataframe thead th {\n",
       "        text-align: right;\n",
       "    }\n",
       "</style>\n",
       "<table border=\"1\" class=\"dataframe\">\n",
       "  <thead>\n",
       "    <tr style=\"text-align: right;\">\n",
       "      <th></th>\n",
       "      <th>CRRTDT_date</th>\n",
       "      <th>CRRLUP_date</th>\n",
       "      <th>CRRDDT_date</th>\n",
       "      <th>CRRARDT_date</th>\n",
       "    </tr>\n",
       "  </thead>\n",
       "  <tbody>\n",
       "    <tr>\n",
       "      <th>count</th>\n",
       "      <td>16026</td>\n",
       "      <td>16384</td>\n",
       "      <td>15232</td>\n",
       "      <td>10</td>\n",
       "    </tr>\n",
       "    <tr>\n",
       "      <th>unique</th>\n",
       "      <td>3570</td>\n",
       "      <td>1478</td>\n",
       "      <td>1429</td>\n",
       "      <td>10</td>\n",
       "    </tr>\n",
       "    <tr>\n",
       "      <th>top</th>\n",
       "      <td>2021-07-16 00:00:00</td>\n",
       "      <td>2019-07-08 00:00:00</td>\n",
       "      <td>2019-07-08 00:00:00</td>\n",
       "      <td>1987-08-27 00:00:00</td>\n",
       "    </tr>\n",
       "    <tr>\n",
       "      <th>freq</th>\n",
       "      <td>33</td>\n",
       "      <td>55</td>\n",
       "      <td>59</td>\n",
       "      <td>1</td>\n",
       "    </tr>\n",
       "    <tr>\n",
       "      <th>first</th>\n",
       "      <td>1980-09-12 00:00:00</td>\n",
       "      <td>2016-01-04 00:00:00</td>\n",
       "      <td>1986-01-06 00:00:00</td>\n",
       "      <td>1985-12-10 00:00:00</td>\n",
       "    </tr>\n",
       "    <tr>\n",
       "      <th>last</th>\n",
       "      <td>2022-09-01 00:00:00</td>\n",
       "      <td>2021-06-30 00:00:00</td>\n",
       "      <td>2021-06-30 00:00:00</td>\n",
       "      <td>1991-12-09 00:00:00</td>\n",
       "    </tr>\n",
       "  </tbody>\n",
       "</table>\n",
       "</div>"
      ],
      "text/plain": [
       "                CRRTDT_date          CRRLUP_date          CRRDDT_date  \\\n",
       "count                 16026                16384                15232   \n",
       "unique                 3570                 1478                 1429   \n",
       "top     2021-07-16 00:00:00  2019-07-08 00:00:00  2019-07-08 00:00:00   \n",
       "freq                     33                   55                   59   \n",
       "first   1980-09-12 00:00:00  2016-01-04 00:00:00  1986-01-06 00:00:00   \n",
       "last    2022-09-01 00:00:00  2021-06-30 00:00:00  2021-06-30 00:00:00   \n",
       "\n",
       "               CRRARDT_date  \n",
       "count                    10  \n",
       "unique                   10  \n",
       "top     1987-08-27 00:00:00  \n",
       "freq                      1  \n",
       "first   1985-12-10 00:00:00  \n",
       "last    1991-12-09 00:00:00  "
      ]
     },
     "execution_count": 39,
     "metadata": {},
     "output_type": "execute_result"
    }
   ],
   "source": [
    "df[['CRRTDT_date','CRRLUP_date','CRRDDT_date', 'CRRARDT_date']].describe()\n",
    "\n",
    "# Case Trial Date\n",
    "# Last Update on Case\n",
    "# Date Offence Disposed\n",
    "# Arrest Dates"
   ]
  },
  {
   "cell_type": "code",
   "execution_count": 15,
   "metadata": {},
   "outputs": [
    {
     "data": {
      "text/plain": [
       "A    678\n",
       "R    295\n",
       "P    266\n",
       "W     76\n",
       "Name: CRRSAT, dtype: int64"
      ]
     },
     "execution_count": 15,
     "metadata": {},
     "output_type": "execute_result"
    }
   ],
   "source": [
    "df.CRRSAT.value_counts()"
   ]
  },
  {
   "cell_type": "code",
   "execution_count": 16,
   "metadata": {},
   "outputs": [
    {
     "data": {
      "text/plain": [
       "CR     15000\n",
       "CRS     1384\n",
       "Name: CRRTYP, dtype: int64"
      ]
     },
     "execution_count": 16,
     "metadata": {},
     "output_type": "execute_result"
    }
   ],
   "source": [
    "df.CRRTYP.value_counts()\n",
    "# We have mostly disrtict court cases (superior cases)"
   ]
  },
  {
   "cell_type": "code",
   "execution_count": 21,
   "metadata": {},
   "outputs": [
    {
     "data": {
      "text/plain": [
       "2    158\n",
       "1    104\n",
       "S     31\n",
       "W     24\n",
       "8      8\n",
       "7      3\n",
       "R      1\n",
       "4      1\n",
       "3      1\n",
       "Name: CRRVPR, dtype: int64"
      ]
     },
     "execution_count": 21,
     "metadata": {},
     "output_type": "execute_result"
    }
   ],
   "source": [
    "df.CRRVPR.value_counts()"
   ]
  }
 ],
 "metadata": {
  "kernelspec": {
   "display_name": "Python 3.9.6 ('base')",
   "language": "python",
   "name": "python3"
  },
  "language_info": {
   "codemirror_mode": {
    "name": "ipython",
    "version": 3
   },
   "file_extension": ".py",
   "mimetype": "text/x-python",
   "name": "python",
   "nbconvert_exporter": "python",
   "pygments_lexer": "ipython3",
   "version": "3.9.6"
  },
  "orig_nbformat": 4,
  "vscode": {
   "interpreter": {
    "hash": "0283bb964ddc7e300b47a08868ce4135312740b76df18babb030f16f99693fd6"
   }
  }
 },
 "nbformat": 4,
 "nbformat_minor": 2
}
