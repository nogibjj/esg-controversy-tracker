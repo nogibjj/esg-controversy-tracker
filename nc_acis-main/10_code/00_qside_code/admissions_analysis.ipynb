{
 "cells": [
  {
   "attachments": {},
   "cell_type": "markdown",
   "metadata": {},
   "source": [
    "## Analysis on Population and Incarcerated Race Distributions"
   ]
  },
  {
   "attachments": {},
   "cell_type": "markdown",
   "metadata": {},
   "source": [
    "#### Preet Khowaja"
   ]
  },
  {
   "attachments": {},
   "cell_type": "markdown",
   "metadata": {},
   "source": [
    "In this notebook, I'm interested in looking at the following:\n",
    "- How many counties have a higher % of black and hispanic populations in jail, than in their populations?\n",
    "- What is, on average, the difference in these percentages across all counties?\n",
    "- Which counties are significantly higher than the average? "
   ]
  },
  {
   "attachments": {},
   "cell_type": "markdown",
   "metadata": {},
   "source": [
    "I'm using the data table I created from NHGIS and ACIS data saved in 10_cleaned_data/county_racial_representation_table.csv"
   ]
  },
  {
   "cell_type": "code",
   "execution_count": 2,
   "metadata": {},
   "outputs": [],
   "source": [
    "import pandas as pd\n",
    "import matplotlib.pyplot as plt"
   ]
  },
  {
   "cell_type": "code",
   "execution_count": 3,
   "metadata": {},
   "outputs": [
    {
     "data": {
      "text/html": [
       "<div>\n",
       "<style scoped>\n",
       "    .dataframe tbody tr th:only-of-type {\n",
       "        vertical-align: middle;\n",
       "    }\n",
       "\n",
       "    .dataframe tbody tr th {\n",
       "        vertical-align: top;\n",
       "    }\n",
       "\n",
       "    .dataframe thead th {\n",
       "        text-align: right;\n",
       "    }\n",
       "</style>\n",
       "<table border=\"1\" class=\"dataframe\">\n",
       "  <thead>\n",
       "    <tr style=\"text-align: right;\">\n",
       "      <th></th>\n",
       "      <th>Unnamed: 0</th>\n",
       "      <th>county_fips_code</th>\n",
       "      <th>black_count_sys</th>\n",
       "      <th>white_count_sys</th>\n",
       "      <th>hisp_count_sys</th>\n",
       "      <th>total_count_sys</th>\n",
       "      <th>black_perc_sys</th>\n",
       "      <th>white_perc_sys</th>\n",
       "      <th>hisp_perc_sys</th>\n",
       "      <th>COUNTY</th>\n",
       "      <th>...</th>\n",
       "      <th>hisp_pop</th>\n",
       "      <th>other_pop</th>\n",
       "      <th>total_perc</th>\n",
       "      <th>black_pop_perc</th>\n",
       "      <th>white_pop_perc</th>\n",
       "      <th>hisp_pop_perc</th>\n",
       "      <th>other_pop_perc</th>\n",
       "      <th>white_rate_of_case</th>\n",
       "      <th>black_rate_of_case</th>\n",
       "      <th>times_b_more_likely_to_be_involved_in_case</th>\n",
       "    </tr>\n",
       "  </thead>\n",
       "  <tbody>\n",
       "    <tr>\n",
       "      <th>67</th>\n",
       "      <td>67</td>\n",
       "      <td>37135.0</td>\n",
       "      <td>107260.0</td>\n",
       "      <td>116090.0</td>\n",
       "      <td>36785.0</td>\n",
       "      <td>274906.0</td>\n",
       "      <td>39.016973</td>\n",
       "      <td>42.228980</td>\n",
       "      <td>13.380937</td>\n",
       "      <td>Orange County</td>\n",
       "      <td>...</td>\n",
       "      <td>12065</td>\n",
       "      <td>14764</td>\n",
       "      <td>100.0</td>\n",
       "      <td>11.641469</td>\n",
       "      <td>69.439822</td>\n",
       "      <td>8.507743</td>\n",
       "      <td>10.410967</td>\n",
       "      <td>1.178890</td>\n",
       "      <td>6.497062</td>\n",
       "      <td>5.511170</td>\n",
       "    </tr>\n",
       "    <tr>\n",
       "      <th>26</th>\n",
       "      <td>26</td>\n",
       "      <td>37053.0</td>\n",
       "      <td>2409.0</td>\n",
       "      <td>18290.0</td>\n",
       "      <td>526.0</td>\n",
       "      <td>21755.0</td>\n",
       "      <td>11.073316</td>\n",
       "      <td>84.072627</td>\n",
       "      <td>2.417835</td>\n",
       "      <td>Currituck County</td>\n",
       "      <td>...</td>\n",
       "      <td>988</td>\n",
       "      <td>796</td>\n",
       "      <td>100.0</td>\n",
       "      <td>5.422426</td>\n",
       "      <td>87.511387</td>\n",
       "      <td>3.913336</td>\n",
       "      <td>3.152850</td>\n",
       "      <td>0.827827</td>\n",
       "      <td>1.759679</td>\n",
       "      <td>2.125661</td>\n",
       "    </tr>\n",
       "    <tr>\n",
       "      <th>78</th>\n",
       "      <td>78</td>\n",
       "      <td>37157.0</td>\n",
       "      <td>49735.0</td>\n",
       "      <td>98314.0</td>\n",
       "      <td>10543.0</td>\n",
       "      <td>161681.0</td>\n",
       "      <td>30.761190</td>\n",
       "      <td>60.807392</td>\n",
       "      <td>6.520865</td>\n",
       "      <td>Rockingham County</td>\n",
       "      <td>...</td>\n",
       "      <td>5544</td>\n",
       "      <td>2478</td>\n",
       "      <td>100.0</td>\n",
       "      <td>18.624817</td>\n",
       "      <td>72.614289</td>\n",
       "      <td>6.054649</td>\n",
       "      <td>2.706245</td>\n",
       "      <td>1.478628</td>\n",
       "      <td>2.916325</td>\n",
       "      <td>1.972318</td>\n",
       "    </tr>\n",
       "  </tbody>\n",
       "</table>\n",
       "<p>3 rows × 23 columns</p>\n",
       "</div>"
      ],
      "text/plain": [
       "    Unnamed: 0  county_fips_code  black_count_sys  white_count_sys  \\\n",
       "67          67           37135.0         107260.0         116090.0   \n",
       "26          26           37053.0           2409.0          18290.0   \n",
       "78          78           37157.0          49735.0          98314.0   \n",
       "\n",
       "    hisp_count_sys  total_count_sys  black_perc_sys  white_perc_sys  \\\n",
       "67         36785.0         274906.0       39.016973       42.228980   \n",
       "26           526.0          21755.0       11.073316       84.072627   \n",
       "78         10543.0         161681.0       30.761190       60.807392   \n",
       "\n",
       "    hisp_perc_sys             COUNTY  ...  hisp_pop  other_pop  total_perc  \\\n",
       "67      13.380937      Orange County  ...     12065      14764       100.0   \n",
       "26       2.417835   Currituck County  ...       988        796       100.0   \n",
       "78       6.520865  Rockingham County  ...      5544       2478       100.0   \n",
       "\n",
       "    black_pop_perc  white_pop_perc  hisp_pop_perc  other_pop_perc  \\\n",
       "67       11.641469       69.439822       8.507743       10.410967   \n",
       "26        5.422426       87.511387       3.913336        3.152850   \n",
       "78       18.624817       72.614289       6.054649        2.706245   \n",
       "\n",
       "    white_rate_of_case  black_rate_of_case  \\\n",
       "67            1.178890            6.497062   \n",
       "26            0.827827            1.759679   \n",
       "78            1.478628            2.916325   \n",
       "\n",
       "    times_b_more_likely_to_be_involved_in_case  \n",
       "67                                    5.511170  \n",
       "26                                    2.125661  \n",
       "78                                    1.972318  \n",
       "\n",
       "[3 rows x 23 columns]"
      ]
     },
     "execution_count": 3,
     "metadata": {},
     "output_type": "execute_result"
    }
   ],
   "source": [
    "full_data = pd.read_csv('/Users/preetkhowaja/Desktop/qsides/10_cleaned_data/county_racial_representation_table.csv')\n",
    "full_data.sample(3)"
   ]
  },
  {
   "attachments": {},
   "cell_type": "markdown",
   "metadata": {},
   "source": [
    "### Statistics for Black People"
   ]
  },
  {
   "cell_type": "code",
   "execution_count": 4,
   "metadata": {},
   "outputs": [],
   "source": [
    "black_stats = full_data[['county_fips_code', 'COUNTY', 'black_perc_sys', 'black_pop_perc']]"
   ]
  },
  {
   "cell_type": "code",
   "execution_count": 5,
   "metadata": {},
   "outputs": [
    {
     "name": "stderr",
     "output_type": "stream",
     "text": [
      "/var/folders/3w/vg5tdhqd3fx1m3n150wrlhhh0000gn/T/ipykernel_63851/779978075.py:2: SettingWithCopyWarning: \n",
      "A value is trying to be set on a copy of a slice from a DataFrame.\n",
      "Try using .loc[row_indexer,col_indexer] = value instead\n",
      "\n",
      "See the caveats in the documentation: https://pandas.pydata.org/pandas-docs/stable/user_guide/indexing.html#returning-a-view-versus-a-copy\n",
      "  black_stats['diff_in_perc_black'] = (black_stats.black_perc_sys - black_stats.black_pop_perc)\n"
     ]
    }
   ],
   "source": [
    "## What is the difference in these percentages?\n",
    "black_stats['diff_in_perc_black'] = (black_stats.black_perc_sys - black_stats.black_pop_perc)"
   ]
  },
  {
   "cell_type": "code",
   "execution_count": 6,
   "metadata": {},
   "outputs": [
    {
     "data": {
      "text/html": [
       "<div>\n",
       "<style scoped>\n",
       "    .dataframe tbody tr th:only-of-type {\n",
       "        vertical-align: middle;\n",
       "    }\n",
       "\n",
       "    .dataframe tbody tr th {\n",
       "        vertical-align: top;\n",
       "    }\n",
       "\n",
       "    .dataframe thead th {\n",
       "        text-align: right;\n",
       "    }\n",
       "</style>\n",
       "<table border=\"1\" class=\"dataframe\">\n",
       "  <thead>\n",
       "    <tr style=\"text-align: right;\">\n",
       "      <th></th>\n",
       "      <th>county_fips_code</th>\n",
       "      <th>COUNTY</th>\n",
       "      <th>black_perc_sys</th>\n",
       "      <th>black_pop_perc</th>\n",
       "      <th>diff_in_perc_black</th>\n",
       "    </tr>\n",
       "  </thead>\n",
       "  <tbody>\n",
       "    <tr>\n",
       "      <th>0</th>\n",
       "      <td>37001.0</td>\n",
       "      <td>Alamance County</td>\n",
       "      <td>33.895558</td>\n",
       "      <td>18.988368</td>\n",
       "      <td>14.907190</td>\n",
       "    </tr>\n",
       "    <tr>\n",
       "      <th>1</th>\n",
       "      <td>37003.0</td>\n",
       "      <td>Alexander County</td>\n",
       "      <td>15.551704</td>\n",
       "      <td>5.885519</td>\n",
       "      <td>9.666185</td>\n",
       "    </tr>\n",
       "    <tr>\n",
       "      <th>2</th>\n",
       "      <td>37005.0</td>\n",
       "      <td>Alleghany County</td>\n",
       "      <td>2.256839</td>\n",
       "      <td>2.432556</td>\n",
       "      <td>-0.175717</td>\n",
       "    </tr>\n",
       "    <tr>\n",
       "      <th>3</th>\n",
       "      <td>37007.0</td>\n",
       "      <td>Anson County</td>\n",
       "      <td>61.648416</td>\n",
       "      <td>48.634993</td>\n",
       "      <td>13.013423</td>\n",
       "    </tr>\n",
       "    <tr>\n",
       "      <th>4</th>\n",
       "      <td>37009.0</td>\n",
       "      <td>Ashe County</td>\n",
       "      <td>1.830311</td>\n",
       "      <td>0.782618</td>\n",
       "      <td>1.047692</td>\n",
       "    </tr>\n",
       "  </tbody>\n",
       "</table>\n",
       "</div>"
      ],
      "text/plain": [
       "   county_fips_code            COUNTY  black_perc_sys  black_pop_perc  \\\n",
       "0           37001.0   Alamance County       33.895558       18.988368   \n",
       "1           37003.0  Alexander County       15.551704        5.885519   \n",
       "2           37005.0  Alleghany County        2.256839        2.432556   \n",
       "3           37007.0      Anson County       61.648416       48.634993   \n",
       "4           37009.0       Ashe County        1.830311        0.782618   \n",
       "\n",
       "   diff_in_perc_black  \n",
       "0           14.907190  \n",
       "1            9.666185  \n",
       "2           -0.175717  \n",
       "3           13.013423  \n",
       "4            1.047692  "
      ]
     },
     "execution_count": 6,
     "metadata": {},
     "output_type": "execute_result"
    }
   ],
   "source": [
    "black_stats.head()"
   ]
  },
  {
   "cell_type": "code",
   "execution_count": 7,
   "metadata": {},
   "outputs": [
    {
     "data": {
      "text/plain": [
       "(array([ 9.,  4.,  3.,  8.,  9.,  9.,  8., 10.,  3.,  7.,  8.,  7.,  3.,\n",
       "         3.,  4.,  1.,  1.,  1.,  1.,  1.]),\n",
       " array([-0.63566996,  1.13802641,  2.91172278,  4.68541914,  6.45911551,\n",
       "         8.23281188, 10.00650824, 11.78020461, 13.55390097, 15.32759734,\n",
       "        17.10129371, 18.87499007, 20.64868644, 22.4223828 , 24.19607917,\n",
       "        25.96977554, 27.7434719 , 29.51716827, 31.29086464, 33.064561  ,\n",
       "        34.83825737]),\n",
       " <BarContainer object of 20 artists>)"
      ]
     },
     "execution_count": 7,
     "metadata": {},
     "output_type": "execute_result"
    },
    {
     "data": {
      "image/png": "[encoded data removed]",
      "text/plain": [
       "<Figure size 640x480 with 1 Axes>"
      ]
     },
     "metadata": {},
     "output_type": "display_data"
    }
   ],
   "source": [
    "plt.figure()\n",
    "plt.title('Distribution of Percentage Point Difference b/w Black people in pop and system')\n",
    "plt.hist(black_stats.diff_in_perc_black, bins=20)"
   ]
  },
  {
   "cell_type": "code",
   "execution_count": 8,
   "metadata": {},
   "outputs": [
    {
     "name": "stderr",
     "output_type": "stream",
     "text": [
      "/var/folders/3w/vg5tdhqd3fx1m3n150wrlhhh0000gn/T/ipykernel_63851/3456443550.py:2: SettingWithCopyWarning: \n",
      "A value is trying to be set on a copy of a slice from a DataFrame.\n",
      "Try using .loc[row_indexer,col_indexer] = value instead\n",
      "\n",
      "See the caveats in the documentation: https://pandas.pydata.org/pandas-docs/stable/user_guide/indexing.html#returning-a-view-versus-a-copy\n",
      "  black_stats['times_more_black_rep'] = (black_stats.black_perc_sys / black_stats.black_pop_perc)\n"
     ]
    }
   ],
   "source": [
    "## how much more is the representation of black people in the system?\n",
    "black_stats['times_more_black_rep'] = (black_stats.black_perc_sys / black_stats.black_pop_perc)"
   ]
  },
  {
   "cell_type": "code",
   "execution_count": 9,
   "metadata": {},
   "outputs": [
    {
     "data": {
      "text/plain": [
       "(array([ 3., 28., 16., 13., 15.,  7.,  7.,  6.,  1.,  1.,  0.,  0.,  2.,\n",
       "         0.,  0.,  0.,  0.,  0.,  0.,  1.]),\n",
       " array([0.78453835, 1.10559363, 1.42664892, 1.7477042 , 2.06875948,\n",
       "        2.38981476, 2.71087005, 3.03192533, 3.35298061, 3.67403589,\n",
       "        3.99509118, 4.31614646, 4.63720174, 4.95825702, 5.27931231,\n",
       "        5.60036759, 5.92142287, 6.24247815, 6.56353344, 6.88458872,\n",
       "        7.205644  ]),\n",
       " <BarContainer object of 20 artists>)"
      ]
     },
     "execution_count": 9,
     "metadata": {},
     "output_type": "execute_result"
    },
    {
     "data": {
      "image/png": "[encoded data removed]",
      "text/plain": [
       "<Figure size 640x480 with 1 Axes>"
      ]
     },
     "metadata": {},
     "output_type": "display_data"
    }
   ],
   "source": [
    "plt.figure()\n",
    "plt.hist(black_stats.times_more_black_rep, bins=20)"
   ]
  },
  {
   "attachments": {},
   "cell_type": "markdown",
   "metadata": {},
   "source": [
    "### What is the average of the difference in % points of over-representation "
   ]
  },
  {
   "cell_type": "code",
   "execution_count": 10,
   "metadata": {},
   "outputs": [
    {
     "data": {
      "text/plain": [
       "count    100.000000\n",
       "mean      12.532355\n",
       "std        7.994614\n",
       "min       -0.635670\n",
       "25%        7.020044\n",
       "50%       11.716904\n",
       "75%       17.661611\n",
       "max       34.838257\n",
       "Name: diff_in_perc_black, dtype: float64"
      ]
     },
     "execution_count": 10,
     "metadata": {},
     "output_type": "execute_result"
    }
   ],
   "source": [
    "black_stats['diff_in_perc_black'].describe()"
   ]
  },
  {
   "cell_type": "code",
   "execution_count": 11,
   "metadata": {},
   "outputs": [
    {
     "data": {
      "text/plain": [
       "32.913383322826036"
      ]
     },
     "execution_count": 11,
     "metadata": {},
     "output_type": "execute_result"
    }
   ],
   "source": [
    "black_stats.black_perc_sys.mean()"
   ]
  },
  {
   "cell_type": "code",
   "execution_count": 12,
   "metadata": {},
   "outputs": [
    {
     "data": {
      "text/plain": [
       "20.381028023215002"
      ]
     },
     "execution_count": 12,
     "metadata": {},
     "output_type": "execute_result"
    }
   ],
   "source": [
    "black_stats.black_pop_perc.mean()"
   ]
  },
  {
   "attachments": {},
   "cell_type": "markdown",
   "metadata": {},
   "source": [
    "On average, black people are 12.5 percentage points more in the system than in popultions"
   ]
  },
  {
   "cell_type": "code",
   "execution_count": 13,
   "metadata": {},
   "outputs": [
    {
     "data": {
      "text/plain": [
       "count    100.000000\n",
       "mean       2.025871\n",
       "std        0.923740\n",
       "min        0.784538\n",
       "25%        1.353331\n",
       "50%        1.837212\n",
       "75%        2.405593\n",
       "max        7.205644\n",
       "Name: times_more_black_rep, dtype: float64"
      ]
     },
     "execution_count": 13,
     "metadata": {},
     "output_type": "execute_result"
    }
   ],
   "source": [
    "black_stats['times_more_black_rep'].describe()"
   ]
  },
  {
   "attachments": {},
   "cell_type": "markdown",
   "metadata": {},
   "source": [
    "This particular county looks like it has an extreme disparity. I want to check if there is adequate data for it to make this claim"
   ]
  },
  {
   "cell_type": "code",
   "execution_count": 14,
   "metadata": {},
   "outputs": [
    {
     "data": {
      "text/html": [
       "<div>\n",
       "<style scoped>\n",
       "    .dataframe tbody tr th:only-of-type {\n",
       "        vertical-align: middle;\n",
       "    }\n",
       "\n",
       "    .dataframe tbody tr th {\n",
       "        vertical-align: top;\n",
       "    }\n",
       "\n",
       "    .dataframe thead th {\n",
       "        text-align: right;\n",
       "    }\n",
       "</style>\n",
       "<table border=\"1\" class=\"dataframe\">\n",
       "  <thead>\n",
       "    <tr style=\"text-align: right;\">\n",
       "      <th></th>\n",
       "      <th>county_fips_code</th>\n",
       "      <th>COUNTY</th>\n",
       "      <th>black_perc_sys</th>\n",
       "      <th>black_pop_perc</th>\n",
       "      <th>diff_in_perc_black</th>\n",
       "      <th>times_more_black_rep</th>\n",
       "    </tr>\n",
       "  </thead>\n",
       "  <tbody>\n",
       "    <tr>\n",
       "      <th>94</th>\n",
       "      <td>37189.0</td>\n",
       "      <td>Watauga County</td>\n",
       "      <td>11.222358</td>\n",
       "      <td>1.55744</td>\n",
       "      <td>9.664918</td>\n",
       "      <td>7.205644</td>\n",
       "    </tr>\n",
       "  </tbody>\n",
       "</table>\n",
       "</div>"
      ],
      "text/plain": [
       "    county_fips_code          COUNTY  black_perc_sys  black_pop_perc  \\\n",
       "94           37189.0  Watauga County       11.222358         1.55744   \n",
       "\n",
       "    diff_in_perc_black  times_more_black_rep  \n",
       "94            9.664918              7.205644  "
      ]
     },
     "execution_count": 14,
     "metadata": {},
     "output_type": "execute_result"
    }
   ],
   "source": [
    "black_stats.loc[black_stats.times_more_black_rep > 5]"
   ]
  },
  {
   "cell_type": "code",
   "execution_count": 15,
   "metadata": {},
   "outputs": [
    {
     "data": {
      "text/html": [
       "<div>\n",
       "<style scoped>\n",
       "    .dataframe tbody tr th:only-of-type {\n",
       "        vertical-align: middle;\n",
       "    }\n",
       "\n",
       "    .dataframe tbody tr th {\n",
       "        vertical-align: top;\n",
       "    }\n",
       "\n",
       "    .dataframe thead th {\n",
       "        text-align: right;\n",
       "    }\n",
       "</style>\n",
       "<table border=\"1\" class=\"dataframe\">\n",
       "  <thead>\n",
       "    <tr style=\"text-align: right;\">\n",
       "      <th></th>\n",
       "      <th>Unnamed: 0</th>\n",
       "      <th>county_fips_code</th>\n",
       "      <th>black_count_sys</th>\n",
       "      <th>white_count_sys</th>\n",
       "      <th>hisp_count_sys</th>\n",
       "      <th>total_count_sys</th>\n",
       "      <th>black_perc_sys</th>\n",
       "      <th>white_perc_sys</th>\n",
       "      <th>hisp_perc_sys</th>\n",
       "      <th>COUNTY</th>\n",
       "      <th>...</th>\n",
       "      <th>hisp_pop</th>\n",
       "      <th>other_pop</th>\n",
       "      <th>total_perc</th>\n",
       "      <th>black_pop_perc</th>\n",
       "      <th>white_pop_perc</th>\n",
       "      <th>hisp_pop_perc</th>\n",
       "      <th>other_pop_perc</th>\n",
       "      <th>white_rate_of_case</th>\n",
       "      <th>black_rate_of_case</th>\n",
       "      <th>times_b_more_likely_to_be_involved_in_case</th>\n",
       "    </tr>\n",
       "  </thead>\n",
       "  <tbody>\n",
       "    <tr>\n",
       "      <th>94</th>\n",
       "      <td>94</td>\n",
       "      <td>37189.0</td>\n",
       "      <td>12408.0</td>\n",
       "      <td>90051.0</td>\n",
       "      <td>5660.0</td>\n",
       "      <td>110565.0</td>\n",
       "      <td>11.222358</td>\n",
       "      <td>81.446208</td>\n",
       "      <td>5.119161</td>\n",
       "      <td>Watauga County</td>\n",
       "      <td>...</td>\n",
       "      <td>1993</td>\n",
       "      <td>1490</td>\n",
       "      <td>100.0</td>\n",
       "      <td>1.55744</td>\n",
       "      <td>91.922652</td>\n",
       "      <td>3.730743</td>\n",
       "      <td>2.789165</td>\n",
       "      <td>1.833808</td>\n",
       "      <td>14.913462</td>\n",
       "      <td>8.132508</td>\n",
       "    </tr>\n",
       "  </tbody>\n",
       "</table>\n",
       "<p>1 rows × 23 columns</p>\n",
       "</div>"
      ],
      "text/plain": [
       "    Unnamed: 0  county_fips_code  black_count_sys  white_count_sys  \\\n",
       "94          94           37189.0          12408.0          90051.0   \n",
       "\n",
       "    hisp_count_sys  total_count_sys  black_perc_sys  white_perc_sys  \\\n",
       "94          5660.0         110565.0       11.222358       81.446208   \n",
       "\n",
       "    hisp_perc_sys          COUNTY  ...  hisp_pop  other_pop  total_perc  \\\n",
       "94       5.119161  Watauga County  ...      1993       1490       100.0   \n",
       "\n",
       "    black_pop_perc  white_pop_perc  hisp_pop_perc  other_pop_perc  \\\n",
       "94         1.55744       91.922652       3.730743        2.789165   \n",
       "\n",
       "    white_rate_of_case  black_rate_of_case  \\\n",
       "94            1.833808           14.913462   \n",
       "\n",
       "    times_b_more_likely_to_be_involved_in_case  \n",
       "94                                    8.132508  \n",
       "\n",
       "[1 rows x 23 columns]"
      ]
     },
     "execution_count": 15,
     "metadata": {},
     "output_type": "execute_result"
    }
   ],
   "source": [
    "full_data.loc[full_data.COUNTY == 'Watauga County']"
   ]
  },
  {
   "attachments": {},
   "cell_type": "markdown",
   "metadata": {},
   "source": [
    "This is weird because it seems like the counts are way higher for total cases in the system than for population. I want to go back and check if this is true "
   ]
  },
  {
   "cell_type": "code",
   "execution_count": 16,
   "metadata": {},
   "outputs": [
    {
     "name": "stderr",
     "output_type": "stream",
     "text": [
      "/var/folders/3w/vg5tdhqd3fx1m3n150wrlhhh0000gn/T/ipykernel_63851/977627588.py:2: SettingWithCopyWarning: \n",
      "A value is trying to be set on a copy of a slice from a DataFrame.\n",
      "Try using .loc[row_indexer,col_indexer] = value instead\n",
      "\n",
      "See the caveats in the documentation: https://pandas.pydata.org/pandas-docs/stable/user_guide/indexing.html#returning-a-view-versus-a-copy\n",
      "  checking_total_counts['diff_in_tot'] = (checking_total_counts.total - checking_total_counts.total_count_sys)\n"
     ]
    }
   ],
   "source": [
    "checking_total_counts = full_data[['COUNTY', 'total_count_sys', 'total']]\n",
    "checking_total_counts['diff_in_tot'] = (checking_total_counts.total - checking_total_counts.total_count_sys)"
   ]
  },
  {
   "cell_type": "code",
   "execution_count": 17,
   "metadata": {},
   "outputs": [
    {
     "data": {
      "text/html": [
       "<div>\n",
       "<style scoped>\n",
       "    .dataframe tbody tr th:only-of-type {\n",
       "        vertical-align: middle;\n",
       "    }\n",
       "\n",
       "    .dataframe tbody tr th {\n",
       "        vertical-align: top;\n",
       "    }\n",
       "\n",
       "    .dataframe thead th {\n",
       "        text-align: right;\n",
       "    }\n",
       "</style>\n",
       "<table border=\"1\" class=\"dataframe\">\n",
       "  <thead>\n",
       "    <tr style=\"text-align: right;\">\n",
       "      <th></th>\n",
       "      <th>COUNTY</th>\n",
       "      <th>total_count_sys</th>\n",
       "      <th>total</th>\n",
       "      <th>diff_in_tot</th>\n",
       "    </tr>\n",
       "  </thead>\n",
       "  <tbody>\n",
       "    <tr>\n",
       "      <th>0</th>\n",
       "      <td>Alamance County</td>\n",
       "      <td>239406.0</td>\n",
       "      <td>157844</td>\n",
       "      <td>-81562.0</td>\n",
       "    </tr>\n",
       "    <tr>\n",
       "      <th>1</th>\n",
       "      <td>Alexander County</td>\n",
       "      <td>171351.0</td>\n",
       "      <td>37159</td>\n",
       "      <td>-134192.0</td>\n",
       "    </tr>\n",
       "    <tr>\n",
       "      <th>2</th>\n",
       "      <td>Alleghany County</td>\n",
       "      <td>13160.0</td>\n",
       "      <td>10935</td>\n",
       "      <td>-2225.0</td>\n",
       "    </tr>\n",
       "    <tr>\n",
       "      <th>3</th>\n",
       "      <td>Anson County</td>\n",
       "      <td>61914.0</td>\n",
       "      <td>25531</td>\n",
       "      <td>-36383.0</td>\n",
       "    </tr>\n",
       "    <tr>\n",
       "      <th>4</th>\n",
       "      <td>Ashe County</td>\n",
       "      <td>29831.0</td>\n",
       "      <td>26833</td>\n",
       "      <td>-2998.0</td>\n",
       "    </tr>\n",
       "    <tr>\n",
       "      <th>...</th>\n",
       "      <td>...</td>\n",
       "      <td>...</td>\n",
       "      <td>...</td>\n",
       "      <td>...</td>\n",
       "    </tr>\n",
       "    <tr>\n",
       "      <th>95</th>\n",
       "      <td>Wayne County</td>\n",
       "      <td>259012.0</td>\n",
       "      <td>124496</td>\n",
       "      <td>-134516.0</td>\n",
       "    </tr>\n",
       "    <tr>\n",
       "      <th>96</th>\n",
       "      <td>Wilkes County</td>\n",
       "      <td>207942.0</td>\n",
       "      <td>68525</td>\n",
       "      <td>-139417.0</td>\n",
       "    </tr>\n",
       "    <tr>\n",
       "      <th>97</th>\n",
       "      <td>Wilson County</td>\n",
       "      <td>218730.0</td>\n",
       "      <td>81379</td>\n",
       "      <td>-137351.0</td>\n",
       "    </tr>\n",
       "    <tr>\n",
       "      <th>98</th>\n",
       "      <td>Yadkin County</td>\n",
       "      <td>54481.0</td>\n",
       "      <td>37825</td>\n",
       "      <td>-16656.0</td>\n",
       "    </tr>\n",
       "    <tr>\n",
       "      <th>99</th>\n",
       "      <td>Yancey County</td>\n",
       "      <td>44271.0</td>\n",
       "      <td>17605</td>\n",
       "      <td>-26666.0</td>\n",
       "    </tr>\n",
       "  </tbody>\n",
       "</table>\n",
       "<p>98 rows × 4 columns</p>\n",
       "</div>"
      ],
      "text/plain": [
       "              COUNTY  total_count_sys   total  diff_in_tot\n",
       "0    Alamance County         239406.0  157844     -81562.0\n",
       "1   Alexander County         171351.0   37159    -134192.0\n",
       "2   Alleghany County          13160.0   10935      -2225.0\n",
       "3       Anson County          61914.0   25531     -36383.0\n",
       "4        Ashe County          29831.0   26833      -2998.0\n",
       "..               ...              ...     ...          ...\n",
       "95      Wayne County         259012.0  124496    -134516.0\n",
       "96     Wilkes County         207942.0   68525    -139417.0\n",
       "97     Wilson County         218730.0   81379    -137351.0\n",
       "98     Yadkin County          54481.0   37825     -16656.0\n",
       "99     Yancey County          44271.0   17605     -26666.0\n",
       "\n",
       "[98 rows x 4 columns]"
      ]
     },
     "execution_count": 17,
     "metadata": {},
     "output_type": "execute_result"
    }
   ],
   "source": [
    "## The difference in these counts should not be negative, \n",
    "# or we are over-counting by uses cases as a proxy for people\n",
    "checking_total_counts.loc[checking_total_counts['diff_in_tot'] < 0]"
   ]
  },
  {
   "attachments": {},
   "cell_type": "markdown",
   "metadata": {},
   "source": [
    "### Hispanic People Statistics"
   ]
  },
  {
   "cell_type": "code",
   "execution_count": 18,
   "metadata": {},
   "outputs": [
    {
     "data": {
      "text/html": [
       "<div>\n",
       "<style scoped>\n",
       "    .dataframe tbody tr th:only-of-type {\n",
       "        vertical-align: middle;\n",
       "    }\n",
       "\n",
       "    .dataframe tbody tr th {\n",
       "        vertical-align: top;\n",
       "    }\n",
       "\n",
       "    .dataframe thead th {\n",
       "        text-align: right;\n",
       "    }\n",
       "</style>\n",
       "<table border=\"1\" class=\"dataframe\">\n",
       "  <thead>\n",
       "    <tr style=\"text-align: right;\">\n",
       "      <th></th>\n",
       "      <th>county_fips_code</th>\n",
       "      <th>COUNTY</th>\n",
       "      <th>hisp_perc_sys</th>\n",
       "      <th>hisp_pop_perc</th>\n",
       "    </tr>\n",
       "  </thead>\n",
       "  <tbody>\n",
       "    <tr>\n",
       "      <th>0</th>\n",
       "      <td>37001.0</td>\n",
       "      <td>Alamance County</td>\n",
       "      <td>14.791192</td>\n",
       "      <td>12.820253</td>\n",
       "    </tr>\n",
       "    <tr>\n",
       "      <th>1</th>\n",
       "      <td>37003.0</td>\n",
       "      <td>Alexander County</td>\n",
       "      <td>8.029717</td>\n",
       "      <td>4.709492</td>\n",
       "    </tr>\n",
       "    <tr>\n",
       "      <th>2</th>\n",
       "      <td>37005.0</td>\n",
       "      <td>Alleghany County</td>\n",
       "      <td>18.487842</td>\n",
       "      <td>9.711934</td>\n",
       "    </tr>\n",
       "    <tr>\n",
       "      <th>3</th>\n",
       "      <td>37007.0</td>\n",
       "      <td>Anson County</td>\n",
       "      <td>3.278741</td>\n",
       "      <td>3.846304</td>\n",
       "    </tr>\n",
       "    <tr>\n",
       "      <th>4</th>\n",
       "      <td>37009.0</td>\n",
       "      <td>Ashe County</td>\n",
       "      <td>8.548155</td>\n",
       "      <td>5.757836</td>\n",
       "    </tr>\n",
       "  </tbody>\n",
       "</table>\n",
       "</div>"
      ],
      "text/plain": [
       "   county_fips_code            COUNTY  hisp_perc_sys  hisp_pop_perc\n",
       "0           37001.0   Alamance County      14.791192      12.820253\n",
       "1           37003.0  Alexander County       8.029717       4.709492\n",
       "2           37005.0  Alleghany County      18.487842       9.711934\n",
       "3           37007.0      Anson County       3.278741       3.846304\n",
       "4           37009.0       Ashe County       8.548155       5.757836"
      ]
     },
     "execution_count": 18,
     "metadata": {},
     "output_type": "execute_result"
    }
   ],
   "source": [
    "hisp_stats = full_data[['county_fips_code', 'COUNTY', 'hisp_perc_sys', 'hisp_pop_perc']]\n",
    "hisp_stats.head()"
   ]
  },
  {
   "cell_type": "code",
   "execution_count": 19,
   "metadata": {},
   "outputs": [
    {
     "name": "stderr",
     "output_type": "stream",
     "text": [
      "/var/folders/3w/vg5tdhqd3fx1m3n150wrlhhh0000gn/T/ipykernel_63851/2218565981.py:2: SettingWithCopyWarning: \n",
      "A value is trying to be set on a copy of a slice from a DataFrame.\n",
      "Try using .loc[row_indexer,col_indexer] = value instead\n",
      "\n",
      "See the caveats in the documentation: https://pandas.pydata.org/pandas-docs/stable/user_guide/indexing.html#returning-a-view-versus-a-copy\n",
      "  hisp_stats['diff_in_perc_hisp'] = (hisp_stats.hisp_perc_sys - hisp_stats.hisp_pop_perc)\n"
     ]
    }
   ],
   "source": [
    "## What is the difference in these percentages?\n",
    "hisp_stats['diff_in_perc_hisp'] = (hisp_stats.hisp_perc_sys - hisp_stats.hisp_pop_perc)"
   ]
  },
  {
   "cell_type": "code",
   "execution_count": 20,
   "metadata": {},
   "outputs": [
    {
     "data": {
      "text/plain": [
       "count    100.000000\n",
       "mean       1.011867\n",
       "std        2.655239\n",
       "min       -6.978536\n",
       "25%       -0.409408\n",
       "50%        0.971317\n",
       "75%        2.274557\n",
       "max        8.775908\n",
       "Name: diff_in_perc_hisp, dtype: float64"
      ]
     },
     "execution_count": 20,
     "metadata": {},
     "output_type": "execute_result"
    }
   ],
   "source": [
    "hisp_stats['diff_in_perc_hisp'].describe()"
   ]
  },
  {
   "cell_type": "code",
   "execution_count": 21,
   "metadata": {},
   "outputs": [
    {
     "data": {
      "text/plain": [
       "(array([ 2.,  0.,  1.,  1.,  2.,  2.,  6.,  8., 11., 16., 18., 10.,  7.,\n",
       "         4.,  3.,  3.,  3.,  1.,  1.,  1.]),\n",
       " array([-6.97853648, -6.19081426, -5.40309205, -4.61536984, -3.82764762,\n",
       "        -3.03992541, -2.2522032 , -1.46448098, -0.67675877,  0.11096344,\n",
       "         0.89868566,  1.68640787,  2.47413008,  3.2618523 ,  4.04957451,\n",
       "         4.83729672,  5.62501894,  6.41274115,  7.20046336,  7.98818558,\n",
       "         8.77590779]),\n",
       " <BarContainer object of 20 artists>)"
      ]
     },
     "execution_count": 21,
     "metadata": {},
     "output_type": "execute_result"
    },
    {
     "data": {
      "image/png": "[encoded data removed]",
      "text/plain": [
       "<Figure size 640x480 with 1 Axes>"
      ]
     },
     "metadata": {},
     "output_type": "display_data"
    }
   ],
   "source": [
    "plt.figure()\n",
    "plt.title('Distribution of Percentage Point Difference b/w Hispanic people in pop and system')\n",
    "plt.hist(hisp_stats.diff_in_perc_hisp, bins=20)"
   ]
  },
  {
   "attachments": {},
   "cell_type": "markdown",
   "metadata": {},
   "source": [
    "### White People Stats"
   ]
  },
  {
   "cell_type": "code",
   "execution_count": 22,
   "metadata": {},
   "outputs": [
    {
     "data": {
      "text/html": [
       "<div>\n",
       "<style scoped>\n",
       "    .dataframe tbody tr th:only-of-type {\n",
       "        vertical-align: middle;\n",
       "    }\n",
       "\n",
       "    .dataframe tbody tr th {\n",
       "        vertical-align: top;\n",
       "    }\n",
       "\n",
       "    .dataframe thead th {\n",
       "        text-align: right;\n",
       "    }\n",
       "</style>\n",
       "<table border=\"1\" class=\"dataframe\">\n",
       "  <thead>\n",
       "    <tr style=\"text-align: right;\">\n",
       "      <th></th>\n",
       "      <th>county_fips_code</th>\n",
       "      <th>COUNTY</th>\n",
       "      <th>white_perc_sys</th>\n",
       "      <th>white_pop_perc</th>\n",
       "    </tr>\n",
       "  </thead>\n",
       "  <tbody>\n",
       "    <tr>\n",
       "      <th>0</th>\n",
       "      <td>37001.0</td>\n",
       "      <td>Alamance County</td>\n",
       "      <td>47.750683</td>\n",
       "      <td>64.974278</td>\n",
       "    </tr>\n",
       "    <tr>\n",
       "      <th>1</th>\n",
       "      <td>37003.0</td>\n",
       "      <td>Alexander County</td>\n",
       "      <td>73.660498</td>\n",
       "      <td>87.017950</td>\n",
       "    </tr>\n",
       "    <tr>\n",
       "      <th>2</th>\n",
       "      <td>37005.0</td>\n",
       "      <td>Alleghany County</td>\n",
       "      <td>74.787234</td>\n",
       "      <td>87.325103</td>\n",
       "    </tr>\n",
       "    <tr>\n",
       "      <th>3</th>\n",
       "      <td>37007.0</td>\n",
       "      <td>Anson County</td>\n",
       "      <td>33.040992</td>\n",
       "      <td>44.898359</td>\n",
       "    </tr>\n",
       "    <tr>\n",
       "      <th>4</th>\n",
       "      <td>37009.0</td>\n",
       "      <td>Ashe County</td>\n",
       "      <td>87.348731</td>\n",
       "      <td>92.460776</td>\n",
       "    </tr>\n",
       "  </tbody>\n",
       "</table>\n",
       "</div>"
      ],
      "text/plain": [
       "   county_fips_code            COUNTY  white_perc_sys  white_pop_perc\n",
       "0           37001.0   Alamance County       47.750683       64.974278\n",
       "1           37003.0  Alexander County       73.660498       87.017950\n",
       "2           37005.0  Alleghany County       74.787234       87.325103\n",
       "3           37007.0      Anson County       33.040992       44.898359\n",
       "4           37009.0       Ashe County       87.348731       92.460776"
      ]
     },
     "execution_count": 22,
     "metadata": {},
     "output_type": "execute_result"
    }
   ],
   "source": [
    "white_stats = full_data[['county_fips_code', 'COUNTY', 'white_perc_sys', 'white_pop_perc']]\n",
    "white_stats.head()"
   ]
  },
  {
   "cell_type": "code",
   "execution_count": 23,
   "metadata": {},
   "outputs": [
    {
     "name": "stderr",
     "output_type": "stream",
     "text": [
      "/var/folders/3w/vg5tdhqd3fx1m3n150wrlhhh0000gn/T/ipykernel_63851/236267600.py:2: SettingWithCopyWarning: \n",
      "A value is trying to be set on a copy of a slice from a DataFrame.\n",
      "Try using .loc[row_indexer,col_indexer] = value instead\n",
      "\n",
      "See the caveats in the documentation: https://pandas.pydata.org/pandas-docs/stable/user_guide/indexing.html#returning-a-view-versus-a-copy\n",
      "  white_stats['diff_in_perc_white'] = (white_stats.white_perc_sys - white_stats.white_pop_perc)\n"
     ]
    }
   ],
   "source": [
    "## What is the difference in these percentages?\n",
    "white_stats['diff_in_perc_white'] = (white_stats.white_perc_sys - white_stats.white_pop_perc)"
   ]
  },
  {
   "cell_type": "code",
   "execution_count": 24,
   "metadata": {},
   "outputs": [
    {
     "data": {
      "text/plain": [
       "count    100.000000\n",
       "mean     -14.075224\n",
       "std        7.449535\n",
       "min      -36.213593\n",
       "25%      -17.438066\n",
       "50%      -13.374784\n",
       "75%       -8.693127\n",
       "max        2.796678\n",
       "Name: diff_in_perc_white, dtype: float64"
      ]
     },
     "execution_count": 24,
     "metadata": {},
     "output_type": "execute_result"
    }
   ],
   "source": [
    "white_stats['diff_in_perc_white'].describe()"
   ]
  },
  {
   "cell_type": "code",
   "execution_count": 25,
   "metadata": {},
   "outputs": [
    {
     "data": {
      "text/plain": [
       "(array([ 2.,  1.,  1.,  1.,  1.,  3.,  5.,  3.,  6.,  8., 10., 12., 12.,\n",
       "         6., 13.,  9.,  4.,  1.,  1.,  1.]),\n",
       " array([-36.21359341, -34.26307982, -32.31256622, -30.36205263,\n",
       "        -28.41153904, -26.46102545, -24.51051185, -22.55999826,\n",
       "        -20.60948467, -18.65897108, -16.70845749, -14.75794389,\n",
       "        -12.8074303 , -10.85691671,  -8.90640312,  -6.95588953,\n",
       "         -5.00537593,  -3.05486234,  -1.10434875,   0.84616484,\n",
       "          2.79667843]),\n",
       " <BarContainer object of 20 artists>)"
      ]
     },
     "execution_count": 25,
     "metadata": {},
     "output_type": "execute_result"
    },
    {
     "data": {
      "image/png": "[encoded data removed]",
      "text/plain": [
       "<Figure size 640x480 with 1 Axes>"
      ]
     },
     "metadata": {},
     "output_type": "display_data"
    }
   ],
   "source": [
    "plt.figure()\n",
    "plt.title('Distribution of Percentage Point Difference b/w White people in pop and system')\n",
    "plt.hist(white_stats.diff_in_perc_white, bins=20)"
   ]
  },
  {
   "cell_type": "code",
   "execution_count": 26,
   "metadata": {},
   "outputs": [
    {
     "name": "stderr",
     "output_type": "stream",
     "text": [
      "/var/folders/3w/vg5tdhqd3fx1m3n150wrlhhh0000gn/T/ipykernel_63851/1667499756.py:2: SettingWithCopyWarning: \n",
      "A value is trying to be set on a copy of a slice from a DataFrame.\n",
      "Try using .loc[row_indexer,col_indexer] = value instead\n",
      "\n",
      "See the caveats in the documentation: https://pandas.pydata.org/pandas-docs/stable/user_guide/indexing.html#returning-a-view-versus-a-copy\n",
      "  white_stats['times_more_white_rep'] = (white_stats.white_perc_sys / white_stats.white_pop_perc)\n"
     ]
    }
   ],
   "source": [
    "## how much more is the representation of white people in the system?\n",
    "white_stats['times_more_white_rep'] = (white_stats.white_perc_sys / white_stats.white_pop_perc)"
   ]
  },
  {
   "cell_type": "code",
   "execution_count": 27,
   "metadata": {},
   "outputs": [],
   "source": [
    "incarceration_rate = pd.merge(black_stats, white_stats, on=['COUNTY', 'county_fips_code'], how='outer', indicator=True)"
   ]
  },
  {
   "cell_type": "code",
   "execution_count": 28,
   "metadata": {},
   "outputs": [],
   "source": [
    "incarceration_rate['times_b_more_likely_than_w'] = incarceration_rate.times_more_black_rep / incarceration_rate.times_more_white_rep"
   ]
  },
  {
   "cell_type": "code",
   "execution_count": 29,
   "metadata": {},
   "outputs": [
    {
     "data": {
      "text/plain": [
       "count    100.000000\n",
       "mean       2.687991\n",
       "std        1.247493\n",
       "min        0.967724\n",
       "25%        1.971113\n",
       "50%        2.368699\n",
       "75%        3.053953\n",
       "max        8.132508\n",
       "Name: times_b_more_likely_than_w, dtype: float64"
      ]
     },
     "execution_count": 29,
     "metadata": {},
     "output_type": "execute_result"
    }
   ],
   "source": [
    "incarceration_rate.times_b_more_likely_than_w.describe()"
   ]
  },
  {
   "attachments": {},
   "cell_type": "markdown",
   "metadata": {},
   "source": [
    "## Black vs White likelihood of being involved in a case"
   ]
  },
  {
   "cell_type": "code",
   "execution_count": 30,
   "metadata": {},
   "outputs": [
    {
     "data": {
      "text/html": [
       "<div>\n",
       "<style scoped>\n",
       "    .dataframe tbody tr th:only-of-type {\n",
       "        vertical-align: middle;\n",
       "    }\n",
       "\n",
       "    .dataframe tbody tr th {\n",
       "        vertical-align: top;\n",
       "    }\n",
       "\n",
       "    .dataframe thead th {\n",
       "        text-align: right;\n",
       "    }\n",
       "</style>\n",
       "<table border=\"1\" class=\"dataframe\">\n",
       "  <thead>\n",
       "    <tr style=\"text-align: right;\">\n",
       "      <th></th>\n",
       "      <th>Unnamed: 0</th>\n",
       "      <th>county_fips_code</th>\n",
       "      <th>black_count_sys</th>\n",
       "      <th>white_count_sys</th>\n",
       "      <th>hisp_count_sys</th>\n",
       "      <th>total_count_sys</th>\n",
       "      <th>black_perc_sys</th>\n",
       "      <th>white_perc_sys</th>\n",
       "      <th>hisp_perc_sys</th>\n",
       "      <th>COUNTY</th>\n",
       "      <th>...</th>\n",
       "      <th>hisp_pop</th>\n",
       "      <th>other_pop</th>\n",
       "      <th>total_perc</th>\n",
       "      <th>black_pop_perc</th>\n",
       "      <th>white_pop_perc</th>\n",
       "      <th>hisp_pop_perc</th>\n",
       "      <th>other_pop_perc</th>\n",
       "      <th>white_rate_of_case</th>\n",
       "      <th>black_rate_of_case</th>\n",
       "      <th>times_b_more_likely_to_be_involved_in_case</th>\n",
       "    </tr>\n",
       "  </thead>\n",
       "  <tbody>\n",
       "    <tr>\n",
       "      <th>0</th>\n",
       "      <td>0</td>\n",
       "      <td>37001.0</td>\n",
       "      <td>81148.0</td>\n",
       "      <td>114318.0</td>\n",
       "      <td>35411.0</td>\n",
       "      <td>239406.0</td>\n",
       "      <td>33.895558</td>\n",
       "      <td>47.750683</td>\n",
       "      <td>14.791192</td>\n",
       "      <td>Alamance County</td>\n",
       "      <td>...</td>\n",
       "      <td>20236</td>\n",
       "      <td>5078</td>\n",
       "      <td>100.0</td>\n",
       "      <td>18.988368</td>\n",
       "      <td>64.974278</td>\n",
       "      <td>12.820253</td>\n",
       "      <td>3.217100</td>\n",
       "      <td>1.114667</td>\n",
       "      <td>2.707460</td>\n",
       "      <td>2.428941</td>\n",
       "    </tr>\n",
       "    <tr>\n",
       "      <th>1</th>\n",
       "      <td>1</td>\n",
       "      <td>37003.0</td>\n",
       "      <td>26648.0</td>\n",
       "      <td>126218.0</td>\n",
       "      <td>13759.0</td>\n",
       "      <td>171351.0</td>\n",
       "      <td>15.551704</td>\n",
       "      <td>73.660498</td>\n",
       "      <td>8.029717</td>\n",
       "      <td>Alexander County</td>\n",
       "      <td>...</td>\n",
       "      <td>1750</td>\n",
       "      <td>887</td>\n",
       "      <td>100.0</td>\n",
       "      <td>5.885519</td>\n",
       "      <td>87.017950</td>\n",
       "      <td>4.709492</td>\n",
       "      <td>2.387039</td>\n",
       "      <td>3.903448</td>\n",
       "      <td>12.184728</td>\n",
       "      <td>3.121529</td>\n",
       "    </tr>\n",
       "    <tr>\n",
       "      <th>2</th>\n",
       "      <td>2</td>\n",
       "      <td>37005.0</td>\n",
       "      <td>297.0</td>\n",
       "      <td>9842.0</td>\n",
       "      <td>2433.0</td>\n",
       "      <td>13160.0</td>\n",
       "      <td>2.256839</td>\n",
       "      <td>74.787234</td>\n",
       "      <td>18.487842</td>\n",
       "      <td>Alleghany County</td>\n",
       "      <td>...</td>\n",
       "      <td>1062</td>\n",
       "      <td>58</td>\n",
       "      <td>100.0</td>\n",
       "      <td>2.432556</td>\n",
       "      <td>87.325103</td>\n",
       "      <td>9.711934</td>\n",
       "      <td>0.530407</td>\n",
       "      <td>1.030684</td>\n",
       "      <td>1.116541</td>\n",
       "      <td>1.083302</td>\n",
       "    </tr>\n",
       "    <tr>\n",
       "      <th>3</th>\n",
       "      <td>3</td>\n",
       "      <td>37007.0</td>\n",
       "      <td>38169.0</td>\n",
       "      <td>20457.0</td>\n",
       "      <td>2030.0</td>\n",
       "      <td>61914.0</td>\n",
       "      <td>61.648416</td>\n",
       "      <td>33.040992</td>\n",
       "      <td>3.278741</td>\n",
       "      <td>Anson County</td>\n",
       "      <td>...</td>\n",
       "      <td>982</td>\n",
       "      <td>669</td>\n",
       "      <td>100.0</td>\n",
       "      <td>48.634993</td>\n",
       "      <td>44.898359</td>\n",
       "      <td>3.846304</td>\n",
       "      <td>2.620344</td>\n",
       "      <td>1.784611</td>\n",
       "      <td>3.073931</td>\n",
       "      <td>1.722465</td>\n",
       "    </tr>\n",
       "    <tr>\n",
       "      <th>4</th>\n",
       "      <td>4</td>\n",
       "      <td>37009.0</td>\n",
       "      <td>546.0</td>\n",
       "      <td>26057.0</td>\n",
       "      <td>2550.0</td>\n",
       "      <td>29831.0</td>\n",
       "      <td>1.830311</td>\n",
       "      <td>87.348731</td>\n",
       "      <td>8.548155</td>\n",
       "      <td>Ashe County</td>\n",
       "      <td>...</td>\n",
       "      <td>1545</td>\n",
       "      <td>268</td>\n",
       "      <td>100.0</td>\n",
       "      <td>0.782618</td>\n",
       "      <td>92.460776</td>\n",
       "      <td>5.757836</td>\n",
       "      <td>0.998770</td>\n",
       "      <td>1.050262</td>\n",
       "      <td>2.600000</td>\n",
       "      <td>2.475573</td>\n",
       "    </tr>\n",
       "  </tbody>\n",
       "</table>\n",
       "<p>5 rows × 23 columns</p>\n",
       "</div>"
      ],
      "text/plain": [
       "   Unnamed: 0  county_fips_code  black_count_sys  white_count_sys  \\\n",
       "0           0           37001.0          81148.0         114318.0   \n",
       "1           1           37003.0          26648.0         126218.0   \n",
       "2           2           37005.0            297.0           9842.0   \n",
       "3           3           37007.0          38169.0          20457.0   \n",
       "4           4           37009.0            546.0          26057.0   \n",
       "\n",
       "   hisp_count_sys  total_count_sys  black_perc_sys  white_perc_sys  \\\n",
       "0         35411.0         239406.0       33.895558       47.750683   \n",
       "1         13759.0         171351.0       15.551704       73.660498   \n",
       "2          2433.0          13160.0        2.256839       74.787234   \n",
       "3          2030.0          61914.0       61.648416       33.040992   \n",
       "4          2550.0          29831.0        1.830311       87.348731   \n",
       "\n",
       "   hisp_perc_sys            COUNTY  ...  hisp_pop  other_pop  total_perc  \\\n",
       "0      14.791192   Alamance County  ...     20236       5078       100.0   \n",
       "1       8.029717  Alexander County  ...      1750        887       100.0   \n",
       "2      18.487842  Alleghany County  ...      1062         58       100.0   \n",
       "3       3.278741      Anson County  ...       982        669       100.0   \n",
       "4       8.548155       Ashe County  ...      1545        268       100.0   \n",
       "\n",
       "   black_pop_perc  white_pop_perc  hisp_pop_perc  other_pop_perc  \\\n",
       "0       18.988368       64.974278      12.820253        3.217100   \n",
       "1        5.885519       87.017950       4.709492        2.387039   \n",
       "2        2.432556       87.325103       9.711934        0.530407   \n",
       "3       48.634993       44.898359       3.846304        2.620344   \n",
       "4        0.782618       92.460776       5.757836        0.998770   \n",
       "\n",
       "   white_rate_of_case  black_rate_of_case  \\\n",
       "0            1.114667            2.707460   \n",
       "1            3.903448           12.184728   \n",
       "2            1.030684            1.116541   \n",
       "3            1.784611            3.073931   \n",
       "4            1.050262            2.600000   \n",
       "\n",
       "   times_b_more_likely_to_be_involved_in_case  \n",
       "0                                    2.428941  \n",
       "1                                    3.121529  \n",
       "2                                    1.083302  \n",
       "3                                    1.722465  \n",
       "4                                    2.475573  \n",
       "\n",
       "[5 rows x 23 columns]"
      ]
     },
     "execution_count": 30,
     "metadata": {},
     "output_type": "execute_result"
    }
   ],
   "source": [
    "full_data.head()"
   ]
  },
  {
   "cell_type": "code",
   "execution_count": 31,
   "metadata": {},
   "outputs": [],
   "source": [
    "full_data['white_rate_of_case'] = full_data.white_count_sys/full_data.white_pop\n",
    "full_data['black_rate_of_case'] = full_data.black_count_sys/full_data.black_pop"
   ]
  },
  {
   "cell_type": "code",
   "execution_count": 32,
   "metadata": {},
   "outputs": [
    {
     "data": {
      "text/html": [
       "<div>\n",
       "<style scoped>\n",
       "    .dataframe tbody tr th:only-of-type {\n",
       "        vertical-align: middle;\n",
       "    }\n",
       "\n",
       "    .dataframe tbody tr th {\n",
       "        vertical-align: top;\n",
       "    }\n",
       "\n",
       "    .dataframe thead th {\n",
       "        text-align: right;\n",
       "    }\n",
       "</style>\n",
       "<table border=\"1\" class=\"dataframe\">\n",
       "  <thead>\n",
       "    <tr style=\"text-align: right;\">\n",
       "      <th></th>\n",
       "      <th>Unnamed: 0</th>\n",
       "      <th>county_fips_code</th>\n",
       "      <th>black_count_sys</th>\n",
       "      <th>white_count_sys</th>\n",
       "      <th>hisp_count_sys</th>\n",
       "      <th>total_count_sys</th>\n",
       "      <th>black_perc_sys</th>\n",
       "      <th>white_perc_sys</th>\n",
       "      <th>hisp_perc_sys</th>\n",
       "      <th>COUNTY</th>\n",
       "      <th>...</th>\n",
       "      <th>hisp_pop</th>\n",
       "      <th>other_pop</th>\n",
       "      <th>total_perc</th>\n",
       "      <th>black_pop_perc</th>\n",
       "      <th>white_pop_perc</th>\n",
       "      <th>hisp_pop_perc</th>\n",
       "      <th>other_pop_perc</th>\n",
       "      <th>white_rate_of_case</th>\n",
       "      <th>black_rate_of_case</th>\n",
       "      <th>times_b_more_likely_to_be_involved_in_case</th>\n",
       "    </tr>\n",
       "  </thead>\n",
       "  <tbody>\n",
       "    <tr>\n",
       "      <th>74</th>\n",
       "      <td>74</td>\n",
       "      <td>37149.0</td>\n",
       "      <td>10704.0</td>\n",
       "      <td>68603.0</td>\n",
       "      <td>11147.0</td>\n",
       "      <td>92608.0</td>\n",
       "      <td>11.558397</td>\n",
       "      <td>74.078913</td>\n",
       "      <td>12.036757</td>\n",
       "      <td>Polk County</td>\n",
       "      <td>...</td>\n",
       "      <td>1257</td>\n",
       "      <td>151</td>\n",
       "      <td>100.0</td>\n",
       "      <td>5.15807</td>\n",
       "      <td>87.951453</td>\n",
       "      <td>6.151512</td>\n",
       "      <td>0.738964</td>\n",
       "      <td>3.817216</td>\n",
       "      <td>10.155598</td>\n",
       "      <td>2.660473</td>\n",
       "    </tr>\n",
       "  </tbody>\n",
       "</table>\n",
       "<p>1 rows × 23 columns</p>\n",
       "</div>"
      ],
      "text/plain": [
       "    Unnamed: 0  county_fips_code  black_count_sys  white_count_sys  \\\n",
       "74          74           37149.0          10704.0          68603.0   \n",
       "\n",
       "    hisp_count_sys  total_count_sys  black_perc_sys  white_perc_sys  \\\n",
       "74         11147.0          92608.0       11.558397       74.078913   \n",
       "\n",
       "    hisp_perc_sys       COUNTY  ...  hisp_pop  other_pop  total_perc  \\\n",
       "74      12.036757  Polk County  ...      1257        151       100.0   \n",
       "\n",
       "    black_pop_perc  white_pop_perc  hisp_pop_perc  other_pop_perc  \\\n",
       "74         5.15807       87.951453       6.151512        0.738964   \n",
       "\n",
       "    white_rate_of_case  black_rate_of_case  \\\n",
       "74            3.817216           10.155598   \n",
       "\n",
       "    times_b_more_likely_to_be_involved_in_case  \n",
       "74                                    2.660473  \n",
       "\n",
       "[1 rows x 23 columns]"
      ]
     },
     "execution_count": 32,
     "metadata": {},
     "output_type": "execute_result"
    }
   ],
   "source": [
    "full_data['times_b_more_likely_to_be_involved_in_case']= full_data.black_rate_of_case/full_data.white_rate_of_case\n",
    "full_data.sample()"
   ]
  },
  {
   "cell_type": "code",
   "execution_count": 33,
   "metadata": {},
   "outputs": [
    {
     "data": {
      "text/plain": [
       "2.6879914006244015"
      ]
     },
     "execution_count": 33,
     "metadata": {},
     "output_type": "execute_result"
    }
   ],
   "source": [
    "full_data['times_b_more_likely_to_be_involved_in_case'].mean()"
   ]
  },
  {
   "cell_type": "code",
   "execution_count": 53,
   "metadata": {},
   "outputs": [
    {
     "data": {
      "text/html": [
       "<div>\n",
       "<style scoped>\n",
       "    .dataframe tbody tr th:only-of-type {\n",
       "        vertical-align: middle;\n",
       "    }\n",
       "\n",
       "    .dataframe tbody tr th {\n",
       "        vertical-align: top;\n",
       "    }\n",
       "\n",
       "    .dataframe thead th {\n",
       "        text-align: right;\n",
       "    }\n",
       "</style>\n",
       "<table border=\"1\" class=\"dataframe\">\n",
       "  <thead>\n",
       "    <tr style=\"text-align: right;\">\n",
       "      <th></th>\n",
       "      <th>Unnamed: 0</th>\n",
       "      <th>county_fips_code</th>\n",
       "      <th>black_count_sys</th>\n",
       "      <th>white_count_sys</th>\n",
       "      <th>hisp_count_sys</th>\n",
       "      <th>total_count_sys</th>\n",
       "      <th>black_perc_sys</th>\n",
       "      <th>white_perc_sys</th>\n",
       "      <th>hisp_perc_sys</th>\n",
       "      <th>COUNTY</th>\n",
       "      <th>...</th>\n",
       "      <th>white_pop_perc</th>\n",
       "      <th>hisp_pop_perc</th>\n",
       "      <th>other_pop_perc</th>\n",
       "      <th>white_rate_of_case</th>\n",
       "      <th>black_rate_of_case</th>\n",
       "      <th>times_b_more_likely_to_be_involved_in_case</th>\n",
       "      <th>trial_metric</th>\n",
       "      <th>weighted_rep_difference_b_w</th>\n",
       "      <th>hisp_rate_of_case</th>\n",
       "      <th>times_h_more_likely_to_be_involved_in_case</th>\n",
       "    </tr>\n",
       "  </thead>\n",
       "  <tbody>\n",
       "    <tr>\n",
       "      <th>49</th>\n",
       "      <td>49</td>\n",
       "      <td>37099.0</td>\n",
       "      <td>1544.0</td>\n",
       "      <td>43812.0</td>\n",
       "      <td>5603.0</td>\n",
       "      <td>66707.0</td>\n",
       "      <td>2.3146</td>\n",
       "      <td>65.678265</td>\n",
       "      <td>8.399418</td>\n",
       "      <td>Jackson County</td>\n",
       "      <td>...</td>\n",
       "      <td>81.013781</td>\n",
       "      <td>4.925105</td>\n",
       "      <td>11.110845</td>\n",
       "      <td>1.296098</td>\n",
       "      <td>1.254265</td>\n",
       "      <td>0.967724</td>\n",
       "      <td>-0.026166</td>\n",
       "      <td>-0.026166</td>\n",
       "      <td>2.726521</td>\n",
       "      <td>2.103638</td>\n",
       "    </tr>\n",
       "  </tbody>\n",
       "</table>\n",
       "<p>1 rows × 27 columns</p>\n",
       "</div>"
      ],
      "text/plain": [
       "    Unnamed: 0  county_fips_code  black_count_sys  white_count_sys  \\\n",
       "49          49           37099.0           1544.0          43812.0   \n",
       "\n",
       "    hisp_count_sys  total_count_sys  black_perc_sys  white_perc_sys  \\\n",
       "49          5603.0          66707.0          2.3146       65.678265   \n",
       "\n",
       "    hisp_perc_sys          COUNTY  ...  white_pop_perc  hisp_pop_perc  \\\n",
       "49       8.399418  Jackson County  ...       81.013781       4.925105   \n",
       "\n",
       "    other_pop_perc  white_rate_of_case  black_rate_of_case  \\\n",
       "49       11.110845            1.296098            1.254265   \n",
       "\n",
       "    times_b_more_likely_to_be_involved_in_case  trial_metric  \\\n",
       "49                                    0.967724     -0.026166   \n",
       "\n",
       "    weighted_rep_difference_b_w  hisp_rate_of_case  \\\n",
       "49                    -0.026166           2.726521   \n",
       "\n",
       "    times_h_more_likely_to_be_involved_in_case  \n",
       "49                                    2.103638  \n",
       "\n",
       "[1 rows x 27 columns]"
      ]
     },
     "execution_count": 53,
     "metadata": {},
     "output_type": "execute_result"
    }
   ],
   "source": [
    "full_data.loc[full_data['times_b_more_likely_to_be_involved_in_case'] < 1]"
   ]
  },
  {
   "attachments": {},
   "cell_type": "markdown",
   "metadata": {},
   "source": [
    "## Hispanic vs White likelihood of being involved in a case"
   ]
  },
  {
   "cell_type": "code",
   "execution_count": 45,
   "metadata": {},
   "outputs": [],
   "source": [
    "full_data['hisp_rate_of_case'] = full_data.hisp_count_sys/full_data.hisp_pop"
   ]
  },
  {
   "cell_type": "code",
   "execution_count": 46,
   "metadata": {},
   "outputs": [],
   "source": [
    "full_data['times_h_more_likely_to_be_involved_in_case']= full_data.hisp_rate_of_case/full_data.white_rate_of_case"
   ]
  },
  {
   "cell_type": "code",
   "execution_count": 47,
   "metadata": {},
   "outputs": [
    {
     "data": {
      "text/plain": [
       "1.637991037067317"
      ]
     },
     "execution_count": 47,
     "metadata": {},
     "output_type": "execute_result"
    }
   ],
   "source": [
    "full_data['times_h_more_likely_to_be_involved_in_case'].mean()"
   ]
  },
  {
   "cell_type": "code",
   "execution_count": 48,
   "metadata": {},
   "outputs": [
    {
     "data": {
      "text/plain": [
       "(array([ 6.,  9., 22., 26., 12., 10.,  6.,  4.,  4.,  1.]),\n",
       " array([0.44023798, 0.7518217 , 1.06340541, 1.37498912, 1.68657283,\n",
       "        1.99815654, 2.30974025, 2.62132396, 2.93290767, 3.24449138,\n",
       "        3.55607509]),\n",
       " <BarContainer object of 10 artists>)"
      ]
     },
     "execution_count": 48,
     "metadata": {},
     "output_type": "execute_result"
    },
    {
     "data": {
      "image/png": "[encoded data removed]",
      "text/plain": [
       "<Figure size 640x480 with 1 Axes>"
      ]
     },
     "metadata": {},
     "output_type": "display_data"
    }
   ],
   "source": [
    "plt.hist(full_data['times_h_more_likely_to_be_involved_in_case'])"
   ]
  },
  {
   "cell_type": "code",
   "execution_count": 50,
   "metadata": {},
   "outputs": [
    {
     "data": {
      "text/html": [
       "<div>\n",
       "<style scoped>\n",
       "    .dataframe tbody tr th:only-of-type {\n",
       "        vertical-align: middle;\n",
       "    }\n",
       "\n",
       "    .dataframe tbody tr th {\n",
       "        vertical-align: top;\n",
       "    }\n",
       "\n",
       "    .dataframe thead th {\n",
       "        text-align: right;\n",
       "    }\n",
       "</style>\n",
       "<table border=\"1\" class=\"dataframe\">\n",
       "  <thead>\n",
       "    <tr style=\"text-align: right;\">\n",
       "      <th></th>\n",
       "      <th>Unnamed: 0</th>\n",
       "      <th>county_fips_code</th>\n",
       "      <th>black_count_sys</th>\n",
       "      <th>white_count_sys</th>\n",
       "      <th>hisp_count_sys</th>\n",
       "      <th>total_count_sys</th>\n",
       "      <th>black_perc_sys</th>\n",
       "      <th>white_perc_sys</th>\n",
       "      <th>hisp_perc_sys</th>\n",
       "      <th>COUNTY</th>\n",
       "      <th>...</th>\n",
       "      <th>white_pop_perc</th>\n",
       "      <th>hisp_pop_perc</th>\n",
       "      <th>other_pop_perc</th>\n",
       "      <th>white_rate_of_case</th>\n",
       "      <th>black_rate_of_case</th>\n",
       "      <th>times_b_more_likely_to_be_involved_in_case</th>\n",
       "      <th>trial_metric</th>\n",
       "      <th>weighted_rep_difference_b_w</th>\n",
       "      <th>hisp_rate_of_case</th>\n",
       "      <th>times_h_more_likely_to_be_involved_in_case</th>\n",
       "    </tr>\n",
       "  </thead>\n",
       "  <tbody>\n",
       "    <tr>\n",
       "      <th>17</th>\n",
       "      <td>17</td>\n",
       "      <td>37035.0</td>\n",
       "      <td>54157.0</td>\n",
       "      <td>223452.0</td>\n",
       "      <td>24789.0</td>\n",
       "      <td>312628.0</td>\n",
       "      <td>17.323144</td>\n",
       "      <td>71.475364</td>\n",
       "      <td>7.929232</td>\n",
       "      <td>Catawba County</td>\n",
       "      <td>...</td>\n",
       "      <td>76.114405</td>\n",
       "      <td>9.412096</td>\n",
       "      <td>6.383578</td>\n",
       "      <td>1.879691</td>\n",
       "      <td>4.286268</td>\n",
       "      <td>2.280305</td>\n",
       "      <td>1.202273</td>\n",
       "      <td>1.202273</td>\n",
       "      <td>1.686327</td>\n",
       "      <td>0.897130</td>\n",
       "    </tr>\n",
       "    <tr>\n",
       "      <th>19</th>\n",
       "      <td>19</td>\n",
       "      <td>37039.0</td>\n",
       "      <td>1190.0</td>\n",
       "      <td>37700.0</td>\n",
       "      <td>858.0</td>\n",
       "      <td>41858.0</td>\n",
       "      <td>2.842945</td>\n",
       "      <td>90.066415</td>\n",
       "      <td>2.049787</td>\n",
       "      <td>Cherokee County</td>\n",
       "      <td>...</td>\n",
       "      <td>91.486728</td>\n",
       "      <td>2.996759</td>\n",
       "      <td>4.143757</td>\n",
       "      <td>1.500498</td>\n",
       "      <td>3.156499</td>\n",
       "      <td>2.103635</td>\n",
       "      <td>1.086501</td>\n",
       "      <td>1.086501</td>\n",
       "      <td>1.042527</td>\n",
       "      <td>0.694788</td>\n",
       "    </tr>\n",
       "    <tr>\n",
       "      <th>22</th>\n",
       "      <td>22</td>\n",
       "      <td>37045.0</td>\n",
       "      <td>53717.0</td>\n",
       "      <td>130185.0</td>\n",
       "      <td>4720.0</td>\n",
       "      <td>191704.0</td>\n",
       "      <td>28.020803</td>\n",
       "      <td>67.909381</td>\n",
       "      <td>2.462129</td>\n",
       "      <td>Cleveland County</td>\n",
       "      <td>...</td>\n",
       "      <td>73.406294</td>\n",
       "      <td>3.400730</td>\n",
       "      <td>2.379480</td>\n",
       "      <td>1.827620</td>\n",
       "      <td>2.659652</td>\n",
       "      <td>1.455255</td>\n",
       "      <td>0.421164</td>\n",
       "      <td>0.421164</td>\n",
       "      <td>1.430303</td>\n",
       "      <td>0.782604</td>\n",
       "    </tr>\n",
       "    <tr>\n",
       "      <th>25</th>\n",
       "      <td>25</td>\n",
       "      <td>37051.0</td>\n",
       "      <td>330236.0</td>\n",
       "      <td>191829.0</td>\n",
       "      <td>39462.0</td>\n",
       "      <td>597679.0</td>\n",
       "      <td>55.253071</td>\n",
       "      <td>32.095657</td>\n",
       "      <td>6.602541</td>\n",
       "      <td>Cumberland County</td>\n",
       "      <td>...</td>\n",
       "      <td>44.640979</td>\n",
       "      <td>11.343106</td>\n",
       "      <td>7.443970</td>\n",
       "      <td>1.291343</td>\n",
       "      <td>2.713547</td>\n",
       "      <td>2.101337</td>\n",
       "      <td>0.791832</td>\n",
       "      <td>0.791832</td>\n",
       "      <td>1.045462</td>\n",
       "      <td>0.809593</td>\n",
       "    </tr>\n",
       "    <tr>\n",
       "      <th>26</th>\n",
       "      <td>26</td>\n",
       "      <td>37053.0</td>\n",
       "      <td>2409.0</td>\n",
       "      <td>18290.0</td>\n",
       "      <td>526.0</td>\n",
       "      <td>21755.0</td>\n",
       "      <td>11.073316</td>\n",
       "      <td>84.072627</td>\n",
       "      <td>2.417835</td>\n",
       "      <td>Currituck County</td>\n",
       "      <td>...</td>\n",
       "      <td>87.511387</td>\n",
       "      <td>3.913336</td>\n",
       "      <td>3.152850</td>\n",
       "      <td>0.827827</td>\n",
       "      <td>1.759679</td>\n",
       "      <td>2.125661</td>\n",
       "      <td>1.081428</td>\n",
       "      <td>1.081428</td>\n",
       "      <td>0.532389</td>\n",
       "      <td>0.643116</td>\n",
       "    </tr>\n",
       "    <tr>\n",
       "      <th>35</th>\n",
       "      <td>35</td>\n",
       "      <td>37071.0</td>\n",
       "      <td>113750.0</td>\n",
       "      <td>277146.0</td>\n",
       "      <td>21221.0</td>\n",
       "      <td>420632.0</td>\n",
       "      <td>27.042641</td>\n",
       "      <td>65.887997</td>\n",
       "      <td>5.045027</td>\n",
       "      <td>Gaston County</td>\n",
       "      <td>...</td>\n",
       "      <td>73.585955</td>\n",
       "      <td>6.749856</td>\n",
       "      <td>3.955636</td>\n",
       "      <td>1.759545</td>\n",
       "      <td>3.383000</td>\n",
       "      <td>1.922656</td>\n",
       "      <td>0.826135</td>\n",
       "      <td>0.826135</td>\n",
       "      <td>1.468785</td>\n",
       "      <td>0.834752</td>\n",
       "    </tr>\n",
       "    <tr>\n",
       "      <th>38</th>\n",
       "      <td>38</td>\n",
       "      <td>37077.0</td>\n",
       "      <td>71452.0</td>\n",
       "      <td>85794.0</td>\n",
       "      <td>11768.0</td>\n",
       "      <td>174897.0</td>\n",
       "      <td>40.853760</td>\n",
       "      <td>49.054015</td>\n",
       "      <td>6.728532</td>\n",
       "      <td>Granville County</td>\n",
       "      <td>...</td>\n",
       "      <td>58.246586</td>\n",
       "      <td>8.644001</td>\n",
       "      <td>2.066561</td>\n",
       "      <td>2.517725</td>\n",
       "      <td>3.934365</td>\n",
       "      <td>1.562667</td>\n",
       "      <td>0.473866</td>\n",
       "      <td>0.473866</td>\n",
       "      <td>2.327071</td>\n",
       "      <td>0.924275</td>\n",
       "    </tr>\n",
       "    <tr>\n",
       "      <th>39</th>\n",
       "      <td>39</td>\n",
       "      <td>37079.0</td>\n",
       "      <td>91583.0</td>\n",
       "      <td>57860.0</td>\n",
       "      <td>13849.0</td>\n",
       "      <td>170714.0</td>\n",
       "      <td>53.647035</td>\n",
       "      <td>33.892944</td>\n",
       "      <td>8.112399</td>\n",
       "      <td>Greene County</td>\n",
       "      <td>...</td>\n",
       "      <td>46.920557</td>\n",
       "      <td>15.090935</td>\n",
       "      <td>2.070374</td>\n",
       "      <td>5.855683</td>\n",
       "      <td>12.107747</td>\n",
       "      <td>2.067692</td>\n",
       "      <td>0.771244</td>\n",
       "      <td>0.771244</td>\n",
       "      <td>4.357772</td>\n",
       "      <td>0.744195</td>\n",
       "    </tr>\n",
       "    <tr>\n",
       "      <th>54</th>\n",
       "      <td>54</td>\n",
       "      <td>37109.0</td>\n",
       "      <td>27191.0</td>\n",
       "      <td>163484.0</td>\n",
       "      <td>9187.0</td>\n",
       "      <td>203508.0</td>\n",
       "      <td>13.361146</td>\n",
       "      <td>80.332960</td>\n",
       "      <td>4.514319</td>\n",
       "      <td>Lincoln County</td>\n",
       "      <td>...</td>\n",
       "      <td>85.271539</td>\n",
       "      <td>7.121385</td>\n",
       "      <td>2.254546</td>\n",
       "      <td>2.381517</td>\n",
       "      <td>6.310281</td>\n",
       "      <td>2.649690</td>\n",
       "      <td>1.554146</td>\n",
       "      <td>1.554146</td>\n",
       "      <td>1.602477</td>\n",
       "      <td>0.672881</td>\n",
       "    </tr>\n",
       "    <tr>\n",
       "      <th>61</th>\n",
       "      <td>61</td>\n",
       "      <td>37123.0</td>\n",
       "      <td>19830.0</td>\n",
       "      <td>42663.0</td>\n",
       "      <td>9517.0</td>\n",
       "      <td>74270.0</td>\n",
       "      <td>26.699879</td>\n",
       "      <td>57.443113</td>\n",
       "      <td>12.814057</td>\n",
       "      <td>Montgomery County</td>\n",
       "      <td>...</td>\n",
       "      <td>63.279286</td>\n",
       "      <td>15.802514</td>\n",
       "      <td>2.273638</td>\n",
       "      <td>2.456556</td>\n",
       "      <td>3.875318</td>\n",
       "      <td>1.577541</td>\n",
       "      <td>0.524275</td>\n",
       "      <td>0.524275</td>\n",
       "      <td>2.194374</td>\n",
       "      <td>0.893273</td>\n",
       "    </tr>\n",
       "    <tr>\n",
       "      <th>66</th>\n",
       "      <td>66</td>\n",
       "      <td>37133.0</td>\n",
       "      <td>65420.0</td>\n",
       "      <td>135436.0</td>\n",
       "      <td>13624.0</td>\n",
       "      <td>224977.0</td>\n",
       "      <td>29.078528</td>\n",
       "      <td>60.199932</td>\n",
       "      <td>6.055730</td>\n",
       "      <td>Onslow County</td>\n",
       "      <td>...</td>\n",
       "      <td>66.805408</td>\n",
       "      <td>12.909671</td>\n",
       "      <td>5.951683</td>\n",
       "      <td>1.052143</td>\n",
       "      <td>2.368745</td>\n",
       "      <td>2.251354</td>\n",
       "      <td>1.127624</td>\n",
       "      <td>1.127624</td>\n",
       "      <td>0.547698</td>\n",
       "      <td>0.520555</td>\n",
       "    </tr>\n",
       "    <tr>\n",
       "      <th>86</th>\n",
       "      <td>86</td>\n",
       "      <td>37173.0</td>\n",
       "      <td>690.0</td>\n",
       "      <td>34046.0</td>\n",
       "      <td>1356.0</td>\n",
       "      <td>51978.0</td>\n",
       "      <td>1.327485</td>\n",
       "      <td>65.500789</td>\n",
       "      <td>2.608796</td>\n",
       "      <td>Swain County</td>\n",
       "      <td>...</td>\n",
       "      <td>62.704110</td>\n",
       "      <td>5.672860</td>\n",
       "      <td>31.151464</td>\n",
       "      <td>3.821529</td>\n",
       "      <td>10.298507</td>\n",
       "      <td>2.694866</td>\n",
       "      <td>1.770459</td>\n",
       "      <td>1.770459</td>\n",
       "      <td>1.682382</td>\n",
       "      <td>0.440238</td>\n",
       "    </tr>\n",
       "    <tr>\n",
       "      <th>93</th>\n",
       "      <td>93</td>\n",
       "      <td>37187.0</td>\n",
       "      <td>13367.0</td>\n",
       "      <td>8126.0</td>\n",
       "      <td>1227.0</td>\n",
       "      <td>23291.0</td>\n",
       "      <td>57.391267</td>\n",
       "      <td>34.889013</td>\n",
       "      <td>5.268129</td>\n",
       "      <td>Washington County</td>\n",
       "      <td>...</td>\n",
       "      <td>44.886870</td>\n",
       "      <td>6.828319</td>\n",
       "      <td>0.040548</td>\n",
       "      <td>1.468112</td>\n",
       "      <td>2.246932</td>\n",
       "      <td>1.530491</td>\n",
       "      <td>0.412332</td>\n",
       "      <td>0.412332</td>\n",
       "      <td>1.457245</td>\n",
       "      <td>0.992598</td>\n",
       "    </tr>\n",
       "  </tbody>\n",
       "</table>\n",
       "<p>13 rows × 27 columns</p>\n",
       "</div>"
      ],
      "text/plain": [
       "    Unnamed: 0  county_fips_code  black_count_sys  white_count_sys  \\\n",
       "17          17           37035.0          54157.0         223452.0   \n",
       "19          19           37039.0           1190.0          37700.0   \n",
       "22          22           37045.0          53717.0         130185.0   \n",
       "25          25           37051.0         330236.0         191829.0   \n",
       "26          26           37053.0           2409.0          18290.0   \n",
       "35          35           37071.0         113750.0         277146.0   \n",
       "38          38           37077.0          71452.0          85794.0   \n",
       "39          39           37079.0          91583.0          57860.0   \n",
       "54          54           37109.0          27191.0         163484.0   \n",
       "61          61           37123.0          19830.0          42663.0   \n",
       "66          66           37133.0          65420.0         135436.0   \n",
       "86          86           37173.0            690.0          34046.0   \n",
       "93          93           37187.0          13367.0           8126.0   \n",
       "\n",
       "    hisp_count_sys  total_count_sys  black_perc_sys  white_perc_sys  \\\n",
       "17         24789.0         312628.0       17.323144       71.475364   \n",
       "19           858.0          41858.0        2.842945       90.066415   \n",
       "22          4720.0         191704.0       28.020803       67.909381   \n",
       "25         39462.0         597679.0       55.253071       32.095657   \n",
       "26           526.0          21755.0       11.073316       84.072627   \n",
       "35         21221.0         420632.0       27.042641       65.887997   \n",
       "38         11768.0         174897.0       40.853760       49.054015   \n",
       "39         13849.0         170714.0       53.647035       33.892944   \n",
       "54          9187.0         203508.0       13.361146       80.332960   \n",
       "61          9517.0          74270.0       26.699879       57.443113   \n",
       "66         13624.0         224977.0       29.078528       60.199932   \n",
       "86          1356.0          51978.0        1.327485       65.500789   \n",
       "93          1227.0          23291.0       57.391267       34.889013   \n",
       "\n",
       "    hisp_perc_sys             COUNTY  ...  white_pop_perc  hisp_pop_perc  \\\n",
       "17       7.929232     Catawba County  ...       76.114405       9.412096   \n",
       "19       2.049787    Cherokee County  ...       91.486728       2.996759   \n",
       "22       2.462129   Cleveland County  ...       73.406294       3.400730   \n",
       "25       6.602541  Cumberland County  ...       44.640979      11.343106   \n",
       "26       2.417835   Currituck County  ...       87.511387       3.913336   \n",
       "35       5.045027      Gaston County  ...       73.585955       6.749856   \n",
       "38       6.728532   Granville County  ...       58.246586       8.644001   \n",
       "39       8.112399      Greene County  ...       46.920557      15.090935   \n",
       "54       4.514319     Lincoln County  ...       85.271539       7.121385   \n",
       "61      12.814057  Montgomery County  ...       63.279286      15.802514   \n",
       "66       6.055730      Onslow County  ...       66.805408      12.909671   \n",
       "86       2.608796       Swain County  ...       62.704110       5.672860   \n",
       "93       5.268129  Washington County  ...       44.886870       6.828319   \n",
       "\n",
       "    other_pop_perc  white_rate_of_case  black_rate_of_case  \\\n",
       "17        6.383578            1.879691            4.286268   \n",
       "19        4.143757            1.500498            3.156499   \n",
       "22        2.379480            1.827620            2.659652   \n",
       "25        7.443970            1.291343            2.713547   \n",
       "26        3.152850            0.827827            1.759679   \n",
       "35        3.955636            1.759545            3.383000   \n",
       "38        2.066561            2.517725            3.934365   \n",
       "39        2.070374            5.855683           12.107747   \n",
       "54        2.254546            2.381517            6.310281   \n",
       "61        2.273638            2.456556            3.875318   \n",
       "66        5.951683            1.052143            2.368745   \n",
       "86       31.151464            3.821529           10.298507   \n",
       "93        0.040548            1.468112            2.246932   \n",
       "\n",
       "    times_b_more_likely_to_be_involved_in_case  trial_metric  \\\n",
       "17                                    2.280305      1.202273   \n",
       "19                                    2.103635      1.086501   \n",
       "22                                    1.455255      0.421164   \n",
       "25                                    2.101337      0.791832   \n",
       "26                                    2.125661      1.081428   \n",
       "35                                    1.922656      0.826135   \n",
       "38                                    1.562667      0.473866   \n",
       "39                                    2.067692      0.771244   \n",
       "54                                    2.649690      1.554146   \n",
       "61                                    1.577541      0.524275   \n",
       "66                                    2.251354      1.127624   \n",
       "86                                    2.694866      1.770459   \n",
       "93                                    1.530491      0.412332   \n",
       "\n",
       "    weighted_rep_difference_b_w  hisp_rate_of_case  \\\n",
       "17                     1.202273           1.686327   \n",
       "19                     1.086501           1.042527   \n",
       "22                     0.421164           1.430303   \n",
       "25                     0.791832           1.045462   \n",
       "26                     1.081428           0.532389   \n",
       "35                     0.826135           1.468785   \n",
       "38                     0.473866           2.327071   \n",
       "39                     0.771244           4.357772   \n",
       "54                     1.554146           1.602477   \n",
       "61                     0.524275           2.194374   \n",
       "66                     1.127624           0.547698   \n",
       "86                     1.770459           1.682382   \n",
       "93                     0.412332           1.457245   \n",
       "\n",
       "    times_h_more_likely_to_be_involved_in_case  \n",
       "17                                    0.897130  \n",
       "19                                    0.694788  \n",
       "22                                    0.782604  \n",
       "25                                    0.809593  \n",
       "26                                    0.643116  \n",
       "35                                    0.834752  \n",
       "38                                    0.924275  \n",
       "39                                    0.744195  \n",
       "54                                    0.672881  \n",
       "61                                    0.893273  \n",
       "66                                    0.520555  \n",
       "86                                    0.440238  \n",
       "93                                    0.992598  \n",
       "\n",
       "[13 rows x 27 columns]"
      ]
     },
     "execution_count": 50,
     "metadata": {},
     "output_type": "execute_result"
    }
   ],
   "source": [
    "full_data.loc[full_data['times_h_more_likely_to_be_involved_in_case'] < 1]"
   ]
  },
  {
   "cell_type": "code",
   "execution_count": 38,
   "metadata": {},
   "outputs": [
    {
     "data": {
      "text/plain": [
       "Index(['Unnamed: 0', 'county_fips_code', 'black_count_sys', 'white_count_sys',\n",
       "       'hisp_count_sys', 'total_count_sys', 'black_perc_sys', 'white_perc_sys',\n",
       "       'hisp_perc_sys', 'COUNTY', 'total', 'black_pop', 'white_pop',\n",
       "       'hisp_pop', 'other_pop', 'total_perc', 'black_pop_perc',\n",
       "       'white_pop_perc', 'hisp_pop_perc', 'other_pop_perc',\n",
       "       'white_rate_of_case', 'black_rate_of_case',\n",
       "       'times_b_more_likely_to_be_involved_in_case'],\n",
       "      dtype='object')"
      ]
     },
     "execution_count": 38,
     "metadata": {},
     "output_type": "execute_result"
    }
   ],
   "source": [
    "full_data.columns"
   ]
  },
  {
   "cell_type": "code",
   "execution_count": 44,
   "metadata": {},
   "outputs": [],
   "source": [
    "## saving this \n",
    "full_data.to_csv('/Users/preetkhowaja/Desktop/qsides/10_cleaned_data/admissions_analysis_table.csv')"
   ]
  },
  {
   "cell_type": "code",
   "execution_count": 36,
   "metadata": {},
   "outputs": [],
   "source": [
    "## Creating a map for this\n"
   ]
  },
  {
   "attachments": {},
   "cell_type": "markdown",
   "metadata": {},
   "source": [
    "## New Metric for Scatterplot"
   ]
  },
  {
   "cell_type": "code",
   "execution_count": 39,
   "metadata": {},
   "outputs": [
    {
     "data": {
      "text/html": [
       "<div>\n",
       "<style scoped>\n",
       "    .dataframe tbody tr th:only-of-type {\n",
       "        vertical-align: middle;\n",
       "    }\n",
       "\n",
       "    .dataframe tbody tr th {\n",
       "        vertical-align: top;\n",
       "    }\n",
       "\n",
       "    .dataframe thead th {\n",
       "        text-align: right;\n",
       "    }\n",
       "</style>\n",
       "<table border=\"1\" class=\"dataframe\">\n",
       "  <thead>\n",
       "    <tr style=\"text-align: right;\">\n",
       "      <th></th>\n",
       "      <th>Unnamed: 0</th>\n",
       "      <th>county_fips_code</th>\n",
       "      <th>black_count_sys</th>\n",
       "      <th>white_count_sys</th>\n",
       "      <th>hisp_count_sys</th>\n",
       "      <th>total_count_sys</th>\n",
       "      <th>black_perc_sys</th>\n",
       "      <th>white_perc_sys</th>\n",
       "      <th>hisp_perc_sys</th>\n",
       "      <th>COUNTY</th>\n",
       "      <th>...</th>\n",
       "      <th>hisp_pop</th>\n",
       "      <th>other_pop</th>\n",
       "      <th>total_perc</th>\n",
       "      <th>black_pop_perc</th>\n",
       "      <th>white_pop_perc</th>\n",
       "      <th>hisp_pop_perc</th>\n",
       "      <th>other_pop_perc</th>\n",
       "      <th>white_rate_of_case</th>\n",
       "      <th>black_rate_of_case</th>\n",
       "      <th>times_b_more_likely_to_be_involved_in_case</th>\n",
       "    </tr>\n",
       "  </thead>\n",
       "  <tbody>\n",
       "    <tr>\n",
       "      <th>0</th>\n",
       "      <td>0</td>\n",
       "      <td>37001.0</td>\n",
       "      <td>81148.0</td>\n",
       "      <td>114318.0</td>\n",
       "      <td>35411.0</td>\n",
       "      <td>239406.0</td>\n",
       "      <td>33.895558</td>\n",
       "      <td>47.750683</td>\n",
       "      <td>14.791192</td>\n",
       "      <td>Alamance County</td>\n",
       "      <td>...</td>\n",
       "      <td>20236</td>\n",
       "      <td>5078</td>\n",
       "      <td>100.0</td>\n",
       "      <td>18.988368</td>\n",
       "      <td>64.974278</td>\n",
       "      <td>12.820253</td>\n",
       "      <td>3.217100</td>\n",
       "      <td>1.114667</td>\n",
       "      <td>2.707460</td>\n",
       "      <td>2.428941</td>\n",
       "    </tr>\n",
       "    <tr>\n",
       "      <th>1</th>\n",
       "      <td>1</td>\n",
       "      <td>37003.0</td>\n",
       "      <td>26648.0</td>\n",
       "      <td>126218.0</td>\n",
       "      <td>13759.0</td>\n",
       "      <td>171351.0</td>\n",
       "      <td>15.551704</td>\n",
       "      <td>73.660498</td>\n",
       "      <td>8.029717</td>\n",
       "      <td>Alexander County</td>\n",
       "      <td>...</td>\n",
       "      <td>1750</td>\n",
       "      <td>887</td>\n",
       "      <td>100.0</td>\n",
       "      <td>5.885519</td>\n",
       "      <td>87.017950</td>\n",
       "      <td>4.709492</td>\n",
       "      <td>2.387039</td>\n",
       "      <td>3.903448</td>\n",
       "      <td>12.184728</td>\n",
       "      <td>3.121529</td>\n",
       "    </tr>\n",
       "    <tr>\n",
       "      <th>2</th>\n",
       "      <td>2</td>\n",
       "      <td>37005.0</td>\n",
       "      <td>297.0</td>\n",
       "      <td>9842.0</td>\n",
       "      <td>2433.0</td>\n",
       "      <td>13160.0</td>\n",
       "      <td>2.256839</td>\n",
       "      <td>74.787234</td>\n",
       "      <td>18.487842</td>\n",
       "      <td>Alleghany County</td>\n",
       "      <td>...</td>\n",
       "      <td>1062</td>\n",
       "      <td>58</td>\n",
       "      <td>100.0</td>\n",
       "      <td>2.432556</td>\n",
       "      <td>87.325103</td>\n",
       "      <td>9.711934</td>\n",
       "      <td>0.530407</td>\n",
       "      <td>1.030684</td>\n",
       "      <td>1.116541</td>\n",
       "      <td>1.083302</td>\n",
       "    </tr>\n",
       "    <tr>\n",
       "      <th>3</th>\n",
       "      <td>3</td>\n",
       "      <td>37007.0</td>\n",
       "      <td>38169.0</td>\n",
       "      <td>20457.0</td>\n",
       "      <td>2030.0</td>\n",
       "      <td>61914.0</td>\n",
       "      <td>61.648416</td>\n",
       "      <td>33.040992</td>\n",
       "      <td>3.278741</td>\n",
       "      <td>Anson County</td>\n",
       "      <td>...</td>\n",
       "      <td>982</td>\n",
       "      <td>669</td>\n",
       "      <td>100.0</td>\n",
       "      <td>48.634993</td>\n",
       "      <td>44.898359</td>\n",
       "      <td>3.846304</td>\n",
       "      <td>2.620344</td>\n",
       "      <td>1.784611</td>\n",
       "      <td>3.073931</td>\n",
       "      <td>1.722465</td>\n",
       "    </tr>\n",
       "    <tr>\n",
       "      <th>4</th>\n",
       "      <td>4</td>\n",
       "      <td>37009.0</td>\n",
       "      <td>546.0</td>\n",
       "      <td>26057.0</td>\n",
       "      <td>2550.0</td>\n",
       "      <td>29831.0</td>\n",
       "      <td>1.830311</td>\n",
       "      <td>87.348731</td>\n",
       "      <td>8.548155</td>\n",
       "      <td>Ashe County</td>\n",
       "      <td>...</td>\n",
       "      <td>1545</td>\n",
       "      <td>268</td>\n",
       "      <td>100.0</td>\n",
       "      <td>0.782618</td>\n",
       "      <td>92.460776</td>\n",
       "      <td>5.757836</td>\n",
       "      <td>0.998770</td>\n",
       "      <td>1.050262</td>\n",
       "      <td>2.600000</td>\n",
       "      <td>2.475573</td>\n",
       "    </tr>\n",
       "  </tbody>\n",
       "</table>\n",
       "<p>5 rows × 23 columns</p>\n",
       "</div>"
      ],
      "text/plain": [
       "   Unnamed: 0  county_fips_code  black_count_sys  white_count_sys  \\\n",
       "0           0           37001.0          81148.0         114318.0   \n",
       "1           1           37003.0          26648.0         126218.0   \n",
       "2           2           37005.0            297.0           9842.0   \n",
       "3           3           37007.0          38169.0          20457.0   \n",
       "4           4           37009.0            546.0          26057.0   \n",
       "\n",
       "   hisp_count_sys  total_count_sys  black_perc_sys  white_perc_sys  \\\n",
       "0         35411.0         239406.0       33.895558       47.750683   \n",
       "1         13759.0         171351.0       15.551704       73.660498   \n",
       "2          2433.0          13160.0        2.256839       74.787234   \n",
       "3          2030.0          61914.0       61.648416       33.040992   \n",
       "4          2550.0          29831.0        1.830311       87.348731   \n",
       "\n",
       "   hisp_perc_sys            COUNTY  ...  hisp_pop  other_pop  total_perc  \\\n",
       "0      14.791192   Alamance County  ...     20236       5078       100.0   \n",
       "1       8.029717  Alexander County  ...      1750        887       100.0   \n",
       "2      18.487842  Alleghany County  ...      1062         58       100.0   \n",
       "3       3.278741      Anson County  ...       982        669       100.0   \n",
       "4       8.548155       Ashe County  ...      1545        268       100.0   \n",
       "\n",
       "   black_pop_perc  white_pop_perc  hisp_pop_perc  other_pop_perc  \\\n",
       "0       18.988368       64.974278      12.820253        3.217100   \n",
       "1        5.885519       87.017950       4.709492        2.387039   \n",
       "2        2.432556       87.325103       9.711934        0.530407   \n",
       "3       48.634993       44.898359       3.846304        2.620344   \n",
       "4        0.782618       92.460776       5.757836        0.998770   \n",
       "\n",
       "   white_rate_of_case  black_rate_of_case  \\\n",
       "0            1.114667            2.707460   \n",
       "1            3.903448           12.184728   \n",
       "2            1.030684            1.116541   \n",
       "3            1.784611            3.073931   \n",
       "4            1.050262            2.600000   \n",
       "\n",
       "   times_b_more_likely_to_be_involved_in_case  \n",
       "0                                    2.428941  \n",
       "1                                    3.121529  \n",
       "2                                    1.083302  \n",
       "3                                    1.722465  \n",
       "4                                    2.475573  \n",
       "\n",
       "[5 rows x 23 columns]"
      ]
     },
     "execution_count": 39,
     "metadata": {},
     "output_type": "execute_result"
    }
   ],
   "source": [
    "full_data.head()"
   ]
  },
  {
   "cell_type": "code",
   "execution_count": 43,
   "metadata": {},
   "outputs": [
    {
     "data": {
      "text/plain": [
       "count    100.000000\n",
       "mean       1.256056\n",
       "std        0.911542\n",
       "min       -0.026166\n",
       "25%        0.688448\n",
       "50%        1.043843\n",
       "75%        1.570296\n",
       "max        6.319614\n",
       "Name: trial_metric, dtype: float64"
      ]
     },
     "execution_count": 43,
     "metadata": {},
     "output_type": "execute_result"
    }
   ],
   "source": [
    "full_data['weighted_rep_difference_b_w'] = (full_data.black_perc_sys/full_data.black_pop_perc ) - (full_data.white_perc_sys/full_data.white_pop_perc)\n",
    "full_data.trial_metric.describe()"
   ]
  },
  {
   "attachments": {},
   "cell_type": "markdown",
   "metadata": {},
   "source": [
    "- Look at people identifiers, \n",
    "- split by felonies and misdemeanours"
   ]
  }
 ],
 "metadata": {
  "kernelspec": {
   "display_name": "capstone_env",
   "language": "python",
   "name": "python3"
  },
  "language_info": {
   "codemirror_mode": {
    "name": "ipython",
    "version": 3
   },
   "file_extension": ".py",
   "mimetype": "text/x-python",
   "name": "python",
   "nbconvert_exporter": "python",
   "pygments_lexer": "ipython3",
   "version": "3.10.6"
  },
  "orig_nbformat": 4,
  "vscode": {
   "interpreter": {
    "hash": "4b2d3b74ffb4505606178df239404bebd641c43a9134eb917d49dcc43c3a1117"
   }
  }
 },
 "nbformat": 4,
 "nbformat_minor": 2
}
