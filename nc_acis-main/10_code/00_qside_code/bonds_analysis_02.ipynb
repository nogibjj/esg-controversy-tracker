{
 "cells": [
  {
   "attachments": {},
   "cell_type": "markdown",
   "metadata": {},
   "source": [
    "# Bail Bonds EDA\n",
    "1. Merge case and offence\n",
    "2. Find top offences that you get a bond for (felonies usually)\n",
    "3. Find bond distributions for the top 3\n",
    "4. Try visualizations with and without log scale"
   ]
  },
  {
   "cell_type": "code",
   "execution_count": null,
   "metadata": {},
   "outputs": [],
   "source": [
    "# load \"clean\" datasets\n",
    "import pandas as pd\n",
    "\n",
    "cases = pd.read_csv(\n",
    "    \"/Users/clarissaache/Documents/Capstone/JUSTFAIR_capstone/10_clean_data/cases_v01.csv\",\n",
    "    low_memory=False,\n",
    "    index_col=[0],\n",
    ")\n",
    "offenses = pd.read_csv(\n",
    "    \"/Users/clarissaache/Documents/Capstone/JUSTFAIR_capstone/10_clean_data/offenses_v01.csv\",\n",
    "    low_memory=False,\n",
    "    index_col=[0],\n",
    ")\n"
   ]
  },
  {
   "cell_type": "code",
   "execution_count": null,
   "metadata": {},
   "outputs": [],
   "source": [
    "# Check unit of analysis:\n",
    "cases.loc[cases[\"case_id\"] == 9902021700564]\n"
   ]
  },
  {
   "cell_type": "code",
   "execution_count": null,
   "metadata": {},
   "outputs": [],
   "source": [
    "# One case = Two Offenses\n",
    "offenses.loc[offenses[\"case_id\"] == 9902021700564]\n"
   ]
  },
  {
   "cell_type": "code",
   "execution_count": null,
   "metadata": {},
   "outputs": [],
   "source": [
    "# (1) Merge\n",
    "case_off = pd.merge(\n",
    "    cases, offenses, on=\"case_id\", how=\"left\", validate=\"m:m\", indicator=True\n",
    ")\n",
    "case_off._merge.value_counts()\n"
   ]
  },
  {
   "cell_type": "code",
   "execution_count": null,
   "metadata": {},
   "outputs": [],
   "source": [
    "# ------------------------ SAVE THE MERGE BC IT TOOK A FOREVER ------------------------ #\n",
    "case_off.drop(\"_merge\", axis=1, inplace=True)\n",
    "\n",
    "# case_off.to_csv(\"/Users/clarissaache/Documents/Capstone/JUSTFAIR_capstone/10_clean_data/case_offense_v01.csv\")\n"
   ]
  },
  {
   "cell_type": "code",
   "execution_count": null,
   "metadata": {},
   "outputs": [],
   "source": [
    "# validate there are two entries\n",
    "case_off.loc[case_off[\"case_id\"] == 9902021700564]\n"
   ]
  },
  {
   "cell_type": "code",
   "execution_count": null,
   "metadata": {},
   "outputs": [],
   "source": [
    "# Merge with offence code descriptions:\n",
    "offense_desc = pd.read_csv(\n",
    "    \"/Users/clarissaache/Documents/Capstone/JUSTFAIR_capstone/00_raw_data/ACIS_offence_codes.csv\"\n",
    ")\n",
    "\n",
    "case_off_desc = pd.merge(\n",
    "    left=case_off,\n",
    "    right=offense_desc,\n",
    "    left_on=\"charged_offense_code\",\n",
    "    right_on=\"CODE\",\n",
    "    how=\"left\",\n",
    "    validate=\"m:m\",\n",
    "    indicator=True,\n",
    ")\n",
    "case_off_desc._merge.value_counts()\n"
   ]
  },
  {
   "cell_type": "code",
   "execution_count": null,
   "metadata": {},
   "outputs": [],
   "source": [
    "offense_desc.sample(3)\n"
   ]
  },
  {
   "cell_type": "markdown",
   "metadata": {},
   "source": [
    "CAREFUL HERE! There are 5997 codes that did not match.\n",
    "\n",
    "For now, I will not do anything about that"
   ]
  },
  {
   "cell_type": "code",
   "execution_count": null,
   "metadata": {},
   "outputs": [],
   "source": [
    "# Top offences PLOT#1\n",
    "top_offenses = pd.DataFrame(case_off_desc[\"Offense Description\"].value_counts())\n",
    "\n",
    "# It would be cool to show the driving-related ones in a different color...\n",
    "\n",
    "import matplotlib.pyplot as plt\n",
    "import numpy as np\n",
    "\n",
    "%config InlineBackend.figure_format = 'retina'\n",
    "top_offenses['%']=100 * top_offenses['Offense Description'] / np.sum(top_offenses['Offense Description'])\n",
    "\n",
    "top_offenses.loc[top_offenses[\"%\"] > 0.5]['%'].plot(\n",
    "    kind=\"bar\",\n",
    "    figsize=(20, 8),\n",
    "    xlabel=\"Offense Description\",\n",
    "    ylabel=\"% Frequency of Offense\",\n",
    "    title=\"Most Common Charged Offences in NC in years 2017-2021 \\n(with more than 0.5% of total offense occurrences)\",\n",
    "    legend=False,\n",
    ")\n"
   ]
  },
  {
   "attachments": {},
   "cell_type": "markdown",
   "metadata": {},
   "source": [
    "# Bond Types"
   ]
  },
  {
   "cell_type": "code",
   "execution_count": null,
   "metadata": {},
   "outputs": [],
   "source": [
    "case_off_desc[\"bond_type\"].value_counts(dropna=False, normalize=True)*100\n"
   ]
  },
  {
   "cell_type": "code",
   "execution_count": null,
   "metadata": {},
   "outputs": [],
   "source": [
    "case_off_desc[\"has_bond\"] = case_off_desc.bond_amount.notna() & (case_off_desc.bond_amount >= 1)\n",
    "case_off_desc.groupby(\"bond_type\")[\"has_bond\"].mean().sort_values(ascending=False)"
   ]
  },
  {
   "cell_type": "code",
   "execution_count": null,
   "metadata": {},
   "outputs": [],
   "source": [
    "case_off_desc[case_off_desc.bond_type == \"WPA\"][\"bond_amount\"].describe()"
   ]
  },
  {
   "cell_type": "code",
   "execution_count": null,
   "metadata": {},
   "outputs": [],
   "source": [
    "\n",
    "case_off_desc.loc[~case_off_desc[\"bond_amount\"].isna(), 'disposition'].value_counts()\n",
    "case_off_desc.loc[~case_off_desc[\"bond_amount\"].isna(), 'min_sentence'].value_counts()"
   ]
  },
  {
   "cell_type": "code",
   "execution_count": null,
   "metadata": {},
   "outputs": [],
   "source": [
    "# (2) Find top 5 offences you get a bond for\n",
    "#           Note: Bond amount may be missing instead of being 0 which will skew the data.\n",
    "\n",
    "import matplotlib.pyplot as plt\n",
    "import numpy as np\n",
    "# keep only bond amounts that are not NA\n",
    "bond_data = case_off_desc[~case_off_desc[\"bond_amount\"].isna()]\n",
    "\n",
    "\n",
    "# these are the ones that have the most bond associated records\n",
    "top_offences_with_bail = pd.DataFrame(bond_data[\"Offense Description\"].value_counts())\n",
    "top_offences_with_bail[\"%\"] = (\n",
    "    100\n",
    "    * top_offences_with_bail[\"Offense Description\"]\n",
    "    / np.sum(top_offences_with_bail[\"Offense Description\"])\n",
    ")\n",
    "top_offences_with_bail.loc[top_offences_with_bail[\"%\"] > 0.5][\"%\"].plot(\n",
    "    kind=\"bar\",\n",
    "    figsize=(20, 8),\n",
    "    xlabel=\"Offense Description\",\n",
    "    ylabel=\"Frequency (Number of Occurences)\",\n",
    "    title=\"Most Common Charged Offences in NC that are assigned a bail bond (>=$0) in years 2017-2021 \\n(with more than 0.5% of total offense occurrences)\",\n",
    "    legend=False,\n",
    ")\n"
   ]
  },
  {
   "attachments": {},
   "cell_type": "markdown",
   "metadata": {},
   "source": [
    "# Deep dive into \"DRIVING WHILE IMPAIRED\""
   ]
  },
  {
   "cell_type": "code",
   "execution_count": null,
   "metadata": {},
   "outputs": [],
   "source": [
    "top_five_offences_with_bonds = [5405, 2322, 3401, 9955, 2632]\n",
    "\n",
    "# Lets just do the first one, for now\n",
    "case_bond = case_off_desc.loc[case_off_desc[\"charged_offense_code\"] == 5405]\n",
    "\n",
    "percent_missing = (\n",
    "    case_bond[\"bond_amount\"].isnull().sum() * 100 / len(case_bond[\"bond_amount\"])\n",
    ")\n",
    "percent_missing\n",
    "\n",
    "# This is a problem, the data may be skewed :(\n",
    "# We can assume missing data is not caused by anything related to gender (missing for random columns or bc charges were dropped?)\n"
   ]
  },
  {
   "cell_type": "code",
   "execution_count": null,
   "metadata": {},
   "outputs": [],
   "source": [
    "# lets look at race dist of non-missing amounts vs. missing amounts:\n",
    "\n",
    "# not missing\n",
    "not_missing_data_bail = pd.DataFrame(\n",
    "    case_bond.loc[~case_bond[\"bond_amount\"].isnull(), \"race\"].value_counts()\n",
    ")\n",
    "not_missing_data_bail\n",
    "\n",
    "not_missing_data_bail[\"%_notmissing\"] = (\n",
    "    100 * not_missing_data_bail[\"race\"] / len(case_bond.index)\n",
    ")\n",
    "\n",
    "# missing\n",
    "missing_data_bail = pd.DataFrame(\n",
    "    case_bond.loc[case_bond[\"bond_amount\"].isnull(), \"race\"].value_counts()\n",
    ")\n",
    "missing_data_bail\n",
    "missing_data_bail[\"%_missing\"] = 100 * missing_data_bail[\"race\"] / len(case_bond.index)\n",
    "\n",
    "missing_data_bail = pd.concat([missing_data_bail, not_missing_data_bail], axis=1)\n",
    "missing_data_bail[[\"%_missing\", \"%_notmissing\"]].plot(\n",
    "    kind=\"bar\",\n",
    "    figsize=(20, 8),\n",
    "    xlabel=\"race\",\n",
    "    ylabel=\"% of entries\",\n",
    "    title=\"Are bail $ amounts missing for some races more than others?? \\n (doesnt look like it!)\",\n",
    "    legend=True,\n",
    "    # stacked=True,\n",
    ")\n"
   ]
  },
  {
   "cell_type": "code",
   "execution_count": null,
   "metadata": {},
   "outputs": [],
   "source": [
    "case_off_desc[\"bond_type\"].value_counts()"
   ]
  },
  {
   "cell_type": "code",
   "execution_count": null,
   "metadata": {},
   "outputs": [],
   "source": [
    "case_bond.bond_type.value_counts()\n"
   ]
  },
  {
   "cell_type": "markdown",
   "metadata": {},
   "source": [
    "Bond Type Code<br>\n",
    "* CSH - Cash \n",
    "* CUS - Custody Release\n",
    "* PTR - Pretrial Release  \n",
    "* SEC - Secured\n",
    "* UNS - Unsecured \n",
    "* WPA - Written Promise to Appear\n",
    "\n",
    "\"There are two types of bonds – secured and unsecured. A secured bond means that you actually pay money or bail property to secure your release. An unsecured bond or surety bond means you sign a document that says you will pay a certain amount of money if the defendant breaks his/her bond conditions.\""
   ]
  },
  {
   "cell_type": "code",
   "execution_count": null,
   "metadata": {},
   "outputs": [],
   "source": [
    "# So, because I saw that the distributions by race of missing vs. not missing bond amount is fairly similar, I will just use the ones that are not missing\n",
    "case_bond = case_bond.loc[case_bond[\"bond_amount\"] >= 0]\n",
    "# case_bond = case_bond.loc[case_bond['bond_type'].isin(['CSH', 'CUS', 'PTR', 'SEC', 'UNS', 'WPA'])]\n",
    "\n",
    "# Prepare loudness by genre datasets\n",
    "white_female = case_bond[case_bond[\"race_gender\"] == \"White Female\"][\"bond_amount\"]\n",
    "white_male = case_bond[case_bond[\"race_gender\"] == \"White Male\"][\"bond_amount\"]\n",
    "black_female = case_bond[case_bond[\"race_gender\"] == \"Black Female\"][\"bond_amount\"]\n",
    "black_male = case_bond[case_bond[\"race_gender\"] == \"Black Male\"][\"bond_amount\"]\n",
    "hispanic_female = case_bond[case_bond[\"race_gender\"] == \"Hispanic Female\"][\n",
    "    \"bond_amount\"\n",
    "]\n",
    "hispanic_male = case_bond[case_bond[\"race_gender\"] == \"Hispanic Male\"][\"bond_amount\"]\n",
    "\n",
    "\n",
    "# Visualize petal length distribution for all species\n",
    "fig, ax = plt.subplots(figsize=(15, 7))\n",
    "\n",
    "# Remove y-axis tick marks\n",
    "ax.yaxis.set_ticks_position(\"none\")\n",
    "# Add major gridlines in the y-axis\n",
    "ax.grid(color=\"grey\", axis=\"y\", linestyle=\"-\", linewidth=0.25, alpha=0.5)\n",
    "# Set plot title\n",
    "ax.set_title(\"Distribution of Bail Bond Amounts (in $) by Race and Gender\")\n",
    "plt.xlabel(\"Race/Gender Combination\")\n",
    "plt.ylabel(\"Bond Amount in $\")\n",
    "# Set names as labels for the boxplot\n",
    "dataset = [\n",
    "    white_female,\n",
    "    white_male,\n",
    "    black_female,\n",
    "    black_male,\n",
    "    hispanic_female,\n",
    "    hispanic_male,\n",
    "]\n",
    "ax.boxplot(\n",
    "    dataset,\n",
    "    labels=[\n",
    "        \"white_female\",\n",
    "        \"white_male\",\n",
    "        \"black_female\",\n",
    "        \"black_male\",\n",
    "        \"hispanic_female\",\n",
    "        \"hispanic_male\",\n",
    "    ],\n",
    "    showfliers=False,\n",
    ")\n",
    "plt.show()\n"
   ]
  },
  {
   "cell_type": "code",
   "execution_count": null,
   "metadata": {},
   "outputs": [],
   "source": [
    "case_bond.loc[case_bond[\"bond_type\"] == \"CUS\", \"bond_amount\"]\n"
   ]
  },
  {
   "cell_type": "code",
   "execution_count": null,
   "metadata": {},
   "outputs": [],
   "source": [
    "# Prepare & generate datasets\n",
    "# LOG\n",
    "white_female = np.log10(\n",
    "    case_bond[case_bond[\"race_gender\"] == \"White Female\"][\"bond_amount\"]\n",
    ")\n",
    "white_male = np.log10(\n",
    "    case_bond[case_bond[\"race_gender\"] == \"White Male\"][\"bond_amount\"]\n",
    ")\n",
    "black_female = np.log10(\n",
    "    case_bond[case_bond[\"race_gender\"] == \"Black Female\"][\"bond_amount\"]\n",
    ")\n",
    "black_male = np.log10(\n",
    "    case_bond[case_bond[\"race_gender\"] == \"Black Male\"][\"bond_amount\"]\n",
    ")\n",
    "hispanic_female = np.log10(\n",
    "    case_bond[case_bond[\"race_gender\"] == \"Hispanic Female\"][\"bond_amount\"]\n",
    ")\n",
    "hispanic_male = np.log10(\n",
    "    case_bond[case_bond[\"race_gender\"] == \"Hispanic Male\"][\"bond_amount\"]\n",
    ")\n",
    "\n",
    "\n",
    "# Visualize petal length distribution for all species\n",
    "fig, ax = plt.subplots(figsize=(15, 7))\n",
    "\n",
    "# Remove y-axis tick marks\n",
    "ax.yaxis.set_ticks_position(\"none\")\n",
    "# Add major gridlines in the y-axis\n",
    "ax.grid(color=\"grey\", axis=\"y\", linestyle=\"-\", linewidth=0.25, alpha=0.5)\n",
    "# Set plot title\n",
    "ax.set_title(\"Distribution of Bail Bond Amounts (in $) by Race and Gender\")\n",
    "plt.xlabel(\"Race/Gender Combination\")\n",
    "plt.ylabel(\"Bond Amount in $\")\n",
    "# Set names as labels for the boxplot\n",
    "dataset = [\n",
    "    white_female,\n",
    "    white_male,\n",
    "    black_female,\n",
    "    black_male,\n",
    "    hispanic_female,\n",
    "    hispanic_male,\n",
    "]\n",
    "ax.boxplot(\n",
    "    dataset,\n",
    "    labels=[\n",
    "        \"white_female\",\n",
    "        \"white_male\",\n",
    "        \"black_female\",\n",
    "        \"black_male\",\n",
    "        \"hispanic_female\",\n",
    "        \"hispanic_male\",\n",
    "    ],\n",
    "    showfliers=True,\n",
    ")\n",
    "plt.show()\n",
    "\n",
    "\n",
    "# WHAT IF I GET RID OF OUTLIERS?\n"
   ]
  },
  {
   "cell_type": "code",
   "execution_count": null,
   "metadata": {},
   "outputs": [],
   "source": [
    "# REMOVED OUTLIERS (CHEATING)\n",
    "fig, ax = plt.subplots(figsize=(15, 7))\n",
    "\n",
    "# Remove y-axis tick marks\n",
    "ax.yaxis.set_ticks_position(\"none\")\n",
    "# Add major gridlines in the y-axis\n",
    "ax.grid(color=\"grey\", axis=\"y\", linestyle=\"-\", linewidth=0.25, alpha=0.5)\n",
    "# Set plot title\n",
    "ax.set_title(\"Distribution of Bail Bond Amounts (in $) by Race and Gender\")\n",
    "plt.xlabel(\"Race/Gender Combination\")\n",
    "plt.ylabel(\"Bond Amount in $\")\n",
    "# Set names as labels for the boxplot\n",
    "dataset = [\n",
    "    white_female,\n",
    "    white_male,\n",
    "    black_female,\n",
    "    black_male,\n",
    "    hispanic_female,\n",
    "    hispanic_male,\n",
    "]\n",
    "ax.boxplot(\n",
    "    dataset,\n",
    "    labels=[\n",
    "        \"white_female\",\n",
    "        \"white_male\",\n",
    "        \"black_female\",\n",
    "        \"black_male\",\n",
    "        \"hispanic_female\",\n",
    "        \"hispanic_male\",\n",
    "    ],\n",
    "    showfliers=False,\n",
    ")\n",
    "plt.show()\n"
   ]
  },
  {
   "cell_type": "code",
   "execution_count": null,
   "metadata": {},
   "outputs": [],
   "source": [
    "# WHAT IF I ONLY LOOK AT ONE TYPE OF BOND\n",
    "\n",
    "white_female = np.log10(\n",
    "    case_bond[case_bond[\"race_gender\"] == \"White Female\"][\"bond_amount\"]\n",
    ")\n",
    "white_male = np.log10(\n",
    "    case_bond[case_bond[\"race_gender\"] == \"White Male\"][\"bond_amount\"]\n",
    ")\n",
    "black_female = np.log10(\n",
    "    case_bond[case_bond[\"race_gender\"] == \"Black Female\"][\"bond_amount\"]\n",
    ")\n",
    "black_male = np.log10(\n",
    "    case_bond[case_bond[\"race_gender\"] == \"Black Male\"][\"bond_amount\"]\n",
    ")\n",
    "hispanic_female = np.log10(\n",
    "    case_bond[case_bond[\"race_gender\"] == \"Hispanic Female\"][\"bond_amount\"]\n",
    ")\n",
    "hispanic_male = np.log10(\n",
    "    case_bond[case_bond[\"race_gender\"] == \"Hispanic Male\"][\"bond_amount\"]\n",
    ")\n",
    "\n",
    "\n",
    "# Visualize petal length distribution for all species\n",
    "fig, ax = plt.subplots(figsize=(15, 7))\n",
    "\n",
    "# Remove y-axis tick marks\n",
    "ax.yaxis.set_ticks_position(\"none\")\n",
    "# Add major gridlines in the y-axis\n",
    "ax.grid(color=\"grey\", axis=\"y\", linestyle=\"-\", linewidth=0.25, alpha=0.5)\n",
    "# Set plot title\n",
    "ax.set_title(\"Distribution of Bail Bond Amounts (in $) by Race and Gender\")\n",
    "plt.xlabel(\"Race/Gender Combination\")\n",
    "plt.ylabel(\"Bond Amount in $\")\n",
    "# Set names as labels for the boxplot\n",
    "dataset = [\n",
    "    white_female,\n",
    "    white_male,\n",
    "    black_female,\n",
    "    black_male,\n",
    "    hispanic_female,\n",
    "    hispanic_male,\n",
    "]\n",
    "ax.boxplot(\n",
    "    dataset,\n",
    "    labels=[\n",
    "        \"white_female\",\n",
    "        \"white_male\",\n",
    "        \"black_female\",\n",
    "        \"black_male\",\n",
    "        \"hispanic_female\",\n",
    "        \"hispanic_male\",\n",
    "    ],\n",
    "    showfliers=True,\n",
    ")\n",
    "plt.show()\n"
   ]
  },
  {
   "cell_type": "markdown",
   "metadata": {},
   "source": [
    "### Interpretation:\n",
    "\n",
    "I want to say that these plots mean nothing, but if the NAs were truly random (and they seem to be), this is a hint that maybe the distributions arent that different. The differences are subtil. \n",
    "Note that:\n",
    "* Distributions of bail amounts in % for each race-gender combo are NOT normal (they dont look normal)\n",
    "* This is not statistical proof\n",
    "* This is just one type of offense\n",
    "\n",
    "In the next few boxes I am going to do a regression so we can see if race and gender have significant effects on bail amounts controling for type of offense and city of address of the defendant (i know that there's a lot more to it, but this is the information available)"
   ]
  },
  {
   "cell_type": "markdown",
   "metadata": {},
   "source": [
    "# Regression (are races / genders correlated to higher or lower bail amouts?)\n",
    "### Only for the most common bail-setting offense = DRIVING WHILE IMPAIRED"
   ]
  },
  {
   "cell_type": "code",
   "execution_count": null,
   "metadata": {},
   "outputs": [],
   "source": [
    "import pandas as pd\n",
    "\n",
    "pd.set_option(\"display.max_columns\", None)\n",
    "case_off_desc = pd.read_csv(\n",
    "    \"/Users/clarissaache/Documents/Capstone/JUSTFAIR_capstone/10_clean_data/case_offense_v01.csv\",\n",
    "    low_memory=False,\n",
    ")\n"
   ]
  },
  {
   "cell_type": "code",
   "execution_count": null,
   "metadata": {},
   "outputs": [],
   "source": [
    "pd.set_option(\"display.max_columns\", None)\n",
    "case_off_desc = case_off_desc.drop(\n",
    "    [\n",
    "        \"Unnamed: 0\",\n",
    "        \"key_county_num.1\",\n",
    "        \"date_of_birth\",\n",
    "        \"in_jail_indicator\",\n",
    "        \"jail_release_date\",\n",
    "        \"jail_commited_date\",\n",
    "    ],\n",
    "    axis=1,\n",
    ")\n",
    "case_off_desc.sample(5)\n"
   ]
  },
  {
   "cell_type": "code",
   "execution_count": null,
   "metadata": {},
   "outputs": [],
   "source": [
    "# Merge with offence code descriptions:\n",
    "offense_desc = pd.read_csv(\n",
    "    \"/Users/clarissaache/Documents/Capstone/JUSTFAIR_capstone/00_raw_data/ACIS_offence_codes.csv\"\n",
    ")\n",
    "\n",
    "offense_desc.sample(5)\n",
    "offense_desc = offense_desc[\n",
    "    [\"CODE\", \"Offense Description\", \"T\", \"NC General Statute\", \"CL\"]\n",
    "]\n"
   ]
  },
  {
   "cell_type": "code",
   "execution_count": null,
   "metadata": {},
   "outputs": [],
   "source": [
    "case_off_desc = pd.merge(\n",
    "    left=case_off_desc,\n",
    "    right=offense_desc,\n",
    "    left_on=\"charged_offense_code\",\n",
    "    right_on=\"CODE\",\n",
    "    how=\"left\",\n",
    "    validate=\"m:m\",\n",
    "    indicator=True,\n",
    ")\n",
    "case_off_desc._merge.value_counts()\n"
   ]
  },
  {
   "cell_type": "code",
   "execution_count": null,
   "metadata": {},
   "outputs": [],
   "source": [
    "# Use only bond amounts that are not NA\n",
    "bond_regression = case_off_desc.loc[~case_off_desc[\"bond_amount\"].isna()]\n",
    "round(pd.crosstab(bond_regression['race'], bond_regression['bond_type'], normalize='index')*100,2)"
   ]
  },
  {
   "cell_type": "code",
   "execution_count": null,
   "metadata": {},
   "outputs": [],
   "source": [
    "# Use only bond amounts that are not NA\n",
    "bond_regression = case_off_desc.loc[~case_off_desc[\"bond_amount\"].isna()]\n",
    "\n",
    "# Use only bond types that are correct\n",
    "bond_regression = bond_regression.loc[\n",
    "    bond_regression[\"bond_type\"].isin([\"CSH\", \"SEC\", \"UNS\", \"WPA\"])\n",
    "]\n",
    "# Renaming that dumb column that has a space\n",
    "bond_regression.rename(columns={\"Offense Description\": \"off_description\"}, inplace=True)\n"
   ]
  },
  {
   "cell_type": "code",
   "execution_count": null,
   "metadata": {},
   "outputs": [],
   "source": [
    "bond_regression[\"bond_type\"].value_counts()"
   ]
  },
  {
   "cell_type": "code",
   "execution_count": null,
   "metadata": {},
   "outputs": [],
   "source": [
    "round(pd.crosstab(bond_regression['race'], bond_regression['bond_type'], normalize='index')*100,2)\n",
    "# I dont know what this means"
   ]
  },
  {
   "cell_type": "code",
   "execution_count": null,
   "metadata": {},
   "outputs": [],
   "source": [
    "# OPTION 1 ------> Subset to top % of bail-requiring charges\n",
    "import numpy as np\n",
    "# keep only bond amounts that are not NA\n",
    "bond_data = case_off_desc[~case_off_desc[\"bond_amount\"].isna()]\n"
   ]
  },
  {
   "cell_type": "code",
   "execution_count": null,
   "metadata": {},
   "outputs": [],
   "source": [
    "\n",
    "# these are the ones that have the most bond associated records\n",
    "top_offences_with_bail = pd.DataFrame(bond_data[\"Offense Description\"].value_counts())\n",
    "top_offences_with_bail[\"%\"] = (\n",
    "    100\n",
    "    * top_offences_with_bail[\"Offense Description\"]\n",
    "    / np.sum(top_offences_with_bail[\"Offense Description\"])\n",
    ")\n",
    "# Subset to top % of bail-requiring charges\n",
    "bond_regression = bond_regression.loc[\n",
    "    bond_regression[\"off_description\"].isin(\n",
    "        top_offences_with_bail.loc[top_offences_with_bail[\"%\"] > 1].index.to_list()\n",
    "    )\n",
    "]\n"
   ]
  },
  {
   "cell_type": "code",
   "execution_count": null,
   "metadata": {},
   "outputs": [],
   "source": [
    "# OPTION 2 ------> Subset for ONE Charge (Driving WHile Impaired)\n",
    "# bond_regression = bond_regression.loc[bond_regression[\"charged_offense_code\"] == 5405]\n"
   ]
  },
  {
   "cell_type": "code",
   "execution_count": null,
   "metadata": {},
   "outputs": [],
   "source": [
    "# Reducing gender to F and M\n",
    "bond_regression.sex.value_counts()\n",
    "bond_regression = bond_regression[bond_regression[\"sex\"].isin([\"M\", \"F\"])]\n"
   ]
  },
  {
   "cell_type": "code",
   "execution_count": null,
   "metadata": {},
   "outputs": [],
   "source": [
    "# Reducing race to white, black, hispanic (other subsets may not be as representative)\n",
    "bond_regression.race.value_counts()\n",
    "bond_regression = bond_regression[bond_regression[\"race\"].isin([\"W\", \"B\", \"H\"])]\n"
   ]
  },
  {
   "cell_type": "code",
   "execution_count": null,
   "metadata": {},
   "outputs": [],
   "source": [
    "# Cities with the largest amount of these crimes\n",
    "# cities = pd.DataFrame(bond_regression.def_city_address.value_counts())\n",
    "# cities['%']=100 * cities['def_city_address'] / np.sum(cities['def_city_address'])\n",
    "\n",
    "# bond_regression = bond_regression.loc[bond_regression['def_city_address'].isin(cities.loc[cities[\"%\"] > 1].index.to_list())]\n"
   ]
  },
  {
   "cell_type": "code",
   "execution_count": null,
   "metadata": {},
   "outputs": [],
   "source": [
    "# ADD county number (represents court?)\n",
    "bond_regression[\"key_county_num\"].isna().sum()  # no NAs\n",
    "bond_regression[\"key_county_num\"] = bond_regression[\"key_county_num\"].astype(str)\n",
    "bond_regression[\"key_county_num\"].dtypes\n"
   ]
  },
  {
   "cell_type": "code",
   "execution_count": null,
   "metadata": {},
   "outputs": [],
   "source": [
    "# court type\n",
    "bond_regression[\"court_type\"].isna().sum()  # no NAs\n",
    "bond_regression[\"court_type\"].value_counts()\n"
   ]
  },
  {
   "cell_type": "code",
   "execution_count": null,
   "metadata": {},
   "outputs": [],
   "source": [
    "# So, I thought because the offense is the same it would have the same class!\n",
    "\n",
    "bond_regression.loc[bond_regression[\"offense_class\"] == \"1.0\", \"offense_class\"] = \"1\"\n",
    "bond_regression.loc[bond_regression[\"offense_class\"] == \"2.0\", \"offense_class\"] = \"2\"\n",
    "bond_regression.loc[bond_regression[\"offense_class\"] == \"3.0\", \"offense_class\"] = \"3\"\n",
    "\n",
    "bond_regression = bond_regression.loc[\n",
    "    bond_regression[\"offense_class\"].isin([\"1\", \"2\", \"3\"])\n",
    "]\n",
    "bond_regression[\"offense_class\"].value_counts(dropna=False)\n",
    "#also count NAs\n",
    "pd.crosstab(bond_regression[\"offense_class\"], bond_regression[\"off_description\"])\n"
   ]
  },
  {
   "cell_type": "code",
   "execution_count": null,
   "metadata": {},
   "outputs": [],
   "source": [
    "bond_regression[\"offense_class\"].value_counts(dropna=False) # its missing for too many rows, also possible post treatment bias (this is the perceived severity)"
   ]
  },
  {
   "cell_type": "code",
   "execution_count": null,
   "metadata": {},
   "outputs": [],
   "source": [
    "bond_regression.sample(4)"
   ]
  },
  {
   "cell_type": "code",
   "execution_count": null,
   "metadata": {},
   "outputs": [],
   "source": [
    "# year!\n",
    "bond_regression['case_creation_date']=pd.to_datetime(bond_regression['case_creation_date'], format='%Y-%m-%d', errors='coerce')\n",
    "bond_regression['process_service_date']=pd.to_datetime(bond_regression['process_service_date'], format='%Y-%m-%d', errors='coerce')\n",
    "bond_regression['year'] = pd.DatetimeIndex(bond_regression['process_service_date']).year\n",
    "bond_regression.sample(3)"
   ]
  },
  {
   "cell_type": "code",
   "execution_count": null,
   "metadata": {},
   "outputs": [],
   "source": [
    "import statsmodels.formula.api as smf\n",
    "\n",
    "m = smf.ols(\n",
    "    \"bond_amount ~ C(race) * C(sex) + C(bond_type) + C(off_description) + + C(key_county_num) + court_type + year\",\n",
    "    bond_regression,\n",
    ").fit()\n",
    "m.summary()\n",
    "\n",
    "# NOT ADDING DISPOSITION BC THAT IS POST TREATMENT EFFECT\n"
   ]
  },
  {
   "cell_type": "code",
   "execution_count": null,
   "metadata": {},
   "outputs": [],
   "source": [
    "# Panel OLS\n",
    "bond_regression_multiindex = bond_regression.set_index(['off_description', 'year'])\n",
    "bond_regression_multiindex.head()"
   ]
  },
  {
   "cell_type": "code",
   "execution_count": null,
   "metadata": {},
   "outputs": [],
   "source": [
    "from linearmodels import PanelOLS\n",
    "mod = PanelOLS.from_formula('bond_amount ~ 1 + C(race) * C(sex) + C(bond_type) +  C(key_county_num)+ court_type + EntityEffects + TimeEffects',\n",
    "                            data=bond_regression_multiindex)\n",
    "mod.fit(cov_type='clustered', cluster_entity=True, cluster_time=True)"
   ]
  }
 ],
 "metadata": {
  "kernelspec": {
   "display_name": "base",
   "language": "python",
   "name": "python3"
  },
  "language_info": {
   "codemirror_mode": {
    "name": "ipython",
    "version": 3
   },
   "file_extension": ".py",
   "mimetype": "text/x-python",
   "name": "python",
   "nbconvert_exporter": "python",
   "pygments_lexer": "ipython3",
   "version": "3.10.6 | packaged by conda-forge | (main, Aug 22 2022, 20:41:22) [Clang 13.0.1 ]"
  },
  "orig_nbformat": 4,
  "vscode": {
   "interpreter": {
    "hash": "551c62dc04900b7c9656b03a0ed1114515bcd045db0a145f14557b857526032b"
   }
  }
 },
 "nbformat": 4,
 "nbformat_minor": 2
}
