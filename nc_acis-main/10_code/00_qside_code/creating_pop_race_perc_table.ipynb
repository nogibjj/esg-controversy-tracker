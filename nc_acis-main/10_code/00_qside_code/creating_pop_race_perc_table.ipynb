{
 "cells": [
  {
   "attachments": {},
   "cell_type": "markdown",
   "metadata": {},
   "source": [
    "# Are black people more frequently entered into the system in some NC Counties?"
   ]
  },
  {
   "cell_type": "code",
   "execution_count": 3,
   "metadata": {},
   "outputs": [],
   "source": [
    "import pandas as pd\n",
    "import numpy as np\n",
    "import matplotlib.pyplot as plt"
   ]
  },
  {
   "cell_type": "code",
   "execution_count": null,
   "metadata": {},
   "outputs": [],
   "source": [
    "## Read data from Case Offense Description CSV\n",
    "data_chunks = pd.read_csv(\n",
    "    \"/Users/preetkhowaja/Desktop/qsides/10_cleaned_data/case_offense_desc.csv.zip\",\n",
    "    chunksize=100000,\n",
    "    usecols=[\n",
    "        \"case_id\",\n",
    "        \"disposition\",\n",
    "        'key_county_num',\n",
    "        \"def_zip_address\",\n",
    "        \"race\",\n",
    "        \"sex\",\n",
    "        \"charged_offense_code\",\n",
    "        \"prior_record_points\",\n",
    "        \"Offense Description\",\n",
    "    ],\n",
    ")\n",
    "\n",
    "chunk_list = []\n",
    "\n",
    "for chunk in data_chunks:\n",
    "    chunk_list.append(chunk)\n",
    "\n",
    "full_data = pd.concat(chunk_list)"
   ]
  },
  {
   "cell_type": "code",
   "execution_count": 12,
   "metadata": {},
   "outputs": [
    {
     "data": {
      "text/plain": [
       "767666"
      ]
     },
     "execution_count": 12,
     "metadata": {},
     "output_type": "execute_result"
    }
   ],
   "source": [
    "## We need to find the defendant's county address\n",
    "full_data.def_zip_address.isna().sum()"
   ]
  },
  {
   "cell_type": "code",
   "execution_count": 13,
   "metadata": {},
   "outputs": [
    {
     "data": {
      "text/html": [
       "<div>\n",
       "<style scoped>\n",
       "    .dataframe tbody tr th:only-of-type {\n",
       "        vertical-align: middle;\n",
       "    }\n",
       "\n",
       "    .dataframe tbody tr th {\n",
       "        vertical-align: top;\n",
       "    }\n",
       "\n",
       "    .dataframe thead th {\n",
       "        text-align: right;\n",
       "    }\n",
       "</style>\n",
       "<table border=\"1\" class=\"dataframe\">\n",
       "  <thead>\n",
       "    <tr style=\"text-align: right;\">\n",
       "      <th></th>\n",
       "      <th>case_id</th>\n",
       "      <th>key_county_num</th>\n",
       "      <th>def_zip_address</th>\n",
       "      <th>race</th>\n",
       "      <th>sex</th>\n",
       "      <th>charged_offense_code</th>\n",
       "      <th>disposition</th>\n",
       "      <th>prior_record_points</th>\n",
       "      <th>Offense Description</th>\n",
       "    </tr>\n",
       "  </thead>\n",
       "  <tbody>\n",
       "    <tr>\n",
       "      <th>0</th>\n",
       "      <td>1973006239</td>\n",
       "      <td>0</td>\n",
       "      <td>27253</td>\n",
       "      <td>W</td>\n",
       "      <td>M</td>\n",
       "      <td>3599</td>\n",
       "      <td>SI</td>\n",
       "      <td>NaN</td>\n",
       "      <td>DANGEROUS DRUGS - FREE TEXT</td>\n",
       "    </tr>\n",
       "    <tr>\n",
       "      <th>1</th>\n",
       "      <td>1973006239</td>\n",
       "      <td>0</td>\n",
       "      <td>27253</td>\n",
       "      <td>W</td>\n",
       "      <td>M</td>\n",
       "      <td>3599</td>\n",
       "      <td>VD</td>\n",
       "      <td>NaN</td>\n",
       "      <td>DANGEROUS DRUGS - FREE TEXT</td>\n",
       "    </tr>\n",
       "    <tr>\n",
       "      <th>2</th>\n",
       "      <td>1973007828</td>\n",
       "      <td>0</td>\n",
       "      <td>27253</td>\n",
       "      <td>W</td>\n",
       "      <td>M</td>\n",
       "      <td>3599</td>\n",
       "      <td>SI</td>\n",
       "      <td>NaN</td>\n",
       "      <td>DANGEROUS DRUGS - FREE TEXT</td>\n",
       "    </tr>\n",
       "    <tr>\n",
       "      <th>3</th>\n",
       "      <td>1973007828</td>\n",
       "      <td>0</td>\n",
       "      <td>27253</td>\n",
       "      <td>W</td>\n",
       "      <td>M</td>\n",
       "      <td>3599</td>\n",
       "      <td>VD</td>\n",
       "      <td>NaN</td>\n",
       "      <td>DANGEROUS DRUGS - FREE TEXT</td>\n",
       "    </tr>\n",
       "    <tr>\n",
       "      <th>4</th>\n",
       "      <td>1973013840</td>\n",
       "      <td>0</td>\n",
       "      <td>27253</td>\n",
       "      <td>W</td>\n",
       "      <td>M</td>\n",
       "      <td>3599</td>\n",
       "      <td>SI</td>\n",
       "      <td>NaN</td>\n",
       "      <td>DANGEROUS DRUGS - FREE TEXT</td>\n",
       "    </tr>\n",
       "  </tbody>\n",
       "</table>\n",
       "</div>"
      ],
      "text/plain": [
       "      case_id  key_county_num def_zip_address race sex  charged_offense_code  \\\n",
       "0  1973006239               0           27253    W   M                  3599   \n",
       "1  1973006239               0           27253    W   M                  3599   \n",
       "2  1973007828               0           27253    W   M                  3599   \n",
       "3  1973007828               0           27253    W   M                  3599   \n",
       "4  1973013840               0           27253    W   M                  3599   \n",
       "\n",
       "  disposition  prior_record_points          Offense Description  \n",
       "0          SI                  NaN  DANGEROUS DRUGS - FREE TEXT  \n",
       "1          VD                  NaN  DANGEROUS DRUGS - FREE TEXT  \n",
       "2          SI                  NaN  DANGEROUS DRUGS - FREE TEXT  \n",
       "3          VD                  NaN  DANGEROUS DRUGS - FREE TEXT  \n",
       "4          SI                  NaN  DANGEROUS DRUGS - FREE TEXT  "
      ]
     },
     "execution_count": 13,
     "metadata": {},
     "output_type": "execute_result"
    }
   ],
   "source": [
    "full_data.head()"
   ]
  },
  {
   "cell_type": "code",
   "execution_count": 14,
   "metadata": {},
   "outputs": [
    {
     "data": {
      "text/plain": [
       "(31154060, 9)"
      ]
     },
     "execution_count": 14,
     "metadata": {},
     "output_type": "execute_result"
    }
   ],
   "source": [
    "full_data.shape"
   ]
  },
  {
   "cell_type": "code",
   "execution_count": 16,
   "metadata": {},
   "outputs": [
    {
     "data": {
      "text/plain": [
       "False"
      ]
     },
     "execution_count": 16,
     "metadata": {},
     "output_type": "execute_result"
    }
   ],
   "source": [
    "## Check if the case_id is unique\n",
    "full_data.case_id.is_unique"
   ]
  },
  {
   "cell_type": "code",
   "execution_count": 17,
   "metadata": {},
   "outputs": [],
   "source": [
    "## We drop duplicates missing values for defendent zip address and then drop duplicates in case id\n",
    "complete_data = full_data.loc[~full_data.def_zip_address.isna()]\n",
    "assert complete_data.shape[0] == (31154060 - 767666)\n",
    "assert complete_data.def_zip_address.isna().sum() == 0"
   ]
  },
  {
   "cell_type": "code",
   "execution_count": null,
   "metadata": {},
   "outputs": [],
   "source": [
    "complete_data.drop_duplicates(subset='case_id', inplace=True)\n",
    "complete_data.case_id.is_unique"
   ]
  },
  {
   "cell_type": "code",
   "execution_count": 20,
   "metadata": {},
   "outputs": [
    {
     "data": {
      "text/plain": [
       "(13645126, 9)"
      ]
     },
     "execution_count": 20,
     "metadata": {},
     "output_type": "execute_result"
    }
   ],
   "source": [
    "## A quick look at the shape of our dataset\n",
    "complete_data.shape"
   ]
  },
  {
   "attachments": {},
   "cell_type": "markdown",
   "metadata": {},
   "source": [
    "### We have 13.6 million cases from North Carolina"
   ]
  },
  {
   "cell_type": "code",
   "execution_count": 22,
   "metadata": {},
   "outputs": [
    {
     "data": {
      "text/html": [
       "<div>\n",
       "<style scoped>\n",
       "    .dataframe tbody tr th:only-of-type {\n",
       "        vertical-align: middle;\n",
       "    }\n",
       "\n",
       "    .dataframe tbody tr th {\n",
       "        vertical-align: top;\n",
       "    }\n",
       "\n",
       "    .dataframe thead th {\n",
       "        text-align: right;\n",
       "    }\n",
       "</style>\n",
       "<table border=\"1\" class=\"dataframe\">\n",
       "  <thead>\n",
       "    <tr style=\"text-align: right;\">\n",
       "      <th></th>\n",
       "      <th>zip</th>\n",
       "      <th>county</th>\n",
       "      <th>usps_zip_pref_city</th>\n",
       "      <th>usps_zip_pref_state</th>\n",
       "      <th>res_ratio</th>\n",
       "      <th>bus_ratio</th>\n",
       "      <th>oth_ratio</th>\n",
       "      <th>tot_ratio</th>\n",
       "    </tr>\n",
       "  </thead>\n",
       "  <tbody>\n",
       "    <tr>\n",
       "      <th>0</th>\n",
       "      <td>683</td>\n",
       "      <td>72125</td>\n",
       "      <td>SAN GERMAN</td>\n",
       "      <td>PR</td>\n",
       "      <td>0.953036</td>\n",
       "      <td>0.996656</td>\n",
       "      <td>0.980769</td>\n",
       "      <td>0.956300</td>\n",
       "    </tr>\n",
       "    <tr>\n",
       "      <th>1</th>\n",
       "      <td>683</td>\n",
       "      <td>72079</td>\n",
       "      <td>SAN GERMAN</td>\n",
       "      <td>PR</td>\n",
       "      <td>0.000949</td>\n",
       "      <td>0.000000</td>\n",
       "      <td>0.000000</td>\n",
       "      <td>0.000873</td>\n",
       "    </tr>\n",
       "    <tr>\n",
       "      <th>2</th>\n",
       "      <td>683</td>\n",
       "      <td>72023</td>\n",
       "      <td>SAN GERMAN</td>\n",
       "      <td>PR</td>\n",
       "      <td>0.000791</td>\n",
       "      <td>0.001115</td>\n",
       "      <td>0.000000</td>\n",
       "      <td>0.000800</td>\n",
       "    </tr>\n",
       "    <tr>\n",
       "      <th>3</th>\n",
       "      <td>683</td>\n",
       "      <td>72097</td>\n",
       "      <td>SAN GERMAN</td>\n",
       "      <td>PR</td>\n",
       "      <td>0.000158</td>\n",
       "      <td>0.000000</td>\n",
       "      <td>0.000000</td>\n",
       "      <td>0.000145</td>\n",
       "    </tr>\n",
       "    <tr>\n",
       "      <th>4</th>\n",
       "      <td>683</td>\n",
       "      <td>72121</td>\n",
       "      <td>SAN GERMAN</td>\n",
       "      <td>PR</td>\n",
       "      <td>0.045066</td>\n",
       "      <td>0.002230</td>\n",
       "      <td>0.019231</td>\n",
       "      <td>0.041882</td>\n",
       "    </tr>\n",
       "  </tbody>\n",
       "</table>\n",
       "</div>"
      ],
      "text/plain": [
       "   zip  county usps_zip_pref_city usps_zip_pref_state  res_ratio  bus_ratio  \\\n",
       "0  683   72125         SAN GERMAN                  PR   0.953036   0.996656   \n",
       "1  683   72079         SAN GERMAN                  PR   0.000949   0.000000   \n",
       "2  683   72023         SAN GERMAN                  PR   0.000791   0.001115   \n",
       "3  683   72097         SAN GERMAN                  PR   0.000158   0.000000   \n",
       "4  683   72121         SAN GERMAN                  PR   0.045066   0.002230   \n",
       "\n",
       "   oth_ratio  tot_ratio  \n",
       "0   0.980769   0.956300  \n",
       "1   0.000000   0.000873  \n",
       "2   0.000000   0.000800  \n",
       "3   0.000000   0.000145  \n",
       "4   0.019231   0.041882  "
      ]
     },
     "execution_count": 22,
     "metadata": {},
     "output_type": "execute_result"
    }
   ],
   "source": [
    "# Read in zip address -> county csv\n",
    "zip_to_county = pd.read_excel('/Users/preetkhowaja/Desktop/personal_qsides/ZIP_COUNTY_122021.xlsx')\n",
    "zip_to_county.head()"
   ]
  },
  {
   "cell_type": "code",
   "execution_count": 23,
   "metadata": {},
   "outputs": [],
   "source": [
    "## Filter just to NC counties\n",
    "zip_to_county = zip_to_county.loc[zip_to_county.usps_zip_pref_state == 'NC']"
   ]
  },
  {
   "cell_type": "code",
   "execution_count": 24,
   "metadata": {},
   "outputs": [
    {
     "data": {
      "text/html": [
       "<div>\n",
       "<style scoped>\n",
       "    .dataframe tbody tr th:only-of-type {\n",
       "        vertical-align: middle;\n",
       "    }\n",
       "\n",
       "    .dataframe tbody tr th {\n",
       "        vertical-align: top;\n",
       "    }\n",
       "\n",
       "    .dataframe thead th {\n",
       "        text-align: right;\n",
       "    }\n",
       "</style>\n",
       "<table border=\"1\" class=\"dataframe\">\n",
       "  <thead>\n",
       "    <tr style=\"text-align: right;\">\n",
       "      <th></th>\n",
       "      <th>zip</th>\n",
       "      <th>def_county_address</th>\n",
       "      <th>def_city_name</th>\n",
       "      <th>usps_zip_pref_state</th>\n",
       "      <th>res_ratio</th>\n",
       "      <th>bus_ratio</th>\n",
       "      <th>oth_ratio</th>\n",
       "      <th>tot_ratio</th>\n",
       "    </tr>\n",
       "  </thead>\n",
       "  <tbody>\n",
       "    <tr>\n",
       "      <th>215</th>\n",
       "      <td>27292</td>\n",
       "      <td>37057</td>\n",
       "      <td>LEXINGTON</td>\n",
       "      <td>NC</td>\n",
       "      <td>0.997892</td>\n",
       "      <td>1.000000</td>\n",
       "      <td>1.000000</td>\n",
       "      <td>0.998146</td>\n",
       "    </tr>\n",
       "    <tr>\n",
       "      <th>216</th>\n",
       "      <td>27292</td>\n",
       "      <td>37151</td>\n",
       "      <td>LEXINGTON</td>\n",
       "      <td>NC</td>\n",
       "      <td>0.002108</td>\n",
       "      <td>0.000000</td>\n",
       "      <td>0.000000</td>\n",
       "      <td>0.001854</td>\n",
       "    </tr>\n",
       "    <tr>\n",
       "      <th>217</th>\n",
       "      <td>27529</td>\n",
       "      <td>37101</td>\n",
       "      <td>GARNER</td>\n",
       "      <td>NC</td>\n",
       "      <td>0.283565</td>\n",
       "      <td>0.184787</td>\n",
       "      <td>0.265421</td>\n",
       "      <td>0.274081</td>\n",
       "    </tr>\n",
       "    <tr>\n",
       "      <th>218</th>\n",
       "      <td>27529</td>\n",
       "      <td>37183</td>\n",
       "      <td>GARNER</td>\n",
       "      <td>NC</td>\n",
       "      <td>0.716435</td>\n",
       "      <td>0.815213</td>\n",
       "      <td>0.734579</td>\n",
       "      <td>0.725919</td>\n",
       "    </tr>\n",
       "    <tr>\n",
       "      <th>219</th>\n",
       "      <td>27532</td>\n",
       "      <td>37191</td>\n",
       "      <td>GOLDSBORO</td>\n",
       "      <td>NC</td>\n",
       "      <td>1.000000</td>\n",
       "      <td>1.000000</td>\n",
       "      <td>1.000000</td>\n",
       "      <td>1.000000</td>\n",
       "    </tr>\n",
       "  </tbody>\n",
       "</table>\n",
       "</div>"
      ],
      "text/plain": [
       "       zip  def_county_address def_city_name usps_zip_pref_state  res_ratio  \\\n",
       "215  27292               37057     LEXINGTON                  NC   0.997892   \n",
       "216  27292               37151     LEXINGTON                  NC   0.002108   \n",
       "217  27529               37101        GARNER                  NC   0.283565   \n",
       "218  27529               37183        GARNER                  NC   0.716435   \n",
       "219  27532               37191     GOLDSBORO                  NC   1.000000   \n",
       "\n",
       "     bus_ratio  oth_ratio  tot_ratio  \n",
       "215   1.000000   1.000000   0.998146  \n",
       "216   0.000000   0.000000   0.001854  \n",
       "217   0.184787   0.265421   0.274081  \n",
       "218   0.815213   0.734579   0.725919  \n",
       "219   1.000000   1.000000   1.000000  "
      ]
     },
     "execution_count": 24,
     "metadata": {},
     "output_type": "execute_result"
    }
   ],
   "source": [
    "## Rename columns before merging\n",
    "zip_to_county.rename(columns={'county': 'def_county_address', 'usps_zip_pref_city': 'def_city_name'}, inplace = True)\n",
    "zip_to_county.head()"
   ]
  },
  {
   "cell_type": "code",
   "execution_count": 26,
   "metadata": {},
   "outputs": [
    {
     "data": {
      "text/html": [
       "<div>\n",
       "<style scoped>\n",
       "    .dataframe tbody tr th:only-of-type {\n",
       "        vertical-align: middle;\n",
       "    }\n",
       "\n",
       "    .dataframe tbody tr th {\n",
       "        vertical-align: top;\n",
       "    }\n",
       "\n",
       "    .dataframe thead th {\n",
       "        text-align: right;\n",
       "    }\n",
       "</style>\n",
       "<table border=\"1\" class=\"dataframe\">\n",
       "  <thead>\n",
       "    <tr style=\"text-align: right;\">\n",
       "      <th></th>\n",
       "      <th>zip</th>\n",
       "      <th>def_county_address</th>\n",
       "    </tr>\n",
       "  </thead>\n",
       "  <tbody>\n",
       "    <tr>\n",
       "      <th>32796</th>\n",
       "      <td>27896</td>\n",
       "      <td>37127</td>\n",
       "    </tr>\n",
       "  </tbody>\n",
       "</table>\n",
       "</div>"
      ],
      "text/plain": [
       "         zip  def_county_address\n",
       "32796  27896               37127"
      ]
     },
     "execution_count": 26,
     "metadata": {},
     "output_type": "execute_result"
    }
   ],
   "source": [
    "zip_to_county = zip_to_county[['zip', 'def_county_address']]\n",
    "zip_to_county.sample()"
   ]
  },
  {
   "cell_type": "code",
   "execution_count": 27,
   "metadata": {},
   "outputs": [],
   "source": [
    "## reduce columns from original dataset\n",
    "complete_data = complete_data[['def_zip_address', 'race', 'sex']]"
   ]
  },
  {
   "cell_type": "code",
   "execution_count": 68,
   "metadata": {},
   "outputs": [],
   "source": [
    "zip_county_data = pd.merge(complete_data, zip_to_county, left_on='def_zip_address', right_on = 'zip', how='left', indicator=True)"
   ]
  },
  {
   "cell_type": "code",
   "execution_count": 69,
   "metadata": {},
   "outputs": [
    {
     "data": {
      "text/plain": [
       "both          0.951911\n",
       "left_only     0.048089\n",
       "right_only    0.000000\n",
       "Name: _merge, dtype: float64"
      ]
     },
     "execution_count": 69,
     "metadata": {},
     "output_type": "execute_result"
    }
   ],
   "source": [
    "## we don't have a complete match because some defendants are from out of state\n",
    "zip_county_data._merge.value_counts(normalize=True)"
   ]
  },
  {
   "cell_type": "code",
   "execution_count": 70,
   "metadata": {},
   "outputs": [],
   "source": [
    "zip_county_data = zip_county_data.loc[zip_county_data._merge =='both']\n"
   ]
  },
  {
   "cell_type": "code",
   "execution_count": 71,
   "metadata": {},
   "outputs": [
    {
     "data": {
      "text/html": [
       "<div>\n",
       "<style scoped>\n",
       "    .dataframe tbody tr th:only-of-type {\n",
       "        vertical-align: middle;\n",
       "    }\n",
       "\n",
       "    .dataframe tbody tr th {\n",
       "        vertical-align: top;\n",
       "    }\n",
       "\n",
       "    .dataframe thead th {\n",
       "        text-align: right;\n",
       "    }\n",
       "</style>\n",
       "<table border=\"1\" class=\"dataframe\">\n",
       "  <thead>\n",
       "    <tr style=\"text-align: right;\">\n",
       "      <th></th>\n",
       "      <th>race</th>\n",
       "      <th>sex</th>\n",
       "      <th>def_zip_address</th>\n",
       "      <th>def_county_address</th>\n",
       "    </tr>\n",
       "  </thead>\n",
       "  <tbody>\n",
       "    <tr>\n",
       "      <th>3791</th>\n",
       "      <td>H</td>\n",
       "      <td>M</td>\n",
       "      <td>27253.0</td>\n",
       "      <td>37001.0</td>\n",
       "    </tr>\n",
       "    <tr>\n",
       "      <th>3792</th>\n",
       "      <td>H</td>\n",
       "      <td>M</td>\n",
       "      <td>27217.0</td>\n",
       "      <td>37033.0</td>\n",
       "    </tr>\n",
       "    <tr>\n",
       "      <th>3793</th>\n",
       "      <td>H</td>\n",
       "      <td>M</td>\n",
       "      <td>27217.0</td>\n",
       "      <td>37001.0</td>\n",
       "    </tr>\n",
       "    <tr>\n",
       "      <th>3794</th>\n",
       "      <td>H</td>\n",
       "      <td>M</td>\n",
       "      <td>27215.0</td>\n",
       "      <td>37001.0</td>\n",
       "    </tr>\n",
       "    <tr>\n",
       "      <th>3795</th>\n",
       "      <td>H</td>\n",
       "      <td>M</td>\n",
       "      <td>27215.0</td>\n",
       "      <td>37081.0</td>\n",
       "    </tr>\n",
       "  </tbody>\n",
       "</table>\n",
       "</div>"
      ],
      "text/plain": [
       "     race sex def_zip_address  def_county_address\n",
       "3791    H   M         27253.0             37001.0\n",
       "3792    H   M         27217.0             37033.0\n",
       "3793    H   M         27217.0             37001.0\n",
       "3794    H   M         27215.0             37001.0\n",
       "3795    H   M         27215.0             37081.0"
      ]
     },
     "execution_count": 71,
     "metadata": {},
     "output_type": "execute_result"
    }
   ],
   "source": [
    "zip_county_data = zip_county_data[['race', 'sex', 'def_zip_address', 'def_county_address']]\n",
    "zip_county_data.head()"
   ]
  },
  {
   "cell_type": "code",
   "execution_count": 72,
   "metadata": {},
   "outputs": [
    {
     "data": {
      "text/plain": [
       "W    10323861\n",
       "B     8134847\n",
       "H     2062418\n",
       "O      432478\n",
       "I      332945\n",
       "U      200098\n",
       "A      107037\n",
       "X         483\n",
       "Name: race, dtype: int64"
      ]
     },
     "execution_count": 72,
     "metadata": {},
     "output_type": "execute_result"
    }
   ],
   "source": [
    "## Let's group the data into white and non-white/black because that's how it's recorded in NHGIS\n",
    "zip_county_data.race.value_counts()"
   ]
  },
  {
   "attachments": {},
   "cell_type": "markdown",
   "metadata": {},
   "source": [
    "Defendant Race Code\n",
    "     A - Asian\n",
    "     B - Black\n",
    "     H - Hispanic\n",
    "     I - Indian\n",
    "     O - Other\n",
    "     U - Unknown\n",
    "     W - White\n",
    "     X - Non-person\n",
    "     Space - Unknown"
   ]
  },
  {
   "cell_type": "code",
   "execution_count": 73,
   "metadata": {},
   "outputs": [],
   "source": [
    "## Now that we have each offense's race by county, we want to group by county and get the proportions of race in each\n",
    "\n",
    "## # Group the dataframe by county and race, and count the number of rows in each group\n",
    "grouped = zip_county_data.groupby(['def_county_address', 'race']).size()\n",
    "\n",
    "# Convert the grouped Series to a DataFrame and reset the index\n",
    "grouped_df = grouped.to_frame(name='count').reset_index()\n",
    "\n",
    "# Pivot the grouped DataFrame to have one row per county and columns for each race\n",
    "pivoted_df = grouped_df.pivot(index='def_county_address', columns='race', values='count')\n",
    "\n",
    "# Calculate the total number of people in each county\n",
    "pivoted_df['total'] = pivoted_df.sum(axis=1)\n",
    "\n",
    "# Limiting data to W and Non White\n",
    "pivoted_df = pivoted_df[['B', 'W', 'H', 'total']]\n",
    "\n",
    "# Calculate the percentage of each race in each county\n",
    "for race in pivoted_df.columns[:-1]:\n",
    "    pivoted_df[race + '_perc'] = pivoted_df[race] / pivoted_df['total'] * 100\n",
    "\n",
    "# Print the resulting dataframe\n",
    "#print(pivoted_df)\n"
   ]
  },
  {
   "cell_type": "code",
   "execution_count": 74,
   "metadata": {},
   "outputs": [
    {
     "data": {
      "text/plain": [
       "(100, 7)"
      ]
     },
     "execution_count": 74,
     "metadata": {},
     "output_type": "execute_result"
    }
   ],
   "source": [
    "## Perfect because we have information for all 100 counties in NC\n",
    "pivoted_df.shape"
   ]
  },
  {
   "cell_type": "code",
   "execution_count": 75,
   "metadata": {},
   "outputs": [
    {
     "data": {
      "text/html": [
       "<div>\n",
       "<style scoped>\n",
       "    .dataframe tbody tr th:only-of-type {\n",
       "        vertical-align: middle;\n",
       "    }\n",
       "\n",
       "    .dataframe tbody tr th {\n",
       "        vertical-align: top;\n",
       "    }\n",
       "\n",
       "    .dataframe thead th {\n",
       "        text-align: right;\n",
       "    }\n",
       "</style>\n",
       "<table border=\"1\" class=\"dataframe\">\n",
       "  <thead>\n",
       "    <tr style=\"text-align: right;\">\n",
       "      <th>race</th>\n",
       "      <th>def_county_address</th>\n",
       "      <th>B</th>\n",
       "      <th>W</th>\n",
       "      <th>H</th>\n",
       "      <th>total</th>\n",
       "      <th>B_perc</th>\n",
       "      <th>W_perc</th>\n",
       "      <th>H_perc</th>\n",
       "    </tr>\n",
       "  </thead>\n",
       "  <tbody>\n",
       "    <tr>\n",
       "      <th>0</th>\n",
       "      <td>37001.0</td>\n",
       "      <td>81148.0</td>\n",
       "      <td>114318.0</td>\n",
       "      <td>35411.0</td>\n",
       "      <td>239406.0</td>\n",
       "      <td>33.895558</td>\n",
       "      <td>47.750683</td>\n",
       "      <td>14.791192</td>\n",
       "    </tr>\n",
       "    <tr>\n",
       "      <th>1</th>\n",
       "      <td>37003.0</td>\n",
       "      <td>26648.0</td>\n",
       "      <td>126218.0</td>\n",
       "      <td>13759.0</td>\n",
       "      <td>171351.0</td>\n",
       "      <td>15.551704</td>\n",
       "      <td>73.660498</td>\n",
       "      <td>8.029717</td>\n",
       "    </tr>\n",
       "    <tr>\n",
       "      <th>2</th>\n",
       "      <td>37005.0</td>\n",
       "      <td>297.0</td>\n",
       "      <td>9842.0</td>\n",
       "      <td>2433.0</td>\n",
       "      <td>13160.0</td>\n",
       "      <td>2.256839</td>\n",
       "      <td>74.787234</td>\n",
       "      <td>18.487842</td>\n",
       "    </tr>\n",
       "    <tr>\n",
       "      <th>3</th>\n",
       "      <td>37007.0</td>\n",
       "      <td>38169.0</td>\n",
       "      <td>20457.0</td>\n",
       "      <td>2030.0</td>\n",
       "      <td>61914.0</td>\n",
       "      <td>61.648416</td>\n",
       "      <td>33.040992</td>\n",
       "      <td>3.278741</td>\n",
       "    </tr>\n",
       "    <tr>\n",
       "      <th>4</th>\n",
       "      <td>37009.0</td>\n",
       "      <td>546.0</td>\n",
       "      <td>26057.0</td>\n",
       "      <td>2550.0</td>\n",
       "      <td>29831.0</td>\n",
       "      <td>1.830311</td>\n",
       "      <td>87.348731</td>\n",
       "      <td>8.548155</td>\n",
       "    </tr>\n",
       "  </tbody>\n",
       "</table>\n",
       "</div>"
      ],
      "text/plain": [
       "race  def_county_address        B         W        H     total     B_perc  \\\n",
       "0                37001.0  81148.0  114318.0  35411.0  239406.0  33.895558   \n",
       "1                37003.0  26648.0  126218.0  13759.0  171351.0  15.551704   \n",
       "2                37005.0    297.0    9842.0   2433.0   13160.0   2.256839   \n",
       "3                37007.0  38169.0   20457.0   2030.0   61914.0  61.648416   \n",
       "4                37009.0    546.0   26057.0   2550.0   29831.0   1.830311   \n",
       "\n",
       "race     W_perc     H_perc  \n",
       "0     47.750683  14.791192  \n",
       "1     73.660498   8.029717  \n",
       "2     74.787234  18.487842  \n",
       "3     33.040992   3.278741  \n",
       "4     87.348731   8.548155  "
      ]
     },
     "execution_count": 75,
     "metadata": {},
     "output_type": "execute_result"
    }
   ],
   "source": [
    "pivoted_df = pivoted_df.reset_index()\n",
    "pivoted_df.head()"
   ]
  },
  {
   "cell_type": "code",
   "execution_count": 76,
   "metadata": {},
   "outputs": [
    {
     "data": {
      "text/html": [
       "<div>\n",
       "<style scoped>\n",
       "    .dataframe tbody tr th:only-of-type {\n",
       "        vertical-align: middle;\n",
       "    }\n",
       "\n",
       "    .dataframe tbody tr th {\n",
       "        vertical-align: top;\n",
       "    }\n",
       "\n",
       "    .dataframe thead th {\n",
       "        text-align: right;\n",
       "    }\n",
       "</style>\n",
       "<table border=\"1\" class=\"dataframe\">\n",
       "  <thead>\n",
       "    <tr style=\"text-align: right;\">\n",
       "      <th>race</th>\n",
       "      <th>county_fips_code</th>\n",
       "      <th>black_count_sys</th>\n",
       "      <th>white_count_sys</th>\n",
       "      <th>hisp_count_sys</th>\n",
       "      <th>total_count_sys</th>\n",
       "      <th>black_perc_sys</th>\n",
       "      <th>white_perc_sys</th>\n",
       "      <th>hisp_perc_sys</th>\n",
       "    </tr>\n",
       "  </thead>\n",
       "  <tbody>\n",
       "    <tr>\n",
       "      <th>0</th>\n",
       "      <td>37001.0</td>\n",
       "      <td>81148.0</td>\n",
       "      <td>114318.0</td>\n",
       "      <td>35411.0</td>\n",
       "      <td>239406.0</td>\n",
       "      <td>33.895558</td>\n",
       "      <td>47.750683</td>\n",
       "      <td>14.791192</td>\n",
       "    </tr>\n",
       "    <tr>\n",
       "      <th>1</th>\n",
       "      <td>37003.0</td>\n",
       "      <td>26648.0</td>\n",
       "      <td>126218.0</td>\n",
       "      <td>13759.0</td>\n",
       "      <td>171351.0</td>\n",
       "      <td>15.551704</td>\n",
       "      <td>73.660498</td>\n",
       "      <td>8.029717</td>\n",
       "    </tr>\n",
       "    <tr>\n",
       "      <th>2</th>\n",
       "      <td>37005.0</td>\n",
       "      <td>297.0</td>\n",
       "      <td>9842.0</td>\n",
       "      <td>2433.0</td>\n",
       "      <td>13160.0</td>\n",
       "      <td>2.256839</td>\n",
       "      <td>74.787234</td>\n",
       "      <td>18.487842</td>\n",
       "    </tr>\n",
       "    <tr>\n",
       "      <th>3</th>\n",
       "      <td>37007.0</td>\n",
       "      <td>38169.0</td>\n",
       "      <td>20457.0</td>\n",
       "      <td>2030.0</td>\n",
       "      <td>61914.0</td>\n",
       "      <td>61.648416</td>\n",
       "      <td>33.040992</td>\n",
       "      <td>3.278741</td>\n",
       "    </tr>\n",
       "    <tr>\n",
       "      <th>4</th>\n",
       "      <td>37009.0</td>\n",
       "      <td>546.0</td>\n",
       "      <td>26057.0</td>\n",
       "      <td>2550.0</td>\n",
       "      <td>29831.0</td>\n",
       "      <td>1.830311</td>\n",
       "      <td>87.348731</td>\n",
       "      <td>8.548155</td>\n",
       "    </tr>\n",
       "  </tbody>\n",
       "</table>\n",
       "</div>"
      ],
      "text/plain": [
       "race  county_fips_code  black_count_sys  white_count_sys  hisp_count_sys  \\\n",
       "0              37001.0          81148.0         114318.0         35411.0   \n",
       "1              37003.0          26648.0         126218.0         13759.0   \n",
       "2              37005.0            297.0           9842.0          2433.0   \n",
       "3              37007.0          38169.0          20457.0          2030.0   \n",
       "4              37009.0            546.0          26057.0          2550.0   \n",
       "\n",
       "race  total_count_sys  black_perc_sys  white_perc_sys  hisp_perc_sys  \n",
       "0            239406.0       33.895558       47.750683      14.791192  \n",
       "1            171351.0       15.551704       73.660498       8.029717  \n",
       "2             13160.0        2.256839       74.787234      18.487842  \n",
       "3             61914.0       61.648416       33.040992       3.278741  \n",
       "4             29831.0        1.830311       87.348731       8.548155  "
      ]
     },
     "execution_count": 76,
     "metadata": {},
     "output_type": "execute_result"
    }
   ],
   "source": [
    "race_in_system = pivoted_df.rename(columns={'def_county_address': 'county_fips_code','W': 'white_count_sys', 'B': 'black_count_sys', 'H': 'hisp_count_sys',\n",
    "                                            'total': 'total_count_sys' ,'W_perc': 'white_perc_sys', 'B_perc': 'black_perc_sys', 'H_perc': 'hisp_perc_sys'})             \n",
    "race_in_system.head()"
   ]
  },
  {
   "attachments": {},
   "cell_type": "markdown",
   "metadata": {},
   "source": [
    "## Population Race breakdown from IPUMS"
   ]
  },
  {
   "attachments": {},
   "cell_type": "markdown",
   "metadata": {},
   "source": [
    "I'm using 2013-17 data, because other datasets don't have all counties or information on hispanic/race overlaps "
   ]
  },
  {
   "cell_type": "code",
   "execution_count": 92,
   "metadata": {},
   "outputs": [
    {
     "data": {
      "text/html": [
       "<div>\n",
       "<style scoped>\n",
       "    .dataframe tbody tr th:only-of-type {\n",
       "        vertical-align: middle;\n",
       "    }\n",
       "\n",
       "    .dataframe tbody tr th {\n",
       "        vertical-align: top;\n",
       "    }\n",
       "\n",
       "    .dataframe thead th {\n",
       "        text-align: right;\n",
       "    }\n",
       "</style>\n",
       "<table border=\"1\" class=\"dataframe\">\n",
       "  <thead>\n",
       "    <tr style=\"text-align: right;\">\n",
       "      <th></th>\n",
       "      <th>GISJOIN</th>\n",
       "      <th>YEAR</th>\n",
       "      <th>STUSAB</th>\n",
       "      <th>REGIONA</th>\n",
       "      <th>DIVISIONA</th>\n",
       "      <th>STATE</th>\n",
       "      <th>STATEA</th>\n",
       "      <th>COUNTY</th>\n",
       "      <th>COUNTYA</th>\n",
       "      <th>COUSUBA</th>\n",
       "      <th>...</th>\n",
       "      <th>AHZAM012</th>\n",
       "      <th>AHZAM013</th>\n",
       "      <th>AHZAM014</th>\n",
       "      <th>AHZAM015</th>\n",
       "      <th>AHZAM016</th>\n",
       "      <th>AHZAM017</th>\n",
       "      <th>AHZAM018</th>\n",
       "      <th>AHZAM019</th>\n",
       "      <th>AHZAM020</th>\n",
       "      <th>AHZAM021</th>\n",
       "    </tr>\n",
       "  </thead>\n",
       "  <tbody>\n",
       "    <tr>\n",
       "      <th>0</th>\n",
       "      <td>G0100010</td>\n",
       "      <td>2013-2017</td>\n",
       "      <td>AL</td>\n",
       "      <td>NaN</td>\n",
       "      <td>NaN</td>\n",
       "      <td>Alabama</td>\n",
       "      <td>1</td>\n",
       "      <td>Autauga County</td>\n",
       "      <td>1</td>\n",
       "      <td>NaN</td>\n",
       "      <td>...</td>\n",
       "      <td>0</td>\n",
       "      <td>325</td>\n",
       "      <td>90</td>\n",
       "      <td>27</td>\n",
       "      <td>27</td>\n",
       "      <td>34</td>\n",
       "      <td>356</td>\n",
       "      <td>31</td>\n",
       "      <td>31</td>\n",
       "      <td>27</td>\n",
       "    </tr>\n",
       "    <tr>\n",
       "      <th>1</th>\n",
       "      <td>G0100030</td>\n",
       "      <td>2013-2017</td>\n",
       "      <td>AL</td>\n",
       "      <td>NaN</td>\n",
       "      <td>NaN</td>\n",
       "      <td>Alabama</td>\n",
       "      <td>1</td>\n",
       "      <td>Baldwin County</td>\n",
       "      <td>3</td>\n",
       "      <td>NaN</td>\n",
       "      <td>...</td>\n",
       "      <td>0</td>\n",
       "      <td>646</td>\n",
       "      <td>200</td>\n",
       "      <td>150</td>\n",
       "      <td>16</td>\n",
       "      <td>27</td>\n",
       "      <td>505</td>\n",
       "      <td>228</td>\n",
       "      <td>210</td>\n",
       "      <td>79</td>\n",
       "    </tr>\n",
       "    <tr>\n",
       "      <th>2</th>\n",
       "      <td>G0100050</td>\n",
       "      <td>2013-2017</td>\n",
       "      <td>AL</td>\n",
       "      <td>NaN</td>\n",
       "      <td>NaN</td>\n",
       "      <td>Alabama</td>\n",
       "      <td>1</td>\n",
       "      <td>Barbour County</td>\n",
       "      <td>5</td>\n",
       "      <td>NaN</td>\n",
       "      <td>...</td>\n",
       "      <td>0</td>\n",
       "      <td>152</td>\n",
       "      <td>39</td>\n",
       "      <td>12</td>\n",
       "      <td>19</td>\n",
       "      <td>21</td>\n",
       "      <td>160</td>\n",
       "      <td>9</td>\n",
       "      <td>9</td>\n",
       "      <td>21</td>\n",
       "    </tr>\n",
       "    <tr>\n",
       "      <th>3</th>\n",
       "      <td>G0100070</td>\n",
       "      <td>2013-2017</td>\n",
       "      <td>AL</td>\n",
       "      <td>NaN</td>\n",
       "      <td>NaN</td>\n",
       "      <td>Alabama</td>\n",
       "      <td>1</td>\n",
       "      <td>Bibb County</td>\n",
       "      <td>7</td>\n",
       "      <td>NaN</td>\n",
       "      <td>...</td>\n",
       "      <td>0</td>\n",
       "      <td>52</td>\n",
       "      <td>35</td>\n",
       "      <td>21</td>\n",
       "      <td>21</td>\n",
       "      <td>21</td>\n",
       "      <td>16</td>\n",
       "      <td>37</td>\n",
       "      <td>21</td>\n",
       "      <td>37</td>\n",
       "    </tr>\n",
       "    <tr>\n",
       "      <th>4</th>\n",
       "      <td>G0100090</td>\n",
       "      <td>2013-2017</td>\n",
       "      <td>AL</td>\n",
       "      <td>NaN</td>\n",
       "      <td>NaN</td>\n",
       "      <td>Alabama</td>\n",
       "      <td>1</td>\n",
       "      <td>Blount County</td>\n",
       "      <td>9</td>\n",
       "      <td>NaN</td>\n",
       "      <td>...</td>\n",
       "      <td>0</td>\n",
       "      <td>222</td>\n",
       "      <td>43</td>\n",
       "      <td>29</td>\n",
       "      <td>27</td>\n",
       "      <td>27</td>\n",
       "      <td>184</td>\n",
       "      <td>138</td>\n",
       "      <td>36</td>\n",
       "      <td>132</td>\n",
       "    </tr>\n",
       "  </tbody>\n",
       "</table>\n",
       "<p>5 rows × 84 columns</p>\n",
       "</div>"
      ],
      "text/plain": [
       "    GISJOIN       YEAR STUSAB  REGIONA  DIVISIONA    STATE  STATEA  \\\n",
       "0  G0100010  2013-2017     AL      NaN        NaN  Alabama       1   \n",
       "1  G0100030  2013-2017     AL      NaN        NaN  Alabama       1   \n",
       "2  G0100050  2013-2017     AL      NaN        NaN  Alabama       1   \n",
       "3  G0100070  2013-2017     AL      NaN        NaN  Alabama       1   \n",
       "4  G0100090  2013-2017     AL      NaN        NaN  Alabama       1   \n",
       "\n",
       "           COUNTY  COUNTYA  COUSUBA  ...  AHZAM012  AHZAM013  AHZAM014  \\\n",
       "0  Autauga County        1      NaN  ...         0       325        90   \n",
       "1  Baldwin County        3      NaN  ...         0       646       200   \n",
       "2  Barbour County        5      NaN  ...         0       152        39   \n",
       "3     Bibb County        7      NaN  ...         0        52        35   \n",
       "4   Blount County        9      NaN  ...         0       222        43   \n",
       "\n",
       "   AHZAM015  AHZAM016  AHZAM017  AHZAM018  AHZAM019  AHZAM020  AHZAM021  \n",
       "0        27        27        34       356        31        31        27  \n",
       "1       150        16        27       505       228       210        79  \n",
       "2        12        19        21       160         9         9        21  \n",
       "3        21        21        21        16        37        21        37  \n",
       "4        29        27        27       184       138        36       132  \n",
       "\n",
       "[5 rows x 84 columns]"
      ]
     },
     "execution_count": 92,
     "metadata": {},
     "output_type": "execute_result"
    }
   ],
   "source": [
    "pop_data = pd.read_csv('/Users/preetkhowaja/Desktop/nhgis0009_csv/nhgis0009_ds233_20175_county.csv', encoding='latin-1')\n",
    "pop_data.head()"
   ]
  },
  {
   "cell_type": "code",
   "execution_count": 93,
   "metadata": {},
   "outputs": [
    {
     "data": {
      "text/plain": [
       "(100,)"
      ]
     },
     "execution_count": 93,
     "metadata": {},
     "output_type": "execute_result"
    }
   ],
   "source": [
    "pop_data = pop_data.loc[pop_data.STATE == 'North Carolina']\n",
    "pop_data.COUNTY.shape"
   ]
  },
  {
   "cell_type": "code",
   "execution_count": 94,
   "metadata": {},
   "outputs": [
    {
     "data": {
      "text/plain": [
       "Index(['GISJOIN', 'YEAR', 'STUSAB', 'REGIONA', 'DIVISIONA', 'STATE', 'STATEA',\n",
       "       'COUNTY', 'COUNTYA', 'COUSUBA', 'PLACEA', 'TRACTA', 'BLKGRPA',\n",
       "       'CONCITA', 'AIANHHA', 'RES_ONLYA', 'TRUSTA', 'AIHHTLI', 'AITSCEA',\n",
       "       'ANRCA', 'CBSAA', 'CSAA', 'METDIVA', 'NECTAA', 'CNECTAA', 'NECTADIVA',\n",
       "       'UAA', 'CDCURRA', 'SLDUA', 'SLDLA', 'ZCTA5A', 'SUBMCDA', 'SDELMA',\n",
       "       'SDSECA', 'SDUNIA', 'PCI', 'PUMAA', 'GEOID', 'BTTRA', 'BTBGA', 'NAME_E',\n",
       "       'AHZAE001', 'AHZAE002', 'AHZAE003', 'AHZAE004', 'AHZAE005', 'AHZAE006',\n",
       "       'AHZAE007', 'AHZAE008', 'AHZAE009', 'AHZAE010', 'AHZAE011', 'AHZAE012',\n",
       "       'AHZAE013', 'AHZAE014', 'AHZAE015', 'AHZAE016', 'AHZAE017', 'AHZAE018',\n",
       "       'AHZAE019', 'AHZAE020', 'AHZAE021', 'NAME_M', 'AHZAM001', 'AHZAM002',\n",
       "       'AHZAM003', 'AHZAM004', 'AHZAM005', 'AHZAM006', 'AHZAM007', 'AHZAM008',\n",
       "       'AHZAM009', 'AHZAM010', 'AHZAM011', 'AHZAM012', 'AHZAM013', 'AHZAM014',\n",
       "       'AHZAM015', 'AHZAM016', 'AHZAM017', 'AHZAM018', 'AHZAM019', 'AHZAM020',\n",
       "       'AHZAM021'],\n",
       "      dtype='object')"
      ]
     },
     "execution_count": 94,
     "metadata": {},
     "output_type": "execute_result"
    }
   ],
   "source": [
    "pop_data.columns"
   ]
  },
  {
   "cell_type": "code",
   "execution_count": 95,
   "metadata": {},
   "outputs": [
    {
     "data": {
      "text/plain": [
       "37    100\n",
       "Name: STATEA, dtype: int64"
      ]
     },
     "execution_count": 95,
     "metadata": {},
     "output_type": "execute_result"
    }
   ],
   "source": [
    "## the state fips code for NC is 37\n",
    "pop_data.STATEA.value_counts()"
   ]
  },
  {
   "cell_type": "code",
   "execution_count": 96,
   "metadata": {},
   "outputs": [],
   "source": [
    "## Here we create a FIPS code column \n",
    "pop_data.COUNTYA = pop_data.COUNTYA.astype(str).str.zfill(3)\n",
    "pop_data['county_fips_code'] = pop_data.STATEA.astype(str) + pop_data.COUNTYA.astype(str)"
   ]
  },
  {
   "cell_type": "code",
   "execution_count": 97,
   "metadata": {},
   "outputs": [
    {
     "data": {
      "text/plain": [
       "37001    1\n",
       "37127    1\n",
       "37147    1\n",
       "37145    1\n",
       "37143    1\n",
       "        ..\n",
       "37061    1\n",
       "37059    1\n",
       "37057    1\n",
       "37055    1\n",
       "37199    1\n",
       "Name: county_fips_code, Length: 100, dtype: int64"
      ]
     },
     "execution_count": 97,
     "metadata": {},
     "output_type": "execute_result"
    }
   ],
   "source": [
    "pop_data.county_fips_code.value_counts()"
   ]
  },
  {
   "cell_type": "code",
   "execution_count": 98,
   "metadata": {},
   "outputs": [
    {
     "data": {
      "text/plain": [
       "Index(['GISJOIN', 'YEAR', 'STUSAB', 'REGIONA', 'DIVISIONA', 'STATE', 'STATEA',\n",
       "       'COUNTY', 'COUNTYA', 'COUSUBA', 'PLACEA', 'TRACTA', 'BLKGRPA',\n",
       "       'CONCITA', 'AIANHHA', 'RES_ONLYA', 'TRUSTA', 'AIHHTLI', 'AITSCEA',\n",
       "       'ANRCA', 'CBSAA', 'CSAA', 'METDIVA', 'NECTAA', 'CNECTAA', 'NECTADIVA',\n",
       "       'UAA', 'CDCURRA', 'SLDUA', 'SLDLA', 'ZCTA5A', 'SUBMCDA', 'SDELMA',\n",
       "       'SDSECA', 'SDUNIA', 'PCI', 'PUMAA', 'GEOID', 'BTTRA', 'BTBGA', 'NAME_E',\n",
       "       'AHZAE001', 'AHZAE002', 'AHZAE003', 'AHZAE004', 'AHZAE005', 'AHZAE006',\n",
       "       'AHZAE007', 'AHZAE008', 'AHZAE009', 'AHZAE010', 'AHZAE011', 'AHZAE012',\n",
       "       'AHZAE013', 'AHZAE014', 'AHZAE015', 'AHZAE016', 'AHZAE017', 'AHZAE018',\n",
       "       'AHZAE019', 'AHZAE020', 'AHZAE021', 'NAME_M', 'AHZAM001', 'AHZAM002',\n",
       "       'AHZAM003', 'AHZAM004', 'AHZAM005', 'AHZAM006', 'AHZAM007', 'AHZAM008',\n",
       "       'AHZAM009', 'AHZAM010', 'AHZAM011', 'AHZAM012', 'AHZAM013', 'AHZAM014',\n",
       "       'AHZAM015', 'AHZAM016', 'AHZAM017', 'AHZAM018', 'AHZAM019', 'AHZAM020',\n",
       "       'AHZAM021', 'county_fips_code'],\n",
       "      dtype='object')"
      ]
     },
     "execution_count": 98,
     "metadata": {},
     "output_type": "execute_result"
    }
   ],
   "source": [
    "pop_data.columns"
   ]
  },
  {
   "cell_type": "code",
   "execution_count": 99,
   "metadata": {},
   "outputs": [],
   "source": [
    "## Let's filter this dataset to only what we need\n",
    "pop_data = pop_data[['county_fips_code', 'COUNTY', 'AHZAE001', 'AHZAE002', 'AHZAE003', 'AHZAE004', 'AHZAE005', 'AHZAE006',\n",
    "       'AHZAE007', 'AHZAE008', 'AHZAE009', 'AHZAE010', 'AHZAE011', 'AHZAE012',\n",
    "       'AHZAE013', 'AHZAE014', 'AHZAE015', 'AHZAE016', 'AHZAE017', 'AHZAE018',\n",
    "       'AHZAE019', 'AHZAE020', 'AHZAE021', 'NAME_M', 'AHZAM001', 'AHZAM002',\n",
    "       'AHZAM003', 'AHZAM004', 'AHZAM005', 'AHZAM006', 'AHZAM007', 'AHZAM008',\n",
    "       'AHZAM009', 'AHZAM010', 'AHZAM011', 'AHZAM012', 'AHZAM013', 'AHZAM014',\n",
    "       'AHZAM015', 'AHZAM016', 'AHZAM017', 'AHZAM018', 'AHZAM019', 'AHZAM020',\n",
    "       'AHZAM021',]]"
   ]
  },
  {
   "cell_type": "code",
   "execution_count": 101,
   "metadata": {},
   "outputs": [
    {
     "data": {
      "text/plain": [
       "157844    1\n",
       "94125     1\n",
       "176484    1\n",
       "39240     1\n",
       "13506     1\n",
       "         ..\n",
       "59350     1\n",
       "41766     1\n",
       "164118    1\n",
       "35412     1\n",
       "17605     1\n",
       "Name: AHZAE001, Length: 100, dtype: int64"
      ]
     },
     "execution_count": 101,
     "metadata": {},
     "output_type": "execute_result"
    }
   ],
   "source": [
    "pop_data.AHZAE001.value_counts()"
   ]
  },
  {
   "attachments": {},
   "cell_type": "markdown",
   "metadata": {},
   "source": [
    "#### Now we rename and recode the races in this dataset. The encoding is as follows:\n",
    "Table 1:     Hispanic or Latino Origin by Race\n",
    "    Universe:    Total population\n",
    "    Source code: B03002\n",
    "    NHGIS code:  AHZA\n",
    "        AHZAE001:    Total\n",
    "        AHZAE002:    Not Hispanic or Latino\n",
    "        AHZAE003:    Not Hispanic or Latino: White alone\n",
    "        AHZAE004:    Not Hispanic or Latino: Black or African American alone\n",
    "        AHZAE005:    Not Hispanic or Latino: American Indian and Alaska Native alone\n",
    "        AHZAE006:    Not Hispanic or Latino: Asian alone\n",
    "        AHZAE007:    Not Hispanic or Latino: Native Hawaiian and Other Pacific Islander alone\n",
    "        AHZAE008:    Not Hispanic or Latino: Some other race alone\n",
    "        AHZAE009:    Not Hispanic or Latino: Two or more races\n",
    "        AHZAE010:    Not Hispanic or Latino: Two or more races: Two races including Some other race\n",
    "        AHZAE011:    Not Hispanic or Latino: Two or more races: Two races excluding Some other race, and three or more races\n",
    "        AHZAE012:    Hispanic or Latino\n",
    "        AHZAE013:    Hispanic or Latino: White alone\n",
    "        AHZAE014:    Hispanic or Latino: Black or African American alone\n",
    "        AHZAE015:    Hispanic or Latino: American Indian and Alaska Native alone\n",
    "        AHZAE016:    Hispanic or Latino: Asian alone\n",
    "        AHZAE017:    Hispanic or Latino: Native Hawaiian and Other Pacific Islander alone\n",
    "        AHZAE018:    Hispanic or Latino: Some other race alone\n",
    "        AHZAE019:    Hispanic or Latino: Two or more races\n",
    "        AHZAE020:    Hispanic or Latino: Two or more races: Two races including Some other race\n",
    "        AHZAE021:    Hispanic or Latino: Two or more races: Two races excluding Some other race, and three or more races\n",
    " "
   ]
  },
  {
   "attachments": {},
   "cell_type": "markdown",
   "metadata": {},
   "source": [
    "Creating new columns for population based on these encodings:\n",
    "- Black: Hispanic Black and Non-Hispanic Black\n",
    "- White: Non-hispanic white\n",
    "- Hispanic: Hispanic white, and other hispanic, excluding hispanic black"
   ]
  },
  {
   "cell_type": "code",
   "execution_count": 137,
   "metadata": {},
   "outputs": [],
   "source": [
    "pop_data['total'] = pop_data.AHZAE001\n",
    "pop_data['white_pop'] = pop_data.AHZAE003\n",
    "pop_data['black_pop'] = (pop_data.AHZAE004 + pop_data.AHZAE014)\n",
    "pop_data['hisp_pop'] = (\n",
    "    pop_data.AHZAE013\n",
    "    + pop_data.AHZAE015\n",
    "    + pop_data.AHZAE016\n",
    "    + pop_data.AHZAE017\n",
    "    + pop_data.AHZAE018\n",
    "    + pop_data.AHZAE019\n",
    "    + pop_data.AHZAE020\n",
    "    + pop_data.AHZAE021\n",
    ")\n",
    "pop_data['other_pop'] = pop_data['total'] - (pop_data['white_pop'] + pop_data['black_pop'] + pop_data['hisp_pop'])\n",
    "population_race_counts = pop_data[['county_fips_code','COUNTY','total', 'black_pop', 'white_pop', 'hisp_pop', 'other_pop']]"
   ]
  },
  {
   "cell_type": "code",
   "execution_count": null,
   "metadata": {},
   "outputs": [],
   "source": [
    "# Calculate the percentage of each race in each county\n",
    "for race in population_race_counts.columns[2:]:\n",
    "   population_race_counts[race + '_perc'] = population_race_counts[race] / population_race_counts['total'] * 100\n",
    "\n",
    "# Print the resulting dataframe\n",
    "population_race_counts\n"
   ]
  },
  {
   "attachments": {},
   "cell_type": "markdown",
   "metadata": {},
   "source": [
    "# Concat both datasets\n"
   ]
  },
  {
   "cell_type": "code",
   "execution_count": 148,
   "metadata": {},
   "outputs": [
    {
     "data": {
      "text/plain": [
       "dtype('float64')"
      ]
     },
     "execution_count": 148,
     "metadata": {},
     "output_type": "execute_result"
    }
   ],
   "source": [
    "## Race in system\n",
    "race_in_system.county_fips_code.dtype"
   ]
  },
  {
   "cell_type": "code",
   "execution_count": 150,
   "metadata": {},
   "outputs": [
    {
     "name": "stderr",
     "output_type": "stream",
     "text": [
      "/var/folders/3w/vg5tdhqd3fx1m3n150wrlhhh0000gn/T/ipykernel_45793/1427469944.py:1: SettingWithCopyWarning: \n",
      "A value is trying to be set on a copy of a slice from a DataFrame.\n",
      "Try using .loc[row_indexer,col_indexer] = value instead\n",
      "\n",
      "See the caveats in the documentation: https://pandas.pydata.org/pandas-docs/stable/user_guide/indexing.html#returning-a-view-versus-a-copy\n",
      "  population_race_counts.county_fips_code = population_race_counts.county_fips_code.astype(float)\n"
     ]
    }
   ],
   "source": [
    "population_race_counts.county_fips_code = population_race_counts.county_fips_code.astype(float)"
   ]
  },
  {
   "cell_type": "code",
   "execution_count": 151,
   "metadata": {},
   "outputs": [
    {
     "data": {
      "text/html": [
       "<div>\n",
       "<style scoped>\n",
       "    .dataframe tbody tr th:only-of-type {\n",
       "        vertical-align: middle;\n",
       "    }\n",
       "\n",
       "    .dataframe tbody tr th {\n",
       "        vertical-align: top;\n",
       "    }\n",
       "\n",
       "    .dataframe thead th {\n",
       "        text-align: right;\n",
       "    }\n",
       "</style>\n",
       "<table border=\"1\" class=\"dataframe\">\n",
       "  <thead>\n",
       "    <tr style=\"text-align: right;\">\n",
       "      <th></th>\n",
       "      <th>county_fips_code</th>\n",
       "      <th>COUNTY</th>\n",
       "      <th>total</th>\n",
       "      <th>black_pop</th>\n",
       "      <th>white_pop</th>\n",
       "      <th>hisp_pop</th>\n",
       "      <th>other_pop</th>\n",
       "      <th>total_perc</th>\n",
       "      <th>black_pop_perc</th>\n",
       "      <th>white_pop_perc</th>\n",
       "      <th>hisp_pop_perc</th>\n",
       "      <th>other_pop_perc</th>\n",
       "    </tr>\n",
       "  </thead>\n",
       "  <tbody>\n",
       "    <tr>\n",
       "      <th>1890</th>\n",
       "      <td>37001.0</td>\n",
       "      <td>Alamance County</td>\n",
       "      <td>157844</td>\n",
       "      <td>29972</td>\n",
       "      <td>102558</td>\n",
       "      <td>20236</td>\n",
       "      <td>5078</td>\n",
       "      <td>100.0</td>\n",
       "      <td>18.988368</td>\n",
       "      <td>64.974278</td>\n",
       "      <td>12.820253</td>\n",
       "      <td>3.217100</td>\n",
       "    </tr>\n",
       "    <tr>\n",
       "      <th>1891</th>\n",
       "      <td>37003.0</td>\n",
       "      <td>Alexander County</td>\n",
       "      <td>37159</td>\n",
       "      <td>2187</td>\n",
       "      <td>32335</td>\n",
       "      <td>1750</td>\n",
       "      <td>887</td>\n",
       "      <td>100.0</td>\n",
       "      <td>5.885519</td>\n",
       "      <td>87.017950</td>\n",
       "      <td>4.709492</td>\n",
       "      <td>2.387039</td>\n",
       "    </tr>\n",
       "    <tr>\n",
       "      <th>1892</th>\n",
       "      <td>37005.0</td>\n",
       "      <td>Alleghany County</td>\n",
       "      <td>10935</td>\n",
       "      <td>266</td>\n",
       "      <td>9549</td>\n",
       "      <td>1062</td>\n",
       "      <td>58</td>\n",
       "      <td>100.0</td>\n",
       "      <td>2.432556</td>\n",
       "      <td>87.325103</td>\n",
       "      <td>9.711934</td>\n",
       "      <td>0.530407</td>\n",
       "    </tr>\n",
       "    <tr>\n",
       "      <th>1893</th>\n",
       "      <td>37007.0</td>\n",
       "      <td>Anson County</td>\n",
       "      <td>25531</td>\n",
       "      <td>12417</td>\n",
       "      <td>11463</td>\n",
       "      <td>982</td>\n",
       "      <td>669</td>\n",
       "      <td>100.0</td>\n",
       "      <td>48.634993</td>\n",
       "      <td>44.898359</td>\n",
       "      <td>3.846304</td>\n",
       "      <td>2.620344</td>\n",
       "    </tr>\n",
       "    <tr>\n",
       "      <th>1894</th>\n",
       "      <td>37009.0</td>\n",
       "      <td>Ashe County</td>\n",
       "      <td>26833</td>\n",
       "      <td>210</td>\n",
       "      <td>24810</td>\n",
       "      <td>1545</td>\n",
       "      <td>268</td>\n",
       "      <td>100.0</td>\n",
       "      <td>0.782618</td>\n",
       "      <td>92.460776</td>\n",
       "      <td>5.757836</td>\n",
       "      <td>0.998770</td>\n",
       "    </tr>\n",
       "  </tbody>\n",
       "</table>\n",
       "</div>"
      ],
      "text/plain": [
       "      county_fips_code            COUNTY   total  black_pop  white_pop  \\\n",
       "1890           37001.0   Alamance County  157844      29972     102558   \n",
       "1891           37003.0  Alexander County   37159       2187      32335   \n",
       "1892           37005.0  Alleghany County   10935        266       9549   \n",
       "1893           37007.0      Anson County   25531      12417      11463   \n",
       "1894           37009.0       Ashe County   26833        210      24810   \n",
       "\n",
       "      hisp_pop  other_pop  total_perc  black_pop_perc  white_pop_perc  \\\n",
       "1890     20236       5078       100.0       18.988368       64.974278   \n",
       "1891      1750        887       100.0        5.885519       87.017950   \n",
       "1892      1062         58       100.0        2.432556       87.325103   \n",
       "1893       982        669       100.0       48.634993       44.898359   \n",
       "1894      1545        268       100.0        0.782618       92.460776   \n",
       "\n",
       "      hisp_pop_perc  other_pop_perc  \n",
       "1890      12.820253        3.217100  \n",
       "1891       4.709492        2.387039  \n",
       "1892       9.711934        0.530407  \n",
       "1893       3.846304        2.620344  \n",
       "1894       5.757836        0.998770  "
      ]
     },
     "execution_count": 151,
     "metadata": {},
     "output_type": "execute_result"
    }
   ],
   "source": [
    "population_race_counts.head()"
   ]
  },
  {
   "cell_type": "code",
   "execution_count": 152,
   "metadata": {},
   "outputs": [
    {
     "data": {
      "text/html": [
       "<div>\n",
       "<style scoped>\n",
       "    .dataframe tbody tr th:only-of-type {\n",
       "        vertical-align: middle;\n",
       "    }\n",
       "\n",
       "    .dataframe tbody tr th {\n",
       "        vertical-align: top;\n",
       "    }\n",
       "\n",
       "    .dataframe thead th {\n",
       "        text-align: right;\n",
       "    }\n",
       "</style>\n",
       "<table border=\"1\" class=\"dataframe\">\n",
       "  <thead>\n",
       "    <tr style=\"text-align: right;\">\n",
       "      <th></th>\n",
       "      <th>county_fips_code</th>\n",
       "      <th>black_count_sys</th>\n",
       "      <th>white_count_sys</th>\n",
       "      <th>hisp_count_sys</th>\n",
       "      <th>total_count_sys</th>\n",
       "      <th>black_perc_sys</th>\n",
       "      <th>white_perc_sys</th>\n",
       "      <th>hisp_perc_sys</th>\n",
       "      <th>COUNTY</th>\n",
       "      <th>total</th>\n",
       "      <th>black_pop</th>\n",
       "      <th>white_pop</th>\n",
       "      <th>hisp_pop</th>\n",
       "      <th>other_pop</th>\n",
       "      <th>total_perc</th>\n",
       "      <th>black_pop_perc</th>\n",
       "      <th>white_pop_perc</th>\n",
       "      <th>hisp_pop_perc</th>\n",
       "      <th>other_pop_perc</th>\n",
       "    </tr>\n",
       "  </thead>\n",
       "  <tbody>\n",
       "    <tr>\n",
       "      <th>0</th>\n",
       "      <td>37001.0</td>\n",
       "      <td>81148.0</td>\n",
       "      <td>114318.0</td>\n",
       "      <td>35411.0</td>\n",
       "      <td>239406.0</td>\n",
       "      <td>33.895558</td>\n",
       "      <td>47.750683</td>\n",
       "      <td>14.791192</td>\n",
       "      <td>Alamance County</td>\n",
       "      <td>157844</td>\n",
       "      <td>29972</td>\n",
       "      <td>102558</td>\n",
       "      <td>20236</td>\n",
       "      <td>5078</td>\n",
       "      <td>100.0</td>\n",
       "      <td>18.988368</td>\n",
       "      <td>64.974278</td>\n",
       "      <td>12.820253</td>\n",
       "      <td>3.217100</td>\n",
       "    </tr>\n",
       "    <tr>\n",
       "      <th>1</th>\n",
       "      <td>37003.0</td>\n",
       "      <td>26648.0</td>\n",
       "      <td>126218.0</td>\n",
       "      <td>13759.0</td>\n",
       "      <td>171351.0</td>\n",
       "      <td>15.551704</td>\n",
       "      <td>73.660498</td>\n",
       "      <td>8.029717</td>\n",
       "      <td>Alexander County</td>\n",
       "      <td>37159</td>\n",
       "      <td>2187</td>\n",
       "      <td>32335</td>\n",
       "      <td>1750</td>\n",
       "      <td>887</td>\n",
       "      <td>100.0</td>\n",
       "      <td>5.885519</td>\n",
       "      <td>87.017950</td>\n",
       "      <td>4.709492</td>\n",
       "      <td>2.387039</td>\n",
       "    </tr>\n",
       "    <tr>\n",
       "      <th>2</th>\n",
       "      <td>37005.0</td>\n",
       "      <td>297.0</td>\n",
       "      <td>9842.0</td>\n",
       "      <td>2433.0</td>\n",
       "      <td>13160.0</td>\n",
       "      <td>2.256839</td>\n",
       "      <td>74.787234</td>\n",
       "      <td>18.487842</td>\n",
       "      <td>Alleghany County</td>\n",
       "      <td>10935</td>\n",
       "      <td>266</td>\n",
       "      <td>9549</td>\n",
       "      <td>1062</td>\n",
       "      <td>58</td>\n",
       "      <td>100.0</td>\n",
       "      <td>2.432556</td>\n",
       "      <td>87.325103</td>\n",
       "      <td>9.711934</td>\n",
       "      <td>0.530407</td>\n",
       "    </tr>\n",
       "    <tr>\n",
       "      <th>3</th>\n",
       "      <td>37007.0</td>\n",
       "      <td>38169.0</td>\n",
       "      <td>20457.0</td>\n",
       "      <td>2030.0</td>\n",
       "      <td>61914.0</td>\n",
       "      <td>61.648416</td>\n",
       "      <td>33.040992</td>\n",
       "      <td>3.278741</td>\n",
       "      <td>Anson County</td>\n",
       "      <td>25531</td>\n",
       "      <td>12417</td>\n",
       "      <td>11463</td>\n",
       "      <td>982</td>\n",
       "      <td>669</td>\n",
       "      <td>100.0</td>\n",
       "      <td>48.634993</td>\n",
       "      <td>44.898359</td>\n",
       "      <td>3.846304</td>\n",
       "      <td>2.620344</td>\n",
       "    </tr>\n",
       "    <tr>\n",
       "      <th>4</th>\n",
       "      <td>37009.0</td>\n",
       "      <td>546.0</td>\n",
       "      <td>26057.0</td>\n",
       "      <td>2550.0</td>\n",
       "      <td>29831.0</td>\n",
       "      <td>1.830311</td>\n",
       "      <td>87.348731</td>\n",
       "      <td>8.548155</td>\n",
       "      <td>Ashe County</td>\n",
       "      <td>26833</td>\n",
       "      <td>210</td>\n",
       "      <td>24810</td>\n",
       "      <td>1545</td>\n",
       "      <td>268</td>\n",
       "      <td>100.0</td>\n",
       "      <td>0.782618</td>\n",
       "      <td>92.460776</td>\n",
       "      <td>5.757836</td>\n",
       "      <td>0.998770</td>\n",
       "    </tr>\n",
       "  </tbody>\n",
       "</table>\n",
       "</div>"
      ],
      "text/plain": [
       "   county_fips_code  black_count_sys  white_count_sys  hisp_count_sys  \\\n",
       "0           37001.0          81148.0         114318.0         35411.0   \n",
       "1           37003.0          26648.0         126218.0         13759.0   \n",
       "2           37005.0            297.0           9842.0          2433.0   \n",
       "3           37007.0          38169.0          20457.0          2030.0   \n",
       "4           37009.0            546.0          26057.0          2550.0   \n",
       "\n",
       "   total_count_sys  black_perc_sys  white_perc_sys  hisp_perc_sys  \\\n",
       "0         239406.0       33.895558       47.750683      14.791192   \n",
       "1         171351.0       15.551704       73.660498       8.029717   \n",
       "2          13160.0        2.256839       74.787234      18.487842   \n",
       "3          61914.0       61.648416       33.040992       3.278741   \n",
       "4          29831.0        1.830311       87.348731       8.548155   \n",
       "\n",
       "             COUNTY   total  black_pop  white_pop  hisp_pop  other_pop  \\\n",
       "0   Alamance County  157844      29972     102558     20236       5078   \n",
       "1  Alexander County   37159       2187      32335      1750        887   \n",
       "2  Alleghany County   10935        266       9549      1062         58   \n",
       "3      Anson County   25531      12417      11463       982        669   \n",
       "4       Ashe County   26833        210      24810      1545        268   \n",
       "\n",
       "   total_perc  black_pop_perc  white_pop_perc  hisp_pop_perc  other_pop_perc  \n",
       "0       100.0       18.988368       64.974278      12.820253        3.217100  \n",
       "1       100.0        5.885519       87.017950       4.709492        2.387039  \n",
       "2       100.0        2.432556       87.325103       9.711934        0.530407  \n",
       "3       100.0       48.634993       44.898359       3.846304        2.620344  \n",
       "4       100.0        0.782618       92.460776       5.757836        0.998770  "
      ]
     },
     "execution_count": 152,
     "metadata": {},
     "output_type": "execute_result"
    }
   ],
   "source": [
    "full_data_table = pd.merge(race_in_system, population_race_counts, on='county_fips_code', how='outer')\n",
    "full_data_table.head()"
   ]
  },
  {
   "cell_type": "code",
   "execution_count": 154,
   "metadata": {},
   "outputs": [],
   "source": [
    "full_data_table.to_csv('county_racial_representation_table.csv', index=False)"
   ]
  }
 ],
 "metadata": {
  "kernelspec": {
   "display_name": "capstone_env",
   "language": "python",
   "name": "python3"
  },
  "language_info": {
   "codemirror_mode": {
    "name": "ipython",
    "version": 3
   },
   "file_extension": ".py",
   "mimetype": "text/x-python",
   "name": "python",
   "nbconvert_exporter": "python",
   "pygments_lexer": "ipython3",
   "version": "3.11.0"
  },
  "orig_nbformat": 4,
  "vscode": {
   "interpreter": {
    "hash": "4b2d3b74ffb4505606178df239404bebd641c43a9134eb917d49dcc43c3a1117"
   }
  }
 },
 "nbformat": 4,
 "nbformat_minor": 2
}
