{
 "cells": [
  {
   "attachments": {},
   "cell_type": "markdown",
   "metadata": {},
   "source": [
    "# Case Dates\n",
    "### Whats the real order of events?"
   ]
  },
  {
   "cell_type": "code",
   "execution_count": null,
   "metadata": {},
   "outputs": [],
   "source": [
    "# I am blind without this\n",
    "%config InlineBackend.figure_format = 'retina' \n",
    "\n",
    "# see all columns\n",
    "pd.set_option(\"max_columns\", None)"
   ]
  },
  {
   "cell_type": "code",
   "execution_count": null,
   "metadata": {},
   "outputs": [],
   "source": [
    "import pandas as pd\n",
    "\n",
    "# I am blind without this\n",
    "%config InlineBackend.figure_format = 'retina' \n",
    "\n",
    "# see all columns\n",
    "pd.set_option(\"max_columns\", None)\n",
    "\n",
    "case_off_desc = pd.read_csv(\n",
    "    \"/Users/clarissaache/Documents/Capstone/JUSTFAIR_capstone/10_clean_data/case_offense_desc_.csv\",\n",
    "    low_memory=False,\n",
    "    index_col=[0],\n",
    ")\n",
    "\n",
    "pd.set_option(\"display.max_columns\", None)\n",
    "case_off_desc[\n",
    "    [\n",
    "        \"charged_offense_date\", #charged by the police\n",
    "        \"arraigned_offense_date\", # either the same day or the day after arrested and charged, defendants are brought before a magistrate judge for an initial hearing on the case.\n",
    "        \"jail_commited_date\",\n",
    "        \"jail_release_date\",\n",
    "        \"process_service_date\", # internal processing date?\n",
    "        \"case_creation_date\", # internal case record creation date?\n",
    "        \"case_trial_date\", # actual trial, if it happens \n",
    "        \"indictment_date\", # a formal charge or accusation \n",
    "        \"disposition_date\",\n",
    "        \"disposition\",\n",
    "    ]\n",
    "].sample(10)\n"
   ]
  }
 ],
 "metadata": {
  "language_info": {
   "name": "python"
  },
  "orig_nbformat": 4
 },
 "nbformat": 4,
 "nbformat_minor": 2
}
