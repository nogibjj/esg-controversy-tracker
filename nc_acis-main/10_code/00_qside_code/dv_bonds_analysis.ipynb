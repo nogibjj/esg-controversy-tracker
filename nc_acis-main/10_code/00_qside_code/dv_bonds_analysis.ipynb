{
 "cells": [
  {
   "attachments": {},
   "cell_type": "markdown",
   "metadata": {},
   "source": [
    "# Bonds Analysis for Domestic Violence Cases"
   ]
  },
  {
   "cell_type": "code",
   "execution_count": 21,
   "metadata": {},
   "outputs": [],
   "source": [
    "import pandas as pd\n",
    "import numpy as np\n",
    "import matplotlib.pyplot as plt"
   ]
  },
  {
   "attachments": {},
   "cell_type": "markdown",
   "metadata": {},
   "source": [
    "Add county and dv and plot by offense description"
   ]
  },
  {
   "cell_type": "code",
   "execution_count": 52,
   "metadata": {},
   "outputs": [],
   "source": [
    "data_chunks = pd.read_csv(\n",
    "    \"/Users/preetkhowaja/Desktop/qsides/10_cleaned_data/case_offense_desc.csv.zip\",\n",
    "    chunksize=100000,\n",
    "    index_col=[0],\n",
    "    usecols=[\n",
    "        \"case_id\",\n",
    "        \"disposition\",\n",
    "        \"def_zip_address\",\n",
    "        \"race\",\n",
    "        \"sex\",\n",
    "        \"bond_type\",\n",
    "        \"bond_amount\",\n",
    "        \"domestic_violence\",\n",
    "        \"charged_offense_code\",\n",
    "        \"domestic_violence_flag\",\n",
    "        \"prior_record_points\",\n",
    "        \"Offense Description\",\n",
    "    ],\n",
    ")\n"
   ]
  },
  {
   "cell_type": "code",
   "execution_count": null,
   "metadata": {},
   "outputs": [],
   "source": [
    "chunk_list = []\n",
    "\n",
    "for chunk in data_chunks:\n",
    "    chunk_list.append(chunk)\n",
    "\n",
    "full_data = pd.concat(chunk_list)"
   ]
  },
  {
   "cell_type": "code",
   "execution_count": 54,
   "metadata": {},
   "outputs": [
    {
     "data": {
      "text/html": [
       "<div>\n",
       "<style scoped>\n",
       "    .dataframe tbody tr th:only-of-type {\n",
       "        vertical-align: middle;\n",
       "    }\n",
       "\n",
       "    .dataframe tbody tr th {\n",
       "        vertical-align: top;\n",
       "    }\n",
       "\n",
       "    .dataframe thead th {\n",
       "        text-align: right;\n",
       "    }\n",
       "</style>\n",
       "<table border=\"1\" class=\"dataframe\">\n",
       "  <thead>\n",
       "    <tr style=\"text-align: right;\">\n",
       "      <th></th>\n",
       "      <th>def_zip_address</th>\n",
       "      <th>race</th>\n",
       "      <th>sex</th>\n",
       "      <th>bond_type</th>\n",
       "      <th>bond_amount</th>\n",
       "      <th>domestic_violence</th>\n",
       "      <th>charged_offense_code</th>\n",
       "      <th>disposition</th>\n",
       "      <th>domestic_violence_flag</th>\n",
       "      <th>prior_record_points</th>\n",
       "      <th>Offense Description</th>\n",
       "    </tr>\n",
       "    <tr>\n",
       "      <th>case_id</th>\n",
       "      <th></th>\n",
       "      <th></th>\n",
       "      <th></th>\n",
       "      <th></th>\n",
       "      <th></th>\n",
       "      <th></th>\n",
       "      <th></th>\n",
       "      <th></th>\n",
       "      <th></th>\n",
       "      <th></th>\n",
       "      <th></th>\n",
       "    </tr>\n",
       "  </thead>\n",
       "  <tbody>\n",
       "    <tr>\n",
       "      <th>1973006239</th>\n",
       "      <td>27253</td>\n",
       "      <td>W</td>\n",
       "      <td>M</td>\n",
       "      <td>SEC</td>\n",
       "      <td>10000.0</td>\n",
       "      <td>NaN</td>\n",
       "      <td>3599</td>\n",
       "      <td>SI</td>\n",
       "      <td>N</td>\n",
       "      <td>NaN</td>\n",
       "      <td>DANGEROUS DRUGS - FREE TEXT</td>\n",
       "    </tr>\n",
       "    <tr>\n",
       "      <th>1973006239</th>\n",
       "      <td>27253</td>\n",
       "      <td>W</td>\n",
       "      <td>M</td>\n",
       "      <td>SEC</td>\n",
       "      <td>10000.0</td>\n",
       "      <td>NaN</td>\n",
       "      <td>3599</td>\n",
       "      <td>VD</td>\n",
       "      <td>N</td>\n",
       "      <td>NaN</td>\n",
       "      <td>DANGEROUS DRUGS - FREE TEXT</td>\n",
       "    </tr>\n",
       "    <tr>\n",
       "      <th>1973007828</th>\n",
       "      <td>27253</td>\n",
       "      <td>W</td>\n",
       "      <td>M</td>\n",
       "      <td>SEC</td>\n",
       "      <td>1.0</td>\n",
       "      <td>NaN</td>\n",
       "      <td>3599</td>\n",
       "      <td>SI</td>\n",
       "      <td>N</td>\n",
       "      <td>NaN</td>\n",
       "      <td>DANGEROUS DRUGS - FREE TEXT</td>\n",
       "    </tr>\n",
       "    <tr>\n",
       "      <th>1973007828</th>\n",
       "      <td>27253</td>\n",
       "      <td>W</td>\n",
       "      <td>M</td>\n",
       "      <td>SEC</td>\n",
       "      <td>1.0</td>\n",
       "      <td>NaN</td>\n",
       "      <td>3599</td>\n",
       "      <td>VD</td>\n",
       "      <td>N</td>\n",
       "      <td>NaN</td>\n",
       "      <td>DANGEROUS DRUGS - FREE TEXT</td>\n",
       "    </tr>\n",
       "    <tr>\n",
       "      <th>1973013840</th>\n",
       "      <td>27253</td>\n",
       "      <td>W</td>\n",
       "      <td>M</td>\n",
       "      <td>SEC</td>\n",
       "      <td>3000.0</td>\n",
       "      <td>NaN</td>\n",
       "      <td>3599</td>\n",
       "      <td>SI</td>\n",
       "      <td>N</td>\n",
       "      <td>NaN</td>\n",
       "      <td>DANGEROUS DRUGS - FREE TEXT</td>\n",
       "    </tr>\n",
       "  </tbody>\n",
       "</table>\n",
       "</div>"
      ],
      "text/plain": [
       "           def_zip_address race sex bond_type  bond_amount domestic_violence  \\\n",
       "case_id                                                                        \n",
       "1973006239           27253    W   M       SEC      10000.0               NaN   \n",
       "1973006239           27253    W   M       SEC      10000.0               NaN   \n",
       "1973007828           27253    W   M       SEC          1.0               NaN   \n",
       "1973007828           27253    W   M       SEC          1.0               NaN   \n",
       "1973013840           27253    W   M       SEC       3000.0               NaN   \n",
       "\n",
       "            charged_offense_code disposition domestic_violence_flag  \\\n",
       "case_id                                                               \n",
       "1973006239                  3599          SI                      N   \n",
       "1973006239                  3599          VD                      N   \n",
       "1973007828                  3599          SI                      N   \n",
       "1973007828                  3599          VD                      N   \n",
       "1973013840                  3599          SI                      N   \n",
       "\n",
       "            prior_record_points          Offense Description  \n",
       "case_id                                                       \n",
       "1973006239                  NaN  DANGEROUS DRUGS - FREE TEXT  \n",
       "1973006239                  NaN  DANGEROUS DRUGS - FREE TEXT  \n",
       "1973007828                  NaN  DANGEROUS DRUGS - FREE TEXT  \n",
       "1973007828                  NaN  DANGEROUS DRUGS - FREE TEXT  \n",
       "1973013840                  NaN  DANGEROUS DRUGS - FREE TEXT  "
      ]
     },
     "execution_count": 54,
     "metadata": {},
     "output_type": "execute_result"
    }
   ],
   "source": [
    "full_data.head()"
   ]
  },
  {
   "cell_type": "code",
   "execution_count": 5,
   "metadata": {},
   "outputs": [
    {
     "data": {
      "text/plain": [
       "Index(['case_id', 'key_county_num', 'key_century', 'key_year', 'court_type',\n",
       "       'def_street_address', 'def_city_address', 'def_state_address',\n",
       "       'def_zip_address', 'def_ext_zip_address', 'race', 'sex',\n",
       "       'process_served', 'case_creation_date', 'process_service_date',\n",
       "       'case_trial_date', 'court_attorney_type', 'indictment_date',\n",
       "       'bond_type', 'bond_amount', 'arrest_date', 'domestic_violence',\n",
       "       'race_gender', 'CRRKEY', 'charged_offense_date', 'charged_offense_code',\n",
       "       'arraigned_offense_date', 'convicted_offense_code', 'plea_code',\n",
       "       'verdict_code', 'disposition', 'disposition_date', 'judge_code',\n",
       "       'min_sentence', 'max_sentence', 'min_sentence_frame', 'fines',\n",
       "       'restitution', 'probation_len', 'probation_frame',\n",
       "       'supervised_probation_flag', 'date to paid', 'monies_paid_flag',\n",
       "       'more_offense_check_flag', 'max_sentence_frame',\n",
       "       'domestic_violence_flag', 'active_sentence_ind', 'community_service_hr',\n",
       "       'offense_class', 'prior_record_points', 'judgement_file_number',\n",
       "       'judgement_file_offense_num', 'court_cost', 'min_sentence_day',\n",
       "       'max_sentence_day', 'CODE', 'Offense Description', 'T',\n",
       "       'NC General Statute', 'CL', '_merge'],\n",
       "      dtype='object')"
      ]
     },
     "execution_count": 5,
     "metadata": {},
     "output_type": "execute_result"
    }
   ],
   "source": [
    "full_data.columns"
   ]
  },
  {
   "cell_type": "code",
   "execution_count": 55,
   "metadata": {},
   "outputs": [
    {
     "data": {
      "text/plain": [
       "N    5980629\n",
       "Y     142592\n",
       "Name: domestic_violence_flag, dtype: int64"
      ]
     },
     "execution_count": 55,
     "metadata": {},
     "output_type": "execute_result"
    }
   ],
   "source": [
    "## Here we look at how many cases are DV cases\n",
    "full_data.domestic_violence_flag.value_counts()"
   ]
  },
  {
   "cell_type": "code",
   "execution_count": 60,
   "metadata": {},
   "outputs": [
    {
     "data": {
      "text/plain": [
       "N    89628\n",
       "Y    63690\n",
       "Name: domestic_violence_flag, dtype: int64"
      ]
     },
     "execution_count": 60,
     "metadata": {},
     "output_type": "execute_result"
    }
   ],
   "source": [
    "## How many cases are DV cases in the Domestic Violence District Court\n",
    "full_data[full_data.domestic_violence == 'Y'].domestic_violence_flag.value_counts()"
   ]
  },
  {
   "attachments": {},
   "cell_type": "markdown",
   "metadata": {},
   "source": [
    "In most non-domestic violence cases, your conditions of pre-trial release will be set by a magistrate when you are arrested and taken to jail. In those cases, you may be released on a written promise to appear, an unsecured bond, or a secured bond.\n",
    "\n",
    "The first two types of bonds don’t require you to pay any money to get out. The third type, a secured bond, requires you pay money to get out. You can pay out of pocket or use a bondsman to post the secured bond amount.\n",
    "\n",
    "However, in domestic violence cases, the laws of North Carolina require pre-trial release conditions to be set by a district court judge. This means a magistrate cannot set your bond when you get to the jail."
   ]
  },
  {
   "cell_type": "code",
   "execution_count": 56,
   "metadata": {},
   "outputs": [
    {
     "data": {
      "text/plain": [
       "(142592, 11)"
      ]
     },
     "execution_count": 56,
     "metadata": {},
     "output_type": "execute_result"
    }
   ],
   "source": [
    "## Let's investigate bonds in domestic violence cases only\n",
    "dv_cases = full_data.loc[full_data['domestic_violence_flag'] == 'Y']\n",
    "dv_cases.shape"
   ]
  },
  {
   "attachments": {},
   "cell_type": "markdown",
   "metadata": {},
   "source": [
    "# Investigating DV Cases "
   ]
  },
  {
   "cell_type": "code",
   "execution_count": 61,
   "metadata": {},
   "outputs": [
    {
     "data": {
      "text/plain": [
       "B    0.465873\n",
       "W    0.459385\n",
       "H    0.036407\n",
       "I    0.016566\n",
       "U    0.009419\n",
       "O    0.009356\n",
       "A    0.002995\n",
       "Name: race, dtype: float64"
      ]
     },
     "execution_count": 61,
     "metadata": {},
     "output_type": "execute_result"
    }
   ],
   "source": [
    "## Checking the race distribution in DV cases\n",
    "dv_cases.race.value_counts(normalize=True)"
   ]
  },
  {
   "attachments": {},
   "cell_type": "markdown",
   "metadata": {},
   "source": [
    "Reasonable distribution of B and W defendants in DV cases. \n"
   ]
  },
  {
   "cell_type": "code",
   "execution_count": 64,
   "metadata": {},
   "outputs": [
    {
     "name": "stdout",
     "output_type": "stream",
     "text": [
      "40459 missing values for Bond Amount\n",
      "34612 missing values for Bond Type\n"
     ]
    }
   ],
   "source": [
    "## How many missing fields for bond amount and type\n",
    "print(f\"{dv_cases.bond_amount.isna().sum()} missing values for Bond Amount\")\n",
    "print(f\"{dv_cases.bond_type.isna().sum()} missing values for Bond Type\")"
   ]
  },
  {
   "cell_type": "code",
   "execution_count": 87,
   "metadata": {},
   "outputs": [],
   "source": [
    "## I want to find out why these are missing. Let's look at their disposition\n",
    "missing_info = dv_cases[(dv_cases.bond_amount.isna()) & (dv_cases.bond_type.isna())]"
   ]
  },
  {
   "cell_type": "code",
   "execution_count": 88,
   "metadata": {},
   "outputs": [
    {
     "data": {
      "text/plain": [
       "JU    32399\n",
       "JR      601\n",
       "WC      183\n",
       "WM        7\n",
       "VD        3\n",
       "MA        2\n",
       "Name: disposition, dtype: int64"
      ]
     },
     "execution_count": 88,
     "metadata": {},
     "output_type": "execute_result"
    }
   ],
   "source": [
    "missing_info.disposition.value_counts()"
   ]
  },
  {
   "cell_type": "code",
   "execution_count": 89,
   "metadata": {},
   "outputs": [
    {
     "data": {
      "text/plain": [
       "ASSAULT ON A FEMALE               7481\n",
       "SIMPLE ASSAULT                    6032\n",
       "DV PROTECTIVE ORDER VIOL (M)      2393\n",
       "ASSAULT AND BATTERY               1350\n",
       "OTHER - FREE TEXT                 1274\n",
       "                                  ... \n",
       "EXPLOIT DISABLE/ELDER CAPACITY       1\n",
       "CONSPIRE TRAFFIC METHAMPHETAMI       1\n",
       "AID AND ABET ARMED ROBBERY           1\n",
       "UNLAWFUL OBTAINING CREDIT CARD       1\n",
       "FINANCIAL CARD FRAUD (M)             1\n",
       "Name: Offense Description, Length: 360, dtype: int64"
      ]
     },
     "execution_count": 89,
     "metadata": {},
     "output_type": "execute_result"
    }
   ],
   "source": [
    "missing_info['Offense Description'].value_counts()"
   ]
  },
  {
   "cell_type": "code",
   "execution_count": 93,
   "metadata": {},
   "outputs": [
    {
     "data": {
      "text/plain": [
       "<AxesSubplot: >"
      ]
     },
     "execution_count": 93,
     "metadata": {},
     "output_type": "execute_result"
    },
    {
     "data": {
      "image/png": "[encoded data removed]",
      "text/plain": [
       "<Figure size 640x480 with 1 Axes>"
      ]
     },
     "metadata": {},
     "output_type": "display_data"
    }
   ],
   "source": [
    "## Most missing cases have minimal prior record points, barring some exceptions\n",
    "## This could be why no bail was set for these cases\n",
    "missing_info.prior_record_points.hist(range = [0,50])"
   ]
  },
  {
   "attachments": {},
   "cell_type": "markdown",
   "metadata": {},
   "source": [
    "The different disposition codes are as follows:\n",
    "\n",
    "Method of Disposition\n",
    "- CD - Capacity Dismissed Without Leave\n",
    "- CV - Change of Venue\n",
    "- DC - Dismissed by the Court\n",
    "- DD - Deferred Proceeding or Deferred Prosecution Dismissal\n",
    "\n",
    "Dismissal\n",
    "- FE - Fight Extradition\n",
    "- HC - Habeas Corpus Hearing (superior only)\n",
    "- JR - Jury                  \n",
    "- JU - Judge                 \n",
    "- LC -  Capacity Dismissed with Leave\n",
    "- MA - Magistrate\n",
    "- VD - Voluntary Dismissal DA\n",
    "- WC - Waiver - Clerk\n",
    "- WD - Withdrawn From Superior Court\n",
    "- WE - Waiver of Extradition (Code 9901 or 5099 only)\n",
    "- WM - Waiver - Magistrate\n",
    "- WP - Waived Probable Cause (Transfer to Superior Court)\n",
    "\n",
    "(a lot of other codes, see ACIS guide)"
   ]
  },
  {
   "attachments": {},
   "cell_type": "markdown",
   "metadata": {},
   "source": [
    "Most of our missing bond information is where the case was resolved by judge or jury. This is worth looking into.We need to know what disposition codes mean."
   ]
  },
  {
   "cell_type": "code",
   "execution_count": 68,
   "metadata": {},
   "outputs": [
    {
     "data": {
      "text/plain": [
       "W    0.475610\n",
       "B    0.447925\n",
       "H    0.035747\n",
       "I    0.018177\n",
       "O    0.009970\n",
       "U    0.009161\n",
       "A    0.003410\n",
       "Name: race, dtype: float64"
      ]
     },
     "execution_count": 68,
     "metadata": {},
     "output_type": "execute_result"
    }
   ],
   "source": [
    "## What is the distribution of race for dismissed cases?\n",
    "missing_bond_info = dv_cases.loc[(dv_cases.bond_amount.isna()) & (dv_cases.bond_type.isna())]\n",
    "missing_bond_info.race.value_counts(normalize=True)"
   ]
  },
  {
   "cell_type": "code",
   "execution_count": 73,
   "metadata": {},
   "outputs": [
    {
     "name": "stdout",
     "output_type": "stream",
     "text": [
      "0.02547713908785359 0.9796743829330494\n",
      "-0.02299424930681137 0.9816548601262083\n"
     ]
    }
   ],
   "source": [
    "## Are the differences in the proportions significant?\n",
    "stat_b, pval_b = proportions_ztest([0.465873, 0.447925], [1, 1])\n",
    "stat_w, pval_w = proportions_ztest([0.459385, 0.475610], [1, 1])\n",
    "print(stat_b, pval_b)\n",
    "print(stat_w, pval_w)"
   ]
  },
  {
   "attachments": {},
   "cell_type": "markdown",
   "metadata": {},
   "source": [
    "No significant difference in these proportions"
   ]
  },
  {
   "cell_type": "code",
   "execution_count": 74,
   "metadata": {},
   "outputs": [
    {
     "data": {
      "text/plain": [
       "(142592, 11)"
      ]
     },
     "execution_count": 74,
     "metadata": {},
     "output_type": "execute_result"
    }
   ],
   "source": [
    "dv_cases.shape"
   ]
  },
  {
   "cell_type": "code",
   "execution_count": 30,
   "metadata": {},
   "outputs": [],
   "source": [
    "dv_cases = dv_cases.loc[~dv_cases.bond_amount.isna()]\n",
    "dv_cases = dv_cases.loc[~dv_cases.bond_type.isna()]"
   ]
  },
  {
   "attachments": {},
   "cell_type": "markdown",
   "metadata": {},
   "source": [
    "Secured bonds are where you have to pay. For Unsecured and WPA you dont have to pay. How much more likely is a person to get a secured bond vs. a WPA and an unsecured bond because of their race?"
   ]
  },
  {
   "cell_type": "code",
   "execution_count": 31,
   "metadata": {},
   "outputs": [
    {
     "data": {
      "text/plain": [
       "1389    25129\n",
       "1368    14386\n",
       "3872     6872\n",
       "1391     5272\n",
       "1336     3778\n",
       "        ...  \n",
       "3454        1\n",
       "3506        1\n",
       "3517        1\n",
       "3432        1\n",
       "5590        1\n",
       "Name: charged_offense_code, Length: 508, dtype: int64"
      ]
     },
     "execution_count": 31,
     "metadata": {},
     "output_type": "execute_result"
    }
   ],
   "source": [
    "dv_cases['charged_offense_code'].value_counts()"
   ]
  },
  {
   "cell_type": "code",
   "execution_count": 76,
   "metadata": {},
   "outputs": [
    {
     "data": {
      "text/plain": [
       "B    0.484444\n",
       "W    0.477698\n",
       "H    0.037858\n",
       "Name: race, dtype: float64"
      ]
     },
     "execution_count": 76,
     "metadata": {},
     "output_type": "execute_result"
    }
   ],
   "source": [
    "## Reducing our dataset to just black, white and hispanic offenders\n",
    "dv_cases = dv_cases.loc[(dv_cases.race == 'W') | (dv_cases.race == 'B') | (dv_cases.race == 'H')]\n",
    "dv_cases.race.value_counts(normalize=True)"
   ]
  },
  {
   "cell_type": "code",
   "execution_count": 33,
   "metadata": {},
   "outputs": [
    {
     "name": "stdout",
     "output_type": "stream",
     "text": [
      "race\n",
      "B    29159.657179\n",
      "H    51579.140691\n",
      "W    22441.419059\n",
      "Name: bond_amount, dtype: float64\n"
     ]
    }
   ],
   "source": [
    "# Group the data by race and calculate the average bail amount for each group\n",
    "grouped = dv_cases.groupby(\"race\")\n",
    "average_bail = grouped[\"bond_amount\"].mean()\n",
    "\n",
    "# Print the average bail amount for each race\n",
    "print(average_bail)"
   ]
  },
  {
   "cell_type": "code",
   "execution_count": 34,
   "metadata": {},
   "outputs": [
    {
     "name": "stdout",
     "output_type": "stream",
     "text": [
      "race\n",
      "B    3.481600\n",
      "H    1.582485\n",
      "W    2.871524\n",
      "Name: prior_record_points, dtype: float64\n"
     ]
    }
   ],
   "source": [
    "# Group the data by race and calculate the average prior record for each group\n",
    "grouped_prior = dv_cases.groupby(\"race\")\n",
    "average_priors = grouped_prior[\"prior_record_points\"].mean()\n",
    "\n",
    "# Print the average bail amount for each race\n",
    "print(average_priors)"
   ]
  },
  {
   "cell_type": "code",
   "execution_count": 45,
   "metadata": {},
   "outputs": [
    {
     "data": {
      "text/plain": [
       "ASSAULT ON A FEMALE               25129\n",
       "SIMPLE ASSAULT                    14386\n",
       "DV PROTECTIVE ORDER VIOL (M)       6872\n",
       "ASSAULT GOVT OFFICIAL/EMPLY        5272\n",
       "ASSAULT AND BATTERY                3778\n",
       "                                  ...  \n",
       "CONCEAL HANDGUN PERMIT VIOL(M)        1\n",
       "FAIL RETURN HIRED MV >$4000           1\n",
       "INDECENT LIBERTIES STUDENT (F)        1\n",
       "PWIMSD COCAINE                        1\n",
       "ALTERING SERIAL NUMBERS               1\n",
       "Name: Offense Description, Length: 499, dtype: int64"
      ]
     },
     "execution_count": 45,
     "metadata": {},
     "output_type": "execute_result"
    }
   ],
   "source": [
    "dv_cases['Offense Description'].value_counts(dropna=False)"
   ]
  },
  {
   "attachments": {},
   "cell_type": "markdown",
   "metadata": {},
   "source": [
    "This seems to show that while Black defendants have a higher average bail amount, they also have a higher prior record on average. What is surprising is that Hispanic defendants have a low average prior record but the highest average bail, this could be due to low statistical power and outliers. "
   ]
  },
  {
   "cell_type": "code",
   "execution_count": 77,
   "metadata": {},
   "outputs": [
    {
     "data": {
      "text/plain": [
       "(163, 11)"
      ]
     },
     "execution_count": 77,
     "metadata": {},
     "output_type": "execute_result"
    }
   ],
   "source": [
    "dv_cases[dv_cases['bond_amount'] == 0].shape"
   ]
  },
  {
   "cell_type": "code",
   "execution_count": 42,
   "metadata": {},
   "outputs": [
    {
     "name": "stderr",
     "output_type": "stream",
     "text": [
      "/Users/preetkhowaja/opt/miniconda3/lib/python3.10/site-packages/pandas/core/arraylike.py:402: RuntimeWarning: divide by zero encountered in log10\n",
      "  result = getattr(ufunc, method)(*inputs, **kwargs)\n"
     ]
    },
    {
     "data": {
      "image/png": "[encoded data removed]",
      "text/plain": [
       "<Figure size 1000x700 with 1 Axes>"
      ]
     },
     "metadata": {},
     "output_type": "display_data"
    }
   ],
   "source": [
    "## Looking at median bail amount distribution by race\n",
    "\n",
    "black_def = np.log10(dv_cases[dv_cases[\"race\"] == \"B\"][\"bond_amount\"])\n",
    "white_def = np.log10(dv_cases[dv_cases[\"race\"] == \"W\"][\"bond_amount\"])\n",
    "hisp_def = np.log10(dv_cases[dv_cases[\"race\"] == \"H\"][\"bond_amount\"])\n",
    "\n",
    "\n",
    "# Add major gridlines in the y-axis\n",
    "ax.grid(color=\"grey\", axis=\"y\", linestyle=\"-\", linewidth=0.25, alpha=0.5)\n",
    "\n",
    "# Visualize petal length distribution for all species\n",
    "fig, ax = plt.subplots(figsize=(10, 7))\n",
    "\n",
    "# Set plot title\n",
    "ax.set_title(\"Distribution of Bail Bond Amounts (in $) by Race for DV Cases\")\n",
    "plt.xlabel(\"Race\")\n",
    "plt.ylabel(\"Bond Amount in $\")\n",
    "# Set names as labels for the boxplot\n",
    "dataset = [\n",
    "    black_def,\n",
    "    white_def,\n",
    "    hisp_def\n",
    "]\n",
    "ax.boxplot(\n",
    "    dataset,\n",
    "    labels=[\n",
    "        \"black\",\n",
    "        \"white\",\n",
    "        \"hispanic\"\n",
    "    ],\n",
    "    showfliers=True,\n",
    ")\n",
    "\n",
    "plt.show()\n"
   ]
  },
  {
   "cell_type": "code",
   "execution_count": 78,
   "metadata": {},
   "outputs": [
    {
     "data": {
      "text/html": [
       "<div>\n",
       "<style scoped>\n",
       "    .dataframe tbody tr th:only-of-type {\n",
       "        vertical-align: middle;\n",
       "    }\n",
       "\n",
       "    .dataframe tbody tr th {\n",
       "        vertical-align: top;\n",
       "    }\n",
       "\n",
       "    .dataframe thead th {\n",
       "        text-align: right;\n",
       "    }\n",
       "</style>\n",
       "<table border=\"1\" class=\"dataframe\">\n",
       "  <thead>\n",
       "    <tr style=\"text-align: right;\">\n",
       "      <th>race</th>\n",
       "      <th>B</th>\n",
       "      <th>H</th>\n",
       "      <th>W</th>\n",
       "    </tr>\n",
       "    <tr>\n",
       "      <th>bond_type</th>\n",
       "      <th></th>\n",
       "      <th></th>\n",
       "      <th></th>\n",
       "    </tr>\n",
       "  </thead>\n",
       "  <tbody>\n",
       "    <tr>\n",
       "      <th>CSH</th>\n",
       "      <td>0.016907</td>\n",
       "      <td>0.052099</td>\n",
       "      <td>0.025223</td>\n",
       "    </tr>\n",
       "    <tr>\n",
       "      <th>CUS</th>\n",
       "      <td>0.008444</td>\n",
       "      <td>0.007587</td>\n",
       "      <td>0.009114</td>\n",
       "    </tr>\n",
       "    <tr>\n",
       "      <th>PTR</th>\n",
       "      <td>0.001767</td>\n",
       "      <td>0.001265</td>\n",
       "      <td>0.000999</td>\n",
       "    </tr>\n",
       "    <tr>\n",
       "      <th>SEC</th>\n",
       "      <td>0.791992</td>\n",
       "      <td>0.772888</td>\n",
       "      <td>0.743878</td>\n",
       "    </tr>\n",
       "    <tr>\n",
       "      <th>UNS</th>\n",
       "      <td>0.140380</td>\n",
       "      <td>0.123419</td>\n",
       "      <td>0.169015</td>\n",
       "    </tr>\n",
       "    <tr>\n",
       "      <th>WPA</th>\n",
       "      <td>0.040510</td>\n",
       "      <td>0.042742</td>\n",
       "      <td>0.051771</td>\n",
       "    </tr>\n",
       "  </tbody>\n",
       "</table>\n",
       "</div>"
      ],
      "text/plain": [
       "race              B         H         W\n",
       "bond_type                              \n",
       "CSH        0.016907  0.052099  0.025223\n",
       "CUS        0.008444  0.007587  0.009114\n",
       "PTR        0.001767  0.001265  0.000999\n",
       "SEC        0.791992  0.772888  0.743878\n",
       "UNS        0.140380  0.123419  0.169015\n",
       "WPA        0.040510  0.042742  0.051771"
      ]
     },
     "execution_count": 78,
     "metadata": {},
     "output_type": "execute_result"
    }
   ],
   "source": [
    "## Creating a cross tab with percentages\n",
    "race_perc = pd.crosstab(dv_cases.bond_type, dv_cases.race, normalize='columns')\n",
    "race_perc"
   ]
  },
  {
   "cell_type": "code",
   "execution_count": 79,
   "metadata": {},
   "outputs": [],
   "source": [
    "## dividing the dataframe by type of bond\n",
    "\n",
    "secured_bonds = dv_cases.loc[dv_cases.bond_type == 'SEC']\n",
    "no_pay_bonds = dv_cases.loc[(dv_cases.bond_type == 'UNS') | (dv_cases.bond_type == 'WPA')]"
   ]
  },
  {
   "cell_type": "code",
   "execution_count": 80,
   "metadata": {},
   "outputs": [],
   "source": [
    "# Let's limit this analysis to one type of crime, Assault on a female\n",
    "fem_assault_cases = dv_cases.loc[dv_cases.charged_offense_code == 1389]"
   ]
  },
  {
   "cell_type": "code",
   "execution_count": 81,
   "metadata": {},
   "outputs": [
    {
     "data": {
      "text/plain": [
       "B    0.505556\n",
       "W    0.450651\n",
       "H    0.043793\n",
       "Name: race, dtype: float64"
      ]
     },
     "execution_count": 81,
     "metadata": {},
     "output_type": "execute_result"
    }
   ],
   "source": [
    "fem_assault_cases.race.value_counts(normalize=True)"
   ]
  },
  {
   "cell_type": "code",
   "execution_count": 82,
   "metadata": {},
   "outputs": [
    {
     "name": "stdout",
     "output_type": "stream",
     "text": [
      "race\n",
      "B    7918.849184\n",
      "H    8960.503604\n",
      "W    7637.435644\n",
      "Name: bond_amount, dtype: float64\n"
     ]
    }
   ],
   "source": [
    "# Group the data by race and calculate the average bail amount for each group\n",
    "grouped_fem_as = fem_assault_cases.groupby(\"race\")\n",
    "average_bail_fem_assault = grouped_fem_as[\"bond_amount\"].mean()\n",
    "\n",
    "# Print the average bail amount for each race\n",
    "print(average_bail_fem_assault)"
   ]
  },
  {
   "cell_type": "code",
   "execution_count": 83,
   "metadata": {},
   "outputs": [
    {
     "data": {
      "text/html": [
       "<div>\n",
       "<style scoped>\n",
       "    .dataframe tbody tr th:only-of-type {\n",
       "        vertical-align: middle;\n",
       "    }\n",
       "\n",
       "    .dataframe tbody tr th {\n",
       "        vertical-align: top;\n",
       "    }\n",
       "\n",
       "    .dataframe thead th {\n",
       "        text-align: right;\n",
       "    }\n",
       "</style>\n",
       "<table border=\"1\" class=\"dataframe\">\n",
       "  <thead>\n",
       "    <tr style=\"text-align: right;\">\n",
       "      <th>race</th>\n",
       "      <th>B</th>\n",
       "      <th>H</th>\n",
       "      <th>W</th>\n",
       "    </tr>\n",
       "    <tr>\n",
       "      <th>bond_type</th>\n",
       "      <th></th>\n",
       "      <th></th>\n",
       "      <th></th>\n",
       "    </tr>\n",
       "  </thead>\n",
       "  <tbody>\n",
       "    <tr>\n",
       "      <th>CSH</th>\n",
       "      <td>0.363787</td>\n",
       "      <td>0.119601</td>\n",
       "      <td>0.516611</td>\n",
       "    </tr>\n",
       "    <tr>\n",
       "      <th>CUS</th>\n",
       "      <td>0.320988</td>\n",
       "      <td>0.012346</td>\n",
       "      <td>0.666667</td>\n",
       "    </tr>\n",
       "    <tr>\n",
       "      <th>PTR</th>\n",
       "      <td>0.641026</td>\n",
       "      <td>0.051282</td>\n",
       "      <td>0.307692</td>\n",
       "    </tr>\n",
       "    <tr>\n",
       "      <th>SEC</th>\n",
       "      <td>0.522861</td>\n",
       "      <td>0.042861</td>\n",
       "      <td>0.434279</td>\n",
       "    </tr>\n",
       "    <tr>\n",
       "      <th>UNS</th>\n",
       "      <td>0.478283</td>\n",
       "      <td>0.039272</td>\n",
       "      <td>0.482445</td>\n",
       "    </tr>\n",
       "    <tr>\n",
       "      <th>WPA</th>\n",
       "      <td>0.461911</td>\n",
       "      <td>0.055623</td>\n",
       "      <td>0.482467</td>\n",
       "    </tr>\n",
       "  </tbody>\n",
       "</table>\n",
       "</div>"
      ],
      "text/plain": [
       "race              B         H         W\n",
       "bond_type                              \n",
       "CSH        0.363787  0.119601  0.516611\n",
       "CUS        0.320988  0.012346  0.666667\n",
       "PTR        0.641026  0.051282  0.307692\n",
       "SEC        0.522861  0.042861  0.434279\n",
       "UNS        0.478283  0.039272  0.482445\n",
       "WPA        0.461911  0.055623  0.482467"
      ]
     },
     "execution_count": 83,
     "metadata": {},
     "output_type": "execute_result"
    }
   ],
   "source": [
    "pd.crosstab(fem_assault_cases.bond_type, fem_assault_cases.race, normalize='index')"
   ]
  },
  {
   "cell_type": "code",
   "execution_count": 84,
   "metadata": {},
   "outputs": [],
   "source": [
    "from statsmodels.stats.proportion import proportions_ztest\n"
   ]
  },
  {
   "cell_type": "code",
   "execution_count": 38,
   "metadata": {},
   "outputs": [
    {
     "name": "stdout",
     "output_type": "stream",
     "text": [
      "Test statistic:  -0.024482852962126978\n",
      "p-value:  0.9804674609700968\n"
     ]
    }
   ],
   "source": [
    "# Conduct Z-test\n",
    "stat, pval = proportions_ztest([0.505556, 0.522861], [1, 1])\n",
    "\n",
    "# Print results\n",
    "print(\"Test statistic: \", stat)\n",
    "print(\"p-value: \", pval)"
   ]
  },
  {
   "cell_type": "code",
   "execution_count": null,
   "metadata": {},
   "outputs": [],
   "source": [
    "import statsmodels.formula.api as smf\n",
    "\n",
    "reg_dv = smf.ols(\n",
    "    \"bond_amount ~ C(race) * C(sex) + C(bond_type) + prior_record_points\",\n",
    "    fem_assault_cases,\n",
    ").fit()\n",
    "reg_dv.summary()\n",
    "\n",
    "## Need to add County as a panel OLS in this"
   ]
  }
 ],
 "metadata": {
  "kernelspec": {
   "display_name": "base",
   "language": "python",
   "name": "python3"
  },
  "language_info": {
   "codemirror_mode": {
    "name": "ipython",
    "version": 3
   },
   "file_extension": ".py",
   "mimetype": "text/x-python",
   "name": "python",
   "nbconvert_exporter": "python",
   "pygments_lexer": "ipython3",
   "version": "3.10.6"
  },
  "orig_nbformat": 4,
  "vscode": {
   "interpreter": {
    "hash": "551c62dc04900b7c9656b03a0ed1114515bcd045db0a145f14557b857526032b"
   }
  }
 },
 "nbformat": 4,
 "nbformat_minor": 2
}
