{
    "cells": [
        {
            "cell_type": "code",
            "execution_count": 2,
            "source": [
                "import pandas as pd\n",
                "import numpy as np"
            ],
            "outputs": [],
            "metadata": {}
        },
        {
            "cell_type": "code",
            "execution_count": 24,
            "source": [
                "offense = pd.read_csv(\"/Users/htyun/Downloads/sample_acis_16k/sample16k_cr_offenses.csv\")"
            ],
            "outputs": [
                {
                    "output_type": "stream",
                    "name": "stderr",
                    "text": [
                        "/var/folders/xg/_ky8jfkd3j76k5khyx2bgk6h0000gn/T/ipykernel_89628/3518964494.py:1: DtypeWarning: Columns (9,34,36,44,72) have mixed types. Specify dtype option on import or set low_memory=False.\n",
                        "  offense = pd.read_csv(\"/Users/htyun/Downloads/sample_acis_16k/sample16k_cr_offenses.csv\")\n"
                    ]
                }
            ],
            "metadata": {}
        },
        {
            "cell_type": "code",
            "execution_count": 25,
            "source": [
                "# subset columns\n",
                "offense = offense[\n",
                "    [\n",
                "        \"case_id\",\n",
                "        \"CRRKEY\",\n",
                "        \"CROCDT\",\n",
                "        \"CROFFC\",\n",
                "        \"CRODTA\",\n",
                "        \"CROFFV\",\n",
                "        \"CROCCT\",\n",
                "        \"CRDPLE\",\n",
                "        \"CRDVER\",\n",
                "        \"CRDMOD\",\n",
                "        \"CRDDDT\",\n",
                "        \"CRDJNO\",\n",
                "        \"CRDMNL\",\n",
                "        \"CRDMXL\",\n",
                "        \"CRDSPD\",\n",
                "        \"CRDFIN\",\n",
                "        \"CRDRES\",\n",
                "        \"CRDPRL\",\n",
                "        \"CRDPPD\",\n",
                "        \"CRDSUL\",\n",
                "        \"CRDSUP\",\n",
                "        \"CRDPRS\",\n",
                "        \"CRDSDT\",\n",
                "        \"CRDJDS\",\n",
                "        \"CROMCK\",\n",
                "        \"CRDSPT\",\n",
                "        \"CRDPBF\",\n",
                "        \"CRDCDMVL\",\n",
                "        \"CRDACTSN\",\n",
                "        \"CRDCSHR\",\n",
                "        \"CRDOFCL\",\n",
                "        \"CRDPRPT\",\n",
                "        \"CRDCFJF\",\n",
                "        \"CRDCFJO\",\n",
                "        \"CRDCST\",\n",
                "    ]\n",
                "]\n",
                "\n",
                "# rename\n",
                "offense = offense.rename(\n",
                "    columns={\n",
                "        \"CROCDT\": \"charged_offense_date\",\n",
                "        \"CROFFC\": \"charged_offense_code\",\n",
                "        \"CRODTA\": \"arraigned_offense_date\",\n",
                "        \"CROFFV\": \"convicted_offense_code\",\n",
                "        \"CROCCT\": \"offense_court_type\",\n",
                "        \"CRDPLE\": \"plea_code\",\n",
                "        \"CRDVER\": \"verdict_code\",\n",
                "        \"CRDMOD\": \"disposition\",\n",
                "        \"CRDDDT\": \"disposition_date\",\n",
                "        \"CRDJNO\": \"judge_code\",\n",
                "        \"CRDMNL\": \"min_sentence\",\n",
                "        \"CRDMXL\": \"max_sentence\",\n",
                "        \"CRDSPD\": \"min_sentence_frame\",\n",
                "        \"CRDFIN\": \"fines\",\n",
                "        \"CRDRES\": \"restitution\",\n",
                "        \"CRDPRL\": \"probation_len\",\n",
                "        \"CRDPPD\": \"probation_frame\",\n",
                "        \"CRDSUL\": \"suspension_len\",\n",
                "        \"CRDSUP\": \"suspension_frame\",\n",
                "        \"CRDPRS\": \"supervised_probation_flag\",\n",
                "        \"CRDSDT\": \"date to paid\",\n",
                "        \"CRDJDS\": \"monies_paid_flag\",\n",
                "        \"CROMCK\": \"more_offense_check_flag\",\n",
                "        \"CRDSPT\": \"max_sentence_frame\",\n",
                "        \"CRDPBF\": \"plea_bargain_flag\",\n",
                "        \"CRDCDMVL\": \"domestic_violence_flag\",\n",
                "        \"CRDACTSN\": \"active_sentence_ind\",\n",
                "        \"CRDCSHR\": \"community_service_hr\",\n",
                "        \"CRDOFCL\": \"offense_class\",\n",
                "        \"CRDPRPT\": \"prior_record_points\",\n",
                "        \"CRDCFJF\": \"judgement_file_number\",\n",
                "        \"CRDCFJO\": \"judgement_file_offense_num\",\n",
                "        \"CRDCST\": \"court_cost\",\n",
                "    }\n",
                ")\n"
            ],
            "outputs": [],
            "metadata": {}
        },
        {
            "cell_type": "code",
            "execution_count": 8,
            "source": [
                "offense['min_sentence_frame'].value_counts()"
            ],
            "outputs": [
                {
                    "output_type": "execute_result",
                    "data": {
                        "text/plain": [
                            "D    1218\n",
                            "M     544\n",
                            "F      79\n",
                            "Y      31\n",
                            "L       3\n",
                            "Name: min_sentence_frame, dtype: int64"
                        ]
                    },
                    "metadata": {},
                    "execution_count": 8
                }
            ],
            "metadata": {}
        },
        {
            "cell_type": "code",
            "execution_count": 27,
            "source": [
                "# standardize sentencing unit to DAY\n",
                "offense['min_sentence_day'] = offense['min_sentence']\n",
                "for index, row in offense.iterrows():\n",
                "    if row['min_sentence_frame'] == 'M':\n",
                "        offense.loc[index,'min_sentence_day'] = row['min_sentence']*30\n",
                "        #row['min_sentence_day'] = row['min_sentence']*30\n",
                "    if row['min_sentence_frame'] == 'Y':\n",
                "        offense.loc[index,'min_sentence_day'] = row['min_sentence']*365\n"
            ],
            "outputs": [],
            "metadata": {}
        },
        {
            "cell_type": "code",
            "execution_count": 28,
            "source": [
                "offense['max_sentence_day'] = offense['max_sentence']\n",
                "for index, row in offense.iterrows():\n",
                "    if row['max_sentence_frame'] == 'M':\n",
                "        offense.loc[index,'max_sentence_day'] = row['max_sentence']*30\n",
                "        #row['min_sentence_day'] = row['min_sentence']*30\n",
                "    if row['max_sentence_frame'] == 'Y':\n",
                "        offense.loc[index,'max_sentence_day'] = row['max_sentence']*365"
            ],
            "outputs": [],
            "metadata": {}
        },
        {
            "cell_type": "code",
            "execution_count": 29,
            "source": [
                "# check\n",
                "#df = offense[offense['min_sentence_frame'].isin(['D','M','Y'])]\n",
                "#df[['min_sentence','min_sentence_frame','min_sentence_day','max_sentence','max_sentence_frame','max_sentence_day']]"
            ],
            "outputs": [],
            "metadata": {}
        },
        {
            "cell_type": "code",
            "execution_count": 31,
            "source": [
                "# output csv\n",
                "offense.to_csv(\"offense_cleaned.csv\")"
            ],
            "outputs": [],
            "metadata": {}
        },
        {
            "cell_type": "code",
            "execution_count": null,
            "source": [
                "offense['offense_class'].value_counts()"
            ],
            "outputs": [],
            "metadata": {}
        },
        {
            "cell_type": "code",
            "execution_count": null,
            "source": [
                "offense['offense_class'].isna().sum()"
            ],
            "outputs": [],
            "metadata": {}
        },
        {
            "cell_type": "code",
            "execution_count": null,
            "source": [
                "offense['charged_offense_code'].isna().sum()"
            ],
            "outputs": [],
            "metadata": {}
        },
        {
            "cell_type": "code",
            "execution_count": null,
            "source": [
                "#pd.set_option(\"display.max_rows\", None)\n",
                "offense['charged_offense_code'].value_counts()"
            ],
            "outputs": [],
            "metadata": {}
        }
    ],
    "metadata": {
        "orig_nbformat": 4,
        "language_info": {
            "name": "python",
            "version": "3.9.6",
            "mimetype": "text/x-python",
            "codemirror_mode": {
                "name": "ipython",
                "version": 3
            },
            "pygments_lexer": "ipython3",
            "nbconvert_exporter": "python",
            "file_extension": ".py"
        },
        "kernelspec": {
            "name": "python3",
            "display_name": "Python 3.9.6 64-bit ('base': conda)"
        },
        "interpreter": {
            "hash": "7e5eacdcb99c2746f758296d0f9c2e92687d084c3202d711f4a4e7cc88ec2758"
        }
    },
    "nbformat": 4,
    "nbformat_minor": 2
}