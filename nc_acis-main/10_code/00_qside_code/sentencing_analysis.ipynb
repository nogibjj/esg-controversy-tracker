{
 "cells": [
  {
   "cell_type": "markdown",
   "source": [
    "# Sentencing Analysis"
   ],
   "metadata": {}
  },
  {
   "cell_type": "code",
   "execution_count": 1,
   "source": [
    "import pandas as pd\n",
    "import numpy as np\n",
    "import plotly.express as px\n",
    "import matplotlib.pyplot as plt\n",
    "import seaborn as sns"
   ],
   "outputs": [],
   "metadata": {}
  },
  {
   "cell_type": "code",
   "execution_count": 2,
   "source": [
    "pd.set_option(\"display.max_columns\", None)\n"
   ],
   "outputs": [],
   "metadata": {}
  },
  {
   "cell_type": "code",
   "execution_count": 3,
   "source": [
    "# load data\n",
    "\n",
    "chunksize = 1000000\n",
    "case_off_chunk = pd.read_csv(\n",
    "    \"/Users/htyun/Documents/Duke MIDS/Capstone/JUSTFAIR_capstone/10_clean_data/case_offense_v01.csv\",\n",
    "    low_memory=False,\n",
    "    chunksize=chunksize,\n",
    "    iterator=True,\n",
    ")\n",
    "case_off = pd.concat(case_off_chunk, ignore_index=True)\n"
   ],
   "outputs": [],
   "metadata": {}
  },
  {
   "cell_type": "code",
   "execution_count": 4,
   "source": [
    "offence_codes = pd.read_csv(\n",
    "    \"/Users/htyun/Documents/Duke MIDS/Capstone/JUSTFAIR_capstone/00_raw_data/ACIS_offence_codes.csv\"\n",
    ")\n"
   ],
   "outputs": [],
   "metadata": {}
  },
  {
   "cell_type": "code",
   "execution_count": 5,
   "source": [
    "# merge with offense class to get offense class of charged offense code\n",
    "cases_codes = pd.merge(\n",
    "    case_off,\n",
    "    offence_codes,\n",
    "    left_on=[\"convicted_offense_code\", \"offense_class\"],\n",
    "    right_on=[\"CODE\", \"CL\"],\n",
    "    how=\"left\",\n",
    "    validate=\"m:m\",\n",
    "    indicator=True,\n",
    ")\n"
   ],
   "outputs": [],
   "metadata": {}
  },
  {
   "cell_type": "code",
   "execution_count": 6,
   "source": [
    "# Substetting for cases that have a charge code (most do)\n",
    "cases_w_charges = cases_codes.loc[~cases_codes[\"charged_offense_code\"].isna()]\n"
   ],
   "outputs": [],
   "metadata": {}
  },
  {
   "cell_type": "code",
   "execution_count": 7,
   "source": [
    "# Substetting for cases that have a convicted code\n",
    "cases_w_sent_code = cases_w_charges.loc[\n",
    "    ~cases_w_charges[\"convicted_offense_code\"].isna()\n",
    "]\n"
   ],
   "outputs": [],
   "metadata": {}
  },
  {
   "cell_type": "code",
   "execution_count": 8,
   "source": [
    "cases_w_sent_code[\"disposition\"].value_counts(normalize=True, dropna=False) * 100\n",
    "# be midnful: WC and WM basically mean that the defendant waived their right to trial (in front of a judge) and plead guilty\n",
    "cases_w_sent_code[\"went_to_trial\"] = 0\n",
    "cases_w_sent_code.loc[\n",
    "    cases_w_sent_code[\"disposition\"].isin([\"JU\", \"JR\"]), \"went_to_trial\"\n",
    "] = 1\n"
   ],
   "outputs": [
    {
     "output_type": "stream",
     "name": "stderr",
     "text": [
      "/var/folders/xg/_ky8jfkd3j76k5khyx2bgk6h0000gn/T/ipykernel_55211/42591767.py:3: SettingWithCopyWarning: \n",
      "A value is trying to be set on a copy of a slice from a DataFrame.\n",
      "Try using .loc[row_indexer,col_indexer] = value instead\n",
      "\n",
      "See the caveats in the documentation: https://pandas.pydata.org/pandas-docs/stable/user_guide/indexing.html#returning-a-view-versus-a-copy\n",
      "  cases_w_sent_code['went_to_trial'] = 0\n"
     ]
    }
   ],
   "metadata": {}
  },
  {
   "cell_type": "code",
   "execution_count": 123,
   "source": [
    "(cases_w_sent_code.shape[0] - cases_ready_chart.shape[0]) / cases_w_sent_code.shape[\n",
    "    0\n",
    "] * 100  # 78% (only 22% of convicted cases have prior record AND min sentence)\n",
    "\n",
    "(cases_w_charges.shape[0] - cases_ready_chart.shape[0]) / cases_w_charges.shape[\n",
    "    0\n",
    "] * 100  # 94.74 of cases dont have min_sentence, prior_record, or charges\n"
   ],
   "outputs": [
    {
     "output_type": "execute_result",
     "data": {
      "text/plain": [
       "94.74966019086257"
      ]
     },
     "metadata": {},
     "execution_count": 123
    }
   ],
   "metadata": {}
  },
  {
   "cell_type": "code",
   "execution_count": null,
   "source": [
    "# Check whether the sentences are given only to the cases that have a \"convicted offence code\" (funnel)\n",
    "cases_ready_chart = cases_w_sent_code.loc[~cases_w_sent_code[\"min_sentence_day\"].isna()]\n",
    "cases_ready_chart = cases_ready_chart.loc[\n",
    "    ~cases_ready_chart[\"prior_record_points\"].isna()\n",
    "]\n",
    "cases_ready_chart = cases_ready_chart[\n",
    "    [\n",
    "        \"case_id\",\n",
    "        \"key_county_num\",\n",
    "        \"race\",\n",
    "        \"sex\",\n",
    "        \"went_to_trial\",\n",
    "        \"convicted_offense_code\",\n",
    "        \"charged_offense_date\",\n",
    "        \"plea_code\",\n",
    "        \"verdict_code\",\n",
    "        \"disposition\",\n",
    "        \"prior_record_points\",\n",
    "        \"offense_class\",\n",
    "        \"CL\",\n",
    "        \"Offense Description\",\n",
    "        \"min_sentence_day\",\n",
    "        \"max_sentence_day\",\n",
    "    ]\n",
    "]\n",
    "#cases_ready_chart\n"
   ],
   "outputs": [],
   "metadata": {}
  },
  {
   "cell_type": "code",
   "execution_count": 10,
   "source": [
    "# create a column to indicate felony/misdemeanor\n",
    "\n",
    "offense = cases_ready_chart\n",
    "offense[\"offense_type\"] = \"Felony\"\n",
    "offense.loc[\n",
    "    offense[\"offense_class\"].isin([\"1\", \"2\", \"3\", \"A1\"]), \"offense_type\"\n",
    "] = \"Misdemeanor\"\n"
   ],
   "outputs": [],
   "metadata": {}
  },
  {
   "cell_type": "code",
   "execution_count": 11,
   "source": [
    "# code prior points\n",
    "offense[\"prior_points_range\"] = 0\n",
    "offense.loc[\n",
    "    (offense[\"offense_type\"] == \"Felony\")\n",
    "    & (offense[\"prior_record_points\"] >= 0)\n",
    "    & (offense[\"prior_record_points\"] <= 1),\n",
    "    \"prior_points_range\",\n",
    "] = 1\n",
    "offense.loc[\n",
    "    (offense[\"offense_type\"] == \"Felony\")\n",
    "    & (offense[\"prior_record_points\"] >= 2)\n",
    "    & (offense[\"prior_record_points\"] <= 5),\n",
    "    \"prior_points_range\",\n",
    "] = 2\n",
    "offense.loc[\n",
    "    (offense[\"offense_type\"] == \"Felony\")\n",
    "    & (offense[\"prior_record_points\"] >= 6)\n",
    "    & (offense[\"prior_record_points\"] <= 9),\n",
    "    \"prior_points_range\",\n",
    "] = 3\n",
    "offense.loc[\n",
    "    (offense[\"offense_type\"] == \"Felony\")\n",
    "    & (offense[\"prior_record_points\"] >= 10)\n",
    "    & (offense[\"prior_record_points\"] <= 13),\n",
    "    \"prior_points_range\",\n",
    "] = 4\n",
    "offense.loc[\n",
    "    (offense[\"offense_type\"] == \"Felony\")\n",
    "    & (offense[\"prior_record_points\"] >= 14)\n",
    "    & (offense[\"prior_record_points\"] <= 17),\n",
    "    \"prior_points_range\",\n",
    "] = 5\n",
    "offense.loc[\n",
    "    (offense[\"offense_type\"] == \"Felony\") & (offense[\"prior_record_points\"] >= 18),\n",
    "    \"prior_points_range\",\n",
    "] = 6\n",
    "offense.loc[\n",
    "    (offense[\"offense_type\"] == \"Misdemeanor\")\n",
    "    & (offense[\"prior_record_points\"] >= 1)\n",
    "    & (offense[\"prior_record_points\"] <= 4),\n",
    "    \"prior_points_range\",\n",
    "] = 2\n",
    "offense.loc[\n",
    "    (offense[\"offense_type\"] == \"Misdemeanor\") & (offense[\"prior_record_points\"] == 0),\n",
    "    \"prior_points_range\",\n",
    "] = 1\n",
    "offense.loc[\n",
    "    (offense[\"offense_type\"] == \"Misdemeanor\") & (offense[\"prior_record_points\"] >= 5),\n",
    "    \"prior_points_range\",\n",
    "] = 3\n"
   ],
   "outputs": [],
   "metadata": {}
  },
  {
   "cell_type": "code",
   "execution_count": 12,
   "source": [
    "# remove duplicates\n",
    "offense = offense.groupby([\"case_id\", \"convicted_offense_code\"]).first().reset_index()\n"
   ],
   "outputs": [],
   "metadata": {}
  },
  {
   "cell_type": "code",
   "execution_count": null,
   "source": [
    "# load sentencing grid\n",
    "sentencing_grid = pd.read_csv(\n",
    "    \"/Users/htyun/Documents/Duke MIDS/Capstone/JUSTFAIR_capstone/10_clean_data/punishment_grid_db.csv\"\n",
    ")"
   ],
   "outputs": [],
   "metadata": {}
  },
  {
   "cell_type": "code",
   "execution_count": null,
   "source": [
    "for index, row in sentencing_grid.iterrows():\n",
    "    if (row[\"sg_disposition\"] == \"Presumptive\") or (\n",
    "        row[\"sg_disposition\"] == \"Aggravated\"\n",
    "    ):\n",
    "        sentencing_grid.loc[index, \"sg_MIN_min\"] = (\n",
    "            sentencing_grid.loc[index, \"sg_MIN_min\"] + 1\n",
    "        )\n"
   ],
   "outputs": [],
   "metadata": {}
  },
  {
   "cell_type": "code",
   "execution_count": 34,
   "source": [
    "# merge\n",
    "grid = pd.merge(\n",
    "    offense,\n",
    "    sentencing_grid,\n",
    "    how=\"left\",\n",
    "    left_on=[\"offense_type\", \"offense_class\", \"prior_points_range\"],\n",
    "    right_on=[\"crime_type\", \"sg_class\", \"sg_prior_record_level\"],\n",
    "    validate=\"m:m\",\n",
    "    indicator=True,\n",
    ")\n",
    "\n",
    "# after merge, one felony case should has 3 rows (mitigated, presumptive, aggravated)\n",
    "grid._merge.value_counts()\n"
   ],
   "outputs": [
    {
     "output_type": "execute_result",
     "data": {
      "text/plain": [
       "both          1825232\n",
       "left_only           5\n",
       "right_only          0\n",
       "Name: _merge, dtype: int64"
      ]
     },
     "metadata": {},
     "execution_count": 34
    }
   ],
   "metadata": {}
  },
  {
   "cell_type": "code",
   "execution_count": null,
   "source": [
    "grid[\"MIN_min_diff\"] = grid[\"min_sentence_day\"] - grid[\"sg_MIN_min\"]\n",
    "grid[\"MIN_max_diff\"] = grid[\"min_sentence_day\"] - grid[\"sg_MIN_max\"]\n"
   ],
   "outputs": [],
   "metadata": {}
  },
  {
   "cell_type": "code",
   "execution_count": null,
   "source": [
    "# Fit cases into SUB boxes of the sentencing grid\n",
    "\n",
    "# To determine which range does the case fall into:\n",
    "# the range that the case falls into should have this property:  min_sentence_length-sg_MIN_min >= 0 & min_sentence_length-sg_MIN_max <= 0\n",
    "# only one of the three ranges may have above property if the sentencing length is at least following the grid\n",
    "\n",
    "##### EDGE CASES - CASES FOLLOWING ON THE MIN/MAX OF THE GRID RANGE -> CLASSIFY INTO LENIER RANGE\n",
    "\n",
    "grid[\"MIN_sentence_allocated_correctly\"] = 0\n",
    "grid.loc[\n",
    "    (grid[\"MIN_min_diff\"] >= 0) & (grid[\"MIN_max_diff\"] <= 0),\n",
    "    \"MIN_sentence_allocated_correctly\",\n",
    "] = 1\n",
    "#grid\n"
   ],
   "outputs": [],
   "metadata": {}
  },
  {
   "cell_type": "code",
   "execution_count": 37,
   "source": [
    "offense[\"offense_type\"].value_counts()\n"
   ],
   "outputs": [
    {
     "output_type": "execute_result",
     "data": {
      "text/plain": [
       "Misdemeanor    879602\n",
       "Felony         315215\n",
       "Name: offense_type, dtype: int64"
      ]
     },
     "metadata": {},
     "execution_count": 37
    }
   ],
   "metadata": {}
  },
  {
   "cell_type": "code",
   "execution_count": null,
   "source": [
    "# Check proportion of cases that follow the rulesss\n",
    "correct_allocations = grid.loc[\n",
    "    grid[\"MIN_sentence_allocated_correctly\"] == 1\n",
    "]  # checked: no duplicates\n",
    "len(correct_allocations) / len(offense)\n"
   ],
   "outputs": [],
   "metadata": {}
  },
  {
   "cell_type": "code",
   "execution_count": 42,
   "source": [
    "# subset correct_allocations columns\n",
    "correct_allocations_sub = correct_allocations[\n",
    "    [\n",
    "        \"case_id\",\n",
    "        \"convicted_offense_code\",\n",
    "        \"sg_class\",\n",
    "        \"sg_disposition\",\n",
    "        \"sg_MIN_min\",\n",
    "        \"sg_MIN_max\",\n",
    "        \"sg_punishment\",\n",
    "        \"severity_rank\",\n",
    "        \"sg_MAX_min\",\n",
    "        \"sg_MAX_max\",\n",
    "        \"MIN_min_diff\",\n",
    "        \"MIN_max_diff\",\n",
    "        \"MIN_sentence_allocated_correctly\",\n",
    "    ]\n",
    "]\n"
   ],
   "outputs": [],
   "metadata": {}
  },
  {
   "cell_type": "code",
   "execution_count": 43,
   "source": [
    "all_df = pd.merge(\n",
    "    offense,\n",
    "    correct_allocations_sub,\n",
    "    on=[\"case_id\", \"convicted_offense_code\"],\n",
    "    how=\"left\",\n",
    "    indicator=True,\n",
    ")\n",
    "all_df._merge.value_counts()\n"
   ],
   "outputs": [
    {
     "output_type": "execute_result",
     "data": {
      "text/plain": [
       "both          1123969\n",
       "left_only       70848\n",
       "right_only          0\n",
       "Name: _merge, dtype: int64"
      ]
     },
     "metadata": {},
     "execution_count": 43
    }
   ],
   "metadata": {}
  },
  {
   "cell_type": "code",
   "execution_count": 46,
   "source": [
    "# for felony cases that fall out of the ranges, determine whether they are under-sentencing or over-sentencing\n",
    "incorrect_allocations = grid.loc[grid[\"MIN_sentence_allocated_correctly\"] == 0]\n",
    "\n",
    "felony_under = incorrect_allocations[\n",
    "    (incorrect_allocations[\"sg_disposition\"] == \"Mitigated\")\n",
    "    & (incorrect_allocations[\"MIN_min_diff\"] < 0)\n",
    "]\n",
    "felony_under[\"sg_disposition\"] = \"< Minimum\"\n",
    "felony_over = incorrect_allocations[\n",
    "    (incorrect_allocations[\"sg_disposition\"] == \"Aggravated\")\n",
    "    & (incorrect_allocations[\"MIN_max_diff\"] > 0)\n",
    "]\n",
    "felony_over[\"sg_disposition\"] = \"> Maximum\"\n",
    "misdemeanor_under = incorrect_allocations[\n",
    "    (incorrect_allocations[\"offense_type\"] == \"Misdemeanor\")\n",
    "    & (incorrect_allocations[\"MIN_min_diff\"] < 0)\n",
    "]\n",
    "misdemeanor_under[\"sg_disposition\"] = \"< Minimum\"\n",
    "misdemeanor_over = incorrect_allocations[\n",
    "    (incorrect_allocations[\"offense_type\"] == \"Misdemeanor\")\n",
    "    & (incorrect_allocations[\"MIN_min_diff\"] > 0)\n",
    "]\n",
    "misdemeanor_over[\"sg_disposition\"] = \"> Maximum\"\n"
   ],
   "outputs": [
    {
     "output_type": "stream",
     "name": "stderr",
     "text": [
      "/var/folders/xg/_ky8jfkd3j76k5khyx2bgk6h0000gn/T/ipykernel_55211/4153444112.py:5: SettingWithCopyWarning: \n",
      "A value is trying to be set on a copy of a slice from a DataFrame.\n",
      "Try using .loc[row_indexer,col_indexer] = value instead\n",
      "\n",
      "See the caveats in the documentation: https://pandas.pydata.org/pandas-docs/stable/user_guide/indexing.html#returning-a-view-versus-a-copy\n",
      "  felony_under['sg_disposition'] = \"< Minimum\"\n",
      "/var/folders/xg/_ky8jfkd3j76k5khyx2bgk6h0000gn/T/ipykernel_55211/4153444112.py:7: SettingWithCopyWarning: \n",
      "A value is trying to be set on a copy of a slice from a DataFrame.\n",
      "Try using .loc[row_indexer,col_indexer] = value instead\n",
      "\n",
      "See the caveats in the documentation: https://pandas.pydata.org/pandas-docs/stable/user_guide/indexing.html#returning-a-view-versus-a-copy\n",
      "  felony_over['sg_disposition'] = \"> Maximum\"\n",
      "/var/folders/xg/_ky8jfkd3j76k5khyx2bgk6h0000gn/T/ipykernel_55211/4153444112.py:11: SettingWithCopyWarning: \n",
      "A value is trying to be set on a copy of a slice from a DataFrame.\n",
      "Try using .loc[row_indexer,col_indexer] = value instead\n",
      "\n",
      "See the caveats in the documentation: https://pandas.pydata.org/pandas-docs/stable/user_guide/indexing.html#returning-a-view-versus-a-copy\n",
      "  misdemeanor_over['sg_disposition'] = \"> Maximum\"\n"
     ]
    }
   ],
   "metadata": {}
  },
  {
   "cell_type": "code",
   "execution_count": null,
   "source": [
    "#  combine all cases\n",
    "\n",
    "misdemeanor_correct = correct_allocations[\n",
    "    correct_allocations[\"offense_type\"] == \"Misdemeanor\"\n",
    "]\n",
    "felony_correct = correct_allocations[correct_allocations[\"offense_type\"] == \"Felony\"]\n",
    "all_offense = pd.concat(\n",
    "    [\n",
    "        felony_correct,\n",
    "        felony_over,\n",
    "        felony_under,\n",
    "        misdemeanor_correct,\n",
    "        misdemeanor_over,\n",
    "        misdemeanor_under,\n",
    "    ]\n",
    ")\n",
    "#all_offense\n"
   ],
   "outputs": [],
   "metadata": {}
  },
  {
   "cell_type": "code",
   "execution_count": 66,
   "source": [
    "# distribution of sentencing ranges\n",
    "all_offense[\"sg_disposition\"].value_counts(normalize=True)\n"
   ],
   "outputs": [
    {
     "output_type": "execute_result",
     "data": {
      "text/plain": [
       "Presumptive    0.477794\n",
       "Mitigated      0.302742\n",
       "> Maximum      0.185038\n",
       "Aggravated     0.029017\n",
       "< Minimum      0.005409\n",
       "Name: sg_disposition, dtype: float64"
      ]
     },
     "metadata": {},
     "execution_count": 66
    }
   ],
   "metadata": {}
  },
  {
   "cell_type": "code",
   "execution_count": 53,
   "source": [
    "all_offense[\"race\"].value_counts(normalize=True) * 100\n"
   ],
   "outputs": [
    {
     "output_type": "execute_result",
     "data": {
      "text/plain": [
       "W    49.908646\n",
       "B    43.484010\n",
       "H     3.175910\n",
       "I     1.795269\n",
       "O     0.741542\n",
       "U     0.648640\n",
       "A     0.245897\n",
       "X     0.000084\n",
       "Name: race, dtype: float64"
      ]
     },
     "metadata": {},
     "execution_count": 53
    }
   ],
   "metadata": {}
  },
  {
   "cell_type": "code",
   "execution_count": 55,
   "source": [
    "all_offense[all_offense[\"sg_disposition\"] == \"> Maximum\"][\"race\"].value_counts(\n",
    "    normalize=True\n",
    ") * 100\n"
   ],
   "outputs": [
    {
     "output_type": "execute_result",
     "data": {
      "text/plain": [
       "W    47.115915\n",
       "B    45.410165\n",
       "H     3.630895\n",
       "I     2.268038\n",
       "U     0.691599\n",
       "O     0.688693\n",
       "A     0.194694\n",
       "Name: race, dtype: float64"
      ]
     },
     "metadata": {},
     "execution_count": 55
    }
   ],
   "metadata": {}
  },
  {
   "cell_type": "markdown",
   "source": [
    "### For Felony cases that are over-sentenced, the percentage of black defendants are dispropotionately higher"
   ],
   "metadata": {}
  },
  {
   "cell_type": "code",
   "execution_count": 71,
   "source": [
    "all_offense[\n",
    "    (all_offense[\"sg_disposition\"] == \"> Maximum\")\n",
    "    & (all_offense[\"offense_type\"] == \"Felony\")\n",
    "][\"race\"].value_counts(normalize=True) * 100\n"
   ],
   "outputs": [
    {
     "output_type": "execute_result",
     "data": {
      "text/plain": [
       "B    51.938049\n",
       "W    41.080007\n",
       "H     4.580089\n",
       "I     0.935895\n",
       "U     0.737121\n",
       "O     0.505218\n",
       "A     0.223621\n",
       "Name: race, dtype: float64"
      ]
     },
     "metadata": {},
     "execution_count": 71
    }
   ],
   "metadata": {}
  },
  {
   "cell_type": "code",
   "execution_count": 56,
   "source": [
    "all_offense[all_offense[\"race\"] == \"B\"][\"sg_disposition\"].value_counts(\n",
    "    normalize=True\n",
    ") * 100\n"
   ],
   "outputs": [
    {
     "output_type": "execute_result",
     "data": {
      "text/plain": [
       "Presumptive    44.958402\n",
       "Mitigated      32.773089\n",
       "> Maximum      18.760580\n",
       "Aggravated      2.923875\n",
       "< Minimum       0.584055\n",
       "Name: sg_disposition, dtype: float64"
      ]
     },
     "metadata": {},
     "execution_count": 56
    }
   ],
   "metadata": {}
  },
  {
   "cell_type": "code",
   "execution_count": 57,
   "source": [
    "all_offense[all_offense[\"race\"] == \"W\"][\"sg_disposition\"].value_counts(\n",
    "    normalize=True\n",
    ") * 100\n"
   ],
   "outputs": [
    {
     "output_type": "execute_result",
     "data": {
      "text/plain": [
       "Presumptive    50.935766\n",
       "Mitigated      28.151477\n",
       "> Maximum      17.555694\n",
       "Aggravated      2.859540\n",
       "< Minimum       0.497523\n",
       "Name: sg_disposition, dtype: float64"
      ]
     },
     "metadata": {},
     "execution_count": 57
    }
   ],
   "metadata": {}
  },
  {
   "cell_type": "code",
   "execution_count": 165,
   "source": [
    "disposition = all_offense[\"sg_disposition\"].value_counts(normalize=True).reset_index()\n",
    "disposition = disposition.rename(\n",
    "    columns={\"index\": \"sg_range\", \"sg_disposition\": \"percentage\"}\n",
    ")\n",
    "disposition\n"
   ],
   "outputs": [
    {
     "output_type": "execute_result",
     "data": {
      "text/plain": [
       "      sg_range  percentage\n",
       "0  Presumptive    0.477794\n",
       "1    Mitigated    0.302742\n",
       "2    > Maximum    0.185038\n",
       "3   Aggravated    0.029017\n",
       "4    < Minimum    0.005409"
      ],
      "text/html": [
       "<div>\n",
       "<style scoped>\n",
       "    .dataframe tbody tr th:only-of-type {\n",
       "        vertical-align: middle;\n",
       "    }\n",
       "\n",
       "    .dataframe tbody tr th {\n",
       "        vertical-align: top;\n",
       "    }\n",
       "\n",
       "    .dataframe thead th {\n",
       "        text-align: right;\n",
       "    }\n",
       "</style>\n",
       "<table border=\"1\" class=\"dataframe\">\n",
       "  <thead>\n",
       "    <tr style=\"text-align: right;\">\n",
       "      <th></th>\n",
       "      <th>sg_range</th>\n",
       "      <th>percentage</th>\n",
       "    </tr>\n",
       "  </thead>\n",
       "  <tbody>\n",
       "    <tr>\n",
       "      <th>0</th>\n",
       "      <td>Presumptive</td>\n",
       "      <td>0.477794</td>\n",
       "    </tr>\n",
       "    <tr>\n",
       "      <th>1</th>\n",
       "      <td>Mitigated</td>\n",
       "      <td>0.302742</td>\n",
       "    </tr>\n",
       "    <tr>\n",
       "      <th>2</th>\n",
       "      <td>&gt; Maximum</td>\n",
       "      <td>0.185038</td>\n",
       "    </tr>\n",
       "    <tr>\n",
       "      <th>3</th>\n",
       "      <td>Aggravated</td>\n",
       "      <td>0.029017</td>\n",
       "    </tr>\n",
       "    <tr>\n",
       "      <th>4</th>\n",
       "      <td>&lt; Minimum</td>\n",
       "      <td>0.005409</td>\n",
       "    </tr>\n",
       "  </tbody>\n",
       "</table>\n",
       "</div>"
      ]
     },
     "metadata": {},
     "execution_count": 165
    }
   ],
   "metadata": {}
  },
  {
   "cell_type": "code",
   "execution_count": null,
   "source": [
    "# plot distribution\n",
    "disposition.sg_range = pd.Categorical(\n",
    "    disposition.sg_range,\n",
    "    categories=[\"< Minimum\", \"Mitigated\", \"Presumptive\", \"Aggravated\", \"> Maximum\"],\n",
    "    ordered=True,\n",
    ")\n",
    "disposition.sort_values(\"sg_range\", inplace=True)\n"
   ],
   "outputs": [],
   "metadata": {}
  },
  {
   "cell_type": "code",
   "execution_count": 251,
   "source": [
    "fig = px.bar(\n",
    "    disposition,\n",
    "    x=\"sg_range\",\n",
    "    y=\"percentage\",\n",
    "    labels={\"sg_range\": \"sentencing range\"},\n",
    "    title=\"Distribution of sentencing range\",\n",
    ")\n",
    "#fig.update_layout(\n",
    "#    paper_bgcolor=\"rgba(0,0,0,0)\",\n",
    "#    plot_bgcolor=\"rgba(0,0,0,0)\",\n",
    "#    xaxis=dict(showgrid=False),\n",
    "#    yaxis=dict(showgrid=False),\n",
    "    #font_color=\"white\"\n",
    "#)\n",
    "fig.show()\n"
   ],
   "outputs": [
    {
     "output_type": "display_data",
     "data": {
      "application/vnd.plotly.v1+json": {
       "data": [
        {
         "alignmentgroup": "True",
         "hovertemplate": "sentencing range=%{x}<br>percentage=%{y}<extra></extra>",
         "legendgroup": "",
         "marker": {
          "color": "#636efa",
          "pattern": {
           "shape": ""
          }
         },
         "name": "",
         "offsetgroup": "",
         "orientation": "v",
         "showlegend": false,
         "textposition": "auto",
         "x": [
          "< Minimum",
          "Mitigated",
          "Presumptive",
          "Aggravated",
          "> Maximum"
         ],
         "xaxis": "x",
         "y": [
          0.005409227410695322,
          0.30274198361638577,
          0.4777944762432217,
          0.02901679495210468,
          0.18503751777759256
         ],
         "yaxis": "y",
         "type": "bar"
        }
       ],
       "layout": {
        "template": {
         "data": {
          "histogram2dcontour": [
           {
            "type": "histogram2dcontour",
            "colorbar": {
             "outlinewidth": 0,
             "ticks": ""
            },
            "colorscale": [
             [
              0,
              "#0d0887"
             ],
             [
              0.1111111111111111,
              "#46039f"
             ],
             [
              0.2222222222222222,
              "#7201a8"
             ],
             [
              0.3333333333333333,
              "#9c179e"
             ],
             [
              0.4444444444444444,
              "#bd3786"
             ],
             [
              0.5555555555555556,
              "#d8576b"
             ],
             [
              0.6666666666666666,
              "#ed7953"
             ],
             [
              0.7777777777777778,
              "#fb9f3a"
             ],
             [
              0.8888888888888888,
              "#fdca26"
             ],
             [
              1,
              "#f0f921"
             ]
            ]
           }
          ],
          "choropleth": [
           {
            "type": "choropleth",
            "colorbar": {
             "outlinewidth": 0,
             "ticks": ""
            }
           }
          ],
          "histogram2d": [
           {
            "type": "histogram2d",
            "colorbar": {
             "outlinewidth": 0,
             "ticks": ""
            },
            "colorscale": [
             [
              0,
              "#0d0887"
             ],
             [
              0.1111111111111111,
              "#46039f"
             ],
             [
              0.2222222222222222,
              "#7201a8"
             ],
             [
              0.3333333333333333,
              "#9c179e"
             ],
             [
              0.4444444444444444,
              "#bd3786"
             ],
             [
              0.5555555555555556,
              "#d8576b"
             ],
             [
              0.6666666666666666,
              "#ed7953"
             ],
             [
              0.7777777777777778,
              "#fb9f3a"
             ],
             [
              0.8888888888888888,
              "#fdca26"
             ],
             [
              1,
              "#f0f921"
             ]
            ]
           }
          ],
          "heatmap": [
           {
            "type": "heatmap",
            "colorbar": {
             "outlinewidth": 0,
             "ticks": ""
            },
            "colorscale": [
             [
              0,
              "#0d0887"
             ],
             [
              0.1111111111111111,
              "#46039f"
             ],
             [
              0.2222222222222222,
              "#7201a8"
             ],
             [
              0.3333333333333333,
              "#9c179e"
             ],
             [
              0.4444444444444444,
              "#bd3786"
             ],
             [
              0.5555555555555556,
              "#d8576b"
             ],
             [
              0.6666666666666666,
              "#ed7953"
             ],
             [
              0.7777777777777778,
              "#fb9f3a"
             ],
             [
              0.8888888888888888,
              "#fdca26"
             ],
             [
              1,
              "#f0f921"
             ]
            ]
           }
          ],
          "heatmapgl": [
           {
            "type": "heatmapgl",
            "colorbar": {
             "outlinewidth": 0,
             "ticks": ""
            },
            "colorscale": [
             [
              0,
              "#0d0887"
             ],
             [
              0.1111111111111111,
              "#46039f"
             ],
             [
              0.2222222222222222,
              "#7201a8"
             ],
             [
              0.3333333333333333,
              "#9c179e"
             ],
             [
              0.4444444444444444,
              "#bd3786"
             ],
             [
              0.5555555555555556,
              "#d8576b"
             ],
             [
              0.6666666666666666,
              "#ed7953"
             ],
             [
              0.7777777777777778,
              "#fb9f3a"
             ],
             [
              0.8888888888888888,
              "#fdca26"
             ],
             [
              1,
              "#f0f921"
             ]
            ]
           }
          ],
          "contourcarpet": [
           {
            "type": "contourcarpet",
            "colorbar": {
             "outlinewidth": 0,
             "ticks": ""
            }
           }
          ],
          "contour": [
           {
            "type": "contour",
            "colorbar": {
             "outlinewidth": 0,
             "ticks": ""
            },
            "colorscale": [
             [
              0,
              "#0d0887"
             ],
             [
              0.1111111111111111,
              "#46039f"
             ],
             [
              0.2222222222222222,
              "#7201a8"
             ],
             [
              0.3333333333333333,
              "#9c179e"
             ],
             [
              0.4444444444444444,
              "#bd3786"
             ],
             [
              0.5555555555555556,
              "#d8576b"
             ],
             [
              0.6666666666666666,
              "#ed7953"
             ],
             [
              0.7777777777777778,
              "#fb9f3a"
             ],
             [
              0.8888888888888888,
              "#fdca26"
             ],
             [
              1,
              "#f0f921"
             ]
            ]
           }
          ],
          "surface": [
           {
            "type": "surface",
            "colorbar": {
             "outlinewidth": 0,
             "ticks": ""
            },
            "colorscale": [
             [
              0,
              "#0d0887"
             ],
             [
              0.1111111111111111,
              "#46039f"
             ],
             [
              0.2222222222222222,
              "#7201a8"
             ],
             [
              0.3333333333333333,
              "#9c179e"
             ],
             [
              0.4444444444444444,
              "#bd3786"
             ],
             [
              0.5555555555555556,
              "#d8576b"
             ],
             [
              0.6666666666666666,
              "#ed7953"
             ],
             [
              0.7777777777777778,
              "#fb9f3a"
             ],
             [
              0.8888888888888888,
              "#fdca26"
             ],
             [
              1,
              "#f0f921"
             ]
            ]
           }
          ],
          "mesh3d": [
           {
            "type": "mesh3d",
            "colorbar": {
             "outlinewidth": 0,
             "ticks": ""
            }
           }
          ],
          "scatter": [
           {
            "fillpattern": {
             "fillmode": "overlay",
             "size": 10,
             "solidity": 0.2
            },
            "type": "scatter"
           }
          ],
          "parcoords": [
           {
            "type": "parcoords",
            "line": {
             "colorbar": {
              "outlinewidth": 0,
              "ticks": ""
             }
            }
           }
          ],
          "scatterpolargl": [
           {
            "type": "scatterpolargl",
            "marker": {
             "colorbar": {
              "outlinewidth": 0,
              "ticks": ""
             }
            }
           }
          ],
          "bar": [
           {
            "error_x": {
             "color": "#2a3f5f"
            },
            "error_y": {
             "color": "#2a3f5f"
            },
            "marker": {
             "line": {
              "color": "#E5ECF6",
              "width": 0.5
             },
             "pattern": {
              "fillmode": "overlay",
              "size": 10,
              "solidity": 0.2
             }
            },
            "type": "bar"
           }
          ],
          "scattergeo": [
           {
            "type": "scattergeo",
            "marker": {
             "colorbar": {
              "outlinewidth": 0,
              "ticks": ""
             }
            }
           }
          ],
          "scatterpolar": [
           {
            "type": "scatterpolar",
            "marker": {
             "colorbar": {
              "outlinewidth": 0,
              "ticks": ""
             }
            }
           }
          ],
          "histogram": [
           {
            "marker": {
             "pattern": {
              "fillmode": "overlay",
              "size": 10,
              "solidity": 0.2
             }
            },
            "type": "histogram"
           }
          ],
          "scattergl": [
           {
            "type": "scattergl",
            "marker": {
             "colorbar": {
              "outlinewidth": 0,
              "ticks": ""
             }
            }
           }
          ],
          "scatter3d": [
           {
            "type": "scatter3d",
            "line": {
             "colorbar": {
              "outlinewidth": 0,
              "ticks": ""
             }
            },
            "marker": {
             "colorbar": {
              "outlinewidth": 0,
              "ticks": ""
             }
            }
           }
          ],
          "scattermapbox": [
           {
            "type": "scattermapbox",
            "marker": {
             "colorbar": {
              "outlinewidth": 0,
              "ticks": ""
             }
            }
           }
          ],
          "scatterternary": [
           {
            "type": "scatterternary",
            "marker": {
             "colorbar": {
              "outlinewidth": 0,
              "ticks": ""
             }
            }
           }
          ],
          "scattercarpet": [
           {
            "type": "scattercarpet",
            "marker": {
             "colorbar": {
              "outlinewidth": 0,
              "ticks": ""
             }
            }
           }
          ],
          "carpet": [
           {
            "aaxis": {
             "endlinecolor": "#2a3f5f",
             "gridcolor": "white",
             "linecolor": "white",
             "minorgridcolor": "white",
             "startlinecolor": "#2a3f5f"
            },
            "baxis": {
             "endlinecolor": "#2a3f5f",
             "gridcolor": "white",
             "linecolor": "white",
             "minorgridcolor": "white",
             "startlinecolor": "#2a3f5f"
            },
            "type": "carpet"
           }
          ],
          "table": [
           {
            "cells": {
             "fill": {
              "color": "#EBF0F8"
             },
             "line": {
              "color": "white"
             }
            },
            "header": {
             "fill": {
              "color": "#C8D4E3"
             },
             "line": {
              "color": "white"
             }
            },
            "type": "table"
           }
          ],
          "barpolar": [
           {
            "marker": {
             "line": {
              "color": "#E5ECF6",
              "width": 0.5
             },
             "pattern": {
              "fillmode": "overlay",
              "size": 10,
              "solidity": 0.2
             }
            },
            "type": "barpolar"
           }
          ],
          "pie": [
           {
            "automargin": true,
            "type": "pie"
           }
          ]
         },
         "layout": {
          "autotypenumbers": "strict",
          "colorway": [
           "#636efa",
           "#EF553B",
           "#00cc96",
           "#ab63fa",
           "#FFA15A",
           "#19d3f3",
           "#FF6692",
           "#B6E880",
           "#FF97FF",
           "#FECB52"
          ],
          "font": {
           "color": "#2a3f5f"
          },
          "hovermode": "closest",
          "hoverlabel": {
           "align": "left"
          },
          "paper_bgcolor": "white",
          "plot_bgcolor": "#E5ECF6",
          "polar": {
           "bgcolor": "#E5ECF6",
           "angularaxis": {
            "gridcolor": "white",
            "linecolor": "white",
            "ticks": ""
           },
           "radialaxis": {
            "gridcolor": "white",
            "linecolor": "white",
            "ticks": ""
           }
          },
          "ternary": {
           "bgcolor": "#E5ECF6",
           "aaxis": {
            "gridcolor": "white",
            "linecolor": "white",
            "ticks": ""
           },
           "baxis": {
            "gridcolor": "white",
            "linecolor": "white",
            "ticks": ""
           },
           "caxis": {
            "gridcolor": "white",
            "linecolor": "white",
            "ticks": ""
           }
          },
          "coloraxis": {
           "colorbar": {
            "outlinewidth": 0,
            "ticks": ""
           }
          },
          "colorscale": {
           "sequential": [
            [
             0,
             "#0d0887"
            ],
            [
             0.1111111111111111,
             "#46039f"
            ],
            [
             0.2222222222222222,
             "#7201a8"
            ],
            [
             0.3333333333333333,
             "#9c179e"
            ],
            [
             0.4444444444444444,
             "#bd3786"
            ],
            [
             0.5555555555555556,
             "#d8576b"
            ],
            [
             0.6666666666666666,
             "#ed7953"
            ],
            [
             0.7777777777777778,
             "#fb9f3a"
            ],
            [
             0.8888888888888888,
             "#fdca26"
            ],
            [
             1,
             "#f0f921"
            ]
           ],
           "sequentialminus": [
            [
             0,
             "#0d0887"
            ],
            [
             0.1111111111111111,
             "#46039f"
            ],
            [
             0.2222222222222222,
             "#7201a8"
            ],
            [
             0.3333333333333333,
             "#9c179e"
            ],
            [
             0.4444444444444444,
             "#bd3786"
            ],
            [
             0.5555555555555556,
             "#d8576b"
            ],
            [
             0.6666666666666666,
             "#ed7953"
            ],
            [
             0.7777777777777778,
             "#fb9f3a"
            ],
            [
             0.8888888888888888,
             "#fdca26"
            ],
            [
             1,
             "#f0f921"
            ]
           ],
           "diverging": [
            [
             0,
             "#8e0152"
            ],
            [
             0.1,
             "#c51b7d"
            ],
            [
             0.2,
             "#de77ae"
            ],
            [
             0.3,
             "#f1b6da"
            ],
            [
             0.4,
             "#fde0ef"
            ],
            [
             0.5,
             "#f7f7f7"
            ],
            [
             0.6,
             "#e6f5d0"
            ],
            [
             0.7,
             "#b8e186"
            ],
            [
             0.8,
             "#7fbc41"
            ],
            [
             0.9,
             "#4d9221"
            ],
            [
             1,
             "#276419"
            ]
           ]
          },
          "xaxis": {
           "gridcolor": "white",
           "linecolor": "white",
           "ticks": "",
           "title": {
            "standoff": 15
           },
           "zerolinecolor": "white",
           "automargin": true,
           "zerolinewidth": 2
          },
          "yaxis": {
           "gridcolor": "white",
           "linecolor": "white",
           "ticks": "",
           "title": {
            "standoff": 15
           },
           "zerolinecolor": "white",
           "automargin": true,
           "zerolinewidth": 2
          },
          "scene": {
           "xaxis": {
            "backgroundcolor": "#E5ECF6",
            "gridcolor": "white",
            "linecolor": "white",
            "showbackground": true,
            "ticks": "",
            "zerolinecolor": "white",
            "gridwidth": 2
           },
           "yaxis": {
            "backgroundcolor": "#E5ECF6",
            "gridcolor": "white",
            "linecolor": "white",
            "showbackground": true,
            "ticks": "",
            "zerolinecolor": "white",
            "gridwidth": 2
           },
           "zaxis": {
            "backgroundcolor": "#E5ECF6",
            "gridcolor": "white",
            "linecolor": "white",
            "showbackground": true,
            "ticks": "",
            "zerolinecolor": "white",
            "gridwidth": 2
           }
          },
          "shapedefaults": {
           "line": {
            "color": "#2a3f5f"
           }
          },
          "annotationdefaults": {
           "arrowcolor": "#2a3f5f",
           "arrowhead": 0,
           "arrowwidth": 1
          },
          "geo": {
           "bgcolor": "white",
           "landcolor": "#E5ECF6",
           "subunitcolor": "white",
           "showland": true,
           "showlakes": true,
           "lakecolor": "white"
          },
          "title": {
           "x": 0.05
          },
          "mapbox": {
           "style": "light"
          }
         }
        },
        "xaxis": {
         "anchor": "y",
         "domain": [
          0,
          1
         ],
         "title": {
          "text": "sentencing range"
         }
        },
        "yaxis": {
         "anchor": "x",
         "domain": [
          0,
          1
         ],
         "title": {
          "text": "percentage"
         }
        },
        "legend": {
         "tracegroupgap": 0
        },
        "title": {
         "text": "Distribution of sentencing range"
        },
        "barmode": "relative"
       },
       "config": {
        "plotlyServerURL": "https://plot.ly"
       }
      }
     },
     "metadata": {}
    }
   ],
   "metadata": {}
  },
  {
   "cell_type": "markdown",
   "source": [
    "## County level sentencing range"
   ],
   "metadata": {}
  },
  {
   "cell_type": "code",
   "execution_count": 155,
   "source": [
    "county_table = pd.read_csv(\n",
    "    \"/Users/htyun/Documents/Duke MIDS/Capstone/county_num_name.csv\"\n",
    ")\n",
    "county_table.county_name = county_table.county_name.str.title()\n",
    "county_table.county_name = county_table[\"county_name\"] + \" County\"\n",
    "county_table\n"
   ],
   "outputs": [
    {
     "output_type": "execute_result",
     "data": {
      "text/plain": [
       "    key_county_num       county_name\n",
       "0                0   Alamance County\n",
       "1               10  Alexander County\n",
       "2               20  Alleghany County\n",
       "3               30      Anson County\n",
       "4               40       Ashe County\n",
       "..             ...               ...\n",
       "95             950      Wayne County\n",
       "96             960     Wilkes County\n",
       "97             970     Wilson County\n",
       "98             980     Yadkin County\n",
       "99             990     Yancey County\n",
       "\n",
       "[100 rows x 2 columns]"
      ],
      "text/html": [
       "<div>\n",
       "<style scoped>\n",
       "    .dataframe tbody tr th:only-of-type {\n",
       "        vertical-align: middle;\n",
       "    }\n",
       "\n",
       "    .dataframe tbody tr th {\n",
       "        vertical-align: top;\n",
       "    }\n",
       "\n",
       "    .dataframe thead th {\n",
       "        text-align: right;\n",
       "    }\n",
       "</style>\n",
       "<table border=\"1\" class=\"dataframe\">\n",
       "  <thead>\n",
       "    <tr style=\"text-align: right;\">\n",
       "      <th></th>\n",
       "      <th>key_county_num</th>\n",
       "      <th>county_name</th>\n",
       "    </tr>\n",
       "  </thead>\n",
       "  <tbody>\n",
       "    <tr>\n",
       "      <th>0</th>\n",
       "      <td>0</td>\n",
       "      <td>Alamance County</td>\n",
       "    </tr>\n",
       "    <tr>\n",
       "      <th>1</th>\n",
       "      <td>10</td>\n",
       "      <td>Alexander County</td>\n",
       "    </tr>\n",
       "    <tr>\n",
       "      <th>2</th>\n",
       "      <td>20</td>\n",
       "      <td>Alleghany County</td>\n",
       "    </tr>\n",
       "    <tr>\n",
       "      <th>3</th>\n",
       "      <td>30</td>\n",
       "      <td>Anson County</td>\n",
       "    </tr>\n",
       "    <tr>\n",
       "      <th>4</th>\n",
       "      <td>40</td>\n",
       "      <td>Ashe County</td>\n",
       "    </tr>\n",
       "    <tr>\n",
       "      <th>...</th>\n",
       "      <td>...</td>\n",
       "      <td>...</td>\n",
       "    </tr>\n",
       "    <tr>\n",
       "      <th>95</th>\n",
       "      <td>950</td>\n",
       "      <td>Wayne County</td>\n",
       "    </tr>\n",
       "    <tr>\n",
       "      <th>96</th>\n",
       "      <td>960</td>\n",
       "      <td>Wilkes County</td>\n",
       "    </tr>\n",
       "    <tr>\n",
       "      <th>97</th>\n",
       "      <td>970</td>\n",
       "      <td>Wilson County</td>\n",
       "    </tr>\n",
       "    <tr>\n",
       "      <th>98</th>\n",
       "      <td>980</td>\n",
       "      <td>Yadkin County</td>\n",
       "    </tr>\n",
       "    <tr>\n",
       "      <th>99</th>\n",
       "      <td>990</td>\n",
       "      <td>Yancey County</td>\n",
       "    </tr>\n",
       "  </tbody>\n",
       "</table>\n",
       "<p>100 rows × 2 columns</p>\n",
       "</div>"
      ]
     },
     "metadata": {},
     "execution_count": 155
    }
   ],
   "metadata": {}
  },
  {
   "cell_type": "code",
   "execution_count": null,
   "source": [
    "all_offense_county = all_offense.merge(county_table, how=\"left\", on=\"key_county_num\")\n",
    "#all_offense_county"
   ],
   "outputs": [],
   "metadata": {}
  },
  {
   "cell_type": "code",
   "execution_count": 158,
   "source": [
    "# distribution of sentencing range by county\n",
    "\n",
    "disposition_county = (\n",
    "    all_offense_county.groupby([\"county_name\", \"sg_disposition\"])\n",
    "    .size()\n",
    "    .reset_index(name=\"count\")\n",
    ")\n",
    "disposition_county[\"perc\"] = disposition_county[\"count\"] / disposition_county.groupby(\n",
    "    [\"county_name\"]\n",
    ")[\"count\"].transform(\"sum\")\n",
    "disposition_county\n"
   ],
   "outputs": [
    {
     "output_type": "execute_result",
     "data": {
      "text/plain": [
       "         county_name sg_disposition  count      perc\n",
       "0    Alamance County      < Minimum     24  0.003364\n",
       "1    Alamance County      > Maximum   1515  0.212334\n",
       "2    Alamance County     Aggravated    151  0.021163\n",
       "3    Alamance County      Mitigated   2613  0.366223\n",
       "4    Alamance County    Presumptive   2832  0.396917\n",
       "..               ...            ...    ...       ...\n",
       "491    Yadkin County    Presumptive   1154  0.554808\n",
       "492    Yancey County      > Maximum    225  0.221022\n",
       "493    Yancey County     Aggravated     14  0.013752\n",
       "494    Yancey County      Mitigated    151  0.148330\n",
       "495    Yancey County    Presumptive    628  0.616896\n",
       "\n",
       "[496 rows x 4 columns]"
      ],
      "text/html": [
       "<div>\n",
       "<style scoped>\n",
       "    .dataframe tbody tr th:only-of-type {\n",
       "        vertical-align: middle;\n",
       "    }\n",
       "\n",
       "    .dataframe tbody tr th {\n",
       "        vertical-align: top;\n",
       "    }\n",
       "\n",
       "    .dataframe thead th {\n",
       "        text-align: right;\n",
       "    }\n",
       "</style>\n",
       "<table border=\"1\" class=\"dataframe\">\n",
       "  <thead>\n",
       "    <tr style=\"text-align: right;\">\n",
       "      <th></th>\n",
       "      <th>county_name</th>\n",
       "      <th>sg_disposition</th>\n",
       "      <th>count</th>\n",
       "      <th>perc</th>\n",
       "    </tr>\n",
       "  </thead>\n",
       "  <tbody>\n",
       "    <tr>\n",
       "      <th>0</th>\n",
       "      <td>Alamance County</td>\n",
       "      <td>&lt; Minimum</td>\n",
       "      <td>24</td>\n",
       "      <td>0.003364</td>\n",
       "    </tr>\n",
       "    <tr>\n",
       "      <th>1</th>\n",
       "      <td>Alamance County</td>\n",
       "      <td>&gt; Maximum</td>\n",
       "      <td>1515</td>\n",
       "      <td>0.212334</td>\n",
       "    </tr>\n",
       "    <tr>\n",
       "      <th>2</th>\n",
       "      <td>Alamance County</td>\n",
       "      <td>Aggravated</td>\n",
       "      <td>151</td>\n",
       "      <td>0.021163</td>\n",
       "    </tr>\n",
       "    <tr>\n",
       "      <th>3</th>\n",
       "      <td>Alamance County</td>\n",
       "      <td>Mitigated</td>\n",
       "      <td>2613</td>\n",
       "      <td>0.366223</td>\n",
       "    </tr>\n",
       "    <tr>\n",
       "      <th>4</th>\n",
       "      <td>Alamance County</td>\n",
       "      <td>Presumptive</td>\n",
       "      <td>2832</td>\n",
       "      <td>0.396917</td>\n",
       "    </tr>\n",
       "    <tr>\n",
       "      <th>...</th>\n",
       "      <td>...</td>\n",
       "      <td>...</td>\n",
       "      <td>...</td>\n",
       "      <td>...</td>\n",
       "    </tr>\n",
       "    <tr>\n",
       "      <th>491</th>\n",
       "      <td>Yadkin County</td>\n",
       "      <td>Presumptive</td>\n",
       "      <td>1154</td>\n",
       "      <td>0.554808</td>\n",
       "    </tr>\n",
       "    <tr>\n",
       "      <th>492</th>\n",
       "      <td>Yancey County</td>\n",
       "      <td>&gt; Maximum</td>\n",
       "      <td>225</td>\n",
       "      <td>0.221022</td>\n",
       "    </tr>\n",
       "    <tr>\n",
       "      <th>493</th>\n",
       "      <td>Yancey County</td>\n",
       "      <td>Aggravated</td>\n",
       "      <td>14</td>\n",
       "      <td>0.013752</td>\n",
       "    </tr>\n",
       "    <tr>\n",
       "      <th>494</th>\n",
       "      <td>Yancey County</td>\n",
       "      <td>Mitigated</td>\n",
       "      <td>151</td>\n",
       "      <td>0.148330</td>\n",
       "    </tr>\n",
       "    <tr>\n",
       "      <th>495</th>\n",
       "      <td>Yancey County</td>\n",
       "      <td>Presumptive</td>\n",
       "      <td>628</td>\n",
       "      <td>0.616896</td>\n",
       "    </tr>\n",
       "  </tbody>\n",
       "</table>\n",
       "<p>496 rows × 4 columns</p>\n",
       "</div>"
      ]
     },
     "metadata": {},
     "execution_count": 158
    }
   ],
   "metadata": {}
  },
  {
   "cell_type": "code",
   "execution_count": 178,
   "source": [
    "disposition_county.to_csv(\"disposition_county.csv\")\n"
   ],
   "outputs": [],
   "metadata": {}
  },
  {
   "cell_type": "code",
   "execution_count": 169,
   "source": [
    "disposition_county[disposition_county[\"sg_disposition\"] == \"> Maximum\"].sort_values(\n",
    "    by=\"perc\", ascending=False\n",
    ")\n"
   ],
   "outputs": [
    {
     "output_type": "execute_result",
     "data": {
      "text/plain": [
       "          county_name sg_disposition  count      perc\n",
       "478     Wilkes County      > Maximum   2751  0.387519\n",
       "280    Madison County      > Maximum    545  0.379526\n",
       "255      Jones County      > Maximum    281  0.369737\n",
       "385    Robeson County      > Maximum   2041  0.348531\n",
       "21        Ashe County      > Maximum    567  0.342805\n",
       "..                ...            ...    ...       ...\n",
       "380   Richmond County      > Maximum    208  0.095544\n",
       "488     Yadkin County      > Maximum    197  0.094712\n",
       "56       Burke County      > Maximum    325  0.093310\n",
       "191  Granville County      > Maximum    117  0.074380\n",
       "365       Pitt County      > Maximum    545  0.065332\n",
       "\n",
       "[100 rows x 4 columns]"
      ],
      "text/html": [
       "<div>\n",
       "<style scoped>\n",
       "    .dataframe tbody tr th:only-of-type {\n",
       "        vertical-align: middle;\n",
       "    }\n",
       "\n",
       "    .dataframe tbody tr th {\n",
       "        vertical-align: top;\n",
       "    }\n",
       "\n",
       "    .dataframe thead th {\n",
       "        text-align: right;\n",
       "    }\n",
       "</style>\n",
       "<table border=\"1\" class=\"dataframe\">\n",
       "  <thead>\n",
       "    <tr style=\"text-align: right;\">\n",
       "      <th></th>\n",
       "      <th>county_name</th>\n",
       "      <th>sg_disposition</th>\n",
       "      <th>count</th>\n",
       "      <th>perc</th>\n",
       "    </tr>\n",
       "  </thead>\n",
       "  <tbody>\n",
       "    <tr>\n",
       "      <th>478</th>\n",
       "      <td>Wilkes County</td>\n",
       "      <td>&gt; Maximum</td>\n",
       "      <td>2751</td>\n",
       "      <td>0.387519</td>\n",
       "    </tr>\n",
       "    <tr>\n",
       "      <th>280</th>\n",
       "      <td>Madison County</td>\n",
       "      <td>&gt; Maximum</td>\n",
       "      <td>545</td>\n",
       "      <td>0.379526</td>\n",
       "    </tr>\n",
       "    <tr>\n",
       "      <th>255</th>\n",
       "      <td>Jones County</td>\n",
       "      <td>&gt; Maximum</td>\n",
       "      <td>281</td>\n",
       "      <td>0.369737</td>\n",
       "    </tr>\n",
       "    <tr>\n",
       "      <th>385</th>\n",
       "      <td>Robeson County</td>\n",
       "      <td>&gt; Maximum</td>\n",
       "      <td>2041</td>\n",
       "      <td>0.348531</td>\n",
       "    </tr>\n",
       "    <tr>\n",
       "      <th>21</th>\n",
       "      <td>Ashe County</td>\n",
       "      <td>&gt; Maximum</td>\n",
       "      <td>567</td>\n",
       "      <td>0.342805</td>\n",
       "    </tr>\n",
       "    <tr>\n",
       "      <th>...</th>\n",
       "      <td>...</td>\n",
       "      <td>...</td>\n",
       "      <td>...</td>\n",
       "      <td>...</td>\n",
       "    </tr>\n",
       "    <tr>\n",
       "      <th>380</th>\n",
       "      <td>Richmond County</td>\n",
       "      <td>&gt; Maximum</td>\n",
       "      <td>208</td>\n",
       "      <td>0.095544</td>\n",
       "    </tr>\n",
       "    <tr>\n",
       "      <th>488</th>\n",
       "      <td>Yadkin County</td>\n",
       "      <td>&gt; Maximum</td>\n",
       "      <td>197</td>\n",
       "      <td>0.094712</td>\n",
       "    </tr>\n",
       "    <tr>\n",
       "      <th>56</th>\n",
       "      <td>Burke County</td>\n",
       "      <td>&gt; Maximum</td>\n",
       "      <td>325</td>\n",
       "      <td>0.093310</td>\n",
       "    </tr>\n",
       "    <tr>\n",
       "      <th>191</th>\n",
       "      <td>Granville County</td>\n",
       "      <td>&gt; Maximum</td>\n",
       "      <td>117</td>\n",
       "      <td>0.074380</td>\n",
       "    </tr>\n",
       "    <tr>\n",
       "      <th>365</th>\n",
       "      <td>Pitt County</td>\n",
       "      <td>&gt; Maximum</td>\n",
       "      <td>545</td>\n",
       "      <td>0.065332</td>\n",
       "    </tr>\n",
       "  </tbody>\n",
       "</table>\n",
       "<p>100 rows × 4 columns</p>\n",
       "</div>"
      ]
     },
     "metadata": {},
     "execution_count": 169
    }
   ],
   "metadata": {}
  },
  {
   "cell_type": "code",
   "execution_count": null,
   "source": [
    "wilkes = disposition_county[disposition_county[\"county_name\"] == \"Wilkes County\"]\n",
    "wilkes.sg_disposition = pd.Categorical(\n",
    "    wilkes.sg_disposition,\n",
    "    categories=[\"< Minimum\", \"Mitigated\", \"Presumptive\", \"Aggravated\", \"> Maximum\"],\n",
    "    ordered=True,\n",
    ")\n",
    "wilkes.sort_values(\"sg_disposition\", inplace=True)"
   ],
   "outputs": [],
   "metadata": {}
  },
  {
   "cell_type": "code",
   "execution_count": 206,
   "source": [
    "fig = px.bar(\n",
    "    wilkes,\n",
    "    x=\"sg_disposition\",\n",
    "    y=\"perc\",\n",
    "    labels={\"sg_range\": \"sentencing range\"},\n",
    "    title='Wilkes County')\n",
    "    \n",
    "fig.update_layout(\n",
    "    paper_bgcolor=\"rgba(0,0,0,0)\",\n",
    "    plot_bgcolor=\"rgba(0,0,0,0)\",\n",
    "    xaxis=dict(showgrid=False),\n",
    "    yaxis=dict(showgrid=False),\n",
    "    font_color=\"white\"\n",
    ")\n",
    "fig.show()"
   ],
   "outputs": [
    {
     "output_type": "display_data",
     "data": {
      "application/vnd.plotly.v1+json": {
       "data": [
        {
         "alignmentgroup": "True",
         "hovertemplate": "sg_disposition=%{x}<br>perc=%{y}<extra></extra>",
         "legendgroup": "",
         "marker": {
          "color": "#636efa",
          "pattern": {
           "shape": ""
          }
         },
         "name": "",
         "offsetgroup": "",
         "orientation": "v",
         "showlegend": false,
         "textposition": "auto",
         "x": [
          "< Minimum",
          "Mitigated",
          "Presumptive",
          "Aggravated",
          "> Maximum"
         ],
         "xaxis": "x",
         "y": [
          0.004507677137625018,
          0.21186082546837584,
          0.35920552190449356,
          0.036906606564304834,
          0.3875193689252007
         ],
         "yaxis": "y",
         "type": "bar"
        }
       ],
       "layout": {
        "template": {
         "data": {
          "histogram2dcontour": [
           {
            "type": "histogram2dcontour",
            "colorbar": {
             "outlinewidth": 0,
             "ticks": ""
            },
            "colorscale": [
             [
              0,
              "#0d0887"
             ],
             [
              0.1111111111111111,
              "#46039f"
             ],
             [
              0.2222222222222222,
              "#7201a8"
             ],
             [
              0.3333333333333333,
              "#9c179e"
             ],
             [
              0.4444444444444444,
              "#bd3786"
             ],
             [
              0.5555555555555556,
              "#d8576b"
             ],
             [
              0.6666666666666666,
              "#ed7953"
             ],
             [
              0.7777777777777778,
              "#fb9f3a"
             ],
             [
              0.8888888888888888,
              "#fdca26"
             ],
             [
              1,
              "#f0f921"
             ]
            ]
           }
          ],
          "choropleth": [
           {
            "type": "choropleth",
            "colorbar": {
             "outlinewidth": 0,
             "ticks": ""
            }
           }
          ],
          "histogram2d": [
           {
            "type": "histogram2d",
            "colorbar": {
             "outlinewidth": 0,
             "ticks": ""
            },
            "colorscale": [
             [
              0,
              "#0d0887"
             ],
             [
              0.1111111111111111,
              "#46039f"
             ],
             [
              0.2222222222222222,
              "#7201a8"
             ],
             [
              0.3333333333333333,
              "#9c179e"
             ],
             [
              0.4444444444444444,
              "#bd3786"
             ],
             [
              0.5555555555555556,
              "#d8576b"
             ],
             [
              0.6666666666666666,
              "#ed7953"
             ],
             [
              0.7777777777777778,
              "#fb9f3a"
             ],
             [
              0.8888888888888888,
              "#fdca26"
             ],
             [
              1,
              "#f0f921"
             ]
            ]
           }
          ],
          "heatmap": [
           {
            "type": "heatmap",
            "colorbar": {
             "outlinewidth": 0,
             "ticks": ""
            },
            "colorscale": [
             [
              0,
              "#0d0887"
             ],
             [
              0.1111111111111111,
              "#46039f"
             ],
             [
              0.2222222222222222,
              "#7201a8"
             ],
             [
              0.3333333333333333,
              "#9c179e"
             ],
             [
              0.4444444444444444,
              "#bd3786"
             ],
             [
              0.5555555555555556,
              "#d8576b"
             ],
             [
              0.6666666666666666,
              "#ed7953"
             ],
             [
              0.7777777777777778,
              "#fb9f3a"
             ],
             [
              0.8888888888888888,
              "#fdca26"
             ],
             [
              1,
              "#f0f921"
             ]
            ]
           }
          ],
          "heatmapgl": [
           {
            "type": "heatmapgl",
            "colorbar": {
             "outlinewidth": 0,
             "ticks": ""
            },
            "colorscale": [
             [
              0,
              "#0d0887"
             ],
             [
              0.1111111111111111,
              "#46039f"
             ],
             [
              0.2222222222222222,
              "#7201a8"
             ],
             [
              0.3333333333333333,
              "#9c179e"
             ],
             [
              0.4444444444444444,
              "#bd3786"
             ],
             [
              0.5555555555555556,
              "#d8576b"
             ],
             [
              0.6666666666666666,
              "#ed7953"
             ],
             [
              0.7777777777777778,
              "#fb9f3a"
             ],
             [
              0.8888888888888888,
              "#fdca26"
             ],
             [
              1,
              "#f0f921"
             ]
            ]
           }
          ],
          "contourcarpet": [
           {
            "type": "contourcarpet",
            "colorbar": {
             "outlinewidth": 0,
             "ticks": ""
            }
           }
          ],
          "contour": [
           {
            "type": "contour",
            "colorbar": {
             "outlinewidth": 0,
             "ticks": ""
            },
            "colorscale": [
             [
              0,
              "#0d0887"
             ],
             [
              0.1111111111111111,
              "#46039f"
             ],
             [
              0.2222222222222222,
              "#7201a8"
             ],
             [
              0.3333333333333333,
              "#9c179e"
             ],
             [
              0.4444444444444444,
              "#bd3786"
             ],
             [
              0.5555555555555556,
              "#d8576b"
             ],
             [
              0.6666666666666666,
              "#ed7953"
             ],
             [
              0.7777777777777778,
              "#fb9f3a"
             ],
             [
              0.8888888888888888,
              "#fdca26"
             ],
             [
              1,
              "#f0f921"
             ]
            ]
           }
          ],
          "surface": [
           {
            "type": "surface",
            "colorbar": {
             "outlinewidth": 0,
             "ticks": ""
            },
            "colorscale": [
             [
              0,
              "#0d0887"
             ],
             [
              0.1111111111111111,
              "#46039f"
             ],
             [
              0.2222222222222222,
              "#7201a8"
             ],
             [
              0.3333333333333333,
              "#9c179e"
             ],
             [
              0.4444444444444444,
              "#bd3786"
             ],
             [
              0.5555555555555556,
              "#d8576b"
             ],
             [
              0.6666666666666666,
              "#ed7953"
             ],
             [
              0.7777777777777778,
              "#fb9f3a"
             ],
             [
              0.8888888888888888,
              "#fdca26"
             ],
             [
              1,
              "#f0f921"
             ]
            ]
           }
          ],
          "mesh3d": [
           {
            "type": "mesh3d",
            "colorbar": {
             "outlinewidth": 0,
             "ticks": ""
            }
           }
          ],
          "scatter": [
           {
            "fillpattern": {
             "fillmode": "overlay",
             "size": 10,
             "solidity": 0.2
            },
            "type": "scatter"
           }
          ],
          "parcoords": [
           {
            "type": "parcoords",
            "line": {
             "colorbar": {
              "outlinewidth": 0,
              "ticks": ""
             }
            }
           }
          ],
          "scatterpolargl": [
           {
            "type": "scatterpolargl",
            "marker": {
             "colorbar": {
              "outlinewidth": 0,
              "ticks": ""
             }
            }
           }
          ],
          "bar": [
           {
            "error_x": {
             "color": "#2a3f5f"
            },
            "error_y": {
             "color": "#2a3f5f"
            },
            "marker": {
             "line": {
              "color": "#E5ECF6",
              "width": 0.5
             },
             "pattern": {
              "fillmode": "overlay",
              "size": 10,
              "solidity": 0.2
             }
            },
            "type": "bar"
           }
          ],
          "scattergeo": [
           {
            "type": "scattergeo",
            "marker": {
             "colorbar": {
              "outlinewidth": 0,
              "ticks": ""
             }
            }
           }
          ],
          "scatterpolar": [
           {
            "type": "scatterpolar",
            "marker": {
             "colorbar": {
              "outlinewidth": 0,
              "ticks": ""
             }
            }
           }
          ],
          "histogram": [
           {
            "marker": {
             "pattern": {
              "fillmode": "overlay",
              "size": 10,
              "solidity": 0.2
             }
            },
            "type": "histogram"
           }
          ],
          "scattergl": [
           {
            "type": "scattergl",
            "marker": {
             "colorbar": {
              "outlinewidth": 0,
              "ticks": ""
             }
            }
           }
          ],
          "scatter3d": [
           {
            "type": "scatter3d",
            "line": {
             "colorbar": {
              "outlinewidth": 0,
              "ticks": ""
             }
            },
            "marker": {
             "colorbar": {
              "outlinewidth": 0,
              "ticks": ""
             }
            }
           }
          ],
          "scattermapbox": [
           {
            "type": "scattermapbox",
            "marker": {
             "colorbar": {
              "outlinewidth": 0,
              "ticks": ""
             }
            }
           }
          ],
          "scatterternary": [
           {
            "type": "scatterternary",
            "marker": {
             "colorbar": {
              "outlinewidth": 0,
              "ticks": ""
             }
            }
           }
          ],
          "scattercarpet": [
           {
            "type": "scattercarpet",
            "marker": {
             "colorbar": {
              "outlinewidth": 0,
              "ticks": ""
             }
            }
           }
          ],
          "carpet": [
           {
            "aaxis": {
             "endlinecolor": "#2a3f5f",
             "gridcolor": "white",
             "linecolor": "white",
             "minorgridcolor": "white",
             "startlinecolor": "#2a3f5f"
            },
            "baxis": {
             "endlinecolor": "#2a3f5f",
             "gridcolor": "white",
             "linecolor": "white",
             "minorgridcolor": "white",
             "startlinecolor": "#2a3f5f"
            },
            "type": "carpet"
           }
          ],
          "table": [
           {
            "cells": {
             "fill": {
              "color": "#EBF0F8"
             },
             "line": {
              "color": "white"
             }
            },
            "header": {
             "fill": {
              "color": "#C8D4E3"
             },
             "line": {
              "color": "white"
             }
            },
            "type": "table"
           }
          ],
          "barpolar": [
           {
            "marker": {
             "line": {
              "color": "#E5ECF6",
              "width": 0.5
             },
             "pattern": {
              "fillmode": "overlay",
              "size": 10,
              "solidity": 0.2
             }
            },
            "type": "barpolar"
           }
          ],
          "pie": [
           {
            "automargin": true,
            "type": "pie"
           }
          ]
         },
         "layout": {
          "autotypenumbers": "strict",
          "colorway": [
           "#636efa",
           "#EF553B",
           "#00cc96",
           "#ab63fa",
           "#FFA15A",
           "#19d3f3",
           "#FF6692",
           "#B6E880",
           "#FF97FF",
           "#FECB52"
          ],
          "font": {
           "color": "#2a3f5f"
          },
          "hovermode": "closest",
          "hoverlabel": {
           "align": "left"
          },
          "paper_bgcolor": "white",
          "plot_bgcolor": "#E5ECF6",
          "polar": {
           "bgcolor": "#E5ECF6",
           "angularaxis": {
            "gridcolor": "white",
            "linecolor": "white",
            "ticks": ""
           },
           "radialaxis": {
            "gridcolor": "white",
            "linecolor": "white",
            "ticks": ""
           }
          },
          "ternary": {
           "bgcolor": "#E5ECF6",
           "aaxis": {
            "gridcolor": "white",
            "linecolor": "white",
            "ticks": ""
           },
           "baxis": {
            "gridcolor": "white",
            "linecolor": "white",
            "ticks": ""
           },
           "caxis": {
            "gridcolor": "white",
            "linecolor": "white",
            "ticks": ""
           }
          },
          "coloraxis": {
           "colorbar": {
            "outlinewidth": 0,
            "ticks": ""
           }
          },
          "colorscale": {
           "sequential": [
            [
             0,
             "#0d0887"
            ],
            [
             0.1111111111111111,
             "#46039f"
            ],
            [
             0.2222222222222222,
             "#7201a8"
            ],
            [
             0.3333333333333333,
             "#9c179e"
            ],
            [
             0.4444444444444444,
             "#bd3786"
            ],
            [
             0.5555555555555556,
             "#d8576b"
            ],
            [
             0.6666666666666666,
             "#ed7953"
            ],
            [
             0.7777777777777778,
             "#fb9f3a"
            ],
            [
             0.8888888888888888,
             "#fdca26"
            ],
            [
             1,
             "#f0f921"
            ]
           ],
           "sequentialminus": [
            [
             0,
             "#0d0887"
            ],
            [
             0.1111111111111111,
             "#46039f"
            ],
            [
             0.2222222222222222,
             "#7201a8"
            ],
            [
             0.3333333333333333,
             "#9c179e"
            ],
            [
             0.4444444444444444,
             "#bd3786"
            ],
            [
             0.5555555555555556,
             "#d8576b"
            ],
            [
             0.6666666666666666,
             "#ed7953"
            ],
            [
             0.7777777777777778,
             "#fb9f3a"
            ],
            [
             0.8888888888888888,
             "#fdca26"
            ],
            [
             1,
             "#f0f921"
            ]
           ],
           "diverging": [
            [
             0,
             "#8e0152"
            ],
            [
             0.1,
             "#c51b7d"
            ],
            [
             0.2,
             "#de77ae"
            ],
            [
             0.3,
             "#f1b6da"
            ],
            [
             0.4,
             "#fde0ef"
            ],
            [
             0.5,
             "#f7f7f7"
            ],
            [
             0.6,
             "#e6f5d0"
            ],
            [
             0.7,
             "#b8e186"
            ],
            [
             0.8,
             "#7fbc41"
            ],
            [
             0.9,
             "#4d9221"
            ],
            [
             1,
             "#276419"
            ]
           ]
          },
          "xaxis": {
           "gridcolor": "white",
           "linecolor": "white",
           "ticks": "",
           "title": {
            "standoff": 15
           },
           "zerolinecolor": "white",
           "automargin": true,
           "zerolinewidth": 2
          },
          "yaxis": {
           "gridcolor": "white",
           "linecolor": "white",
           "ticks": "",
           "title": {
            "standoff": 15
           },
           "zerolinecolor": "white",
           "automargin": true,
           "zerolinewidth": 2
          },
          "scene": {
           "xaxis": {
            "backgroundcolor": "#E5ECF6",
            "gridcolor": "white",
            "linecolor": "white",
            "showbackground": true,
            "ticks": "",
            "zerolinecolor": "white",
            "gridwidth": 2
           },
           "yaxis": {
            "backgroundcolor": "#E5ECF6",
            "gridcolor": "white",
            "linecolor": "white",
            "showbackground": true,
            "ticks": "",
            "zerolinecolor": "white",
            "gridwidth": 2
           },
           "zaxis": {
            "backgroundcolor": "#E5ECF6",
            "gridcolor": "white",
            "linecolor": "white",
            "showbackground": true,
            "ticks": "",
            "zerolinecolor": "white",
            "gridwidth": 2
           }
          },
          "shapedefaults": {
           "line": {
            "color": "#2a3f5f"
           }
          },
          "annotationdefaults": {
           "arrowcolor": "#2a3f5f",
           "arrowhead": 0,
           "arrowwidth": 1
          },
          "geo": {
           "bgcolor": "white",
           "landcolor": "#E5ECF6",
           "subunitcolor": "white",
           "showland": true,
           "showlakes": true,
           "lakecolor": "white"
          },
          "title": {
           "x": 0.05
          },
          "mapbox": {
           "style": "light"
          }
         }
        },
        "xaxis": {
         "anchor": "y",
         "domain": [
          0,
          1
         ],
         "title": {
          "text": "sg_disposition"
         },
         "showgrid": false
        },
        "yaxis": {
         "anchor": "x",
         "domain": [
          0,
          1
         ],
         "title": {
          "text": "perc"
         },
         "showgrid": false
        },
        "legend": {
         "tracegroupgap": 0
        },
        "title": {
         "text": "Wilkes County"
        },
        "barmode": "relative",
        "font": {
         "color": "white"
        },
        "paper_bgcolor": "rgba(0,0,0,0)",
        "plot_bgcolor": "rgba(0,0,0,0)"
       },
       "config": {
        "plotlyServerURL": "https://plot.ly"
       }
      }
     },
     "metadata": {}
    }
   ],
   "metadata": {}
  },
  {
   "cell_type": "code",
   "execution_count": null,
   "source": [
    "pitt = disposition_county[disposition_county[\"county_name\"] == \"Richmond County\"]\n",
    "pitt.sg_disposition = pd.Categorical(\n",
    "    pitt.sg_disposition,\n",
    "    categories=[\"< Minimum\", \"Mitigated\", \"Presumptive\", \"Aggravated\", \"> Maximum\"],\n",
    "    ordered=True,\n",
    ")\n",
    "pitt.sort_values(\"sg_disposition\", inplace=True)\n"
   ],
   "outputs": [],
   "metadata": {}
  },
  {
   "cell_type": "code",
   "execution_count": 205,
   "source": [
    "fig = px.bar(\n",
    "    pitt,\n",
    "    x=\"sg_disposition\",\n",
    "    y=\"perc\",\n",
    "    labels={\"sg_range\": \"sentencing range\"},\n",
    "    title = 'Richmond County')\n",
    "    \n",
    "fig.update_layout(\n",
    "    paper_bgcolor=\"rgba(0,0,0,0)\",\n",
    "    plot_bgcolor=\"rgba(0,0,0,0)\",\n",
    "    xaxis=dict(showgrid=False),\n",
    "    yaxis=dict(showgrid=False),\n",
    "    font_color=\"white\"\n",
    ")\n",
    "fig.show()"
   ],
   "outputs": [
    {
     "output_type": "display_data",
     "data": {
      "application/vnd.plotly.v1+json": {
       "data": [
        {
         "alignmentgroup": "True",
         "hovertemplate": "sg_disposition=%{x}<br>perc=%{y}<extra></extra>",
         "legendgroup": "",
         "marker": {
          "color": "#636efa",
          "pattern": {
           "shape": ""
          }
         },
         "name": "",
         "offsetgroup": "",
         "orientation": "v",
         "showlegend": false,
         "textposition": "auto",
         "x": [
          "< Minimum",
          "Mitigated",
          "Presumptive",
          "Aggravated",
          "> Maximum"
         ],
         "xaxis": "x",
         "y": [
          0.0036747818098300414,
          0.4533762057877814,
          0.4313275149288011,
          0.01607717041800643,
          0.09554432705558108
         ],
         "yaxis": "y",
         "type": "bar"
        }
       ],
       "layout": {
        "template": {
         "data": {
          "histogram2dcontour": [
           {
            "type": "histogram2dcontour",
            "colorbar": {
             "outlinewidth": 0,
             "ticks": ""
            },
            "colorscale": [
             [
              0,
              "#0d0887"
             ],
             [
              0.1111111111111111,
              "#46039f"
             ],
             [
              0.2222222222222222,
              "#7201a8"
             ],
             [
              0.3333333333333333,
              "#9c179e"
             ],
             [
              0.4444444444444444,
              "#bd3786"
             ],
             [
              0.5555555555555556,
              "#d8576b"
             ],
             [
              0.6666666666666666,
              "#ed7953"
             ],
             [
              0.7777777777777778,
              "#fb9f3a"
             ],
             [
              0.8888888888888888,
              "#fdca26"
             ],
             [
              1,
              "#f0f921"
             ]
            ]
           }
          ],
          "choropleth": [
           {
            "type": "choropleth",
            "colorbar": {
             "outlinewidth": 0,
             "ticks": ""
            }
           }
          ],
          "histogram2d": [
           {
            "type": "histogram2d",
            "colorbar": {
             "outlinewidth": 0,
             "ticks": ""
            },
            "colorscale": [
             [
              0,
              "#0d0887"
             ],
             [
              0.1111111111111111,
              "#46039f"
             ],
             [
              0.2222222222222222,
              "#7201a8"
             ],
             [
              0.3333333333333333,
              "#9c179e"
             ],
             [
              0.4444444444444444,
              "#bd3786"
             ],
             [
              0.5555555555555556,
              "#d8576b"
             ],
             [
              0.6666666666666666,
              "#ed7953"
             ],
             [
              0.7777777777777778,
              "#fb9f3a"
             ],
             [
              0.8888888888888888,
              "#fdca26"
             ],
             [
              1,
              "#f0f921"
             ]
            ]
           }
          ],
          "heatmap": [
           {
            "type": "heatmap",
            "colorbar": {
             "outlinewidth": 0,
             "ticks": ""
            },
            "colorscale": [
             [
              0,
              "#0d0887"
             ],
             [
              0.1111111111111111,
              "#46039f"
             ],
             [
              0.2222222222222222,
              "#7201a8"
             ],
             [
              0.3333333333333333,
              "#9c179e"
             ],
             [
              0.4444444444444444,
              "#bd3786"
             ],
             [
              0.5555555555555556,
              "#d8576b"
             ],
             [
              0.6666666666666666,
              "#ed7953"
             ],
             [
              0.7777777777777778,
              "#fb9f3a"
             ],
             [
              0.8888888888888888,
              "#fdca26"
             ],
             [
              1,
              "#f0f921"
             ]
            ]
           }
          ],
          "heatmapgl": [
           {
            "type": "heatmapgl",
            "colorbar": {
             "outlinewidth": 0,
             "ticks": ""
            },
            "colorscale": [
             [
              0,
              "#0d0887"
             ],
             [
              0.1111111111111111,
              "#46039f"
             ],
             [
              0.2222222222222222,
              "#7201a8"
             ],
             [
              0.3333333333333333,
              "#9c179e"
             ],
             [
              0.4444444444444444,
              "#bd3786"
             ],
             [
              0.5555555555555556,
              "#d8576b"
             ],
             [
              0.6666666666666666,
              "#ed7953"
             ],
             [
              0.7777777777777778,
              "#fb9f3a"
             ],
             [
              0.8888888888888888,
              "#fdca26"
             ],
             [
              1,
              "#f0f921"
             ]
            ]
           }
          ],
          "contourcarpet": [
           {
            "type": "contourcarpet",
            "colorbar": {
             "outlinewidth": 0,
             "ticks": ""
            }
           }
          ],
          "contour": [
           {
            "type": "contour",
            "colorbar": {
             "outlinewidth": 0,
             "ticks": ""
            },
            "colorscale": [
             [
              0,
              "#0d0887"
             ],
             [
              0.1111111111111111,
              "#46039f"
             ],
             [
              0.2222222222222222,
              "#7201a8"
             ],
             [
              0.3333333333333333,
              "#9c179e"
             ],
             [
              0.4444444444444444,
              "#bd3786"
             ],
             [
              0.5555555555555556,
              "#d8576b"
             ],
             [
              0.6666666666666666,
              "#ed7953"
             ],
             [
              0.7777777777777778,
              "#fb9f3a"
             ],
             [
              0.8888888888888888,
              "#fdca26"
             ],
             [
              1,
              "#f0f921"
             ]
            ]
           }
          ],
          "surface": [
           {
            "type": "surface",
            "colorbar": {
             "outlinewidth": 0,
             "ticks": ""
            },
            "colorscale": [
             [
              0,
              "#0d0887"
             ],
             [
              0.1111111111111111,
              "#46039f"
             ],
             [
              0.2222222222222222,
              "#7201a8"
             ],
             [
              0.3333333333333333,
              "#9c179e"
             ],
             [
              0.4444444444444444,
              "#bd3786"
             ],
             [
              0.5555555555555556,
              "#d8576b"
             ],
             [
              0.6666666666666666,
              "#ed7953"
             ],
             [
              0.7777777777777778,
              "#fb9f3a"
             ],
             [
              0.8888888888888888,
              "#fdca26"
             ],
             [
              1,
              "#f0f921"
             ]
            ]
           }
          ],
          "mesh3d": [
           {
            "type": "mesh3d",
            "colorbar": {
             "outlinewidth": 0,
             "ticks": ""
            }
           }
          ],
          "scatter": [
           {
            "fillpattern": {
             "fillmode": "overlay",
             "size": 10,
             "solidity": 0.2
            },
            "type": "scatter"
           }
          ],
          "parcoords": [
           {
            "type": "parcoords",
            "line": {
             "colorbar": {
              "outlinewidth": 0,
              "ticks": ""
             }
            }
           }
          ],
          "scatterpolargl": [
           {
            "type": "scatterpolargl",
            "marker": {
             "colorbar": {
              "outlinewidth": 0,
              "ticks": ""
             }
            }
           }
          ],
          "bar": [
           {
            "error_x": {
             "color": "#2a3f5f"
            },
            "error_y": {
             "color": "#2a3f5f"
            },
            "marker": {
             "line": {
              "color": "#E5ECF6",
              "width": 0.5
             },
             "pattern": {
              "fillmode": "overlay",
              "size": 10,
              "solidity": 0.2
             }
            },
            "type": "bar"
           }
          ],
          "scattergeo": [
           {
            "type": "scattergeo",
            "marker": {
             "colorbar": {
              "outlinewidth": 0,
              "ticks": ""
             }
            }
           }
          ],
          "scatterpolar": [
           {
            "type": "scatterpolar",
            "marker": {
             "colorbar": {
              "outlinewidth": 0,
              "ticks": ""
             }
            }
           }
          ],
          "histogram": [
           {
            "marker": {
             "pattern": {
              "fillmode": "overlay",
              "size": 10,
              "solidity": 0.2
             }
            },
            "type": "histogram"
           }
          ],
          "scattergl": [
           {
            "type": "scattergl",
            "marker": {
             "colorbar": {
              "outlinewidth": 0,
              "ticks": ""
             }
            }
           }
          ],
          "scatter3d": [
           {
            "type": "scatter3d",
            "line": {
             "colorbar": {
              "outlinewidth": 0,
              "ticks": ""
             }
            },
            "marker": {
             "colorbar": {
              "outlinewidth": 0,
              "ticks": ""
             }
            }
           }
          ],
          "scattermapbox": [
           {
            "type": "scattermapbox",
            "marker": {
             "colorbar": {
              "outlinewidth": 0,
              "ticks": ""
             }
            }
           }
          ],
          "scatterternary": [
           {
            "type": "scatterternary",
            "marker": {
             "colorbar": {
              "outlinewidth": 0,
              "ticks": ""
             }
            }
           }
          ],
          "scattercarpet": [
           {
            "type": "scattercarpet",
            "marker": {
             "colorbar": {
              "outlinewidth": 0,
              "ticks": ""
             }
            }
           }
          ],
          "carpet": [
           {
            "aaxis": {
             "endlinecolor": "#2a3f5f",
             "gridcolor": "white",
             "linecolor": "white",
             "minorgridcolor": "white",
             "startlinecolor": "#2a3f5f"
            },
            "baxis": {
             "endlinecolor": "#2a3f5f",
             "gridcolor": "white",
             "linecolor": "white",
             "minorgridcolor": "white",
             "startlinecolor": "#2a3f5f"
            },
            "type": "carpet"
           }
          ],
          "table": [
           {
            "cells": {
             "fill": {
              "color": "#EBF0F8"
             },
             "line": {
              "color": "white"
             }
            },
            "header": {
             "fill": {
              "color": "#C8D4E3"
             },
             "line": {
              "color": "white"
             }
            },
            "type": "table"
           }
          ],
          "barpolar": [
           {
            "marker": {
             "line": {
              "color": "#E5ECF6",
              "width": 0.5
             },
             "pattern": {
              "fillmode": "overlay",
              "size": 10,
              "solidity": 0.2
             }
            },
            "type": "barpolar"
           }
          ],
          "pie": [
           {
            "automargin": true,
            "type": "pie"
           }
          ]
         },
         "layout": {
          "autotypenumbers": "strict",
          "colorway": [
           "#636efa",
           "#EF553B",
           "#00cc96",
           "#ab63fa",
           "#FFA15A",
           "#19d3f3",
           "#FF6692",
           "#B6E880",
           "#FF97FF",
           "#FECB52"
          ],
          "font": {
           "color": "#2a3f5f"
          },
          "hovermode": "closest",
          "hoverlabel": {
           "align": "left"
          },
          "paper_bgcolor": "white",
          "plot_bgcolor": "#E5ECF6",
          "polar": {
           "bgcolor": "#E5ECF6",
           "angularaxis": {
            "gridcolor": "white",
            "linecolor": "white",
            "ticks": ""
           },
           "radialaxis": {
            "gridcolor": "white",
            "linecolor": "white",
            "ticks": ""
           }
          },
          "ternary": {
           "bgcolor": "#E5ECF6",
           "aaxis": {
            "gridcolor": "white",
            "linecolor": "white",
            "ticks": ""
           },
           "baxis": {
            "gridcolor": "white",
            "linecolor": "white",
            "ticks": ""
           },
           "caxis": {
            "gridcolor": "white",
            "linecolor": "white",
            "ticks": ""
           }
          },
          "coloraxis": {
           "colorbar": {
            "outlinewidth": 0,
            "ticks": ""
           }
          },
          "colorscale": {
           "sequential": [
            [
             0,
             "#0d0887"
            ],
            [
             0.1111111111111111,
             "#46039f"
            ],
            [
             0.2222222222222222,
             "#7201a8"
            ],
            [
             0.3333333333333333,
             "#9c179e"
            ],
            [
             0.4444444444444444,
             "#bd3786"
            ],
            [
             0.5555555555555556,
             "#d8576b"
            ],
            [
             0.6666666666666666,
             "#ed7953"
            ],
            [
             0.7777777777777778,
             "#fb9f3a"
            ],
            [
             0.8888888888888888,
             "#fdca26"
            ],
            [
             1,
             "#f0f921"
            ]
           ],
           "sequentialminus": [
            [
             0,
             "#0d0887"
            ],
            [
             0.1111111111111111,
             "#46039f"
            ],
            [
             0.2222222222222222,
             "#7201a8"
            ],
            [
             0.3333333333333333,
             "#9c179e"
            ],
            [
             0.4444444444444444,
             "#bd3786"
            ],
            [
             0.5555555555555556,
             "#d8576b"
            ],
            [
             0.6666666666666666,
             "#ed7953"
            ],
            [
             0.7777777777777778,
             "#fb9f3a"
            ],
            [
             0.8888888888888888,
             "#fdca26"
            ],
            [
             1,
             "#f0f921"
            ]
           ],
           "diverging": [
            [
             0,
             "#8e0152"
            ],
            [
             0.1,
             "#c51b7d"
            ],
            [
             0.2,
             "#de77ae"
            ],
            [
             0.3,
             "#f1b6da"
            ],
            [
             0.4,
             "#fde0ef"
            ],
            [
             0.5,
             "#f7f7f7"
            ],
            [
             0.6,
             "#e6f5d0"
            ],
            [
             0.7,
             "#b8e186"
            ],
            [
             0.8,
             "#7fbc41"
            ],
            [
             0.9,
             "#4d9221"
            ],
            [
             1,
             "#276419"
            ]
           ]
          },
          "xaxis": {
           "gridcolor": "white",
           "linecolor": "white",
           "ticks": "",
           "title": {
            "standoff": 15
           },
           "zerolinecolor": "white",
           "automargin": true,
           "zerolinewidth": 2
          },
          "yaxis": {
           "gridcolor": "white",
           "linecolor": "white",
           "ticks": "",
           "title": {
            "standoff": 15
           },
           "zerolinecolor": "white",
           "automargin": true,
           "zerolinewidth": 2
          },
          "scene": {
           "xaxis": {
            "backgroundcolor": "#E5ECF6",
            "gridcolor": "white",
            "linecolor": "white",
            "showbackground": true,
            "ticks": "",
            "zerolinecolor": "white",
            "gridwidth": 2
           },
           "yaxis": {
            "backgroundcolor": "#E5ECF6",
            "gridcolor": "white",
            "linecolor": "white",
            "showbackground": true,
            "ticks": "",
            "zerolinecolor": "white",
            "gridwidth": 2
           },
           "zaxis": {
            "backgroundcolor": "#E5ECF6",
            "gridcolor": "white",
            "linecolor": "white",
            "showbackground": true,
            "ticks": "",
            "zerolinecolor": "white",
            "gridwidth": 2
           }
          },
          "shapedefaults": {
           "line": {
            "color": "#2a3f5f"
           }
          },
          "annotationdefaults": {
           "arrowcolor": "#2a3f5f",
           "arrowhead": 0,
           "arrowwidth": 1
          },
          "geo": {
           "bgcolor": "white",
           "landcolor": "#E5ECF6",
           "subunitcolor": "white",
           "showland": true,
           "showlakes": true,
           "lakecolor": "white"
          },
          "title": {
           "x": 0.05
          },
          "mapbox": {
           "style": "light"
          }
         }
        },
        "xaxis": {
         "anchor": "y",
         "domain": [
          0,
          1
         ],
         "title": {
          "text": "sg_disposition"
         },
         "showgrid": false
        },
        "yaxis": {
         "anchor": "x",
         "domain": [
          0,
          1
         ],
         "title": {
          "text": "perc"
         },
         "showgrid": false
        },
        "legend": {
         "tracegroupgap": 0
        },
        "title": {
         "text": "Richmond County"
        },
        "barmode": "relative",
        "font": {
         "color": "white"
        },
        "paper_bgcolor": "rgba(0,0,0,0)",
        "plot_bgcolor": "rgba(0,0,0,0)"
       },
       "config": {
        "plotlyServerURL": "https://plot.ly"
       }
      }
     },
     "metadata": {}
    }
   ],
   "metadata": {}
  },
  {
   "cell_type": "code",
   "execution_count": 179,
   "source": [
    "# break down by race\n",
    "race_range = (\n",
    "    all_offense_county[all_offense_county[\"race\"].isin([\"B\", \"W\", \"H\"])]\n",
    "    .groupby([\"county_name\", \"sg_disposition\", \"race\"])\n",
    "    .size()\n",
    "    .reset_index(name=\"count\")\n",
    ")\n",
    "race_range[\"perc\"] = race_range[\"count\"] / race_range.groupby(\n",
    "    [\"county_name\", \"sg_disposition\"]\n",
    ")[\"count\"].transform(\"sum\")\n",
    "race_range\n"
   ],
   "outputs": [
    {
     "output_type": "execute_result",
     "data": {
      "text/plain": [
       "          county_name sg_disposition race  count      perc\n",
       "0     Alamance County      < Minimum    B     10  0.416667\n",
       "1     Alamance County      < Minimum    H      2  0.083333\n",
       "2     Alamance County      < Minimum    W     12  0.500000\n",
       "3     Alamance County      > Maximum    B    728  0.488919\n",
       "4     Alamance County      > Maximum    H     82  0.055071\n",
       "...               ...            ...  ...    ...       ...\n",
       "1309    Yancey County      Mitigated    H      6  0.039735\n",
       "1310    Yancey County      Mitigated    W    140  0.927152\n",
       "1311    Yancey County    Presumptive    B     16  0.025641\n",
       "1312    Yancey County    Presumptive    H      7  0.011218\n",
       "1313    Yancey County    Presumptive    W    601  0.963141\n",
       "\n",
       "[1314 rows x 5 columns]"
      ],
      "text/html": [
       "<div>\n",
       "<style scoped>\n",
       "    .dataframe tbody tr th:only-of-type {\n",
       "        vertical-align: middle;\n",
       "    }\n",
       "\n",
       "    .dataframe tbody tr th {\n",
       "        vertical-align: top;\n",
       "    }\n",
       "\n",
       "    .dataframe thead th {\n",
       "        text-align: right;\n",
       "    }\n",
       "</style>\n",
       "<table border=\"1\" class=\"dataframe\">\n",
       "  <thead>\n",
       "    <tr style=\"text-align: right;\">\n",
       "      <th></th>\n",
       "      <th>county_name</th>\n",
       "      <th>sg_disposition</th>\n",
       "      <th>race</th>\n",
       "      <th>count</th>\n",
       "      <th>perc</th>\n",
       "    </tr>\n",
       "  </thead>\n",
       "  <tbody>\n",
       "    <tr>\n",
       "      <th>0</th>\n",
       "      <td>Alamance County</td>\n",
       "      <td>&lt; Minimum</td>\n",
       "      <td>B</td>\n",
       "      <td>10</td>\n",
       "      <td>0.416667</td>\n",
       "    </tr>\n",
       "    <tr>\n",
       "      <th>1</th>\n",
       "      <td>Alamance County</td>\n",
       "      <td>&lt; Minimum</td>\n",
       "      <td>H</td>\n",
       "      <td>2</td>\n",
       "      <td>0.083333</td>\n",
       "    </tr>\n",
       "    <tr>\n",
       "      <th>2</th>\n",
       "      <td>Alamance County</td>\n",
       "      <td>&lt; Minimum</td>\n",
       "      <td>W</td>\n",
       "      <td>12</td>\n",
       "      <td>0.500000</td>\n",
       "    </tr>\n",
       "    <tr>\n",
       "      <th>3</th>\n",
       "      <td>Alamance County</td>\n",
       "      <td>&gt; Maximum</td>\n",
       "      <td>B</td>\n",
       "      <td>728</td>\n",
       "      <td>0.488919</td>\n",
       "    </tr>\n",
       "    <tr>\n",
       "      <th>4</th>\n",
       "      <td>Alamance County</td>\n",
       "      <td>&gt; Maximum</td>\n",
       "      <td>H</td>\n",
       "      <td>82</td>\n",
       "      <td>0.055071</td>\n",
       "    </tr>\n",
       "    <tr>\n",
       "      <th>...</th>\n",
       "      <td>...</td>\n",
       "      <td>...</td>\n",
       "      <td>...</td>\n",
       "      <td>...</td>\n",
       "      <td>...</td>\n",
       "    </tr>\n",
       "    <tr>\n",
       "      <th>1309</th>\n",
       "      <td>Yancey County</td>\n",
       "      <td>Mitigated</td>\n",
       "      <td>H</td>\n",
       "      <td>6</td>\n",
       "      <td>0.039735</td>\n",
       "    </tr>\n",
       "    <tr>\n",
       "      <th>1310</th>\n",
       "      <td>Yancey County</td>\n",
       "      <td>Mitigated</td>\n",
       "      <td>W</td>\n",
       "      <td>140</td>\n",
       "      <td>0.927152</td>\n",
       "    </tr>\n",
       "    <tr>\n",
       "      <th>1311</th>\n",
       "      <td>Yancey County</td>\n",
       "      <td>Presumptive</td>\n",
       "      <td>B</td>\n",
       "      <td>16</td>\n",
       "      <td>0.025641</td>\n",
       "    </tr>\n",
       "    <tr>\n",
       "      <th>1312</th>\n",
       "      <td>Yancey County</td>\n",
       "      <td>Presumptive</td>\n",
       "      <td>H</td>\n",
       "      <td>7</td>\n",
       "      <td>0.011218</td>\n",
       "    </tr>\n",
       "    <tr>\n",
       "      <th>1313</th>\n",
       "      <td>Yancey County</td>\n",
       "      <td>Presumptive</td>\n",
       "      <td>W</td>\n",
       "      <td>601</td>\n",
       "      <td>0.963141</td>\n",
       "    </tr>\n",
       "  </tbody>\n",
       "</table>\n",
       "<p>1314 rows × 5 columns</p>\n",
       "</div>"
      ]
     },
     "metadata": {},
     "execution_count": 179
    }
   ],
   "metadata": {}
  },
  {
   "cell_type": "code",
   "execution_count": 184,
   "source": [
    "# over-sentencing range\n",
    "aggravated_race_range = race_range[race_range[\"sg_disposition\"].isin([\"> Maximum\"])]\n",
    "aggravated_race_range\n"
   ],
   "outputs": [
    {
     "output_type": "execute_result",
     "data": {
      "text/plain": [
       "           county_name sg_disposition race  count      perc\n",
       "3      Alamance County      > Maximum    B    728  0.488919\n",
       "4      Alamance County      > Maximum    H     82  0.055071\n",
       "5      Alamance County      > Maximum    W    679  0.456011\n",
       "16    Alexander County      > Maximum    B     24  0.127660\n",
       "17    Alexander County      > Maximum    H      6  0.031915\n",
       "...                ...            ...  ...    ...       ...\n",
       "1293     Yadkin County      > Maximum    H     17  0.087179\n",
       "1294     Yadkin County      > Maximum    W    147  0.753846\n",
       "1304     Yancey County      > Maximum    B      6  0.026906\n",
       "1305     Yancey County      > Maximum    H     25  0.112108\n",
       "1306     Yancey County      > Maximum    W    192  0.860987\n",
       "\n",
       "[291 rows x 5 columns]"
      ],
      "text/html": [
       "<div>\n",
       "<style scoped>\n",
       "    .dataframe tbody tr th:only-of-type {\n",
       "        vertical-align: middle;\n",
       "    }\n",
       "\n",
       "    .dataframe tbody tr th {\n",
       "        vertical-align: top;\n",
       "    }\n",
       "\n",
       "    .dataframe thead th {\n",
       "        text-align: right;\n",
       "    }\n",
       "</style>\n",
       "<table border=\"1\" class=\"dataframe\">\n",
       "  <thead>\n",
       "    <tr style=\"text-align: right;\">\n",
       "      <th></th>\n",
       "      <th>county_name</th>\n",
       "      <th>sg_disposition</th>\n",
       "      <th>race</th>\n",
       "      <th>count</th>\n",
       "      <th>perc</th>\n",
       "    </tr>\n",
       "  </thead>\n",
       "  <tbody>\n",
       "    <tr>\n",
       "      <th>3</th>\n",
       "      <td>Alamance County</td>\n",
       "      <td>&gt; Maximum</td>\n",
       "      <td>B</td>\n",
       "      <td>728</td>\n",
       "      <td>0.488919</td>\n",
       "    </tr>\n",
       "    <tr>\n",
       "      <th>4</th>\n",
       "      <td>Alamance County</td>\n",
       "      <td>&gt; Maximum</td>\n",
       "      <td>H</td>\n",
       "      <td>82</td>\n",
       "      <td>0.055071</td>\n",
       "    </tr>\n",
       "    <tr>\n",
       "      <th>5</th>\n",
       "      <td>Alamance County</td>\n",
       "      <td>&gt; Maximum</td>\n",
       "      <td>W</td>\n",
       "      <td>679</td>\n",
       "      <td>0.456011</td>\n",
       "    </tr>\n",
       "    <tr>\n",
       "      <th>16</th>\n",
       "      <td>Alexander County</td>\n",
       "      <td>&gt; Maximum</td>\n",
       "      <td>B</td>\n",
       "      <td>24</td>\n",
       "      <td>0.127660</td>\n",
       "    </tr>\n",
       "    <tr>\n",
       "      <th>17</th>\n",
       "      <td>Alexander County</td>\n",
       "      <td>&gt; Maximum</td>\n",
       "      <td>H</td>\n",
       "      <td>6</td>\n",
       "      <td>0.031915</td>\n",
       "    </tr>\n",
       "    <tr>\n",
       "      <th>...</th>\n",
       "      <td>...</td>\n",
       "      <td>...</td>\n",
       "      <td>...</td>\n",
       "      <td>...</td>\n",
       "      <td>...</td>\n",
       "    </tr>\n",
       "    <tr>\n",
       "      <th>1293</th>\n",
       "      <td>Yadkin County</td>\n",
       "      <td>&gt; Maximum</td>\n",
       "      <td>H</td>\n",
       "      <td>17</td>\n",
       "      <td>0.087179</td>\n",
       "    </tr>\n",
       "    <tr>\n",
       "      <th>1294</th>\n",
       "      <td>Yadkin County</td>\n",
       "      <td>&gt; Maximum</td>\n",
       "      <td>W</td>\n",
       "      <td>147</td>\n",
       "      <td>0.753846</td>\n",
       "    </tr>\n",
       "    <tr>\n",
       "      <th>1304</th>\n",
       "      <td>Yancey County</td>\n",
       "      <td>&gt; Maximum</td>\n",
       "      <td>B</td>\n",
       "      <td>6</td>\n",
       "      <td>0.026906</td>\n",
       "    </tr>\n",
       "    <tr>\n",
       "      <th>1305</th>\n",
       "      <td>Yancey County</td>\n",
       "      <td>&gt; Maximum</td>\n",
       "      <td>H</td>\n",
       "      <td>25</td>\n",
       "      <td>0.112108</td>\n",
       "    </tr>\n",
       "    <tr>\n",
       "      <th>1306</th>\n",
       "      <td>Yancey County</td>\n",
       "      <td>&gt; Maximum</td>\n",
       "      <td>W</td>\n",
       "      <td>192</td>\n",
       "      <td>0.860987</td>\n",
       "    </tr>\n",
       "  </tbody>\n",
       "</table>\n",
       "<p>291 rows × 5 columns</p>\n",
       "</div>"
      ]
     },
     "metadata": {},
     "execution_count": 184
    }
   ],
   "metadata": {}
  },
  {
   "cell_type": "code",
   "execution_count": 189,
   "source": [
    "# create table for race distribution in over-sentencing range\n",
    "\n",
    "aggravated_race_range_wide = aggravated_race_range.pivot_table(\n",
    "    \"perc\", [\"county_name\"], \"race\"\n",
    ")\n",
    "\n",
    "aggravated_race_range_wide.reset_index(drop=False, inplace=True)\n",
    "aggravated_race_range_wide.reindex([\"county_name\", \"B\", \"H\", \"W\"], axis=1)\n",
    "\n",
    "aggravated_race_range_wide[\"diff\"] = (\n",
    "    aggravated_race_range_wide[\"B\"] - aggravated_race_range_wide[\"W\"]\n",
    ")\n",
    "aggravated_race_range_wide\n"
   ],
   "outputs": [
    {
     "output_type": "execute_result",
     "data": {
      "text/plain": [
       "race       county_name         B         H         W      diff\n",
       "0      Alamance County  0.488919  0.055071  0.456011  0.032908\n",
       "1     Alexander County  0.127660  0.031915  0.840426 -0.712766\n",
       "2     Alleghany County  0.060606  0.078788  0.860606 -0.800000\n",
       "3         Anson County  0.745645  0.013937  0.240418  0.505226\n",
       "4          Ashe County  0.026738  0.037433  0.935829 -0.909091\n",
       "..                 ...       ...       ...       ...       ...\n",
       "95        Wayne County  0.607022  0.045300  0.347678  0.259343\n",
       "96       Wilkes County  0.143016  0.036955  0.820030 -0.677014\n",
       "97       Wilson County  0.746454  0.042553  0.210993  0.535461\n",
       "98       Yadkin County  0.158974  0.087179  0.753846 -0.594872\n",
       "99       Yancey County  0.026906  0.112108  0.860987 -0.834081\n",
       "\n",
       "[100 rows x 5 columns]"
      ],
      "text/html": [
       "<div>\n",
       "<style scoped>\n",
       "    .dataframe tbody tr th:only-of-type {\n",
       "        vertical-align: middle;\n",
       "    }\n",
       "\n",
       "    .dataframe tbody tr th {\n",
       "        vertical-align: top;\n",
       "    }\n",
       "\n",
       "    .dataframe thead th {\n",
       "        text-align: right;\n",
       "    }\n",
       "</style>\n",
       "<table border=\"1\" class=\"dataframe\">\n",
       "  <thead>\n",
       "    <tr style=\"text-align: right;\">\n",
       "      <th>race</th>\n",
       "      <th>county_name</th>\n",
       "      <th>B</th>\n",
       "      <th>H</th>\n",
       "      <th>W</th>\n",
       "      <th>diff</th>\n",
       "    </tr>\n",
       "  </thead>\n",
       "  <tbody>\n",
       "    <tr>\n",
       "      <th>0</th>\n",
       "      <td>Alamance County</td>\n",
       "      <td>0.488919</td>\n",
       "      <td>0.055071</td>\n",
       "      <td>0.456011</td>\n",
       "      <td>0.032908</td>\n",
       "    </tr>\n",
       "    <tr>\n",
       "      <th>1</th>\n",
       "      <td>Alexander County</td>\n",
       "      <td>0.127660</td>\n",
       "      <td>0.031915</td>\n",
       "      <td>0.840426</td>\n",
       "      <td>-0.712766</td>\n",
       "    </tr>\n",
       "    <tr>\n",
       "      <th>2</th>\n",
       "      <td>Alleghany County</td>\n",
       "      <td>0.060606</td>\n",
       "      <td>0.078788</td>\n",
       "      <td>0.860606</td>\n",
       "      <td>-0.800000</td>\n",
       "    </tr>\n",
       "    <tr>\n",
       "      <th>3</th>\n",
       "      <td>Anson County</td>\n",
       "      <td>0.745645</td>\n",
       "      <td>0.013937</td>\n",
       "      <td>0.240418</td>\n",
       "      <td>0.505226</td>\n",
       "    </tr>\n",
       "    <tr>\n",
       "      <th>4</th>\n",
       "      <td>Ashe County</td>\n",
       "      <td>0.026738</td>\n",
       "      <td>0.037433</td>\n",
       "      <td>0.935829</td>\n",
       "      <td>-0.909091</td>\n",
       "    </tr>\n",
       "    <tr>\n",
       "      <th>...</th>\n",
       "      <td>...</td>\n",
       "      <td>...</td>\n",
       "      <td>...</td>\n",
       "      <td>...</td>\n",
       "      <td>...</td>\n",
       "    </tr>\n",
       "    <tr>\n",
       "      <th>95</th>\n",
       "      <td>Wayne County</td>\n",
       "      <td>0.607022</td>\n",
       "      <td>0.045300</td>\n",
       "      <td>0.347678</td>\n",
       "      <td>0.259343</td>\n",
       "    </tr>\n",
       "    <tr>\n",
       "      <th>96</th>\n",
       "      <td>Wilkes County</td>\n",
       "      <td>0.143016</td>\n",
       "      <td>0.036955</td>\n",
       "      <td>0.820030</td>\n",
       "      <td>-0.677014</td>\n",
       "    </tr>\n",
       "    <tr>\n",
       "      <th>97</th>\n",
       "      <td>Wilson County</td>\n",
       "      <td>0.746454</td>\n",
       "      <td>0.042553</td>\n",
       "      <td>0.210993</td>\n",
       "      <td>0.535461</td>\n",
       "    </tr>\n",
       "    <tr>\n",
       "      <th>98</th>\n",
       "      <td>Yadkin County</td>\n",
       "      <td>0.158974</td>\n",
       "      <td>0.087179</td>\n",
       "      <td>0.753846</td>\n",
       "      <td>-0.594872</td>\n",
       "    </tr>\n",
       "    <tr>\n",
       "      <th>99</th>\n",
       "      <td>Yancey County</td>\n",
       "      <td>0.026906</td>\n",
       "      <td>0.112108</td>\n",
       "      <td>0.860987</td>\n",
       "      <td>-0.834081</td>\n",
       "    </tr>\n",
       "  </tbody>\n",
       "</table>\n",
       "<p>100 rows × 5 columns</p>\n",
       "</div>"
      ]
     },
     "metadata": {},
     "execution_count": 189
    }
   ],
   "metadata": {}
  },
  {
   "cell_type": "code",
   "execution_count": 207,
   "source": [
    "aggravated_race_range_wide.to_csv(\"aggravated_race.csv\")"
   ],
   "outputs": [],
   "metadata": {}
  },
  {
   "cell_type": "code",
   "execution_count": 197,
   "source": [
    "# load population data \n",
    "pop = pd.read_csv(\"/Users/htyun/Downloads/county_racial_representation_table.csv\")\n",
    "pop[\"black_sys_to_pop\"] = pop[\"black_perc_sys\"] / pop[\"black_pop_perc\"]\n",
    "pop[\"white_sys_to_pop\"] = pop[\"white_perc_sys\"] / pop[\"white_pop_perc\"]\n",
    "pop[\"black_to_white\"] = pop[\"black_sys_to_pop\"] / pop[\"white_sys_to_pop\"]\n",
    "pop\n"
   ],
   "outputs": [
    {
     "output_type": "execute_result",
     "data": {
      "text/plain": [
       "    county_fips_code  black_count_sys  white_count_sys  hisp_count_sys  \\\n",
       "0              37001            81148           114318           35411   \n",
       "1              37003            26648           126218           13759   \n",
       "2              37005              297             9842            2433   \n",
       "3              37007            38169            20457            2030   \n",
       "4              37009              546            26057            2550   \n",
       "..               ...              ...              ...             ...   \n",
       "95             37191           106611            96327           36575   \n",
       "96             37193            22385           164950           16492   \n",
       "97             37195           122283            68547           21085   \n",
       "98             37197             4860            41249            7168   \n",
       "99             37199              718            38003            4766   \n",
       "\n",
       "    total_count_sys  black_perc_sys  white_perc_sys  hisp_perc_sys  \\\n",
       "0            239406       33.895558       47.750683      14.791192   \n",
       "1            171351       15.551704       73.660498       8.029717   \n",
       "2             13160        2.256839       74.787234      18.487842   \n",
       "3             61914       61.648416       33.040992       3.278741   \n",
       "4             29831        1.830311       87.348731       8.548155   \n",
       "..              ...             ...             ...            ...   \n",
       "95           259012       41.160641       37.190169      14.120967   \n",
       "96           207942       10.765021       79.325004       7.931058   \n",
       "97           218730       55.905911       31.338637       9.639738   \n",
       "98            54481        8.920541       75.712634      13.156880   \n",
       "99            44271        1.621829       85.841747      10.765512   \n",
       "\n",
       "              COUNTY   total  black_pop  white_pop  hisp_pop  other_pop  \\\n",
       "0    Alamance County  157844      29972     102558     20236       5078   \n",
       "1   Alexander County   37159       2187      32335      1750        887   \n",
       "2   Alleghany County   10935        266       9549      1062         58   \n",
       "3       Anson County   25531      12417      11463       982        669   \n",
       "4        Ashe County   26833        210      24810      1545        268   \n",
       "..               ...     ...        ...        ...       ...        ...   \n",
       "95      Wayne County  124496      37887      67352     14385       4872   \n",
       "96     Wilkes County   68525       2893      60214      4506        912   \n",
       "97     Wilson County   81379      32307      38490      8493       2089   \n",
       "98     Yadkin County   37825       1268      31972      4425        160   \n",
       "99     Yancey County   17605        149      16335       929        192   \n",
       "\n",
       "    total_perc  black_pop_perc  white_pop_perc  hisp_pop_perc  other_pop_perc  \\\n",
       "0          100       18.988368       64.974278      12.820253        3.217100   \n",
       "1          100        5.885519       87.017950       4.709492        2.387039   \n",
       "2          100        2.432556       87.325103       9.711934        0.530407   \n",
       "3          100       48.634993       44.898359       3.846304        2.620344   \n",
       "4          100        0.782618       92.460776       5.757836        0.998770   \n",
       "..         ...             ...             ...            ...             ...   \n",
       "95         100       30.432303       54.099730      11.554588        3.913379   \n",
       "96         100        4.221817       87.871580       6.575702        1.330901   \n",
       "97         100       39.699431       47.297214      10.436353        2.567001   \n",
       "98         100        3.352280       84.526107      11.698612        0.423001   \n",
       "99         100        0.846350       92.786140       5.276910        1.090599   \n",
       "\n",
       "    black_sys_to_pop  white_sys_to_pop  black_to_white  \n",
       "0           1.785070          0.734917        2.428941  \n",
       "1           2.642367          0.846498        3.121529  \n",
       "2           0.927764          0.856423        1.083302  \n",
       "3           1.267573          0.735906        1.722465  \n",
       "4           2.338701          0.944711        2.475573  \n",
       "..               ...               ...             ...  \n",
       "95          1.352531          0.687437        1.967498  \n",
       "96          2.549855          0.902738        2.824580  \n",
       "97          1.408230          0.662589        2.125342  \n",
       "98          2.661037          0.895731        2.970800  \n",
       "99          1.916262          0.925157        2.071283  \n",
       "\n",
       "[100 rows x 22 columns]"
      ],
      "text/html": [
       "<div>\n",
       "<style scoped>\n",
       "    .dataframe tbody tr th:only-of-type {\n",
       "        vertical-align: middle;\n",
       "    }\n",
       "\n",
       "    .dataframe tbody tr th {\n",
       "        vertical-align: top;\n",
       "    }\n",
       "\n",
       "    .dataframe thead th {\n",
       "        text-align: right;\n",
       "    }\n",
       "</style>\n",
       "<table border=\"1\" class=\"dataframe\">\n",
       "  <thead>\n",
       "    <tr style=\"text-align: right;\">\n",
       "      <th></th>\n",
       "      <th>county_fips_code</th>\n",
       "      <th>black_count_sys</th>\n",
       "      <th>white_count_sys</th>\n",
       "      <th>hisp_count_sys</th>\n",
       "      <th>total_count_sys</th>\n",
       "      <th>black_perc_sys</th>\n",
       "      <th>white_perc_sys</th>\n",
       "      <th>hisp_perc_sys</th>\n",
       "      <th>COUNTY</th>\n",
       "      <th>total</th>\n",
       "      <th>black_pop</th>\n",
       "      <th>white_pop</th>\n",
       "      <th>hisp_pop</th>\n",
       "      <th>other_pop</th>\n",
       "      <th>total_perc</th>\n",
       "      <th>black_pop_perc</th>\n",
       "      <th>white_pop_perc</th>\n",
       "      <th>hisp_pop_perc</th>\n",
       "      <th>other_pop_perc</th>\n",
       "      <th>black_sys_to_pop</th>\n",
       "      <th>white_sys_to_pop</th>\n",
       "      <th>black_to_white</th>\n",
       "    </tr>\n",
       "  </thead>\n",
       "  <tbody>\n",
       "    <tr>\n",
       "      <th>0</th>\n",
       "      <td>37001</td>\n",
       "      <td>81148</td>\n",
       "      <td>114318</td>\n",
       "      <td>35411</td>\n",
       "      <td>239406</td>\n",
       "      <td>33.895558</td>\n",
       "      <td>47.750683</td>\n",
       "      <td>14.791192</td>\n",
       "      <td>Alamance County</td>\n",
       "      <td>157844</td>\n",
       "      <td>29972</td>\n",
       "      <td>102558</td>\n",
       "      <td>20236</td>\n",
       "      <td>5078</td>\n",
       "      <td>100</td>\n",
       "      <td>18.988368</td>\n",
       "      <td>64.974278</td>\n",
       "      <td>12.820253</td>\n",
       "      <td>3.217100</td>\n",
       "      <td>1.785070</td>\n",
       "      <td>0.734917</td>\n",
       "      <td>2.428941</td>\n",
       "    </tr>\n",
       "    <tr>\n",
       "      <th>1</th>\n",
       "      <td>37003</td>\n",
       "      <td>26648</td>\n",
       "      <td>126218</td>\n",
       "      <td>13759</td>\n",
       "      <td>171351</td>\n",
       "      <td>15.551704</td>\n",
       "      <td>73.660498</td>\n",
       "      <td>8.029717</td>\n",
       "      <td>Alexander County</td>\n",
       "      <td>37159</td>\n",
       "      <td>2187</td>\n",
       "      <td>32335</td>\n",
       "      <td>1750</td>\n",
       "      <td>887</td>\n",
       "      <td>100</td>\n",
       "      <td>5.885519</td>\n",
       "      <td>87.017950</td>\n",
       "      <td>4.709492</td>\n",
       "      <td>2.387039</td>\n",
       "      <td>2.642367</td>\n",
       "      <td>0.846498</td>\n",
       "      <td>3.121529</td>\n",
       "    </tr>\n",
       "    <tr>\n",
       "      <th>2</th>\n",
       "      <td>37005</td>\n",
       "      <td>297</td>\n",
       "      <td>9842</td>\n",
       "      <td>2433</td>\n",
       "      <td>13160</td>\n",
       "      <td>2.256839</td>\n",
       "      <td>74.787234</td>\n",
       "      <td>18.487842</td>\n",
       "      <td>Alleghany County</td>\n",
       "      <td>10935</td>\n",
       "      <td>266</td>\n",
       "      <td>9549</td>\n",
       "      <td>1062</td>\n",
       "      <td>58</td>\n",
       "      <td>100</td>\n",
       "      <td>2.432556</td>\n",
       "      <td>87.325103</td>\n",
       "      <td>9.711934</td>\n",
       "      <td>0.530407</td>\n",
       "      <td>0.927764</td>\n",
       "      <td>0.856423</td>\n",
       "      <td>1.083302</td>\n",
       "    </tr>\n",
       "    <tr>\n",
       "      <th>3</th>\n",
       "      <td>37007</td>\n",
       "      <td>38169</td>\n",
       "      <td>20457</td>\n",
       "      <td>2030</td>\n",
       "      <td>61914</td>\n",
       "      <td>61.648416</td>\n",
       "      <td>33.040992</td>\n",
       "      <td>3.278741</td>\n",
       "      <td>Anson County</td>\n",
       "      <td>25531</td>\n",
       "      <td>12417</td>\n",
       "      <td>11463</td>\n",
       "      <td>982</td>\n",
       "      <td>669</td>\n",
       "      <td>100</td>\n",
       "      <td>48.634993</td>\n",
       "      <td>44.898359</td>\n",
       "      <td>3.846304</td>\n",
       "      <td>2.620344</td>\n",
       "      <td>1.267573</td>\n",
       "      <td>0.735906</td>\n",
       "      <td>1.722465</td>\n",
       "    </tr>\n",
       "    <tr>\n",
       "      <th>4</th>\n",
       "      <td>37009</td>\n",
       "      <td>546</td>\n",
       "      <td>26057</td>\n",
       "      <td>2550</td>\n",
       "      <td>29831</td>\n",
       "      <td>1.830311</td>\n",
       "      <td>87.348731</td>\n",
       "      <td>8.548155</td>\n",
       "      <td>Ashe County</td>\n",
       "      <td>26833</td>\n",
       "      <td>210</td>\n",
       "      <td>24810</td>\n",
       "      <td>1545</td>\n",
       "      <td>268</td>\n",
       "      <td>100</td>\n",
       "      <td>0.782618</td>\n",
       "      <td>92.460776</td>\n",
       "      <td>5.757836</td>\n",
       "      <td>0.998770</td>\n",
       "      <td>2.338701</td>\n",
       "      <td>0.944711</td>\n",
       "      <td>2.475573</td>\n",
       "    </tr>\n",
       "    <tr>\n",
       "      <th>...</th>\n",
       "      <td>...</td>\n",
       "      <td>...</td>\n",
       "      <td>...</td>\n",
       "      <td>...</td>\n",
       "      <td>...</td>\n",
       "      <td>...</td>\n",
       "      <td>...</td>\n",
       "      <td>...</td>\n",
       "      <td>...</td>\n",
       "      <td>...</td>\n",
       "      <td>...</td>\n",
       "      <td>...</td>\n",
       "      <td>...</td>\n",
       "      <td>...</td>\n",
       "      <td>...</td>\n",
       "      <td>...</td>\n",
       "      <td>...</td>\n",
       "      <td>...</td>\n",
       "      <td>...</td>\n",
       "      <td>...</td>\n",
       "      <td>...</td>\n",
       "      <td>...</td>\n",
       "    </tr>\n",
       "    <tr>\n",
       "      <th>95</th>\n",
       "      <td>37191</td>\n",
       "      <td>106611</td>\n",
       "      <td>96327</td>\n",
       "      <td>36575</td>\n",
       "      <td>259012</td>\n",
       "      <td>41.160641</td>\n",
       "      <td>37.190169</td>\n",
       "      <td>14.120967</td>\n",
       "      <td>Wayne County</td>\n",
       "      <td>124496</td>\n",
       "      <td>37887</td>\n",
       "      <td>67352</td>\n",
       "      <td>14385</td>\n",
       "      <td>4872</td>\n",
       "      <td>100</td>\n",
       "      <td>30.432303</td>\n",
       "      <td>54.099730</td>\n",
       "      <td>11.554588</td>\n",
       "      <td>3.913379</td>\n",
       "      <td>1.352531</td>\n",
       "      <td>0.687437</td>\n",
       "      <td>1.967498</td>\n",
       "    </tr>\n",
       "    <tr>\n",
       "      <th>96</th>\n",
       "      <td>37193</td>\n",
       "      <td>22385</td>\n",
       "      <td>164950</td>\n",
       "      <td>16492</td>\n",
       "      <td>207942</td>\n",
       "      <td>10.765021</td>\n",
       "      <td>79.325004</td>\n",
       "      <td>7.931058</td>\n",
       "      <td>Wilkes County</td>\n",
       "      <td>68525</td>\n",
       "      <td>2893</td>\n",
       "      <td>60214</td>\n",
       "      <td>4506</td>\n",
       "      <td>912</td>\n",
       "      <td>100</td>\n",
       "      <td>4.221817</td>\n",
       "      <td>87.871580</td>\n",
       "      <td>6.575702</td>\n",
       "      <td>1.330901</td>\n",
       "      <td>2.549855</td>\n",
       "      <td>0.902738</td>\n",
       "      <td>2.824580</td>\n",
       "    </tr>\n",
       "    <tr>\n",
       "      <th>97</th>\n",
       "      <td>37195</td>\n",
       "      <td>122283</td>\n",
       "      <td>68547</td>\n",
       "      <td>21085</td>\n",
       "      <td>218730</td>\n",
       "      <td>55.905911</td>\n",
       "      <td>31.338637</td>\n",
       "      <td>9.639738</td>\n",
       "      <td>Wilson County</td>\n",
       "      <td>81379</td>\n",
       "      <td>32307</td>\n",
       "      <td>38490</td>\n",
       "      <td>8493</td>\n",
       "      <td>2089</td>\n",
       "      <td>100</td>\n",
       "      <td>39.699431</td>\n",
       "      <td>47.297214</td>\n",
       "      <td>10.436353</td>\n",
       "      <td>2.567001</td>\n",
       "      <td>1.408230</td>\n",
       "      <td>0.662589</td>\n",
       "      <td>2.125342</td>\n",
       "    </tr>\n",
       "    <tr>\n",
       "      <th>98</th>\n",
       "      <td>37197</td>\n",
       "      <td>4860</td>\n",
       "      <td>41249</td>\n",
       "      <td>7168</td>\n",
       "      <td>54481</td>\n",
       "      <td>8.920541</td>\n",
       "      <td>75.712634</td>\n",
       "      <td>13.156880</td>\n",
       "      <td>Yadkin County</td>\n",
       "      <td>37825</td>\n",
       "      <td>1268</td>\n",
       "      <td>31972</td>\n",
       "      <td>4425</td>\n",
       "      <td>160</td>\n",
       "      <td>100</td>\n",
       "      <td>3.352280</td>\n",
       "      <td>84.526107</td>\n",
       "      <td>11.698612</td>\n",
       "      <td>0.423001</td>\n",
       "      <td>2.661037</td>\n",
       "      <td>0.895731</td>\n",
       "      <td>2.970800</td>\n",
       "    </tr>\n",
       "    <tr>\n",
       "      <th>99</th>\n",
       "      <td>37199</td>\n",
       "      <td>718</td>\n",
       "      <td>38003</td>\n",
       "      <td>4766</td>\n",
       "      <td>44271</td>\n",
       "      <td>1.621829</td>\n",
       "      <td>85.841747</td>\n",
       "      <td>10.765512</td>\n",
       "      <td>Yancey County</td>\n",
       "      <td>17605</td>\n",
       "      <td>149</td>\n",
       "      <td>16335</td>\n",
       "      <td>929</td>\n",
       "      <td>192</td>\n",
       "      <td>100</td>\n",
       "      <td>0.846350</td>\n",
       "      <td>92.786140</td>\n",
       "      <td>5.276910</td>\n",
       "      <td>1.090599</td>\n",
       "      <td>1.916262</td>\n",
       "      <td>0.925157</td>\n",
       "      <td>2.071283</td>\n",
       "    </tr>\n",
       "  </tbody>\n",
       "</table>\n",
       "<p>100 rows × 22 columns</p>\n",
       "</div>"
      ]
     },
     "metadata": {},
     "execution_count": 197
    }
   ],
   "metadata": {}
  },
  {
   "cell_type": "code",
   "execution_count": 212,
   "source": [
    "# calculate normalized difference between black and white defendants in over-sentencing range\n",
    "\n",
    "pop3 = pop[['COUNTY','black_pop_perc','white_pop_perc']]\n",
    "pop_sentence = aggravated_race_range_wide.merge(\n",
    "    pop3, left_on=\"county_name\", right_on=\"COUNTY\"\n",
    ")\n",
    "pop_sentence['black_n'] = pop_sentence['B']/pop_sentence['black_pop_perc']\n",
    "pop_sentence['white_n'] = pop_sentence['W']/pop_sentence['white_pop_perc']\n",
    "pop_sentence['normalized_diff'] = pop_sentence['black_n'] - pop_sentence['white_n']\n",
    "pop_sentence.to_csv(\"pop_sentence.csv\")"
   ],
   "outputs": [],
   "metadata": {}
  },
  {
   "cell_type": "code",
   "execution_count": 216,
   "source": [
    "pop_sentence"
   ],
   "outputs": [
    {
     "output_type": "execute_result",
     "data": {
      "text/plain": [
       "         county_name         B         H         W      diff  \\\n",
       "0    Alamance County  0.488919  0.055071  0.456011  0.032908   \n",
       "1   Alexander County  0.127660  0.031915  0.840426 -0.712766   \n",
       "2   Alleghany County  0.060606  0.078788  0.860606 -0.800000   \n",
       "3       Anson County  0.745645  0.013937  0.240418  0.505226   \n",
       "4        Ashe County  0.026738  0.037433  0.935829 -0.909091   \n",
       "..               ...       ...       ...       ...       ...   \n",
       "94      Wayne County  0.607022  0.045300  0.347678  0.259343   \n",
       "95     Wilkes County  0.143016  0.036955  0.820030 -0.677014   \n",
       "96     Wilson County  0.746454  0.042553  0.210993  0.535461   \n",
       "97     Yadkin County  0.158974  0.087179  0.753846 -0.594872   \n",
       "98     Yancey County  0.026906  0.112108  0.860987 -0.834081   \n",
       "\n",
       "              COUNTY  black_pop_perc  white_pop_perc   black_n   white_n  \\\n",
       "0    Alamance County       18.988368       64.974278  0.025748  0.007018   \n",
       "1   Alexander County        5.885519       87.017950  0.021690  0.009658   \n",
       "2   Alleghany County        2.432556       87.325103  0.024915  0.009855   \n",
       "3       Anson County       48.634993       44.898359  0.015331  0.005355   \n",
       "4        Ashe County        0.782618       92.460776  0.034165  0.010121   \n",
       "..               ...             ...             ...       ...       ...   \n",
       "94      Wayne County       30.432303       54.099730  0.019947  0.006427   \n",
       "95     Wilkes County        4.221817       87.871580  0.033875  0.009332   \n",
       "96     Wilson County       39.699431       47.297214  0.018803  0.004461   \n",
       "97     Yadkin County        3.352280       84.526107  0.047423  0.008919   \n",
       "98     Yancey County        0.846350       92.786140  0.031790  0.009279   \n",
       "\n",
       "    normalized_diff  \n",
       "0          0.018730  \n",
       "1          0.012032  \n",
       "2          0.015059  \n",
       "3          0.009977  \n",
       "4          0.024043  \n",
       "..              ...  \n",
       "94         0.013520  \n",
       "95         0.024543  \n",
       "96         0.014342  \n",
       "97         0.038504  \n",
       "98         0.022511  \n",
       "\n",
       "[99 rows x 11 columns]"
      ],
      "text/html": [
       "<div>\n",
       "<style scoped>\n",
       "    .dataframe tbody tr th:only-of-type {\n",
       "        vertical-align: middle;\n",
       "    }\n",
       "\n",
       "    .dataframe tbody tr th {\n",
       "        vertical-align: top;\n",
       "    }\n",
       "\n",
       "    .dataframe thead th {\n",
       "        text-align: right;\n",
       "    }\n",
       "</style>\n",
       "<table border=\"1\" class=\"dataframe\">\n",
       "  <thead>\n",
       "    <tr style=\"text-align: right;\">\n",
       "      <th></th>\n",
       "      <th>county_name</th>\n",
       "      <th>B</th>\n",
       "      <th>H</th>\n",
       "      <th>W</th>\n",
       "      <th>diff</th>\n",
       "      <th>COUNTY</th>\n",
       "      <th>black_pop_perc</th>\n",
       "      <th>white_pop_perc</th>\n",
       "      <th>black_n</th>\n",
       "      <th>white_n</th>\n",
       "      <th>normalized_diff</th>\n",
       "    </tr>\n",
       "  </thead>\n",
       "  <tbody>\n",
       "    <tr>\n",
       "      <th>0</th>\n",
       "      <td>Alamance County</td>\n",
       "      <td>0.488919</td>\n",
       "      <td>0.055071</td>\n",
       "      <td>0.456011</td>\n",
       "      <td>0.032908</td>\n",
       "      <td>Alamance County</td>\n",
       "      <td>18.988368</td>\n",
       "      <td>64.974278</td>\n",
       "      <td>0.025748</td>\n",
       "      <td>0.007018</td>\n",
       "      <td>0.018730</td>\n",
       "    </tr>\n",
       "    <tr>\n",
       "      <th>1</th>\n",
       "      <td>Alexander County</td>\n",
       "      <td>0.127660</td>\n",
       "      <td>0.031915</td>\n",
       "      <td>0.840426</td>\n",
       "      <td>-0.712766</td>\n",
       "      <td>Alexander County</td>\n",
       "      <td>5.885519</td>\n",
       "      <td>87.017950</td>\n",
       "      <td>0.021690</td>\n",
       "      <td>0.009658</td>\n",
       "      <td>0.012032</td>\n",
       "    </tr>\n",
       "    <tr>\n",
       "      <th>2</th>\n",
       "      <td>Alleghany County</td>\n",
       "      <td>0.060606</td>\n",
       "      <td>0.078788</td>\n",
       "      <td>0.860606</td>\n",
       "      <td>-0.800000</td>\n",
       "      <td>Alleghany County</td>\n",
       "      <td>2.432556</td>\n",
       "      <td>87.325103</td>\n",
       "      <td>0.024915</td>\n",
       "      <td>0.009855</td>\n",
       "      <td>0.015059</td>\n",
       "    </tr>\n",
       "    <tr>\n",
       "      <th>3</th>\n",
       "      <td>Anson County</td>\n",
       "      <td>0.745645</td>\n",
       "      <td>0.013937</td>\n",
       "      <td>0.240418</td>\n",
       "      <td>0.505226</td>\n",
       "      <td>Anson County</td>\n",
       "      <td>48.634993</td>\n",
       "      <td>44.898359</td>\n",
       "      <td>0.015331</td>\n",
       "      <td>0.005355</td>\n",
       "      <td>0.009977</td>\n",
       "    </tr>\n",
       "    <tr>\n",
       "      <th>4</th>\n",
       "      <td>Ashe County</td>\n",
       "      <td>0.026738</td>\n",
       "      <td>0.037433</td>\n",
       "      <td>0.935829</td>\n",
       "      <td>-0.909091</td>\n",
       "      <td>Ashe County</td>\n",
       "      <td>0.782618</td>\n",
       "      <td>92.460776</td>\n",
       "      <td>0.034165</td>\n",
       "      <td>0.010121</td>\n",
       "      <td>0.024043</td>\n",
       "    </tr>\n",
       "    <tr>\n",
       "      <th>...</th>\n",
       "      <td>...</td>\n",
       "      <td>...</td>\n",
       "      <td>...</td>\n",
       "      <td>...</td>\n",
       "      <td>...</td>\n",
       "      <td>...</td>\n",
       "      <td>...</td>\n",
       "      <td>...</td>\n",
       "      <td>...</td>\n",
       "      <td>...</td>\n",
       "      <td>...</td>\n",
       "    </tr>\n",
       "    <tr>\n",
       "      <th>94</th>\n",
       "      <td>Wayne County</td>\n",
       "      <td>0.607022</td>\n",
       "      <td>0.045300</td>\n",
       "      <td>0.347678</td>\n",
       "      <td>0.259343</td>\n",
       "      <td>Wayne County</td>\n",
       "      <td>30.432303</td>\n",
       "      <td>54.099730</td>\n",
       "      <td>0.019947</td>\n",
       "      <td>0.006427</td>\n",
       "      <td>0.013520</td>\n",
       "    </tr>\n",
       "    <tr>\n",
       "      <th>95</th>\n",
       "      <td>Wilkes County</td>\n",
       "      <td>0.143016</td>\n",
       "      <td>0.036955</td>\n",
       "      <td>0.820030</td>\n",
       "      <td>-0.677014</td>\n",
       "      <td>Wilkes County</td>\n",
       "      <td>4.221817</td>\n",
       "      <td>87.871580</td>\n",
       "      <td>0.033875</td>\n",
       "      <td>0.009332</td>\n",
       "      <td>0.024543</td>\n",
       "    </tr>\n",
       "    <tr>\n",
       "      <th>96</th>\n",
       "      <td>Wilson County</td>\n",
       "      <td>0.746454</td>\n",
       "      <td>0.042553</td>\n",
       "      <td>0.210993</td>\n",
       "      <td>0.535461</td>\n",
       "      <td>Wilson County</td>\n",
       "      <td>39.699431</td>\n",
       "      <td>47.297214</td>\n",
       "      <td>0.018803</td>\n",
       "      <td>0.004461</td>\n",
       "      <td>0.014342</td>\n",
       "    </tr>\n",
       "    <tr>\n",
       "      <th>97</th>\n",
       "      <td>Yadkin County</td>\n",
       "      <td>0.158974</td>\n",
       "      <td>0.087179</td>\n",
       "      <td>0.753846</td>\n",
       "      <td>-0.594872</td>\n",
       "      <td>Yadkin County</td>\n",
       "      <td>3.352280</td>\n",
       "      <td>84.526107</td>\n",
       "      <td>0.047423</td>\n",
       "      <td>0.008919</td>\n",
       "      <td>0.038504</td>\n",
       "    </tr>\n",
       "    <tr>\n",
       "      <th>98</th>\n",
       "      <td>Yancey County</td>\n",
       "      <td>0.026906</td>\n",
       "      <td>0.112108</td>\n",
       "      <td>0.860987</td>\n",
       "      <td>-0.834081</td>\n",
       "      <td>Yancey County</td>\n",
       "      <td>0.846350</td>\n",
       "      <td>92.786140</td>\n",
       "      <td>0.031790</td>\n",
       "      <td>0.009279</td>\n",
       "      <td>0.022511</td>\n",
       "    </tr>\n",
       "  </tbody>\n",
       "</table>\n",
       "<p>99 rows × 11 columns</p>\n",
       "</div>"
      ]
     },
     "metadata": {},
     "execution_count": 216
    }
   ],
   "metadata": {}
  },
  {
   "cell_type": "code",
   "execution_count": 220,
   "source": [
    "disposition1 = disposition_county[disposition_county['sg_disposition']=='> Maximum']\n",
    "sentencing_table = disposition1.merge(pop_sentence, on=\"county_name\")\n",
    "sentencing_table = sentencing_table[['county_name','perc','normalized_diff']]\n",
    "sentencing_table.rename(columns={\"perc\":\"over_sentencing_perc\"}, inplace=True)\n",
    "sentencing_table"
   ],
   "outputs": [
    {
     "output_type": "execute_result",
     "data": {
      "text/plain": [
       "         county_name  over_sentencing_perc  normalized_diff\n",
       "0    Alamance County              0.212334         0.018730\n",
       "1   Alexander County              0.143284         0.012032\n",
       "2   Alleghany County              0.230769         0.015059\n",
       "3       Anson County              0.209155         0.009977\n",
       "4        Ashe County              0.342805         0.024043\n",
       "..               ...                   ...              ...\n",
       "94      Wayne County              0.210648         0.013520\n",
       "95     Wilkes County              0.387519         0.024543\n",
       "96     Wilson County              0.199093         0.014342\n",
       "97     Yadkin County              0.094712         0.038504\n",
       "98     Yancey County              0.221022         0.022511\n",
       "\n",
       "[99 rows x 3 columns]"
      ],
      "text/html": [
       "<div>\n",
       "<style scoped>\n",
       "    .dataframe tbody tr th:only-of-type {\n",
       "        vertical-align: middle;\n",
       "    }\n",
       "\n",
       "    .dataframe tbody tr th {\n",
       "        vertical-align: top;\n",
       "    }\n",
       "\n",
       "    .dataframe thead th {\n",
       "        text-align: right;\n",
       "    }\n",
       "</style>\n",
       "<table border=\"1\" class=\"dataframe\">\n",
       "  <thead>\n",
       "    <tr style=\"text-align: right;\">\n",
       "      <th></th>\n",
       "      <th>county_name</th>\n",
       "      <th>over_sentencing_perc</th>\n",
       "      <th>normalized_diff</th>\n",
       "    </tr>\n",
       "  </thead>\n",
       "  <tbody>\n",
       "    <tr>\n",
       "      <th>0</th>\n",
       "      <td>Alamance County</td>\n",
       "      <td>0.212334</td>\n",
       "      <td>0.018730</td>\n",
       "    </tr>\n",
       "    <tr>\n",
       "      <th>1</th>\n",
       "      <td>Alexander County</td>\n",
       "      <td>0.143284</td>\n",
       "      <td>0.012032</td>\n",
       "    </tr>\n",
       "    <tr>\n",
       "      <th>2</th>\n",
       "      <td>Alleghany County</td>\n",
       "      <td>0.230769</td>\n",
       "      <td>0.015059</td>\n",
       "    </tr>\n",
       "    <tr>\n",
       "      <th>3</th>\n",
       "      <td>Anson County</td>\n",
       "      <td>0.209155</td>\n",
       "      <td>0.009977</td>\n",
       "    </tr>\n",
       "    <tr>\n",
       "      <th>4</th>\n",
       "      <td>Ashe County</td>\n",
       "      <td>0.342805</td>\n",
       "      <td>0.024043</td>\n",
       "    </tr>\n",
       "    <tr>\n",
       "      <th>...</th>\n",
       "      <td>...</td>\n",
       "      <td>...</td>\n",
       "      <td>...</td>\n",
       "    </tr>\n",
       "    <tr>\n",
       "      <th>94</th>\n",
       "      <td>Wayne County</td>\n",
       "      <td>0.210648</td>\n",
       "      <td>0.013520</td>\n",
       "    </tr>\n",
       "    <tr>\n",
       "      <th>95</th>\n",
       "      <td>Wilkes County</td>\n",
       "      <td>0.387519</td>\n",
       "      <td>0.024543</td>\n",
       "    </tr>\n",
       "    <tr>\n",
       "      <th>96</th>\n",
       "      <td>Wilson County</td>\n",
       "      <td>0.199093</td>\n",
       "      <td>0.014342</td>\n",
       "    </tr>\n",
       "    <tr>\n",
       "      <th>97</th>\n",
       "      <td>Yadkin County</td>\n",
       "      <td>0.094712</td>\n",
       "      <td>0.038504</td>\n",
       "    </tr>\n",
       "    <tr>\n",
       "      <th>98</th>\n",
       "      <td>Yancey County</td>\n",
       "      <td>0.221022</td>\n",
       "      <td>0.022511</td>\n",
       "    </tr>\n",
       "  </tbody>\n",
       "</table>\n",
       "<p>99 rows × 3 columns</p>\n",
       "</div>"
      ]
     },
     "metadata": {},
     "execution_count": 220
    }
   ],
   "metadata": {}
  },
  {
   "cell_type": "code",
   "execution_count": 221,
   "source": [
    "sentencing_table.to_csv(\"sentencing_table.csv\")"
   ],
   "outputs": [],
   "metadata": {}
  },
  {
   "cell_type": "code",
   "execution_count": 223,
   "source": [
    "# over-sentencing percentage vs. population\n",
    "\n",
    "pop_county = pop[['COUNTY','total']]\n",
    "scatter_df = sentencing_table.merge(pop_county,left_on='county_name', right_on='COUNTY')\n",
    "scatter_df\n"
   ],
   "outputs": [
    {
     "output_type": "execute_result",
     "data": {
      "text/plain": [
       "         county_name  over_sentencing_perc  normalized_diff            COUNTY  \\\n",
       "0    Alamance County              0.212334         0.018730   Alamance County   \n",
       "1   Alexander County              0.143284         0.012032  Alexander County   \n",
       "2   Alleghany County              0.230769         0.015059  Alleghany County   \n",
       "3       Anson County              0.209155         0.009977      Anson County   \n",
       "4        Ashe County              0.342805         0.024043       Ashe County   \n",
       "..               ...                   ...              ...               ...   \n",
       "94      Wayne County              0.210648         0.013520      Wayne County   \n",
       "95     Wilkes County              0.387519         0.024543     Wilkes County   \n",
       "96     Wilson County              0.199093         0.014342     Wilson County   \n",
       "97     Yadkin County              0.094712         0.038504     Yadkin County   \n",
       "98     Yancey County              0.221022         0.022511     Yancey County   \n",
       "\n",
       "     total  \n",
       "0   157844  \n",
       "1    37159  \n",
       "2    10935  \n",
       "3    25531  \n",
       "4    26833  \n",
       "..     ...  \n",
       "94  124496  \n",
       "95   68525  \n",
       "96   81379  \n",
       "97   37825  \n",
       "98   17605  \n",
       "\n",
       "[99 rows x 5 columns]"
      ],
      "text/html": [
       "<div>\n",
       "<style scoped>\n",
       "    .dataframe tbody tr th:only-of-type {\n",
       "        vertical-align: middle;\n",
       "    }\n",
       "\n",
       "    .dataframe tbody tr th {\n",
       "        vertical-align: top;\n",
       "    }\n",
       "\n",
       "    .dataframe thead th {\n",
       "        text-align: right;\n",
       "    }\n",
       "</style>\n",
       "<table border=\"1\" class=\"dataframe\">\n",
       "  <thead>\n",
       "    <tr style=\"text-align: right;\">\n",
       "      <th></th>\n",
       "      <th>county_name</th>\n",
       "      <th>over_sentencing_perc</th>\n",
       "      <th>normalized_diff</th>\n",
       "      <th>COUNTY</th>\n",
       "      <th>total</th>\n",
       "    </tr>\n",
       "  </thead>\n",
       "  <tbody>\n",
       "    <tr>\n",
       "      <th>0</th>\n",
       "      <td>Alamance County</td>\n",
       "      <td>0.212334</td>\n",
       "      <td>0.018730</td>\n",
       "      <td>Alamance County</td>\n",
       "      <td>157844</td>\n",
       "    </tr>\n",
       "    <tr>\n",
       "      <th>1</th>\n",
       "      <td>Alexander County</td>\n",
       "      <td>0.143284</td>\n",
       "      <td>0.012032</td>\n",
       "      <td>Alexander County</td>\n",
       "      <td>37159</td>\n",
       "    </tr>\n",
       "    <tr>\n",
       "      <th>2</th>\n",
       "      <td>Alleghany County</td>\n",
       "      <td>0.230769</td>\n",
       "      <td>0.015059</td>\n",
       "      <td>Alleghany County</td>\n",
       "      <td>10935</td>\n",
       "    </tr>\n",
       "    <tr>\n",
       "      <th>3</th>\n",
       "      <td>Anson County</td>\n",
       "      <td>0.209155</td>\n",
       "      <td>0.009977</td>\n",
       "      <td>Anson County</td>\n",
       "      <td>25531</td>\n",
       "    </tr>\n",
       "    <tr>\n",
       "      <th>4</th>\n",
       "      <td>Ashe County</td>\n",
       "      <td>0.342805</td>\n",
       "      <td>0.024043</td>\n",
       "      <td>Ashe County</td>\n",
       "      <td>26833</td>\n",
       "    </tr>\n",
       "    <tr>\n",
       "      <th>...</th>\n",
       "      <td>...</td>\n",
       "      <td>...</td>\n",
       "      <td>...</td>\n",
       "      <td>...</td>\n",
       "      <td>...</td>\n",
       "    </tr>\n",
       "    <tr>\n",
       "      <th>94</th>\n",
       "      <td>Wayne County</td>\n",
       "      <td>0.210648</td>\n",
       "      <td>0.013520</td>\n",
       "      <td>Wayne County</td>\n",
       "      <td>124496</td>\n",
       "    </tr>\n",
       "    <tr>\n",
       "      <th>95</th>\n",
       "      <td>Wilkes County</td>\n",
       "      <td>0.387519</td>\n",
       "      <td>0.024543</td>\n",
       "      <td>Wilkes County</td>\n",
       "      <td>68525</td>\n",
       "    </tr>\n",
       "    <tr>\n",
       "      <th>96</th>\n",
       "      <td>Wilson County</td>\n",
       "      <td>0.199093</td>\n",
       "      <td>0.014342</td>\n",
       "      <td>Wilson County</td>\n",
       "      <td>81379</td>\n",
       "    </tr>\n",
       "    <tr>\n",
       "      <th>97</th>\n",
       "      <td>Yadkin County</td>\n",
       "      <td>0.094712</td>\n",
       "      <td>0.038504</td>\n",
       "      <td>Yadkin County</td>\n",
       "      <td>37825</td>\n",
       "    </tr>\n",
       "    <tr>\n",
       "      <th>98</th>\n",
       "      <td>Yancey County</td>\n",
       "      <td>0.221022</td>\n",
       "      <td>0.022511</td>\n",
       "      <td>Yancey County</td>\n",
       "      <td>17605</td>\n",
       "    </tr>\n",
       "  </tbody>\n",
       "</table>\n",
       "<p>99 rows × 5 columns</p>\n",
       "</div>"
      ]
     },
     "metadata": {},
     "execution_count": 223
    }
   ],
   "metadata": {}
  },
  {
   "cell_type": "markdown",
   "source": [
    "### Racial difference in over-sentencing vs. in system representation"
   ],
   "metadata": {}
  },
  {
   "cell_type": "code",
   "execution_count": 236,
   "source": [
    "pop_new = pd.read_csv(\"/Users/htyun/Downloads/admissions_analysis_table.csv\")"
   ],
   "outputs": [],
   "metadata": {}
  },
  {
   "cell_type": "code",
   "execution_count": 239,
   "source": [
    "pop_new['diff'] = pop_new['black_perc_sys'] - pop_new['black_pop_perc']\n",
    "scatter2 = scatter_df.merge(pop_new, on='COUNTY')\n",
    "scatter2"
   ],
   "outputs": [
    {
     "output_type": "execute_result",
     "data": {
      "text/plain": [
       "         county_name  over_sentencing_perc  normalized_diff            COUNTY  \\\n",
       "0    Alamance County              0.212334         0.018730   Alamance County   \n",
       "1   Alexander County              0.143284         0.012032  Alexander County   \n",
       "2   Alleghany County              0.230769         0.015059  Alleghany County   \n",
       "3       Anson County              0.209155         0.009977      Anson County   \n",
       "4        Ashe County              0.342805         0.024043       Ashe County   \n",
       "..               ...                   ...              ...               ...   \n",
       "94      Wayne County              0.210648         0.013520      Wayne County   \n",
       "95     Wilkes County              0.387519         0.024543     Wilkes County   \n",
       "96     Wilson County              0.199093         0.014342     Wilson County   \n",
       "97     Yadkin County              0.094712         0.038504     Yadkin County   \n",
       "98     Yancey County              0.221022         0.022511     Yancey County   \n",
       "\n",
       "    total_x  Unnamed: 0.1  Unnamed: 0  county_fips_code  black_count_sys  \\\n",
       "0    157844             0           0           37001.0          81148.0   \n",
       "1     37159             1           1           37003.0          26648.0   \n",
       "2     10935             2           2           37005.0            297.0   \n",
       "3     25531             3           3           37007.0          38169.0   \n",
       "4     26833             4           4           37009.0            546.0   \n",
       "..      ...           ...         ...               ...              ...   \n",
       "94   124496            95          95           37191.0         106611.0   \n",
       "95    68525            96          96           37193.0          22385.0   \n",
       "96    81379            97          97           37195.0         122283.0   \n",
       "97    37825            98          98           37197.0           4860.0   \n",
       "98    17605            99          99           37199.0            718.0   \n",
       "\n",
       "    white_count_sys  hisp_count_sys  total_count_sys  black_perc_sys  \\\n",
       "0          114318.0         35411.0         239406.0       33.895558   \n",
       "1          126218.0         13759.0         171351.0       15.551704   \n",
       "2            9842.0          2433.0          13160.0        2.256839   \n",
       "3           20457.0          2030.0          61914.0       61.648416   \n",
       "4           26057.0          2550.0          29831.0        1.830311   \n",
       "..              ...             ...              ...             ...   \n",
       "94          96327.0         36575.0         259012.0       41.160641   \n",
       "95         164950.0         16492.0         207942.0       10.765021   \n",
       "96          68547.0         21085.0         218730.0       55.905911   \n",
       "97          41249.0          7168.0          54481.0        8.920541   \n",
       "98          38003.0          4766.0          44271.0        1.621829   \n",
       "\n",
       "    white_perc_sys  hisp_perc_sys  total_y  black_pop  white_pop  hisp_pop  \\\n",
       "0        47.750683      14.791192   157844      29972     102558     20236   \n",
       "1        73.660498       8.029717    37159       2187      32335      1750   \n",
       "2        74.787234      18.487842    10935        266       9549      1062   \n",
       "3        33.040992       3.278741    25531      12417      11463       982   \n",
       "4        87.348731       8.548155    26833        210      24810      1545   \n",
       "..             ...            ...      ...        ...        ...       ...   \n",
       "94       37.190169      14.120967   124496      37887      67352     14385   \n",
       "95       79.325004       7.931058    68525       2893      60214      4506   \n",
       "96       31.338637       9.639738    81379      32307      38490      8493   \n",
       "97       75.712634      13.156880    37825       1268      31972      4425   \n",
       "98       85.841747      10.765512    17605        149      16335       929   \n",
       "\n",
       "    other_pop  total_perc  black_pop_perc  white_pop_perc  hisp_pop_perc  \\\n",
       "0        5078       100.0       18.988368       64.974278      12.820253   \n",
       "1         887       100.0        5.885519       87.017950       4.709492   \n",
       "2          58       100.0        2.432556       87.325103       9.711934   \n",
       "3         669       100.0       48.634993       44.898359       3.846304   \n",
       "4         268       100.0        0.782618       92.460776       5.757836   \n",
       "..        ...         ...             ...             ...            ...   \n",
       "94       4872       100.0       30.432303       54.099730      11.554588   \n",
       "95        912       100.0        4.221817       87.871580       6.575702   \n",
       "96       2089       100.0       39.699431       47.297214      10.436353   \n",
       "97        160       100.0        3.352280       84.526107      11.698612   \n",
       "98        192       100.0        0.846350       92.786140       5.276910   \n",
       "\n",
       "    other_pop_perc  white_rate_of_case  black_rate_of_case  \\\n",
       "0         3.217100            1.114667            2.707460   \n",
       "1         2.387039            3.903448           12.184728   \n",
       "2         0.530407            1.030684            1.116541   \n",
       "3         2.620344            1.784611            3.073931   \n",
       "4         0.998770            1.050262            2.600000   \n",
       "..             ...                 ...                 ...   \n",
       "94        3.913379            1.430203            2.813920   \n",
       "95        1.330901            2.739396            7.737643   \n",
       "96        2.567001            1.780904            3.785031   \n",
       "97        0.423001            1.290160            3.832808   \n",
       "98        1.090599            2.326477            4.818792   \n",
       "\n",
       "    times_b_more_likely_to_be_involved_in_case  trial_metric  \\\n",
       "0                                     2.428941      1.050153   \n",
       "1                                     3.121529      1.795870   \n",
       "2                                     1.083302      0.071341   \n",
       "3                                     1.722465      0.531667   \n",
       "4                                     2.475573      1.393990   \n",
       "..                                         ...           ...   \n",
       "94                                    1.967498      0.665094   \n",
       "95                                    2.824580      1.647117   \n",
       "96                                    2.125342      0.745640   \n",
       "97                                    2.970800      1.765306   \n",
       "98                                    2.071283      0.991105   \n",
       "\n",
       "    weighted_rep_difference_b_w       diff  \n",
       "0                      1.050153  14.907190  \n",
       "1                      1.795870   9.666185  \n",
       "2                      0.071341  -0.175717  \n",
       "3                      0.531667  13.013423  \n",
       "4                      1.393990   1.047692  \n",
       "..                          ...        ...  \n",
       "94                     0.665094  10.728338  \n",
       "95                     1.647117   6.543204  \n",
       "96                     0.745640  16.206480  \n",
       "97                     1.765306   5.568261  \n",
       "98                     0.991105   0.775479  \n",
       "\n",
       "[99 rows x 31 columns]"
      ],
      "text/html": [
       "<div>\n",
       "<style scoped>\n",
       "    .dataframe tbody tr th:only-of-type {\n",
       "        vertical-align: middle;\n",
       "    }\n",
       "\n",
       "    .dataframe tbody tr th {\n",
       "        vertical-align: top;\n",
       "    }\n",
       "\n",
       "    .dataframe thead th {\n",
       "        text-align: right;\n",
       "    }\n",
       "</style>\n",
       "<table border=\"1\" class=\"dataframe\">\n",
       "  <thead>\n",
       "    <tr style=\"text-align: right;\">\n",
       "      <th></th>\n",
       "      <th>county_name</th>\n",
       "      <th>over_sentencing_perc</th>\n",
       "      <th>normalized_diff</th>\n",
       "      <th>COUNTY</th>\n",
       "      <th>total_x</th>\n",
       "      <th>Unnamed: 0.1</th>\n",
       "      <th>Unnamed: 0</th>\n",
       "      <th>county_fips_code</th>\n",
       "      <th>black_count_sys</th>\n",
       "      <th>white_count_sys</th>\n",
       "      <th>hisp_count_sys</th>\n",
       "      <th>total_count_sys</th>\n",
       "      <th>black_perc_sys</th>\n",
       "      <th>white_perc_sys</th>\n",
       "      <th>hisp_perc_sys</th>\n",
       "      <th>total_y</th>\n",
       "      <th>black_pop</th>\n",
       "      <th>white_pop</th>\n",
       "      <th>hisp_pop</th>\n",
       "      <th>other_pop</th>\n",
       "      <th>total_perc</th>\n",
       "      <th>black_pop_perc</th>\n",
       "      <th>white_pop_perc</th>\n",
       "      <th>hisp_pop_perc</th>\n",
       "      <th>other_pop_perc</th>\n",
       "      <th>white_rate_of_case</th>\n",
       "      <th>black_rate_of_case</th>\n",
       "      <th>times_b_more_likely_to_be_involved_in_case</th>\n",
       "      <th>trial_metric</th>\n",
       "      <th>weighted_rep_difference_b_w</th>\n",
       "      <th>diff</th>\n",
       "    </tr>\n",
       "  </thead>\n",
       "  <tbody>\n",
       "    <tr>\n",
       "      <th>0</th>\n",
       "      <td>Alamance County</td>\n",
       "      <td>0.212334</td>\n",
       "      <td>0.018730</td>\n",
       "      <td>Alamance County</td>\n",
       "      <td>157844</td>\n",
       "      <td>0</td>\n",
       "      <td>0</td>\n",
       "      <td>37001.0</td>\n",
       "      <td>81148.0</td>\n",
       "      <td>114318.0</td>\n",
       "      <td>35411.0</td>\n",
       "      <td>239406.0</td>\n",
       "      <td>33.895558</td>\n",
       "      <td>47.750683</td>\n",
       "      <td>14.791192</td>\n",
       "      <td>157844</td>\n",
       "      <td>29972</td>\n",
       "      <td>102558</td>\n",
       "      <td>20236</td>\n",
       "      <td>5078</td>\n",
       "      <td>100.0</td>\n",
       "      <td>18.988368</td>\n",
       "      <td>64.974278</td>\n",
       "      <td>12.820253</td>\n",
       "      <td>3.217100</td>\n",
       "      <td>1.114667</td>\n",
       "      <td>2.707460</td>\n",
       "      <td>2.428941</td>\n",
       "      <td>1.050153</td>\n",
       "      <td>1.050153</td>\n",
       "      <td>14.907190</td>\n",
       "    </tr>\n",
       "    <tr>\n",
       "      <th>1</th>\n",
       "      <td>Alexander County</td>\n",
       "      <td>0.143284</td>\n",
       "      <td>0.012032</td>\n",
       "      <td>Alexander County</td>\n",
       "      <td>37159</td>\n",
       "      <td>1</td>\n",
       "      <td>1</td>\n",
       "      <td>37003.0</td>\n",
       "      <td>26648.0</td>\n",
       "      <td>126218.0</td>\n",
       "      <td>13759.0</td>\n",
       "      <td>171351.0</td>\n",
       "      <td>15.551704</td>\n",
       "      <td>73.660498</td>\n",
       "      <td>8.029717</td>\n",
       "      <td>37159</td>\n",
       "      <td>2187</td>\n",
       "      <td>32335</td>\n",
       "      <td>1750</td>\n",
       "      <td>887</td>\n",
       "      <td>100.0</td>\n",
       "      <td>5.885519</td>\n",
       "      <td>87.017950</td>\n",
       "      <td>4.709492</td>\n",
       "      <td>2.387039</td>\n",
       "      <td>3.903448</td>\n",
       "      <td>12.184728</td>\n",
       "      <td>3.121529</td>\n",
       "      <td>1.795870</td>\n",
       "      <td>1.795870</td>\n",
       "      <td>9.666185</td>\n",
       "    </tr>\n",
       "    <tr>\n",
       "      <th>2</th>\n",
       "      <td>Alleghany County</td>\n",
       "      <td>0.230769</td>\n",
       "      <td>0.015059</td>\n",
       "      <td>Alleghany County</td>\n",
       "      <td>10935</td>\n",
       "      <td>2</td>\n",
       "      <td>2</td>\n",
       "      <td>37005.0</td>\n",
       "      <td>297.0</td>\n",
       "      <td>9842.0</td>\n",
       "      <td>2433.0</td>\n",
       "      <td>13160.0</td>\n",
       "      <td>2.256839</td>\n",
       "      <td>74.787234</td>\n",
       "      <td>18.487842</td>\n",
       "      <td>10935</td>\n",
       "      <td>266</td>\n",
       "      <td>9549</td>\n",
       "      <td>1062</td>\n",
       "      <td>58</td>\n",
       "      <td>100.0</td>\n",
       "      <td>2.432556</td>\n",
       "      <td>87.325103</td>\n",
       "      <td>9.711934</td>\n",
       "      <td>0.530407</td>\n",
       "      <td>1.030684</td>\n",
       "      <td>1.116541</td>\n",
       "      <td>1.083302</td>\n",
       "      <td>0.071341</td>\n",
       "      <td>0.071341</td>\n",
       "      <td>-0.175717</td>\n",
       "    </tr>\n",
       "    <tr>\n",
       "      <th>3</th>\n",
       "      <td>Anson County</td>\n",
       "      <td>0.209155</td>\n",
       "      <td>0.009977</td>\n",
       "      <td>Anson County</td>\n",
       "      <td>25531</td>\n",
       "      <td>3</td>\n",
       "      <td>3</td>\n",
       "      <td>37007.0</td>\n",
       "      <td>38169.0</td>\n",
       "      <td>20457.0</td>\n",
       "      <td>2030.0</td>\n",
       "      <td>61914.0</td>\n",
       "      <td>61.648416</td>\n",
       "      <td>33.040992</td>\n",
       "      <td>3.278741</td>\n",
       "      <td>25531</td>\n",
       "      <td>12417</td>\n",
       "      <td>11463</td>\n",
       "      <td>982</td>\n",
       "      <td>669</td>\n",
       "      <td>100.0</td>\n",
       "      <td>48.634993</td>\n",
       "      <td>44.898359</td>\n",
       "      <td>3.846304</td>\n",
       "      <td>2.620344</td>\n",
       "      <td>1.784611</td>\n",
       "      <td>3.073931</td>\n",
       "      <td>1.722465</td>\n",
       "      <td>0.531667</td>\n",
       "      <td>0.531667</td>\n",
       "      <td>13.013423</td>\n",
       "    </tr>\n",
       "    <tr>\n",
       "      <th>4</th>\n",
       "      <td>Ashe County</td>\n",
       "      <td>0.342805</td>\n",
       "      <td>0.024043</td>\n",
       "      <td>Ashe County</td>\n",
       "      <td>26833</td>\n",
       "      <td>4</td>\n",
       "      <td>4</td>\n",
       "      <td>37009.0</td>\n",
       "      <td>546.0</td>\n",
       "      <td>26057.0</td>\n",
       "      <td>2550.0</td>\n",
       "      <td>29831.0</td>\n",
       "      <td>1.830311</td>\n",
       "      <td>87.348731</td>\n",
       "      <td>8.548155</td>\n",
       "      <td>26833</td>\n",
       "      <td>210</td>\n",
       "      <td>24810</td>\n",
       "      <td>1545</td>\n",
       "      <td>268</td>\n",
       "      <td>100.0</td>\n",
       "      <td>0.782618</td>\n",
       "      <td>92.460776</td>\n",
       "      <td>5.757836</td>\n",
       "      <td>0.998770</td>\n",
       "      <td>1.050262</td>\n",
       "      <td>2.600000</td>\n",
       "      <td>2.475573</td>\n",
       "      <td>1.393990</td>\n",
       "      <td>1.393990</td>\n",
       "      <td>1.047692</td>\n",
       "    </tr>\n",
       "    <tr>\n",
       "      <th>...</th>\n",
       "      <td>...</td>\n",
       "      <td>...</td>\n",
       "      <td>...</td>\n",
       "      <td>...</td>\n",
       "      <td>...</td>\n",
       "      <td>...</td>\n",
       "      <td>...</td>\n",
       "      <td>...</td>\n",
       "      <td>...</td>\n",
       "      <td>...</td>\n",
       "      <td>...</td>\n",
       "      <td>...</td>\n",
       "      <td>...</td>\n",
       "      <td>...</td>\n",
       "      <td>...</td>\n",
       "      <td>...</td>\n",
       "      <td>...</td>\n",
       "      <td>...</td>\n",
       "      <td>...</td>\n",
       "      <td>...</td>\n",
       "      <td>...</td>\n",
       "      <td>...</td>\n",
       "      <td>...</td>\n",
       "      <td>...</td>\n",
       "      <td>...</td>\n",
       "      <td>...</td>\n",
       "      <td>...</td>\n",
       "      <td>...</td>\n",
       "      <td>...</td>\n",
       "      <td>...</td>\n",
       "      <td>...</td>\n",
       "    </tr>\n",
       "    <tr>\n",
       "      <th>94</th>\n",
       "      <td>Wayne County</td>\n",
       "      <td>0.210648</td>\n",
       "      <td>0.013520</td>\n",
       "      <td>Wayne County</td>\n",
       "      <td>124496</td>\n",
       "      <td>95</td>\n",
       "      <td>95</td>\n",
       "      <td>37191.0</td>\n",
       "      <td>106611.0</td>\n",
       "      <td>96327.0</td>\n",
       "      <td>36575.0</td>\n",
       "      <td>259012.0</td>\n",
       "      <td>41.160641</td>\n",
       "      <td>37.190169</td>\n",
       "      <td>14.120967</td>\n",
       "      <td>124496</td>\n",
       "      <td>37887</td>\n",
       "      <td>67352</td>\n",
       "      <td>14385</td>\n",
       "      <td>4872</td>\n",
       "      <td>100.0</td>\n",
       "      <td>30.432303</td>\n",
       "      <td>54.099730</td>\n",
       "      <td>11.554588</td>\n",
       "      <td>3.913379</td>\n",
       "      <td>1.430203</td>\n",
       "      <td>2.813920</td>\n",
       "      <td>1.967498</td>\n",
       "      <td>0.665094</td>\n",
       "      <td>0.665094</td>\n",
       "      <td>10.728338</td>\n",
       "    </tr>\n",
       "    <tr>\n",
       "      <th>95</th>\n",
       "      <td>Wilkes County</td>\n",
       "      <td>0.387519</td>\n",
       "      <td>0.024543</td>\n",
       "      <td>Wilkes County</td>\n",
       "      <td>68525</td>\n",
       "      <td>96</td>\n",
       "      <td>96</td>\n",
       "      <td>37193.0</td>\n",
       "      <td>22385.0</td>\n",
       "      <td>164950.0</td>\n",
       "      <td>16492.0</td>\n",
       "      <td>207942.0</td>\n",
       "      <td>10.765021</td>\n",
       "      <td>79.325004</td>\n",
       "      <td>7.931058</td>\n",
       "      <td>68525</td>\n",
       "      <td>2893</td>\n",
       "      <td>60214</td>\n",
       "      <td>4506</td>\n",
       "      <td>912</td>\n",
       "      <td>100.0</td>\n",
       "      <td>4.221817</td>\n",
       "      <td>87.871580</td>\n",
       "      <td>6.575702</td>\n",
       "      <td>1.330901</td>\n",
       "      <td>2.739396</td>\n",
       "      <td>7.737643</td>\n",
       "      <td>2.824580</td>\n",
       "      <td>1.647117</td>\n",
       "      <td>1.647117</td>\n",
       "      <td>6.543204</td>\n",
       "    </tr>\n",
       "    <tr>\n",
       "      <th>96</th>\n",
       "      <td>Wilson County</td>\n",
       "      <td>0.199093</td>\n",
       "      <td>0.014342</td>\n",
       "      <td>Wilson County</td>\n",
       "      <td>81379</td>\n",
       "      <td>97</td>\n",
       "      <td>97</td>\n",
       "      <td>37195.0</td>\n",
       "      <td>122283.0</td>\n",
       "      <td>68547.0</td>\n",
       "      <td>21085.0</td>\n",
       "      <td>218730.0</td>\n",
       "      <td>55.905911</td>\n",
       "      <td>31.338637</td>\n",
       "      <td>9.639738</td>\n",
       "      <td>81379</td>\n",
       "      <td>32307</td>\n",
       "      <td>38490</td>\n",
       "      <td>8493</td>\n",
       "      <td>2089</td>\n",
       "      <td>100.0</td>\n",
       "      <td>39.699431</td>\n",
       "      <td>47.297214</td>\n",
       "      <td>10.436353</td>\n",
       "      <td>2.567001</td>\n",
       "      <td>1.780904</td>\n",
       "      <td>3.785031</td>\n",
       "      <td>2.125342</td>\n",
       "      <td>0.745640</td>\n",
       "      <td>0.745640</td>\n",
       "      <td>16.206480</td>\n",
       "    </tr>\n",
       "    <tr>\n",
       "      <th>97</th>\n",
       "      <td>Yadkin County</td>\n",
       "      <td>0.094712</td>\n",
       "      <td>0.038504</td>\n",
       "      <td>Yadkin County</td>\n",
       "      <td>37825</td>\n",
       "      <td>98</td>\n",
       "      <td>98</td>\n",
       "      <td>37197.0</td>\n",
       "      <td>4860.0</td>\n",
       "      <td>41249.0</td>\n",
       "      <td>7168.0</td>\n",
       "      <td>54481.0</td>\n",
       "      <td>8.920541</td>\n",
       "      <td>75.712634</td>\n",
       "      <td>13.156880</td>\n",
       "      <td>37825</td>\n",
       "      <td>1268</td>\n",
       "      <td>31972</td>\n",
       "      <td>4425</td>\n",
       "      <td>160</td>\n",
       "      <td>100.0</td>\n",
       "      <td>3.352280</td>\n",
       "      <td>84.526107</td>\n",
       "      <td>11.698612</td>\n",
       "      <td>0.423001</td>\n",
       "      <td>1.290160</td>\n",
       "      <td>3.832808</td>\n",
       "      <td>2.970800</td>\n",
       "      <td>1.765306</td>\n",
       "      <td>1.765306</td>\n",
       "      <td>5.568261</td>\n",
       "    </tr>\n",
       "    <tr>\n",
       "      <th>98</th>\n",
       "      <td>Yancey County</td>\n",
       "      <td>0.221022</td>\n",
       "      <td>0.022511</td>\n",
       "      <td>Yancey County</td>\n",
       "      <td>17605</td>\n",
       "      <td>99</td>\n",
       "      <td>99</td>\n",
       "      <td>37199.0</td>\n",
       "      <td>718.0</td>\n",
       "      <td>38003.0</td>\n",
       "      <td>4766.0</td>\n",
       "      <td>44271.0</td>\n",
       "      <td>1.621829</td>\n",
       "      <td>85.841747</td>\n",
       "      <td>10.765512</td>\n",
       "      <td>17605</td>\n",
       "      <td>149</td>\n",
       "      <td>16335</td>\n",
       "      <td>929</td>\n",
       "      <td>192</td>\n",
       "      <td>100.0</td>\n",
       "      <td>0.846350</td>\n",
       "      <td>92.786140</td>\n",
       "      <td>5.276910</td>\n",
       "      <td>1.090599</td>\n",
       "      <td>2.326477</td>\n",
       "      <td>4.818792</td>\n",
       "      <td>2.071283</td>\n",
       "      <td>0.991105</td>\n",
       "      <td>0.991105</td>\n",
       "      <td>0.775479</td>\n",
       "    </tr>\n",
       "  </tbody>\n",
       "</table>\n",
       "<p>99 rows × 31 columns</p>\n",
       "</div>"
      ]
     },
     "metadata": {},
     "execution_count": 239
    }
   ],
   "metadata": {}
  },
  {
   "cell_type": "code",
   "execution_count": 250,
   "source": [
    "sns.regplot(x=\"weighted_rep_difference_b_w\", y=\"normalized_diff\", data=scatter2)\n",
    "plt.xlabel('Racial Difference in System')\n",
    "plt.ylabel('Racial Difference in Sentencing')"
   ],
   "outputs": [
    {
     "output_type": "execute_result",
     "data": {
      "text/plain": [
       "Text(0, 0.5, 'Racial Difference in Sentencing')"
      ]
     },
     "metadata": {},
     "execution_count": 250
    },
    {
     "output_type": "display_data",
     "data": {
      "text/plain": [
       "<Figure size 640x480 with 1 Axes>"
      ],
      "image/svg+xml": "<?xml version=\"1.0\" encoding=\"utf-8\" standalone=\"no\"?>\n<!DOCTYPE svg PUBLIC \"-//W3C//DTD SVG 1.1//EN\"\n  \"http://www.w3.org/Graphics/SVG/1.1/DTD/svg11.dtd\">\n<svg height=\"310.86825pt\" version=\"1.1\" viewBox=\"0 0 414.46375 310.86825\" width=\"414.46375pt\" xmlns=\"http://www.w3.org/2000/svg\" xmlns:xlink=\"http://www.w3.org/1999/xlink\">\n <metadata>\n  <rdf:RDF xmlns:cc=\"http://creativecommons.org/ns#\" xmlns:dc=\"http://purl.org/dc/elements/1.1/\" xmlns:rdf=\"http://www.w3.org/1999/02/22-rdf-syntax-ns#\">\n   <cc:Work>\n    <dc:type rdf:resource=\"http://purl.org/dc/dcmitype/StillImage\"/>\n    <dc:date>2023-03-30T16:46:25.327746</dc:date>\n    <dc:format>image/svg+xml</dc:format>\n    <dc:creator>\n     <cc:Agent>\n      <dc:title>Matplotlib v3.4.3, https://matplotlib.org/</dc:title>\n     </cc:Agent>\n    </dc:creator>\n   </cc:Work>\n  </rdf:RDF>\n </metadata>\n <defs>\n  <style type=\"text/css\">*{stroke-linecap:butt;stroke-linejoin:round;}</style>\n </defs>\n <g id=\"figure_1\">\n  <g id=\"patch_1\">\n   <path d=\"M 0 310.86825 \nL 414.46375 310.86825 \nL 414.46375 0 \nL 0 0 \nz\n\" style=\"fill:#ffffff;\"/>\n  </g>\n  <g id=\"axes_1\">\n   <g id=\"patch_2\">\n    <path d=\"M 50.14375 273.312 \nL 407.26375 273.312 \nL 407.26375 7.2 \nL 50.14375 7.2 \nz\n\" style=\"fill:#ffffff;\"/>\n   </g>\n   <g id=\"PathCollection_1\">\n    <defs>\n     <path d=\"M 0 3 \nC 0.795609 3 1.55874 2.683901 2.12132 2.12132 \nC 2.683901 1.55874 3 0.795609 3 0 \nC 3 -0.795609 2.683901 -1.55874 2.12132 -2.12132 \nC 1.55874 -2.683901 0.795609 -3 0 -3 \nC -0.795609 -3 -1.55874 -2.683901 -2.12132 -2.12132 \nC -2.683901 -1.55874 -3 -0.795609 -3 0 \nC -3 0.795609 -2.683901 1.55874 -2.12132 2.12132 \nC -1.55874 2.683901 -0.795609 3 0 3 \nz\n\" id=\"m6d2a3a93cf\" style=\"stroke:#1f77b4;stroke-opacity:0.8;\"/>\n    </defs>\n    <g clip-path=\"url(#pa641342c94)\">\n     <use style=\"fill:#1f77b4;fill-opacity:0.8;stroke:#1f77b4;stroke-opacity:0.8;\" x=\"121.441722\" xlink:href=\"#m6d2a3a93cf\" y=\"192.803166\"/>\n     <use style=\"fill:#1f77b4;fill-opacity:0.8;stroke:#1f77b4;stroke-opacity:0.8;\" x=\"159.593114\" xlink:href=\"#m6d2a3a93cf\" y=\"214.192824\"/>\n     <use style=\"fill:#1f77b4;fill-opacity:0.8;stroke:#1f77b4;stroke-opacity:0.8;\" x=\"71.365045\" xlink:href=\"#m6d2a3a93cf\" y=\"204.525796\"/>\n     <use style=\"fill:#1f77b4;fill-opacity:0.8;stroke:#1f77b4;stroke-opacity:0.8;\" x=\"94.915615\" xlink:href=\"#m6d2a3a93cf\" y=\"220.757822\"/>\n     <use style=\"fill:#1f77b4;fill-opacity:0.8;stroke:#1f77b4;stroke-opacity:0.8;\" x=\"139.032677\" xlink:href=\"#m6d2a3a93cf\" y=\"175.834194\"/>\n     <use style=\"fill:#1f77b4;fill-opacity:0.8;stroke:#1f77b4;stroke-opacity:0.8;\" x=\"68.549528\" xlink:href=\"#m6d2a3a93cf\" y=\"261.216\"/>\n     <use style=\"fill:#1f77b4;fill-opacity:0.8;stroke:#1f77b4;stroke-opacity:0.8;\" x=\"154.782988\" xlink:href=\"#m6d2a3a93cf\" y=\"207.44872\"/>\n     <use style=\"fill:#1f77b4;fill-opacity:0.8;stroke:#1f77b4;stroke-opacity:0.8;\" x=\"107.370104\" xlink:href=\"#m6d2a3a93cf\" y=\"228.2258\"/>\n     <use style=\"fill:#1f77b4;fill-opacity:0.8;stroke:#1f77b4;stroke-opacity:0.8;\" x=\"97.263434\" xlink:href=\"#m6d2a3a93cf\" y=\"223.642491\"/>\n     <use style=\"fill:#1f77b4;fill-opacity:0.8;stroke:#1f77b4;stroke-opacity:0.8;\" x=\"187.155567\" xlink:href=\"#m6d2a3a93cf\" y=\"179.341977\"/>\n     <use style=\"fill:#1f77b4;fill-opacity:0.8;stroke:#1f77b4;stroke-opacity:0.8;\" x=\"133.822524\" xlink:href=\"#m6d2a3a93cf\" y=\"150.861298\"/>\n     <use style=\"fill:#1f77b4;fill-opacity:0.8;stroke:#1f77b4;stroke-opacity:0.8;\" x=\"162.95768\" xlink:href=\"#m6d2a3a93cf\" y=\"200.204828\"/>\n     <use style=\"fill:#1f77b4;fill-opacity:0.8;stroke:#1f77b4;stroke-opacity:0.8;\" x=\"186.864225\" xlink:href=\"#m6d2a3a93cf\" y=\"194.180143\"/>\n     <use style=\"fill:#1f77b4;fill-opacity:0.8;stroke:#1f77b4;stroke-opacity:0.8;\" x=\"164.101768\" xlink:href=\"#m6d2a3a93cf\" y=\"166.997122\"/>\n     <use style=\"fill:#1f77b4;fill-opacity:0.8;stroke:#1f77b4;stroke-opacity:0.8;\" x=\"215.66774\" xlink:href=\"#m6d2a3a93cf\" y=\"238.790794\"/>\n     <use style=\"fill:#1f77b4;fill-opacity:0.8;stroke:#1f77b4;stroke-opacity:0.8;\" x=\"182.95541\" xlink:href=\"#m6d2a3a93cf\" y=\"176.222947\"/>\n     <use style=\"fill:#1f77b4;fill-opacity:0.8;stroke:#1f77b4;stroke-opacity:0.8;\" x=\"90.644313\" xlink:href=\"#m6d2a3a93cf\" y=\"219.098537\"/>\n     <use style=\"fill:#1f77b4;fill-opacity:0.8;stroke:#1f77b4;stroke-opacity:0.8;\" x=\"129.224276\" xlink:href=\"#m6d2a3a93cf\" y=\"154.041602\"/>\n     <use style=\"fill:#1f77b4;fill-opacity:0.8;stroke:#1f77b4;stroke-opacity:0.8;\" x=\"164.726156\" xlink:href=\"#m6d2a3a93cf\" y=\"184.810024\"/>\n     <use style=\"fill:#1f77b4;fill-opacity:0.8;stroke:#1f77b4;stroke-opacity:0.8;\" x=\"123.30132\" xlink:href=\"#m6d2a3a93cf\" y=\"124.676803\"/>\n     <use style=\"fill:#1f77b4;fill-opacity:0.8;stroke:#1f77b4;stroke-opacity:0.8;\" x=\"108.488345\" xlink:href=\"#m6d2a3a93cf\" y=\"206.90651\"/>\n     <use style=\"fill:#1f77b4;fill-opacity:0.8;stroke:#1f77b4;stroke-opacity:0.8;\" x=\"89.26221\" xlink:href=\"#m6d2a3a93cf\" y=\"213.590935\"/>\n     <use style=\"fill:#1f77b4;fill-opacity:0.8;stroke:#1f77b4;stroke-opacity:0.8;\" x=\"100.693941\" xlink:href=\"#m6d2a3a93cf\" y=\"222.119821\"/>\n     <use style=\"fill:#1f77b4;fill-opacity:0.8;stroke:#1f77b4;stroke-opacity:0.8;\" x=\"144.202942\" xlink:href=\"#m6d2a3a93cf\" y=\"202.016088\"/>\n     <use style=\"fill:#1f77b4;fill-opacity:0.8;stroke:#1f77b4;stroke-opacity:0.8;\" x=\"108.22584\" xlink:href=\"#m6d2a3a93cf\" y=\"214.929935\"/>\n     <use style=\"fill:#1f77b4;fill-opacity:0.8;stroke:#1f77b4;stroke-opacity:0.8;\" x=\"123.041786\" xlink:href=\"#m6d2a3a93cf\" y=\"205.746603\"/>\n     <use style=\"fill:#1f77b4;fill-opacity:0.8;stroke:#1f77b4;stroke-opacity:0.8;\" x=\"150.53126\" xlink:href=\"#m6d2a3a93cf\" y=\"59.809691\"/>\n     <use style=\"fill:#1f77b4;fill-opacity:0.8;stroke:#1f77b4;stroke-opacity:0.8;\" x=\"226.060316\" xlink:href=\"#m6d2a3a93cf\" y=\"177.314395\"/>\n     <use style=\"fill:#1f77b4;fill-opacity:0.8;stroke:#1f77b4;stroke-opacity:0.8;\" x=\"174.246792\" xlink:href=\"#m6d2a3a93cf\" y=\"134.921806\"/>\n     <use style=\"fill:#1f77b4;fill-opacity:0.8;stroke:#1f77b4;stroke-opacity:0.8;\" x=\"90.921676\" xlink:href=\"#m6d2a3a93cf\" y=\"207.158824\"/>\n     <use style=\"fill:#1f77b4;fill-opacity:0.8;stroke:#1f77b4;stroke-opacity:0.8;\" x=\"109.091157\" xlink:href=\"#m6d2a3a93cf\" y=\"198.046177\"/>\n     <use style=\"fill:#1f77b4;fill-opacity:0.8;stroke:#1f77b4;stroke-opacity:0.8;\" x=\"98.938869\" xlink:href=\"#m6d2a3a93cf\" y=\"228.902687\"/>\n     <use style=\"fill:#1f77b4;fill-opacity:0.8;stroke:#1f77b4;stroke-opacity:0.8;\" x=\"130.469204\" xlink:href=\"#m6d2a3a93cf\" y=\"195.476118\"/>\n     <use style=\"fill:#1f77b4;fill-opacity:0.8;stroke:#1f77b4;stroke-opacity:0.8;\" x=\"119.265965\" xlink:href=\"#m6d2a3a93cf\" y=\"221.877348\"/>\n     <use style=\"fill:#1f77b4;fill-opacity:0.8;stroke:#1f77b4;stroke-opacity:0.8;\" x=\"109.980821\" xlink:href=\"#m6d2a3a93cf\" y=\"210.668818\"/>\n     <use style=\"fill:#1f77b4;fill-opacity:0.8;stroke:#1f77b4;stroke-opacity:0.8;\" x=\"89.01608\" xlink:href=\"#m6d2a3a93cf\" y=\"240.238892\"/>\n     <use style=\"fill:#1f77b4;fill-opacity:0.8;stroke:#1f77b4;stroke-opacity:0.8;\" x=\"91.958468\" xlink:href=\"#m6d2a3a93cf\" y=\"207.698114\"/>\n     <use style=\"fill:#1f77b4;fill-opacity:0.8;stroke:#1f77b4;stroke-opacity:0.8;\" x=\"107.172576\" xlink:href=\"#m6d2a3a93cf\" y=\"206.192983\"/>\n     <use style=\"fill:#1f77b4;fill-opacity:0.8;stroke:#1f77b4;stroke-opacity:0.8;\" x=\"107.077865\" xlink:href=\"#m6d2a3a93cf\" y=\"214.657415\"/>\n     <use style=\"fill:#1f77b4;fill-opacity:0.8;stroke:#1f77b4;stroke-opacity:0.8;\" x=\"103.334918\" xlink:href=\"#m6d2a3a93cf\" y=\"225.982682\"/>\n     <use style=\"fill:#1f77b4;fill-opacity:0.8;stroke:#1f77b4;stroke-opacity:0.8;\" x=\"112.463245\" xlink:href=\"#m6d2a3a93cf\" y=\"204.541696\"/>\n     <use style=\"fill:#1f77b4;fill-opacity:0.8;stroke:#1f77b4;stroke-opacity:0.8;\" x=\"190.452247\" xlink:href=\"#m6d2a3a93cf\" y=\"90.865004\"/>\n     <use style=\"fill:#1f77b4;fill-opacity:0.8;stroke:#1f77b4;stroke-opacity:0.8;\" x=\"179.990476\" xlink:href=\"#m6d2a3a93cf\" y=\"153.152549\"/>\n     <use style=\"fill:#1f77b4;fill-opacity:0.8;stroke:#1f77b4;stroke-opacity:0.8;\" x=\"109.391146\" xlink:href=\"#m6d2a3a93cf\" y=\"233.088282\"/>\n     <use style=\"fill:#1f77b4;fill-opacity:0.8;stroke:#1f77b4;stroke-opacity:0.8;\" x=\"97.706646\" xlink:href=\"#m6d2a3a93cf\" y=\"211.921244\"/>\n     <use style=\"fill:#1f77b4;fill-opacity:0.8;stroke:#1f77b4;stroke-opacity:0.8;\" x=\"83.455188\" xlink:href=\"#m6d2a3a93cf\" y=\"255.06907\"/>\n     <use style=\"fill:#1f77b4;fill-opacity:0.8;stroke:#1f77b4;stroke-opacity:0.8;\" x=\"121.203599\" xlink:href=\"#m6d2a3a93cf\" y=\"166.742595\"/>\n     <use style=\"fill:#1f77b4;fill-opacity:0.8;stroke:#1f77b4;stroke-opacity:0.8;\" x=\"66.376477\" xlink:href=\"#m6d2a3a93cf\" y=\"203.274887\"/>\n     <use style=\"fill:#1f77b4;fill-opacity:0.8;stroke:#1f77b4;stroke-opacity:0.8;\" x=\"185.574466\" xlink:href=\"#m6d2a3a93cf\" y=\"172.426843\"/>\n     <use style=\"fill:#1f77b4;fill-opacity:0.8;stroke:#1f77b4;stroke-opacity:0.8;\" x=\"111.631046\" xlink:href=\"#m6d2a3a93cf\" y=\"219.892476\"/>\n     <use style=\"fill:#1f77b4;fill-opacity:0.8;stroke:#1f77b4;stroke-opacity:0.8;\" x=\"121.034203\" xlink:href=\"#m6d2a3a93cf\" y=\"198.602827\"/>\n     <use style=\"fill:#1f77b4;fill-opacity:0.8;stroke:#1f77b4;stroke-opacity:0.8;\" x=\"98.162833\" xlink:href=\"#m6d2a3a93cf\" y=\"211.042794\"/>\n     <use style=\"fill:#1f77b4;fill-opacity:0.8;stroke:#1f77b4;stroke-opacity:0.8;\" x=\"147.226375\" xlink:href=\"#m6d2a3a93cf\" y=\"130.929942\"/>\n     <use style=\"fill:#1f77b4;fill-opacity:0.8;stroke:#1f77b4;stroke-opacity:0.8;\" x=\"107.389779\" xlink:href=\"#m6d2a3a93cf\" y=\"189.918565\"/>\n     <use style=\"fill:#1f77b4;fill-opacity:0.8;stroke:#1f77b4;stroke-opacity:0.8;\" x=\"91.405333\" xlink:href=\"#m6d2a3a93cf\" y=\"230.934079\"/>\n     <use style=\"fill:#1f77b4;fill-opacity:0.8;stroke:#1f77b4;stroke-opacity:0.8;\" x=\"98.705886\" xlink:href=\"#m6d2a3a93cf\" y=\"214.000146\"/>\n     <use style=\"fill:#1f77b4;fill-opacity:0.8;stroke:#1f77b4;stroke-opacity:0.8;\" x=\"129.293925\" xlink:href=\"#m6d2a3a93cf\" y=\"190.105414\"/>\n     <use style=\"fill:#1f77b4;fill-opacity:0.8;stroke:#1f77b4;stroke-opacity:0.8;\" x=\"270.069205\" xlink:href=\"#m6d2a3a93cf\" y=\"96.747262\"/>\n     <use style=\"fill:#1f77b4;fill-opacity:0.8;stroke:#1f77b4;stroke-opacity:0.8;\" x=\"94.53746\" xlink:href=\"#m6d2a3a93cf\" y=\"191.479616\"/>\n     <use style=\"fill:#1f77b4;fill-opacity:0.8;stroke:#1f77b4;stroke-opacity:0.8;\" x=\"163.927033\" xlink:href=\"#m6d2a3a93cf\" y=\"151.904561\"/>\n     <use style=\"fill:#1f77b4;fill-opacity:0.8;stroke:#1f77b4;stroke-opacity:0.8;\" x=\"114.644661\" xlink:href=\"#m6d2a3a93cf\" y=\"210.668368\"/>\n     <use style=\"fill:#1f77b4;fill-opacity:0.8;stroke:#1f77b4;stroke-opacity:0.8;\" x=\"134.515701\" xlink:href=\"#m6d2a3a93cf\" y=\"176.695104\"/>\n     <use style=\"fill:#1f77b4;fill-opacity:0.8;stroke:#1f77b4;stroke-opacity:0.8;\" x=\"112.294787\" xlink:href=\"#m6d2a3a93cf\" y=\"215.971531\"/>\n     <use style=\"fill:#1f77b4;fill-opacity:0.8;stroke:#1f77b4;stroke-opacity:0.8;\" x=\"125.405218\" xlink:href=\"#m6d2a3a93cf\" y=\"185.351656\"/>\n     <use style=\"fill:#1f77b4;fill-opacity:0.8;stroke:#1f77b4;stroke-opacity:0.8;\" x=\"208.07008\" xlink:href=\"#m6d2a3a93cf\" y=\"143.988896\"/>\n     <use style=\"fill:#1f77b4;fill-opacity:0.8;stroke:#1f77b4;stroke-opacity:0.8;\" x=\"128.348138\" xlink:href=\"#m6d2a3a93cf\" y=\"234.85657\"/>\n     <use style=\"fill:#1f77b4;fill-opacity:0.8;stroke:#1f77b4;stroke-opacity:0.8;\" x=\"106.885668\" xlink:href=\"#m6d2a3a93cf\" y=\"225.812038\"/>\n     <use style=\"fill:#1f77b4;fill-opacity:0.8;stroke:#1f77b4;stroke-opacity:0.8;\" x=\"144.740015\" xlink:href=\"#m6d2a3a93cf\" y=\"213.174562\"/>\n     <use style=\"fill:#1f77b4;fill-opacity:0.8;stroke:#1f77b4;stroke-opacity:0.8;\" x=\"132.246864\" xlink:href=\"#m6d2a3a93cf\" y=\"202.852644\"/>\n     <use style=\"fill:#1f77b4;fill-opacity:0.8;stroke:#1f77b4;stroke-opacity:0.8;\" x=\"133.545378\" xlink:href=\"#m6d2a3a93cf\" y=\"219.83827\"/>\n     <use style=\"fill:#1f77b4;fill-opacity:0.8;stroke:#1f77b4;stroke-opacity:0.8;\" x=\"117.750427\" xlink:href=\"#m6d2a3a93cf\" y=\"199.765804\"/>\n     <use style=\"fill:#1f77b4;fill-opacity:0.8;stroke:#1f77b4;stroke-opacity:0.8;\" x=\"139.266835\" xlink:href=\"#m6d2a3a93cf\" y=\"164.885905\"/>\n     <use style=\"fill:#1f77b4;fill-opacity:0.8;stroke:#1f77b4;stroke-opacity:0.8;\" x=\"269.608317\" xlink:href=\"#m6d2a3a93cf\" y=\"184.706203\"/>\n     <use style=\"fill:#1f77b4;fill-opacity:0.8;stroke:#1f77b4;stroke-opacity:0.8;\" x=\"98.137793\" xlink:href=\"#m6d2a3a93cf\" y=\"224.978147\"/>\n     <use style=\"fill:#1f77b4;fill-opacity:0.8;stroke:#1f77b4;stroke-opacity:0.8;\" x=\"100.712483\" xlink:href=\"#m6d2a3a93cf\" y=\"194.773402\"/>\n     <use style=\"fill:#1f77b4;fill-opacity:0.8;stroke:#1f77b4;stroke-opacity:0.8;\" x=\"109.371294\" xlink:href=\"#m6d2a3a93cf\" y=\"218.281421\"/>\n     <use style=\"fill:#1f77b4;fill-opacity:0.8;stroke:#1f77b4;stroke-opacity:0.8;\" x=\"112.987991\" xlink:href=\"#m6d2a3a93cf\" y=\"201.252855\"/>\n     <use style=\"fill:#1f77b4;fill-opacity:0.8;stroke:#1f77b4;stroke-opacity:0.8;\" x=\"140.668958\" xlink:href=\"#m6d2a3a93cf\" y=\"206.471192\"/>\n     <use style=\"fill:#1f77b4;fill-opacity:0.8;stroke:#1f77b4;stroke-opacity:0.8;\" x=\"104.795877\" xlink:href=\"#m6d2a3a93cf\" y=\"217.324341\"/>\n     <use style=\"fill:#1f77b4;fill-opacity:0.8;stroke:#1f77b4;stroke-opacity:0.8;\" x=\"95.578779\" xlink:href=\"#m6d2a3a93cf\" y=\"223.848564\"/>\n     <use style=\"fill:#1f77b4;fill-opacity:0.8;stroke:#1f77b4;stroke-opacity:0.8;\" x=\"128.995356\" xlink:href=\"#m6d2a3a93cf\" y=\"183.960317\"/>\n     <use style=\"fill:#1f77b4;fill-opacity:0.8;stroke:#1f77b4;stroke-opacity:0.8;\" x=\"179.414014\" xlink:href=\"#m6d2a3a93cf\" y=\"187.489393\"/>\n     <use style=\"fill:#1f77b4;fill-opacity:0.8;stroke:#1f77b4;stroke-opacity:0.8;\" x=\"133.151087\" xlink:href=\"#m6d2a3a93cf\" y=\"174.066464\"/>\n     <use style=\"fill:#1f77b4;fill-opacity:0.8;stroke:#1f77b4;stroke-opacity:0.8;\" x=\"142.385196\" xlink:href=\"#m6d2a3a93cf\" y=\"198.699836\"/>\n     <use style=\"fill:#1f77b4;fill-opacity:0.8;stroke:#1f77b4;stroke-opacity:0.8;\" x=\"82.056377\" xlink:href=\"#m6d2a3a93cf\" y=\"246.645626\"/>\n     <use style=\"fill:#1f77b4;fill-opacity:0.8;stroke:#1f77b4;stroke-opacity:0.8;\" x=\"179.219931\" xlink:href=\"#m6d2a3a93cf\" y=\"160.267008\"/>\n     <use style=\"fill:#1f77b4;fill-opacity:0.8;stroke:#1f77b4;stroke-opacity:0.8;\" x=\"106.488689\" xlink:href=\"#m6d2a3a93cf\" y=\"228.552712\"/>\n     <use style=\"fill:#1f77b4;fill-opacity:0.8;stroke:#1f77b4;stroke-opacity:0.8;\" x=\"146.630279\" xlink:href=\"#m6d2a3a93cf\" y=\"164.089089\"/>\n     <use style=\"fill:#1f77b4;fill-opacity:0.8;stroke:#1f77b4;stroke-opacity:0.8;\" x=\"95.711988\" xlink:href=\"#m6d2a3a93cf\" y=\"226.971058\"/>\n     <use style=\"fill:#1f77b4;fill-opacity:0.8;stroke:#1f77b4;stroke-opacity:0.8;\" x=\"88.810382\" xlink:href=\"#m6d2a3a93cf\" y=\"210.017612\"/>\n     <use style=\"fill:#1f77b4;fill-opacity:0.8;stroke:#1f77b4;stroke-opacity:0.8;\" x=\"391.031023\" xlink:href=\"#m6d2a3a93cf\" y=\"101.35122\"/>\n     <use style=\"fill:#1f77b4;fill-opacity:0.8;stroke:#1f77b4;stroke-opacity:0.8;\" x=\"101.741845\" xlink:href=\"#m6d2a3a93cf\" y=\"209.441941\"/>\n     <use style=\"fill:#1f77b4;fill-opacity:0.8;stroke:#1f77b4;stroke-opacity:0.8;\" x=\"151.982831\" xlink:href=\"#m6d2a3a93cf\" y=\"174.237967\"/>\n     <use style=\"fill:#1f77b4;fill-opacity:0.8;stroke:#1f77b4;stroke-opacity:0.8;\" x=\"105.862636\" xlink:href=\"#m6d2a3a93cf\" y=\"206.817949\"/>\n     <use style=\"fill:#1f77b4;fill-opacity:0.8;stroke:#1f77b4;stroke-opacity:0.8;\" x=\"158.029456\" xlink:href=\"#m6d2a3a93cf\" y=\"129.651692\"/>\n     <use style=\"fill:#1f77b4;fill-opacity:0.8;stroke:#1f77b4;stroke-opacity:0.8;\" x=\"118.42079\" xlink:href=\"#m6d2a3a93cf\" y=\"180.727597\"/>\n    </g>\n   </g>\n   <g id=\"PolyCollection_1\">\n    <path clip-path=\"url(#pa641342c94)\" d=\"M 66.376477 216.790367 \nL 66.376477 235.691116 \nL 69.655816 233.457415 \nL 72.935155 231.339801 \nL 76.214494 229.206455 \nL 79.493833 227.009733 \nL 82.773171 225.002366 \nL 86.05251 222.918507 \nL 89.331849 221.048066 \nL 92.611188 219.034309 \nL 95.890527 217.107751 \nL 99.169866 215.288109 \nL 102.449205 213.541534 \nL 105.728543 211.899998 \nL 109.007882 210.162567 \nL 112.287221 208.494617 \nL 115.56656 206.826403 \nL 118.845899 205.254115 \nL 122.125238 203.882824 \nL 125.404576 202.513357 \nL 128.683915 201.184704 \nL 131.963254 199.947955 \nL 135.242593 198.743756 \nL 138.521932 197.350337 \nL 141.801271 195.968094 \nL 145.08061 194.766289 \nL 148.359948 193.589707 \nL 151.639287 192.341865 \nL 154.918626 191.106298 \nL 158.197965 189.876025 \nL 161.477304 188.65892 \nL 164.756643 187.456029 \nL 168.035981 186.284737 \nL 171.31532 185.179495 \nL 174.594659 183.992059 \nL 177.873998 182.847782 \nL 181.153337 181.703339 \nL 184.432676 180.50376 \nL 187.712014 179.413666 \nL 190.991353 178.248518 \nL 194.270692 177.083157 \nL 197.550031 175.918223 \nL 200.82937 174.791255 \nL 204.108709 173.691545 \nL 207.388048 172.422781 \nL 210.667386 171.313588 \nL 213.946725 170.212131 \nL 217.226064 169.081757 \nL 220.505403 167.972211 \nL 223.784742 166.834705 \nL 227.064081 165.690574 \nL 230.343419 164.538581 \nL 233.622758 163.374207 \nL 236.902097 162.209793 \nL 240.181436 161.044524 \nL 243.460775 159.88904 \nL 246.740114 158.719822 \nL 250.019452 157.550813 \nL 253.298791 156.390836 \nL 256.57813 155.263375 \nL 259.857469 154.118654 \nL 263.136808 153.053017 \nL 266.416147 151.959256 \nL 269.695486 150.821896 \nL 272.974824 149.678441 \nL 276.254163 148.534986 \nL 279.533502 147.391531 \nL 282.812841 146.248076 \nL 286.09218 145.10462 \nL 289.371519 143.961165 \nL 292.650857 142.81771 \nL 295.930196 141.754345 \nL 299.209535 140.632773 \nL 302.488874 139.502026 \nL 305.768213 138.390201 \nL 309.047552 137.33652 \nL 312.32689 136.282838 \nL 315.606229 135.229847 \nL 318.885568 134.193835 \nL 322.164907 133.157822 \nL 325.444246 132.12181 \nL 328.723585 131.081913 \nL 332.002924 129.956818 \nL 335.282262 128.903497 \nL 338.561601 127.850176 \nL 341.84094 126.796856 \nL 345.120279 125.741782 \nL 348.399618 124.68663 \nL 351.678957 123.615727 \nL 354.958295 122.508186 \nL 358.237634 121.400646 \nL 361.516973 120.292587 \nL 364.796312 119.183261 \nL 368.075651 118.073935 \nL 371.35499 116.964609 \nL 374.634329 115.855283 \nL 377.913667 114.745957 \nL 381.193006 113.636631 \nL 384.472345 112.527305 \nL 387.751684 111.41798 \nL 391.031023 110.308654 \nL 391.031023 19.296 \nL 391.031023 19.296 \nL 387.751684 21.515834 \nL 384.472345 23.735668 \nL 381.193006 25.955502 \nL 377.913667 28.175335 \nL 374.634329 30.395169 \nL 371.35499 32.615003 \nL 368.075651 34.834837 \nL 364.796312 37.054671 \nL 361.516973 39.274505 \nL 358.237634 41.494339 \nL 354.958295 43.71451 \nL 351.678957 45.934909 \nL 348.399618 48.155308 \nL 345.120279 50.375707 \nL 341.84094 52.596106 \nL 338.561601 54.816505 \nL 335.282262 57.036905 \nL 332.002924 59.216021 \nL 328.723585 61.380629 \nL 325.444246 63.545237 \nL 322.164907 65.709845 \nL 318.885568 67.874453 \nL 315.606229 70.039061 \nL 312.32689 72.203669 \nL 309.047552 74.368277 \nL 305.768213 76.532885 \nL 302.488874 78.697493 \nL 299.209535 80.861041 \nL 295.930196 83.008205 \nL 292.650857 85.15537 \nL 289.371519 87.302535 \nL 286.09218 89.4497 \nL 282.812841 91.596865 \nL 279.533502 93.744029 \nL 276.254163 95.891194 \nL 272.974824 98.038359 \nL 269.695486 100.185524 \nL 266.416147 102.332689 \nL 263.136808 104.479853 \nL 259.857469 106.627018 \nL 256.57813 108.774183 \nL 253.298791 110.921348 \nL 250.019452 113.069221 \nL 246.740114 115.218329 \nL 243.460775 117.367437 \nL 240.181436 119.516545 \nL 236.902097 121.773947 \nL 233.622758 123.97625 \nL 230.343419 126.050618 \nL 227.064081 128.124987 \nL 223.784742 130.246014 \nL 220.505403 132.392996 \nL 217.226064 134.537409 \nL 213.946725 136.680861 \nL 210.667386 138.824312 \nL 207.388048 140.967764 \nL 204.108709 143.113857 \nL 200.82937 145.263179 \nL 197.550031 147.4125 \nL 194.270692 149.561822 \nL 190.991353 151.708291 \nL 187.712014 153.853128 \nL 184.432676 155.999508 \nL 181.153337 158.199988 \nL 177.873998 160.2901 \nL 174.594659 162.4372 \nL 171.31532 164.598935 \nL 168.035981 166.730801 \nL 164.756643 168.876064 \nL 161.477304 170.931929 \nL 158.197965 173.007021 \nL 154.918626 175.018726 \nL 151.639287 177.012475 \nL 148.359948 179.103227 \nL 145.08061 181.143136 \nL 141.801271 183.100576 \nL 138.521932 184.867969 \nL 135.242593 186.833413 \nL 131.963254 188.79426 \nL 128.683915 190.480692 \nL 125.404576 192.152817 \nL 122.125238 193.793337 \nL 118.845899 195.425536 \nL 115.56656 197.065424 \nL 112.287221 198.560116 \nL 109.007882 200.06656 \nL 105.728543 201.413588 \nL 102.449205 202.8288 \nL 99.169866 204.309947 \nL 95.890527 205.651214 \nL 92.611188 206.910537 \nL 89.331849 208.219354 \nL 86.05251 209.506416 \nL 82.773171 210.754443 \nL 79.493833 211.949308 \nL 76.214494 213.116995 \nL 72.935155 214.218509 \nL 69.655816 215.504811 \nL 66.376477 216.790367 \nz\n\" style=\"fill:#1f77b4;fill-opacity:0.15;\"/>\n   </g>\n   <g id=\"matplotlib.axis_1\">\n    <g id=\"xtick_1\">\n     <g id=\"line2d_1\">\n      <defs>\n       <path d=\"M 0 0 \nL 0 3.5 \n\" id=\"m948513640c\" style=\"stroke:#000000;stroke-width:0.8;\"/>\n      </defs>\n      <g>\n       <use style=\"stroke:#000000;stroke-width:0.8;\" x=\"67.715173\" xlink:href=\"#m948513640c\" y=\"273.312\"/>\n      </g>\n     </g>\n     <g id=\"text_1\">\n      <!-- 0 -->\n      <g transform=\"translate(64.533923 287.910437)scale(0.1 -0.1)\">\n       <defs>\n        <path d=\"M 2034 4250 \nQ 1547 4250 1301 3770 \nQ 1056 3291 1056 2328 \nQ 1056 1369 1301 889 \nQ 1547 409 2034 409 \nQ 2525 409 2770 889 \nQ 3016 1369 3016 2328 \nQ 3016 3291 2770 3770 \nQ 2525 4250 2034 4250 \nz\nM 2034 4750 \nQ 2819 4750 3233 4129 \nQ 3647 3509 3647 2328 \nQ 3647 1150 3233 529 \nQ 2819 -91 2034 -91 \nQ 1250 -91 836 529 \nQ 422 1150 422 2328 \nQ 422 3509 836 4129 \nQ 1250 4750 2034 4750 \nz\n\" id=\"DejaVuSans-30\" transform=\"scale(0.015625)\"/>\n       </defs>\n       <use xlink:href=\"#DejaVuSans-30\"/>\n      </g>\n     </g>\n    </g>\n    <g id=\"xtick_2\">\n     <g id=\"line2d_2\">\n      <g>\n       <use style=\"stroke:#000000;stroke-width:0.8;\" x=\"118.875867\" xlink:href=\"#m948513640c\" y=\"273.312\"/>\n      </g>\n     </g>\n     <g id=\"text_2\">\n      <!-- 1 -->\n      <g transform=\"translate(115.694617 287.910437)scale(0.1 -0.1)\">\n       <defs>\n        <path d=\"M 794 531 \nL 1825 531 \nL 1825 4091 \nL 703 3866 \nL 703 4441 \nL 1819 4666 \nL 2450 4666 \nL 2450 531 \nL 3481 531 \nL 3481 0 \nL 794 0 \nL 794 531 \nz\n\" id=\"DejaVuSans-31\" transform=\"scale(0.015625)\"/>\n       </defs>\n       <use xlink:href=\"#DejaVuSans-31\"/>\n      </g>\n     </g>\n    </g>\n    <g id=\"xtick_3\">\n     <g id=\"line2d_3\">\n      <g>\n       <use style=\"stroke:#000000;stroke-width:0.8;\" x=\"170.036561\" xlink:href=\"#m948513640c\" y=\"273.312\"/>\n      </g>\n     </g>\n     <g id=\"text_3\">\n      <!-- 2 -->\n      <g transform=\"translate(166.855311 287.910437)scale(0.1 -0.1)\">\n       <defs>\n        <path d=\"M 1228 531 \nL 3431 531 \nL 3431 0 \nL 469 0 \nL 469 531 \nQ 828 903 1448 1529 \nQ 2069 2156 2228 2338 \nQ 2531 2678 2651 2914 \nQ 2772 3150 2772 3378 \nQ 2772 3750 2511 3984 \nQ 2250 4219 1831 4219 \nQ 1534 4219 1204 4116 \nQ 875 4013 500 3803 \nL 500 4441 \nQ 881 4594 1212 4672 \nQ 1544 4750 1819 4750 \nQ 2544 4750 2975 4387 \nQ 3406 4025 3406 3419 \nQ 3406 3131 3298 2873 \nQ 3191 2616 2906 2266 \nQ 2828 2175 2409 1742 \nQ 1991 1309 1228 531 \nz\n\" id=\"DejaVuSans-32\" transform=\"scale(0.015625)\"/>\n       </defs>\n       <use xlink:href=\"#DejaVuSans-32\"/>\n      </g>\n     </g>\n    </g>\n    <g id=\"xtick_4\">\n     <g id=\"line2d_4\">\n      <g>\n       <use style=\"stroke:#000000;stroke-width:0.8;\" x=\"221.197256\" xlink:href=\"#m948513640c\" y=\"273.312\"/>\n      </g>\n     </g>\n     <g id=\"text_4\">\n      <!-- 3 -->\n      <g transform=\"translate(218.016006 287.910437)scale(0.1 -0.1)\">\n       <defs>\n        <path d=\"M 2597 2516 \nQ 3050 2419 3304 2112 \nQ 3559 1806 3559 1356 \nQ 3559 666 3084 287 \nQ 2609 -91 1734 -91 \nQ 1441 -91 1130 -33 \nQ 819 25 488 141 \nL 488 750 \nQ 750 597 1062 519 \nQ 1375 441 1716 441 \nQ 2309 441 2620 675 \nQ 2931 909 2931 1356 \nQ 2931 1769 2642 2001 \nQ 2353 2234 1838 2234 \nL 1294 2234 \nL 1294 2753 \nL 1863 2753 \nQ 2328 2753 2575 2939 \nQ 2822 3125 2822 3475 \nQ 2822 3834 2567 4026 \nQ 2313 4219 1838 4219 \nQ 1578 4219 1281 4162 \nQ 984 4106 628 3988 \nL 628 4550 \nQ 988 4650 1302 4700 \nQ 1616 4750 1894 4750 \nQ 2613 4750 3031 4423 \nQ 3450 4097 3450 3541 \nQ 3450 3153 3228 2886 \nQ 3006 2619 2597 2516 \nz\n\" id=\"DejaVuSans-33\" transform=\"scale(0.015625)\"/>\n       </defs>\n       <use xlink:href=\"#DejaVuSans-33\"/>\n      </g>\n     </g>\n    </g>\n    <g id=\"xtick_5\">\n     <g id=\"line2d_5\">\n      <g>\n       <use style=\"stroke:#000000;stroke-width:0.8;\" x=\"272.35795\" xlink:href=\"#m948513640c\" y=\"273.312\"/>\n      </g>\n     </g>\n     <g id=\"text_5\">\n      <!-- 4 -->\n      <g transform=\"translate(269.1767 287.910437)scale(0.1 -0.1)\">\n       <defs>\n        <path d=\"M 2419 4116 \nL 825 1625 \nL 2419 1625 \nL 2419 4116 \nz\nM 2253 4666 \nL 3047 4666 \nL 3047 1625 \nL 3713 1625 \nL 3713 1100 \nL 3047 1100 \nL 3047 0 \nL 2419 0 \nL 2419 1100 \nL 313 1100 \nL 313 1709 \nL 2253 4666 \nz\n\" id=\"DejaVuSans-34\" transform=\"scale(0.015625)\"/>\n       </defs>\n       <use xlink:href=\"#DejaVuSans-34\"/>\n      </g>\n     </g>\n    </g>\n    <g id=\"xtick_6\">\n     <g id=\"line2d_6\">\n      <g>\n       <use style=\"stroke:#000000;stroke-width:0.8;\" x=\"323.518644\" xlink:href=\"#m948513640c\" y=\"273.312\"/>\n      </g>\n     </g>\n     <g id=\"text_6\">\n      <!-- 5 -->\n      <g transform=\"translate(320.337394 287.910437)scale(0.1 -0.1)\">\n       <defs>\n        <path d=\"M 691 4666 \nL 3169 4666 \nL 3169 4134 \nL 1269 4134 \nL 1269 2991 \nQ 1406 3038 1543 3061 \nQ 1681 3084 1819 3084 \nQ 2600 3084 3056 2656 \nQ 3513 2228 3513 1497 \nQ 3513 744 3044 326 \nQ 2575 -91 1722 -91 \nQ 1428 -91 1123 -41 \nQ 819 9 494 109 \nL 494 744 \nQ 775 591 1075 516 \nQ 1375 441 1709 441 \nQ 2250 441 2565 725 \nQ 2881 1009 2881 1497 \nQ 2881 1984 2565 2268 \nQ 2250 2553 1709 2553 \nQ 1456 2553 1204 2497 \nQ 953 2441 691 2322 \nL 691 4666 \nz\n\" id=\"DejaVuSans-35\" transform=\"scale(0.015625)\"/>\n       </defs>\n       <use xlink:href=\"#DejaVuSans-35\"/>\n      </g>\n     </g>\n    </g>\n    <g id=\"xtick_7\">\n     <g id=\"line2d_7\">\n      <g>\n       <use style=\"stroke:#000000;stroke-width:0.8;\" x=\"374.679338\" xlink:href=\"#m948513640c\" y=\"273.312\"/>\n      </g>\n     </g>\n     <g id=\"text_7\">\n      <!-- 6 -->\n      <g transform=\"translate(371.498088 287.910437)scale(0.1 -0.1)\">\n       <defs>\n        <path d=\"M 2113 2584 \nQ 1688 2584 1439 2293 \nQ 1191 2003 1191 1497 \nQ 1191 994 1439 701 \nQ 1688 409 2113 409 \nQ 2538 409 2786 701 \nQ 3034 994 3034 1497 \nQ 3034 2003 2786 2293 \nQ 2538 2584 2113 2584 \nz\nM 3366 4563 \nL 3366 3988 \nQ 3128 4100 2886 4159 \nQ 2644 4219 2406 4219 \nQ 1781 4219 1451 3797 \nQ 1122 3375 1075 2522 \nQ 1259 2794 1537 2939 \nQ 1816 3084 2150 3084 \nQ 2853 3084 3261 2657 \nQ 3669 2231 3669 1497 \nQ 3669 778 3244 343 \nQ 2819 -91 2113 -91 \nQ 1303 -91 875 529 \nQ 447 1150 447 2328 \nQ 447 3434 972 4092 \nQ 1497 4750 2381 4750 \nQ 2619 4750 2861 4703 \nQ 3103 4656 3366 4563 \nz\n\" id=\"DejaVuSans-36\" transform=\"scale(0.015625)\"/>\n       </defs>\n       <use xlink:href=\"#DejaVuSans-36\"/>\n      </g>\n     </g>\n    </g>\n    <g id=\"text_8\">\n     <!-- Racial Difference in System -->\n     <g transform=\"translate(159.86625 301.588562)scale(0.1 -0.1)\">\n      <defs>\n       <path d=\"M 2841 2188 \nQ 3044 2119 3236 1894 \nQ 3428 1669 3622 1275 \nL 4263 0 \nL 3584 0 \nL 2988 1197 \nQ 2756 1666 2539 1819 \nQ 2322 1972 1947 1972 \nL 1259 1972 \nL 1259 0 \nL 628 0 \nL 628 4666 \nL 2053 4666 \nQ 2853 4666 3247 4331 \nQ 3641 3997 3641 3322 \nQ 3641 2881 3436 2590 \nQ 3231 2300 2841 2188 \nz\nM 1259 4147 \nL 1259 2491 \nL 2053 2491 \nQ 2509 2491 2742 2702 \nQ 2975 2913 2975 3322 \nQ 2975 3731 2742 3939 \nQ 2509 4147 2053 4147 \nL 1259 4147 \nz\n\" id=\"DejaVuSans-52\" transform=\"scale(0.015625)\"/>\n       <path d=\"M 2194 1759 \nQ 1497 1759 1228 1600 \nQ 959 1441 959 1056 \nQ 959 750 1161 570 \nQ 1363 391 1709 391 \nQ 2188 391 2477 730 \nQ 2766 1069 2766 1631 \nL 2766 1759 \nL 2194 1759 \nz\nM 3341 1997 \nL 3341 0 \nL 2766 0 \nL 2766 531 \nQ 2569 213 2275 61 \nQ 1981 -91 1556 -91 \nQ 1019 -91 701 211 \nQ 384 513 384 1019 \nQ 384 1609 779 1909 \nQ 1175 2209 1959 2209 \nL 2766 2209 \nL 2766 2266 \nQ 2766 2663 2505 2880 \nQ 2244 3097 1772 3097 \nQ 1472 3097 1187 3025 \nQ 903 2953 641 2809 \nL 641 3341 \nQ 956 3463 1253 3523 \nQ 1550 3584 1831 3584 \nQ 2591 3584 2966 3190 \nQ 3341 2797 3341 1997 \nz\n\" id=\"DejaVuSans-61\" transform=\"scale(0.015625)\"/>\n       <path d=\"M 3122 3366 \nL 3122 2828 \nQ 2878 2963 2633 3030 \nQ 2388 3097 2138 3097 \nQ 1578 3097 1268 2742 \nQ 959 2388 959 1747 \nQ 959 1106 1268 751 \nQ 1578 397 2138 397 \nQ 2388 397 2633 464 \nQ 2878 531 3122 666 \nL 3122 134 \nQ 2881 22 2623 -34 \nQ 2366 -91 2075 -91 \nQ 1284 -91 818 406 \nQ 353 903 353 1747 \nQ 353 2603 823 3093 \nQ 1294 3584 2113 3584 \nQ 2378 3584 2631 3529 \nQ 2884 3475 3122 3366 \nz\n\" id=\"DejaVuSans-63\" transform=\"scale(0.015625)\"/>\n       <path d=\"M 603 3500 \nL 1178 3500 \nL 1178 0 \nL 603 0 \nL 603 3500 \nz\nM 603 4863 \nL 1178 4863 \nL 1178 4134 \nL 603 4134 \nL 603 4863 \nz\n\" id=\"DejaVuSans-69\" transform=\"scale(0.015625)\"/>\n       <path d=\"M 603 4863 \nL 1178 4863 \nL 1178 0 \nL 603 0 \nL 603 4863 \nz\n\" id=\"DejaVuSans-6c\" transform=\"scale(0.015625)\"/>\n       <path id=\"DejaVuSans-20\" transform=\"scale(0.015625)\"/>\n       <path d=\"M 1259 4147 \nL 1259 519 \nL 2022 519 \nQ 2988 519 3436 956 \nQ 3884 1394 3884 2338 \nQ 3884 3275 3436 3711 \nQ 2988 4147 2022 4147 \nL 1259 4147 \nz\nM 628 4666 \nL 1925 4666 \nQ 3281 4666 3915 4102 \nQ 4550 3538 4550 2338 \nQ 4550 1131 3912 565 \nQ 3275 0 1925 0 \nL 628 0 \nL 628 4666 \nz\n\" id=\"DejaVuSans-44\" transform=\"scale(0.015625)\"/>\n       <path d=\"M 2375 4863 \nL 2375 4384 \nL 1825 4384 \nQ 1516 4384 1395 4259 \nQ 1275 4134 1275 3809 \nL 1275 3500 \nL 2222 3500 \nL 2222 3053 \nL 1275 3053 \nL 1275 0 \nL 697 0 \nL 697 3053 \nL 147 3053 \nL 147 3500 \nL 697 3500 \nL 697 3744 \nQ 697 4328 969 4595 \nQ 1241 4863 1831 4863 \nL 2375 4863 \nz\n\" id=\"DejaVuSans-66\" transform=\"scale(0.015625)\"/>\n       <path d=\"M 3597 1894 \nL 3597 1613 \nL 953 1613 \nQ 991 1019 1311 708 \nQ 1631 397 2203 397 \nQ 2534 397 2845 478 \nQ 3156 559 3463 722 \nL 3463 178 \nQ 3153 47 2828 -22 \nQ 2503 -91 2169 -91 \nQ 1331 -91 842 396 \nQ 353 884 353 1716 \nQ 353 2575 817 3079 \nQ 1281 3584 2069 3584 \nQ 2775 3584 3186 3129 \nQ 3597 2675 3597 1894 \nz\nM 3022 2063 \nQ 3016 2534 2758 2815 \nQ 2500 3097 2075 3097 \nQ 1594 3097 1305 2825 \nQ 1016 2553 972 2059 \nL 3022 2063 \nz\n\" id=\"DejaVuSans-65\" transform=\"scale(0.015625)\"/>\n       <path d=\"M 2631 2963 \nQ 2534 3019 2420 3045 \nQ 2306 3072 2169 3072 \nQ 1681 3072 1420 2755 \nQ 1159 2438 1159 1844 \nL 1159 0 \nL 581 0 \nL 581 3500 \nL 1159 3500 \nL 1159 2956 \nQ 1341 3275 1631 3429 \nQ 1922 3584 2338 3584 \nQ 2397 3584 2469 3576 \nQ 2541 3569 2628 3553 \nL 2631 2963 \nz\n\" id=\"DejaVuSans-72\" transform=\"scale(0.015625)\"/>\n       <path d=\"M 3513 2113 \nL 3513 0 \nL 2938 0 \nL 2938 2094 \nQ 2938 2591 2744 2837 \nQ 2550 3084 2163 3084 \nQ 1697 3084 1428 2787 \nQ 1159 2491 1159 1978 \nL 1159 0 \nL 581 0 \nL 581 3500 \nL 1159 3500 \nL 1159 2956 \nQ 1366 3272 1645 3428 \nQ 1925 3584 2291 3584 \nQ 2894 3584 3203 3211 \nQ 3513 2838 3513 2113 \nz\n\" id=\"DejaVuSans-6e\" transform=\"scale(0.015625)\"/>\n       <path d=\"M 3425 4513 \nL 3425 3897 \nQ 3066 4069 2747 4153 \nQ 2428 4238 2131 4238 \nQ 1616 4238 1336 4038 \nQ 1056 3838 1056 3469 \nQ 1056 3159 1242 3001 \nQ 1428 2844 1947 2747 \nL 2328 2669 \nQ 3034 2534 3370 2195 \nQ 3706 1856 3706 1288 \nQ 3706 609 3251 259 \nQ 2797 -91 1919 -91 \nQ 1588 -91 1214 -16 \nQ 841 59 441 206 \nL 441 856 \nQ 825 641 1194 531 \nQ 1563 422 1919 422 \nQ 2459 422 2753 634 \nQ 3047 847 3047 1241 \nQ 3047 1584 2836 1778 \nQ 2625 1972 2144 2069 \nL 1759 2144 \nQ 1053 2284 737 2584 \nQ 422 2884 422 3419 \nQ 422 4038 858 4394 \nQ 1294 4750 2059 4750 \nQ 2388 4750 2728 4690 \nQ 3069 4631 3425 4513 \nz\n\" id=\"DejaVuSans-53\" transform=\"scale(0.015625)\"/>\n       <path d=\"M 2059 -325 \nQ 1816 -950 1584 -1140 \nQ 1353 -1331 966 -1331 \nL 506 -1331 \nL 506 -850 \nL 844 -850 \nQ 1081 -850 1212 -737 \nQ 1344 -625 1503 -206 \nL 1606 56 \nL 191 3500 \nL 800 3500 \nL 1894 763 \nL 2988 3500 \nL 3597 3500 \nL 2059 -325 \nz\n\" id=\"DejaVuSans-79\" transform=\"scale(0.015625)\"/>\n       <path d=\"M 2834 3397 \nL 2834 2853 \nQ 2591 2978 2328 3040 \nQ 2066 3103 1784 3103 \nQ 1356 3103 1142 2972 \nQ 928 2841 928 2578 \nQ 928 2378 1081 2264 \nQ 1234 2150 1697 2047 \nL 1894 2003 \nQ 2506 1872 2764 1633 \nQ 3022 1394 3022 966 \nQ 3022 478 2636 193 \nQ 2250 -91 1575 -91 \nQ 1294 -91 989 -36 \nQ 684 19 347 128 \nL 347 722 \nQ 666 556 975 473 \nQ 1284 391 1588 391 \nQ 1994 391 2212 530 \nQ 2431 669 2431 922 \nQ 2431 1156 2273 1281 \nQ 2116 1406 1581 1522 \nL 1381 1569 \nQ 847 1681 609 1914 \nQ 372 2147 372 2553 \nQ 372 3047 722 3315 \nQ 1072 3584 1716 3584 \nQ 2034 3584 2315 3537 \nQ 2597 3491 2834 3397 \nz\n\" id=\"DejaVuSans-73\" transform=\"scale(0.015625)\"/>\n       <path d=\"M 1172 4494 \nL 1172 3500 \nL 2356 3500 \nL 2356 3053 \nL 1172 3053 \nL 1172 1153 \nQ 1172 725 1289 603 \nQ 1406 481 1766 481 \nL 2356 481 \nL 2356 0 \nL 1766 0 \nQ 1100 0 847 248 \nQ 594 497 594 1153 \nL 594 3053 \nL 172 3053 \nL 172 3500 \nL 594 3500 \nL 594 4494 \nL 1172 4494 \nz\n\" id=\"DejaVuSans-74\" transform=\"scale(0.015625)\"/>\n       <path d=\"M 3328 2828 \nQ 3544 3216 3844 3400 \nQ 4144 3584 4550 3584 \nQ 5097 3584 5394 3201 \nQ 5691 2819 5691 2113 \nL 5691 0 \nL 5113 0 \nL 5113 2094 \nQ 5113 2597 4934 2840 \nQ 4756 3084 4391 3084 \nQ 3944 3084 3684 2787 \nQ 3425 2491 3425 1978 \nL 3425 0 \nL 2847 0 \nL 2847 2094 \nQ 2847 2600 2669 2842 \nQ 2491 3084 2119 3084 \nQ 1678 3084 1418 2786 \nQ 1159 2488 1159 1978 \nL 1159 0 \nL 581 0 \nL 581 3500 \nL 1159 3500 \nL 1159 2956 \nQ 1356 3278 1631 3431 \nQ 1906 3584 2284 3584 \nQ 2666 3584 2933 3390 \nQ 3200 3197 3328 2828 \nz\n\" id=\"DejaVuSans-6d\" transform=\"scale(0.015625)\"/>\n      </defs>\n      <use xlink:href=\"#DejaVuSans-52\"/>\n      <use x=\"67.232422\" xlink:href=\"#DejaVuSans-61\"/>\n      <use x=\"128.511719\" xlink:href=\"#DejaVuSans-63\"/>\n      <use x=\"183.492188\" xlink:href=\"#DejaVuSans-69\"/>\n      <use x=\"211.275391\" xlink:href=\"#DejaVuSans-61\"/>\n      <use x=\"272.554688\" xlink:href=\"#DejaVuSans-6c\"/>\n      <use x=\"300.337891\" xlink:href=\"#DejaVuSans-20\"/>\n      <use x=\"332.125\" xlink:href=\"#DejaVuSans-44\"/>\n      <use x=\"409.126953\" xlink:href=\"#DejaVuSans-69\"/>\n      <use x=\"436.910156\" xlink:href=\"#DejaVuSans-66\"/>\n      <use x=\"472.115234\" xlink:href=\"#DejaVuSans-66\"/>\n      <use x=\"507.320312\" xlink:href=\"#DejaVuSans-65\"/>\n      <use x=\"568.84375\" xlink:href=\"#DejaVuSans-72\"/>\n      <use x=\"607.707031\" xlink:href=\"#DejaVuSans-65\"/>\n      <use x=\"669.230469\" xlink:href=\"#DejaVuSans-6e\"/>\n      <use x=\"732.609375\" xlink:href=\"#DejaVuSans-63\"/>\n      <use x=\"787.589844\" xlink:href=\"#DejaVuSans-65\"/>\n      <use x=\"849.113281\" xlink:href=\"#DejaVuSans-20\"/>\n      <use x=\"880.900391\" xlink:href=\"#DejaVuSans-69\"/>\n      <use x=\"908.683594\" xlink:href=\"#DejaVuSans-6e\"/>\n      <use x=\"972.0625\" xlink:href=\"#DejaVuSans-20\"/>\n      <use x=\"1003.849609\" xlink:href=\"#DejaVuSans-53\"/>\n      <use x=\"1067.326172\" xlink:href=\"#DejaVuSans-79\"/>\n      <use x=\"1126.505859\" xlink:href=\"#DejaVuSans-73\"/>\n      <use x=\"1178.605469\" xlink:href=\"#DejaVuSans-74\"/>\n      <use x=\"1217.814453\" xlink:href=\"#DejaVuSans-65\"/>\n      <use x=\"1279.337891\" xlink:href=\"#DejaVuSans-6d\"/>\n     </g>\n    </g>\n   </g>\n   <g id=\"matplotlib.axis_2\">\n    <g id=\"ytick_1\">\n     <g id=\"line2d_8\">\n      <defs>\n       <path d=\"M 0 0 \nL -3.5 0 \n\" id=\"m0b25ccb9d6\" style=\"stroke:#000000;stroke-width:0.8;\"/>\n      </defs>\n      <g>\n       <use style=\"stroke:#000000;stroke-width:0.8;\" x=\"50.14375\" xlink:href=\"#m0b25ccb9d6\" y=\"252.619698\"/>\n      </g>\n     </g>\n     <g id=\"text_9\">\n      <!-- 0.00 -->\n      <g transform=\"translate(20.878125 256.418917)scale(0.1 -0.1)\">\n       <defs>\n        <path d=\"M 684 794 \nL 1344 794 \nL 1344 0 \nL 684 0 \nL 684 794 \nz\n\" id=\"DejaVuSans-2e\" transform=\"scale(0.015625)\"/>\n       </defs>\n       <use xlink:href=\"#DejaVuSans-30\"/>\n       <use x=\"63.623047\" xlink:href=\"#DejaVuSans-2e\"/>\n       <use x=\"95.410156\" xlink:href=\"#DejaVuSans-30\"/>\n       <use x=\"159.033203\" xlink:href=\"#DejaVuSans-30\"/>\n      </g>\n     </g>\n    </g>\n    <g id=\"ytick_2\">\n     <g id=\"line2d_9\">\n      <g>\n       <use style=\"stroke:#000000;stroke-width:0.8;\" x=\"50.14375\" xlink:href=\"#m0b25ccb9d6\" y=\"220.683484\"/>\n      </g>\n     </g>\n     <g id=\"text_10\">\n      <!-- 0.01 -->\n      <g transform=\"translate(20.878125 224.482703)scale(0.1 -0.1)\">\n       <use xlink:href=\"#DejaVuSans-30\"/>\n       <use x=\"63.623047\" xlink:href=\"#DejaVuSans-2e\"/>\n       <use x=\"95.410156\" xlink:href=\"#DejaVuSans-30\"/>\n       <use x=\"159.033203\" xlink:href=\"#DejaVuSans-31\"/>\n      </g>\n     </g>\n    </g>\n    <g id=\"ytick_3\">\n     <g id=\"line2d_10\">\n      <g>\n       <use style=\"stroke:#000000;stroke-width:0.8;\" x=\"50.14375\" xlink:href=\"#m0b25ccb9d6\" y=\"188.74727\"/>\n      </g>\n     </g>\n     <g id=\"text_11\">\n      <!-- 0.02 -->\n      <g transform=\"translate(20.878125 192.546488)scale(0.1 -0.1)\">\n       <use xlink:href=\"#DejaVuSans-30\"/>\n       <use x=\"63.623047\" xlink:href=\"#DejaVuSans-2e\"/>\n       <use x=\"95.410156\" xlink:href=\"#DejaVuSans-30\"/>\n       <use x=\"159.033203\" xlink:href=\"#DejaVuSans-32\"/>\n      </g>\n     </g>\n    </g>\n    <g id=\"ytick_4\">\n     <g id=\"line2d_11\">\n      <g>\n       <use style=\"stroke:#000000;stroke-width:0.8;\" x=\"50.14375\" xlink:href=\"#m0b25ccb9d6\" y=\"156.811055\"/>\n      </g>\n     </g>\n     <g id=\"text_12\">\n      <!-- 0.03 -->\n      <g transform=\"translate(20.878125 160.610274)scale(0.1 -0.1)\">\n       <use xlink:href=\"#DejaVuSans-30\"/>\n       <use x=\"63.623047\" xlink:href=\"#DejaVuSans-2e\"/>\n       <use x=\"95.410156\" xlink:href=\"#DejaVuSans-30\"/>\n       <use x=\"159.033203\" xlink:href=\"#DejaVuSans-33\"/>\n      </g>\n     </g>\n    </g>\n    <g id=\"ytick_5\">\n     <g id=\"line2d_12\">\n      <g>\n       <use style=\"stroke:#000000;stroke-width:0.8;\" x=\"50.14375\" xlink:href=\"#m0b25ccb9d6\" y=\"124.874841\"/>\n      </g>\n     </g>\n     <g id=\"text_13\">\n      <!-- 0.04 -->\n      <g transform=\"translate(20.878125 128.67406)scale(0.1 -0.1)\">\n       <use xlink:href=\"#DejaVuSans-30\"/>\n       <use x=\"63.623047\" xlink:href=\"#DejaVuSans-2e\"/>\n       <use x=\"95.410156\" xlink:href=\"#DejaVuSans-30\"/>\n       <use x=\"159.033203\" xlink:href=\"#DejaVuSans-34\"/>\n      </g>\n     </g>\n    </g>\n    <g id=\"ytick_6\">\n     <g id=\"line2d_13\">\n      <g>\n       <use style=\"stroke:#000000;stroke-width:0.8;\" x=\"50.14375\" xlink:href=\"#m0b25ccb9d6\" y=\"92.938627\"/>\n      </g>\n     </g>\n     <g id=\"text_14\">\n      <!-- 0.05 -->\n      <g transform=\"translate(20.878125 96.737845)scale(0.1 -0.1)\">\n       <use xlink:href=\"#DejaVuSans-30\"/>\n       <use x=\"63.623047\" xlink:href=\"#DejaVuSans-2e\"/>\n       <use x=\"95.410156\" xlink:href=\"#DejaVuSans-30\"/>\n       <use x=\"159.033203\" xlink:href=\"#DejaVuSans-35\"/>\n      </g>\n     </g>\n    </g>\n    <g id=\"ytick_7\">\n     <g id=\"line2d_14\">\n      <g>\n       <use style=\"stroke:#000000;stroke-width:0.8;\" x=\"50.14375\" xlink:href=\"#m0b25ccb9d6\" y=\"61.002412\"/>\n      </g>\n     </g>\n     <g id=\"text_15\">\n      <!-- 0.06 -->\n      <g transform=\"translate(20.878125 64.801631)scale(0.1 -0.1)\">\n       <use xlink:href=\"#DejaVuSans-30\"/>\n       <use x=\"63.623047\" xlink:href=\"#DejaVuSans-2e\"/>\n       <use x=\"95.410156\" xlink:href=\"#DejaVuSans-30\"/>\n       <use x=\"159.033203\" xlink:href=\"#DejaVuSans-36\"/>\n      </g>\n     </g>\n    </g>\n    <g id=\"ytick_8\">\n     <g id=\"line2d_15\">\n      <g>\n       <use style=\"stroke:#000000;stroke-width:0.8;\" x=\"50.14375\" xlink:href=\"#m0b25ccb9d6\" y=\"29.066198\"/>\n      </g>\n     </g>\n     <g id=\"text_16\">\n      <!-- 0.07 -->\n      <g transform=\"translate(20.878125 32.865417)scale(0.1 -0.1)\">\n       <defs>\n        <path d=\"M 525 4666 \nL 3525 4666 \nL 3525 4397 \nL 1831 0 \nL 1172 0 \nL 2766 4134 \nL 525 4134 \nL 525 4666 \nz\n\" id=\"DejaVuSans-37\" transform=\"scale(0.015625)\"/>\n       </defs>\n       <use xlink:href=\"#DejaVuSans-30\"/>\n       <use x=\"63.623047\" xlink:href=\"#DejaVuSans-2e\"/>\n       <use x=\"95.410156\" xlink:href=\"#DejaVuSans-30\"/>\n       <use x=\"159.033203\" xlink:href=\"#DejaVuSans-37\"/>\n      </g>\n     </g>\n    </g>\n    <g id=\"text_17\">\n     <!-- Racial Difference in Sentencing -->\n     <g transform=\"translate(14.798438 218.554437)rotate(-90)scale(0.1 -0.1)\">\n      <defs>\n       <path d=\"M 2906 1791 \nQ 2906 2416 2648 2759 \nQ 2391 3103 1925 3103 \nQ 1463 3103 1205 2759 \nQ 947 2416 947 1791 \nQ 947 1169 1205 825 \nQ 1463 481 1925 481 \nQ 2391 481 2648 825 \nQ 2906 1169 2906 1791 \nz\nM 3481 434 \nQ 3481 -459 3084 -895 \nQ 2688 -1331 1869 -1331 \nQ 1566 -1331 1297 -1286 \nQ 1028 -1241 775 -1147 \nL 775 -588 \nQ 1028 -725 1275 -790 \nQ 1522 -856 1778 -856 \nQ 2344 -856 2625 -561 \nQ 2906 -266 2906 331 \nL 2906 616 \nQ 2728 306 2450 153 \nQ 2172 0 1784 0 \nQ 1141 0 747 490 \nQ 353 981 353 1791 \nQ 353 2603 747 3093 \nQ 1141 3584 1784 3584 \nQ 2172 3584 2450 3431 \nQ 2728 3278 2906 2969 \nL 2906 3500 \nL 3481 3500 \nL 3481 434 \nz\n\" id=\"DejaVuSans-67\" transform=\"scale(0.015625)\"/>\n      </defs>\n      <use xlink:href=\"#DejaVuSans-52\"/>\n      <use x=\"67.232422\" xlink:href=\"#DejaVuSans-61\"/>\n      <use x=\"128.511719\" xlink:href=\"#DejaVuSans-63\"/>\n      <use x=\"183.492188\" xlink:href=\"#DejaVuSans-69\"/>\n      <use x=\"211.275391\" xlink:href=\"#DejaVuSans-61\"/>\n      <use x=\"272.554688\" xlink:href=\"#DejaVuSans-6c\"/>\n      <use x=\"300.337891\" xlink:href=\"#DejaVuSans-20\"/>\n      <use x=\"332.125\" xlink:href=\"#DejaVuSans-44\"/>\n      <use x=\"409.126953\" xlink:href=\"#DejaVuSans-69\"/>\n      <use x=\"436.910156\" xlink:href=\"#DejaVuSans-66\"/>\n      <use x=\"472.115234\" xlink:href=\"#DejaVuSans-66\"/>\n      <use x=\"507.320312\" xlink:href=\"#DejaVuSans-65\"/>\n      <use x=\"568.84375\" xlink:href=\"#DejaVuSans-72\"/>\n      <use x=\"607.707031\" xlink:href=\"#DejaVuSans-65\"/>\n      <use x=\"669.230469\" xlink:href=\"#DejaVuSans-6e\"/>\n      <use x=\"732.609375\" xlink:href=\"#DejaVuSans-63\"/>\n      <use x=\"787.589844\" xlink:href=\"#DejaVuSans-65\"/>\n      <use x=\"849.113281\" xlink:href=\"#DejaVuSans-20\"/>\n      <use x=\"880.900391\" xlink:href=\"#DejaVuSans-69\"/>\n      <use x=\"908.683594\" xlink:href=\"#DejaVuSans-6e\"/>\n      <use x=\"972.0625\" xlink:href=\"#DejaVuSans-20\"/>\n      <use x=\"1003.849609\" xlink:href=\"#DejaVuSans-53\"/>\n      <use x=\"1067.326172\" xlink:href=\"#DejaVuSans-65\"/>\n      <use x=\"1128.849609\" xlink:href=\"#DejaVuSans-6e\"/>\n      <use x=\"1192.228516\" xlink:href=\"#DejaVuSans-74\"/>\n      <use x=\"1231.4375\" xlink:href=\"#DejaVuSans-65\"/>\n      <use x=\"1292.960938\" xlink:href=\"#DejaVuSans-6e\"/>\n      <use x=\"1356.339844\" xlink:href=\"#DejaVuSans-63\"/>\n      <use x=\"1411.320312\" xlink:href=\"#DejaVuSans-69\"/>\n      <use x=\"1439.103516\" xlink:href=\"#DejaVuSans-6e\"/>\n      <use x=\"1502.482422\" xlink:href=\"#DejaVuSans-67\"/>\n     </g>\n    </g>\n   </g>\n   <g id=\"line2d_16\">\n    <path clip-path=\"url(#pa641342c94)\" d=\"M 66.376477 224.991943 \nL 69.655816 223.467358 \nL 72.935155 221.942772 \nL 76.214494 220.418187 \nL 79.493833 218.893601 \nL 82.773171 217.369015 \nL 86.05251 215.84443 \nL 89.331849 214.319844 \nL 92.611188 212.795259 \nL 95.890527 211.270673 \nL 99.169866 209.746087 \nL 102.449205 208.221502 \nL 105.728543 206.696916 \nL 109.007882 205.172331 \nL 112.287221 203.647745 \nL 115.56656 202.123159 \nL 118.845899 200.598574 \nL 122.125238 199.073988 \nL 125.404576 197.549402 \nL 128.683915 196.024817 \nL 131.963254 194.500231 \nL 135.242593 192.975646 \nL 138.521932 191.45106 \nL 141.801271 189.926474 \nL 145.08061 188.401889 \nL 148.359948 186.877303 \nL 151.639287 185.352718 \nL 154.918626 183.828132 \nL 158.197965 182.303546 \nL 161.477304 180.778961 \nL 164.756643 179.254375 \nL 168.035981 177.72979 \nL 171.31532 176.205204 \nL 174.594659 174.680618 \nL 177.873998 173.156033 \nL 181.153337 171.631447 \nL 184.432676 170.106862 \nL 187.712014 168.582276 \nL 190.991353 167.05769 \nL 194.270692 165.533105 \nL 197.550031 164.008519 \nL 200.82937 162.483933 \nL 204.108709 160.959348 \nL 207.388048 159.434762 \nL 210.667386 157.910177 \nL 213.946725 156.385591 \nL 217.226064 154.861005 \nL 220.505403 153.33642 \nL 223.784742 151.811834 \nL 227.064081 150.287249 \nL 230.343419 148.762663 \nL 233.622758 147.238077 \nL 236.902097 145.713492 \nL 240.181436 144.188906 \nL 243.460775 142.664321 \nL 246.740114 141.139735 \nL 250.019452 139.615149 \nL 253.298791 138.090564 \nL 256.57813 136.565978 \nL 259.857469 135.041393 \nL 263.136808 133.516807 \nL 266.416147 131.992221 \nL 269.695486 130.467636 \nL 272.974824 128.94305 \nL 276.254163 127.418464 \nL 279.533502 125.893879 \nL 282.812841 124.369293 \nL 286.09218 122.844708 \nL 289.371519 121.320122 \nL 292.650857 119.795536 \nL 295.930196 118.270951 \nL 299.209535 116.746365 \nL 302.488874 115.22178 \nL 305.768213 113.697194 \nL 309.047552 112.172608 \nL 312.32689 110.648023 \nL 315.606229 109.123437 \nL 318.885568 107.598852 \nL 322.164907 106.074266 \nL 325.444246 104.54968 \nL 328.723585 103.025095 \nL 332.002924 101.500509 \nL 335.282262 99.975923 \nL 338.561601 98.451338 \nL 341.84094 96.926752 \nL 345.120279 95.402167 \nL 348.399618 93.877581 \nL 351.678957 92.352995 \nL 354.958295 90.82841 \nL 358.237634 89.303824 \nL 361.516973 87.779239 \nL 364.796312 86.254653 \nL 368.075651 84.730067 \nL 371.35499 83.205482 \nL 374.634329 81.680896 \nL 377.913667 80.156311 \nL 381.193006 78.631725 \nL 384.472345 77.107139 \nL 387.751684 75.582554 \nL 391.031023 74.057968 \n\" style=\"fill:none;stroke:#1f77b4;stroke-linecap:square;stroke-width:2.25;\"/>\n   </g>\n   <g id=\"patch_3\">\n    <path d=\"M 50.14375 273.312 \nL 50.14375 7.2 \n\" style=\"fill:none;stroke:#000000;stroke-linecap:square;stroke-linejoin:miter;stroke-width:0.8;\"/>\n   </g>\n   <g id=\"patch_4\">\n    <path d=\"M 407.26375 273.312 \nL 407.26375 7.2 \n\" style=\"fill:none;stroke:#000000;stroke-linecap:square;stroke-linejoin:miter;stroke-width:0.8;\"/>\n   </g>\n   <g id=\"patch_5\">\n    <path d=\"M 50.14375 273.312 \nL 407.26375 273.312 \n\" style=\"fill:none;stroke:#000000;stroke-linecap:square;stroke-linejoin:miter;stroke-width:0.8;\"/>\n   </g>\n   <g id=\"patch_6\">\n    <path d=\"M 50.14375 7.2 \nL 407.26375 7.2 \n\" style=\"fill:none;stroke:#000000;stroke-linecap:square;stroke-linejoin:miter;stroke-width:0.8;\"/>\n   </g>\n  </g>\n </g>\n <defs>\n  <clipPath id=\"pa641342c94\">\n   <rect height=\"266.112\" width=\"357.12\" x=\"50.14375\" y=\"7.2\"/>\n  </clipPath>\n </defs>\n</svg>\n",
      "image/png": "[encoded data removed]"
     },
     "metadata": {}
    }
   ],
   "metadata": {}
  }
 ],
 "metadata": {
  "orig_nbformat": 4,
  "language_info": {
   "name": "python",
   "version": "3.9.6",
   "mimetype": "text/x-python",
   "codemirror_mode": {
    "name": "ipython",
    "version": 3
   },
   "pygments_lexer": "ipython3",
   "nbconvert_exporter": "python",
   "file_extension": ".py"
  },
  "kernelspec": {
   "name": "python3",
   "display_name": "Python 3.9.6 64-bit ('base': conda)"
  },
  "interpreter": {
   "hash": "7e5eacdcb99c2746f758296d0f9c2e92687d084c3202d711f4a4e7cc88ec2758"
  }
 },
 "nbformat": 4,
 "nbformat_minor": 2
}